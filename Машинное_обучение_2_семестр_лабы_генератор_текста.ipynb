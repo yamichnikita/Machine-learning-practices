{
  "nbformat": 4,
  "nbformat_minor": 0,
  "metadata": {
    "colab": {
      "provenance": [],
      "collapsed_sections": [
        "kWIeYY_wDioy",
        "7TZWu5TADayz",
        "rE3tas0LRfi6",
        "Mxg1FBY7_qJ7",
        "uQ6NXcC9oUVH",
        "XkN3o7GQA9J2",
        "3ZnKO-k8MSZA",
        "qzTIyBclkGhm",
        "rcShehcgmQol",
        "JbRjnTGNCPEB"
      ],
      "gpuType": "T4"
    },
    "kernelspec": {
      "name": "python3",
      "display_name": "Python 3"
    },
    "language_info": {
      "name": "python"
    },
    "accelerator": "GPU"
  },
  "cells": [
    {
      "cell_type": "markdown",
      "source": [
        "# Лабораторная работа №1. Парсер сайта \"Изба - читальня\""
      ],
      "metadata": {
        "id": "vmfJyYiWK1Uf"
      }
    },
    {
      "cell_type": "code",
      "execution_count": null,
      "metadata": {
        "id": "8si8fYb1Hnnh"
      },
      "outputs": [],
      "source": [
        "import requests\n",
        "from bs4 import BeautifulSoup\n",
        "from random import randint"
      ]
    },
    {
      "cell_type": "markdown",
      "source": [
        "#### Черновик"
      ],
      "metadata": {
        "id": "kWIeYY_wDioy"
      }
    },
    {
      "cell_type": "code",
      "source": [
        "r = requests.get('https://www.chitalnya.ru/work/3610167/') # вернуть разметку страницу по ссылке\n",
        "r.text"
      ],
      "metadata": {
        "colab": {
          "base_uri": "https://localhost:8080/",
          "height": 105
        },
        "id": "tTuBU2UaIu81",
        "outputId": "d19c2ab8-b3fd-4b68-8f25-8e05e712a0d6"
      },
      "execution_count": null,
      "outputs": [
        {
          "output_type": "execute_result",
          "data": {
            "text/plain": [
              "'<!DOCTYPE html>\\n<html lang=\"ru\">\\n<head>\\n<meta charset=\"utf-8\">\\n<title>Бизнес класс ~ Проза (Рассказ)</title><meta name=\"description\" content=\"Проза (Рассказ). Название произведения: Бизнес класс. Автор: Александр Рыбак. Современный литературный сайт для поэтов, писателей, исполнителей музыки и песен.\" /><meta name=\"keywords\" content=\"стихи, проза, стихотворения, любовная лирика, конкурсы, произведение, роман, публикация, поэт, прозаик, новелла, миниатюра, автор, литература, творчество, лирика, поэзия, рецензия, критик, рассказ, повесть\" />\\n<meta property=\"og:url\" content=\"https://www.chitalnya.ru/work/3610167/\" />\\n<meta property=\"og:image\" content=\"https://www.chitalnya.ru/images/logo2020.png\" />\\n<meta property=\"vk:image\" content=\"https://www.chitalnya.ru/images/logo2020.png\" />\\n<base href=\"https://www.chitalnya.ru/\"/>\\n<link href=\"https://cdn.adfinity.pro/foralls/adfinity_1.1.css\" rel=\"stylesheet\">\\n<script src=\"https://yandex.ru/ads/system/header-bidding.js\"></script>\\n<script src=\"https://cdn.adfinity.pro/foralls/adfinity_1.1.js\" charset=\"utf-8\"></script>\\n<script src=\"https://cdn.adfinity.pro/partners/chitalnya.ru/hbconfig.js\"></script>\\n<script>\\nwindow.Ya || (window.Ya = {});\\nwindow.yaContextCb = window.yaContextCb || [];\\nwindow.Ya.adfoxCode || (window.Ya.adfoxCode = {});\\nwindow.Ya.adfoxCode.hbCallbacks || (window.Ya.adfoxCode.hbCallbacks = []);\\n</script>\\n<script src=\"https://yandex.ru/ads/system/context.js\" async></script>\\n<link rel=\"preconnect\" href=\"https://ads.betweendigital.com\" crossorigin>\\n<!--[if lt IE 9]>\\n    <script src=\"/libs/html5shiv/es5-shim.min.js\"></script>\\n    <script src=\"/libs/html5shiv/html5shiv.min.js\"></script>\\n    <script src=\"/libs/html5shiv/html5shiv-printshiv.min.js\"></script>\\n    <script src=\"/libs/respond/respond.min.js\"></script>    \\n    <link rel=\"stylesheet\" type=\"text/css\" href=\"/js/ie8_fix.css\" />   \\n<![endif]-->  \\n<link rel=\"preload\" href=\"/libs/fonts/Osans/opensans-semibold.woff\" as=\"font\" type=\"font/woff\" crossorigin>\\n<link rel=\"preload\" href=\"/libs/fonts/Osans/opensans-regular.woff\" as=\"font\" type=\"font/woff\" crossorigin>\\n<link rel=\"preload\" href=\"/libs/fonts/Osans/opensans-bold.woff\" as=\"font\" type=\"font/woff\" crossorigin>\\n<link rel=\"preload\" href=\"/libs/fonts/Osans/opensans-light.woff\" as=\"font\" type=\"font/woff\" crossorigin>\\n<link rel=\"preload\" href=\"/libs/fonts/PTSerif/PTSerif-Regular.woff\" as=\"font\" type=\"font/woff\" crossorigin>\\n<link rel=\"preload\" href=\"/libs/font-awesome/fonts/fontawesome-webfont.woff2?v=4.7.0\" as=\"font\" type=\"font/woff2\" crossorigin>\\n<link rel=\"preload\" href=\"/js/tipsy-master/jquery.tipsy.js\" as=\"script\"> \\n<style>html{font-family:sans-serif;-ms-text-size-adjust:100%;-webkit-text-size-adjust:100%}body{margin:0}article,aside,details,figcaption,figure,footer,header,hgroup,main,menu,nav,section,summary{display:block}audio,canvas,progress,video{display:inline-block;vertical-align:baseline}audio:not([controls]){display:none;height:0}[hidden],template{display:none}a{background-color:transparent}a:active,a:hover{outline:0}abbr[title]{border-bottom:1px dotted}b,strong{font-weight:bold}dfn{font-style:italic}h1{font-size:2em;margin:0.67em 0}mark{background:#ff0;color:#000}small{font-size:80%}sub,sup{font-size:75%;line-height:0;position:relative;vertical-align:baseline}sup{top:-0.5em}sub{bottom:-0.25em}img{border:0}svg:not(:root){overflow:hidden}figure{margin:1em 40px}hr{-moz-box-sizing:content-box;-webkit-box-sizing:content-box;box-sizing:content-box;height:0}pre{overflow:auto}code,kbd,pre,samp{font-family:monospace, monospace;font-size:1em}button,input,optgroup,select,textarea{color:inherit;font:inherit;margin:0}button{overflow:visible}button,select{text-transform:none}button,html input[type=\"button\"],input[type=\"reset\"],input[type=\"submit\"]{-webkit-appearance:button;cursor:pointer}button[disabled],html input[disabled]{cursor:default}button::-moz-focus-inner,input::-moz-focus-inner{border:0;padding:0}input{line-height:normal}input[type=\"checkbox\"],input[type=\"radio\"]{-webkit-box-sizing:border-box;-moz-box-sizing:border-box;box-sizing:border-box;padding:0}input[type=\"number\"]::-webkit-inner-spin-button,input[type=\"number\"]::-webkit-outer-spin-button{height:auto}input[type=\"search\"]{-webkit-appearance:textfield;-moz-box-sizing:content-box;-webkit-box-sizing:content-box;box-sizing:content-box}input[type=\"search\"]::-webkit-search-cancel-button,input[type=\"search\"]::-webkit-search-decoration{-webkit-appearance:none}fieldset{border:1px solid #c0c0c0;margin:0 2px;padding:0.35em 0.625em 0.75em}legend{border:0;padding:0}textarea{overflow:auto}optgroup{font-weight:bold}table{border-collapse:collapse;border-spacing:0}td,th{padding:0}*{-webkit-box-sizing:border-box;-moz-box-sizing:border-box;box-sizing:border-box}*:before,*:after{-webkit-box-sizing:border-box;-moz-box-sizing:border-box;box-sizing:border-box}html{font-size:10px;-webkit-tap-highlight-color:rgba(0,0,0,0)}body{font-family:\"Helvetica Neue\",Helvetica,Arial,sans-serif;font-size:14px;line-height:1.42857143;color:#333;background-color:#fff}input,button,select,textarea{font-family:inherit;font-size:inherit;line-height:inherit}a{color:#337ab7;text-decoration:none}a:hover,a:focus{color:#23527c;text-decoration:underline}a:focus{outline:thin dotted;outline:5px auto -webkit-focus-ring-color;outline-offset:-2px}figure{margin:0}img{vertical-align:middle}.img-responsive{display:block;max-width:100%;height:auto}.img-rounded{border-radius:6px}.img-thumbnail{padding:4px;line-height:1.42857143;background-color:#fff;border:1px solid #ddd;border-radius:4px;-webkit-transition:all .2s ease-in-out;-o-transition:all .2s ease-in-out;transition:all .2s ease-in-out;display:inline-block;max-width:100%;height:auto}.img-circle{border-radius:50%}hr{margin-top:20px;margin-bottom:20px;border:0;border-top:1px solid #eee}.sr-only{position:absolute;width:1px;height:1px;margin:-1px;padding:0;overflow:hidden;clip:rect(0, 0, 0, 0);border:0}.sr-only-focusable:active,.sr-only-focusable:focus{position:static;width:auto;height:auto;margin:0;overflow:visible;clip:auto}[role=\"button\"]{cursor:pointer}.container{margin-right:auto;margin-left:auto;padding-left:15px;padding-right:15px}@media (min-width:768px){.container{width:750px}}@media (min-width:992px){.container{width:970px}}@media (min-width:1200px){.container{width:1170px}}.container-fluid{margin-right:auto;margin-left:auto;padding-left:15px;padding-right:15px}.row{margin-left:-15px;margin-right:-15px}.col-xs-1, .col-sm-1, .col-md-1, .col-lg-1, .col-xs-2, .col-sm-2, .col-md-2, .col-lg-2, .col-xs-3, .col-sm-3, .col-md-3, .col-lg-3, .col-xs-4, .col-sm-4, .col-md-4, .col-lg-4, .col-xs-5, .col-sm-5, .col-md-5, .col-lg-5, .col-xs-6, .col-sm-6, .col-md-6, .col-lg-6, .col-xs-7, .col-sm-7, .col-md-7, .col-lg-7, .col-xs-8, .col-sm-8, .col-md-8, .col-lg-8, .col-xs-9, .col-sm-9, .col-md-9, .col-lg-9, .col-xs-10, .col-sm-10, .col-md-10, .col-lg-10, .col-xs-11, .col-sm-11, .col-md-11, .col-lg-11, .col-xs-12, .col-sm-12, .col-md-12, .col-lg-12{position:relative;min-height:1px;padding-left:15px;padding-right:15px}.col-xs-1, .col-xs-2, .col-xs-3, .col-xs-4, .col-xs-5, .col-xs-6, .col-xs-7, .col-xs-8, .col-xs-9, .col-xs-10, .col-xs-11, .col-xs-12{float:left}.col-xs-12{width:100%}.col-xs-11{width:91.66666667%}.col-xs-10{width:83.33333333%}.col-xs-9{width:75%}.col-xs-8{width:66.66666667%}.col-xs-7{width:58.33333333%}.col-xs-6{width:50%}.col-xs-5{width:41.66666667%}.col-xs-4{width:33.33333333%}.col-xs-3{width:25%}.col-xs-2{width:16.66666667%}.col-xs-1{width:8.33333333%}.col-xs-pull-12{right:100%}.col-xs-pull-11{right:91.66666667%}.col-xs-pull-10{right:83.33333333%}.col-xs-pull-9{right:75%}.col-xs-pull-8{right:66.66666667%}.col-xs-pull-7{right:58.33333333%}.col-xs-pull-6{right:50%}.col-xs-pull-5{right:41.66666667%}.col-xs-pull-4{right:33.33333333%}.col-xs-pull-3{right:25%}.col-xs-pull-2{right:16.66666667%}.col-xs-pull-1{right:8.33333333%}.col-xs-pull-0{right:auto}.col-xs-push-12{left:100%}.col-xs-push-11{left:91.66666667%}.col-xs-push-10{left:83.33333333%}.col-xs-push-9{left:75%}.col-xs-push-8{left:66.66666667%}.col-xs-push-7{left:58.33333333%}.col-xs-push-6{left:50%}.col-xs-push-5{left:41.66666667%}.col-xs-push-4{left:33.33333333%}.col-xs-push-3{left:25%}.col-xs-push-2{left:16.66666667%}.col-xs-push-1{left:8.33333333%}.col-xs-push-0{left:auto}.col-xs-offset-12{margin-left:100%}.col-xs-offset-11{margin-left:91.66666667%}.col-xs-offset-10{margin-left:83.33333333%}.col-xs-offset-9{margin-left:75%}.col-xs-offset-8{margin-left:66.66666667%}.col-xs-offset-7{margin-left:58.33333333%}.col-xs-offset-6{margin-left:50%}.col-xs-offset-5{margin-left:41.66666667%}.col-xs-offset-4{margin-left:33.33333333%}.col-xs-offset-3{margin-left:25%}.col-xs-offset-2{margin-left:16.66666667%}.col-xs-offset-1{margin-left:8.33333333%}.col-xs-offset-0{margin-left:0}@media (min-width:768px){.col-sm-1, .col-sm-2, .col-sm-3, .col-sm-4, .col-sm-5, .col-sm-6, .col-sm-7, .col-sm-8, .col-sm-9, .col-sm-10, .col-sm-11, .col-sm-12{float:left}.col-sm-12{width:100%}.col-sm-11{width:91.66666667%}.col-sm-10{width:83.33333333%}.col-sm-9{width:75%}.col-sm-8{width:66.66666667%}.col-sm-7{width:58.33333333%}.col-sm-6{width:50%}.col-sm-5{width:41.66666667%}.col-sm-4{width:33.33333333%}.col-sm-3{width:25%}.col-sm-2{width:16.66666667%}.col-sm-1{width:8.33333333%}.col-sm-pull-12{right:100%}.col-sm-pull-11{right:91.66666667%}.col-sm-pull-10{right:83.33333333%}.col-sm-pull-9{right:75%}.col-sm-pull-8{right:66.66666667%}.col-sm-pull-7{right:58.33333333%}.col-sm-pull-6{right:50%}.col-sm-pull-5{right:41.66666667%}.col-sm-pull-4{right:33.33333333%}.col-sm-pull-3{right:25%}.col-sm-pull-2{right:16.66666667%}.col-sm-pull-1{right:8.33333333%}.col-sm-pull-0{right:auto}.col-sm-push-12{left:100%}.col-sm-push-11{left:91.66666667%}.col-sm-push-10{left:83.33333333%}.col-sm-push-9{left:75%}.col-sm-push-8{left:66.66666667%}.col-sm-push-7{left:58.33333333%}.col-sm-push-6{left:50%}.col-sm-push-5{left:41.66666667%}.col-sm-push-4{left:33.33333333%}.col-sm-push-3{left:25%}.col-sm-push-2{left:16.66666667%}.col-sm-push-1{left:8.33333333%}.col-sm-push-0{left:auto}.col-sm-offset-12{margin-left:100%}.col-sm-offset-11{margin-left:91.66666667%}.col-sm-offset-10{margin-left:83.33333333%}.col-sm-offset-9{margin-left:75%}.col-sm-offset-8{margin-left:66.66666667%}.col-sm-offset-7{margin-left:58.33333333%}.col-sm-offset-6{margin-left:50%}.col-sm-offset-5{margin-left:41.66666667%}.col-sm-offset-4{margin-left:33.33333333%}.col-sm-offset-3{margin-left:25%}.col-sm-offset-2{margin-left:16.66666667%}.col-sm-offset-1{margin-left:8.33333333%}.col-sm-offset-0{margin-left:0}}@media (min-width:992px){.col-md-1, .col-md-2, .col-md-3, .col-md-4, .col-md-5, .col-md-6, .col-md-7, .col-md-8, .col-md-9, .col-md-10, .col-md-11, .col-md-12{float:left}.col-md-12{width:100%}.col-md-11{width:91.66666667%}.col-md-10{width:83.33333333%}.col-md-9{width:75%}.col-md-8{width:66.66666667%}.col-md-7{width:58.33333333%}.col-md-6{width:50%}.col-md-5{width:41.66666667%}.col-md-4{width:33.33333333%}.col-md-3{width:25%}.col-md-2{width:16.66666667%}.col-md-1{width:8.33333333%}.col-md-pull-12{right:100%}.col-md-pull-11{right:91.66666667%}.col-md-pull-10{right:83.33333333%}.col-md-pull-9{right:75%}.col-md-pull-8{right:66.66666667%}.col-md-pull-7{right:58.33333333%}.col-md-pull-6{right:50%}.col-md-pull-5{right:41.66666667%}.col-md-pull-4{right:33.33333333%}.col-md-pull-3{right:25%}.col-md-pull-2{right:16.66666667%}.col-md-pull-1{right:8.33333333%}.col-md-pull-0{right:auto}.col-md-push-12{left:100%}.col-md-push-11{left:91.66666667%}.col-md-push-10{left:83.33333333%}.col-md-push-9{left:75%}.col-md-push-8{left:66.66666667%}.col-md-push-7{left:58.33333333%}.col-md-push-6{left:50%}.col-md-push-5{left:41.66666667%}.col-md-push-4{left:33.33333333%}.col-md-push-3{left:25%}.col-md-push-2{left:16.66666667%}.col-md-push-1{left:8.33333333%}.col-md-push-0{left:auto}.col-md-offset-12{margin-left:100%}.col-md-offset-11{margin-left:91.66666667%}.col-md-offset-10{margin-left:83.33333333%}.col-md-offset-9{margin-left:75%}.col-md-offset-8{margin-left:66.66666667%}.col-md-offset-7{margin-left:58.33333333%}.col-md-offset-6{margin-left:50%}.col-md-offset-5{margin-left:41.66666667%}.col-md-offset-4{margin-left:33.33333333%}.col-md-offset-3{margin-left:25%}.col-md-offset-2{margin-left:16.66666667%}.col-md-offset-1{margin-left:8.33333333%}.col-md-offset-0{margin-left:0}}@media (min-width:1200px){.col-lg-1, .col-lg-2, .col-lg-3, .col-lg-4, .col-lg-5, .col-lg-6, .col-lg-7, .col-lg-8, .col-lg-9, .col-lg-10, .col-lg-11, .col-lg-12{float:left}.col-lg-12{width:100%}.col-lg-11{width:91.66666667%}.col-lg-10{width:83.33333333%}.col-lg-9{width:75%}.col-lg-8{width:66.66666667%}.col-lg-7{width:58.33333333%}.col-lg-6{width:50%}.col-lg-5{width:41.66666667%}.col-lg-4{width:33.33333333%}.col-lg-3{width:25%}.col-lg-2{width:16.66666667%}.col-lg-1{width:8.33333333%}.col-lg-pull-12{right:100%}.col-lg-pull-11{right:91.66666667%}.col-lg-pull-10{right:83.33333333%}.col-lg-pull-9{right:75%}.col-lg-pull-8{right:66.66666667%}.col-lg-pull-7{right:58.33333333%}.col-lg-pull-6{right:50%}.col-lg-pull-5{right:41.66666667%}.col-lg-pull-4{right:33.33333333%}.col-lg-pull-3{right:25%}.col-lg-pull-2{right:16.66666667%}.col-lg-pull-1{right:8.33333333%}.col-lg-pull-0{right:auto}.col-lg-push-12{left:100%}.col-lg-push-11{left:91.66666667%}.col-lg-push-10{left:83.33333333%}.col-lg-push-9{left:75%}.col-lg-push-8{left:66.66666667%}.col-lg-push-7{left:58.33333333%}.col-lg-push-6{left:50%}.col-lg-push-5{left:41.66666667%}.col-lg-push-4{left:33.33333333%}.col-lg-push-3{left:25%}.col-lg-push-2{left:16.66666667%}.col-lg-push-1{left:8.33333333%}.col-lg-push-0{left:auto}.col-lg-offset-12{margin-left:100%}.col-lg-offset-11{margin-left:91.66666667%}.col-lg-offset-10{margin-left:83.33333333%}.col-lg-offset-9{margin-left:75%}.col-lg-offset-8{margin-left:66.66666667%}.col-lg-offset-7{margin-left:58.33333333%}.col-lg-offset-6{margin-left:50%}.col-lg-offset-5{margin-left:41.66666667%}.col-lg-offset-4{margin-left:33.33333333%}.col-lg-offset-3{margin-left:25%}.col-lg-offset-2{margin-left:16.66666667%}.col-lg-offset-1{margin-left:8.33333333%}.col-lg-offset-0{margin-left:0}}.clearfix:before,.clearfix:after,.container:before,.container:after,.container-fluid:before,.container-fluid:after,.row:before,.row:after{content:\" \";display:table}.clearfix:after,.container:after,.container-fluid:after,.row:after{clear:both}.center-block{display:block;margin-left:auto;margin-right:auto}.pull-right{float:right !important}.pull-left{float:left !important}.hide{display:none !important}.show{display:block !important}.invisible{visibility:hidden}.text-hide{font:0/0 a;color:transparent;text-shadow:none;background-color:transparent;border:0}.hidden{display:none !important}.affix{position:fixed}@-ms-viewport{width:device-width}.visible-xs,.visible-sm,.visible-md,.visible-lg{display:none !important}.visible-xs-block,.visible-xs-inline,.visible-xs-inline-block,.visible-sm-block,.visible-sm-inline,.visible-sm-inline-block,.visible-md-block,.visible-md-inline,.visible-md-inline-block,.visible-lg-block,.visible-lg-inline,.visible-lg-inline-block{display:none !important}@media (max-width:767px){.visible-xs{display:block !important}table.visible-xs{display:table}tr.visible-xs{display:table-row !important}th.visible-xs,td.visible-xs{display:table-cell !important}}@media (max-width:767px){.visible-xs-block{display:block !important}}@media (max-width:767px){.visible-xs-inline{display:inline !important}}@media (max-width:767px){.visible-xs-inline-block{display:inline-block !important}}@media (min-width:768px) and (max-width:991px){.visible-sm{display:block !important}table.visible-sm{display:table}tr.visible-sm{display:table-row !important}th.visible-sm,td.visible-sm{display:table-cell !important}}@media (min-width:768px) and (max-width:991px){.visible-sm-block{display:block !important}}@media (min-width:768px) and (max-width:991px){.visible-sm-inline{display:inline !important}}@media (min-width:768px) and (max-width:991px){.visible-sm-inline-block{display:inline-block !important}}@media (min-width:992px) and (max-width:1199px){.visible-md{display:block !important}table.visible-md{display:table}tr.visible-md{display:table-row !important}th.visible-md,td.visible-md{display:table-cell !important}}@media (min-width:992px) and (max-width:1199px){.visible-md-block{display:block !important}}@media (min-width:992px) and (max-width:1199px){.visible-md-inline{display:inline !important}}@media (min-width:992px) and (max-width:1199px){.visible-md-inline-block{display:inline-block !important}}@media (min-width:1200px){.visible-lg{display:block !important}table.visible-lg{display:table}tr.visible-lg{display:table-row !important}th.visible-lg,td.visible-lg{display:table-cell !important}}@media (min-width:1200px){.visible-lg-block{display:block !important}}@media (min-width:1200px){.visible-lg-inline{display:inline !important}}@media (min-width:1200px){.visible-lg-inline-block{display:inline-block !important}}@media (max-width:767px){.hidden-xs{display:none !important}}@media (min-width:768px) and (max-width:991px){.hidden-sm{display:none !important}}@media (min-width:992px) and (max-width:1199px){.hidden-md{display:none !important}}@media (min-width:1200px){.hidden-lg{display:none !important}}.visible-print{display:none !important}@media print{.visible-print{display:block !important}table.visible-print{display:table}tr.visible-print{display:table-row !important}th.visible-print,td.visible-print{display:table-cell !important}}.visible-print-block{display:none !important}@media print{.visible-print-block{display:block !important}}.visible-print-inline{display:none !important}@media print{.visible-print-inline{display:inline !important}}.visible-print-inline-block{display:none !important}@media print{.visible-print-inline-block{display:inline-block !important}}@media print{.hidden-print{display:none !important}}</style>\\n<link rel=\"stylesheet\" type=\"text/css\" href=\"/js/styles.css?v=v12\" />     \\n<style>.x92, .x93Ajax, .tipsy {-webkit-transition: all 0s ease;-moz-transition: all 0s ease;-o-transition: all 0s ease;-ms-transition: all 0s ease;transition: all 0s ease;} a, img { outline: none!important; }</style>\\n<meta http-equiv=\"X-UA-Compatible\" content=\"IE=edge\">\\n<meta name=\"viewport\" content=\"width=device-width, initial-scale=1, maximum-scale=1\">\\n<link rel=\"shortcut icon\" href=\"/images/favicon.ico\" type=\"image/x-icon\">\\n\\n<script async src=\"https://pagead2.googlesyndication.com/pagead/js/adsbygoogle.js?client=ca-pub-2929578805631833\" crossorigin=\"anonymous\"></script>\\n</head>\\n<body class=\"x13PBody \">\\n<iframe class=\"relap-runtime-iframe\" style=\"position:absolute;top:-9999px;left:-9999px;visibility:hidden;\" srcdoc=\"<script src=\\'https://relap.io/v7/relap.js\\' data-relap-token=\\'GWEZA4oOT88yQAMG\\'></script>\"></iframe>\\n<script>\\nlet invoked = false;\\nwindow.addEventListener(\\'scroll\\', function () {\\n    if (window.pageYOffset > 200 && invoked == false) {\\n        invoked = true;\\n        adfoxCallOverlay = function () {\\n            window.Ya.adfoxCode.hbCallbacks.push(function() {\\n                window.yaContextCb.push(function() {\\n                    Ya.adfoxCode.create({\\n                        ownerId: 389280,\\n                        containerId: \\'adfox_165588644107992855\\',\\n                        params: {\\n                pp: \\'bsgx\\',\\n                ps: \\'fgbz\\',\\n                p2: \\'hsgp\\'\\n                        },\\n                        onLoad: function(data) {\\n                            console.log(data);\\n                        },\\n                        onRender: function () {\\n                            console.log(\\'ads rendered\\');\\n                        },\\n                        onError: function (error) {\\n                            console.log(error);\\n                        },\\n                        onStub: function () {\\n                            console.log(\\'Server return no ad\\');\\n                        }\\n                    }, [\\'tablet\\', \\'phone\\'], {\\n                        tabletWidth: 1023,\\n                        phoneWidth: 768,\\n                        isAutoReloads: false\\n                    });\\n                });\\n            });\\n        };\\n        makeAdfinityOverlay(adfoxCallOverlay, 5, 0, \"adfox_165588644107992855\", 300, 250, false);\\n    }\\n});\\n</script>\\n<script>\\nvar r = (Math.random()*10000000000).toFixed(0);\\nvar s = document.createElement(\\'script\\');\\ns.src = \"//ads.betweendigital.com/sspmatch-js?p=42565&randsalt=\"+r;\\ns.async = true;\\ndocument.body.appendChild(s);\\n</script>\\n<script src=\"https://inplayer.ru/player/inplayer2.js\"></script> \\n \\n<div class=\"tgx-rlf\" data-rlf-id=\"12455\" data-rlf-auto=\"1\" data-rlf-flt=\"1\" data-rlf-dock=\"0\" data-rlf-align=\"rb\" data-rlf-min-time=\"60\" data-rlf-fw=\"420\"></div>\\n<div id=\"TopPanel\" > \\n<div class=\"x92 no_select\">\\n<div class=\"container2\">\\n    <div class=\"x93Ajax visible-lg\" style=\"display: none\">    \\n      <div class=\"x93 MNClickA1\"> \\n            <div class=\"col-md-4\"><a href=\"/poetrylist.php\">Стихи за сегодня</a></div>             \\n            <div class=\"col-md-4\"><a href=\"/stihi.php\">Все стихи</a></div> \\n            <div class=\"col-md-4\"><a href=\"/poetrylist-best.php\" style=\"color:#9c6728\">Рекомендованные новые стихи</a></div> \\n            <div class=\"col-md-4\"><a href=\"/stihi/92/\">Акростихи</a></div>            \\n            <div class=\"col-md-4\"><a href=\"/stihi/2/\">Афоризмы</a></div>\\n            <div class=\"col-md-4\"><a href=\"/stihi/3/\">Баллады</a></div>\\n            <div class=\"col-md-4\"><a href=\"/stihi/4/\">Басни</a></div>\\n            <div class=\"col-md-4\"><a href=\"/stihi/5/\">Белый и вольный стих</a></div>\\n            <div class=\"col-md-4\"><a href=\"/stihi/6/\">Верлибр</a></div>\\n            <div class=\"col-md-4\"><a href=\"/stihi/97/\">Декадентская поэзия</a></div>\\n            <div class=\"col-md-4\"><a href=\"/stihi/8/\">Драмы в стихах</a></div>\\n            <div class=\"col-md-4\"><a href=\"/stihi/9/\">Иронические стихи</a></div>\\n            <div class=\"col-md-4\"><a href=\"/stihi/13/\">Исторические стихи</a></div>\\n            <div class=\"col-md-4\"><a href=\"/stihi/11/\">Лирика городская</a></div>\\n            <div class=\"col-md-4\"><a href=\"/stihi/12/\">Лирика гражданская</a></div>\\n            <div class=\"col-md-4\"><a href=\"/stihi/14/\">Лирика любовная</a></div>\\n            <div class=\"col-md-4\"><a href=\"/stihi/15/\">Лирика пейзажная</a></div>\\n            <div class=\"col-md-4\"><a href=\"/stihi/16/\">Лирика религиозная</a></div>\\n            <div class=\"col-md-4\"><a href=\"/stihi/17/\">Лирика философская</a></div>\\n            <div class=\"col-md-4\"><a href=\"/stihi/19/\">Матерные стихи</a></div>\\n            <div class=\"col-md-4\"><a href=\"/stihi/20/\">Мир души</a></div>\\n            <div class=\"col-md-4\"><a href=\"/stihi/96/\">Мистическая поэзия</a></div>\\n            <div class=\"col-md-4\"><a href=\"/stihi/24/\">Подражания и пародии</a></div>\\n            <div class=\"col-md-4\"><a href=\"/stihi/23/\">Поэмы и циклы стихов</a></div>\\n            <div class=\"col-md-4\"><a href=\"/stihi/27/\">Поэтические манифесты</a></div>\\n            <div class=\"col-md-4\"><a href=\"/stihi/25/\">Поэтические переводы</a></div>\\n            <div class=\"col-md-4\"><a href=\"/stihi/26/\">Прозаические миниатюры</a></div>\\n            <div class=\"col-md-4\"><a href=\"/stihi/28/\">Сатирические стихи</a></div>\\n            <div class=\"col-md-4\"><a href=\"/stihi/33/\">Стихи в прозе</a></div>\\n            <div class=\"col-md-4\"><a href=\"/stihi/30/\">Стихи для детей</a></div>\\n            <div class=\"col-md-4\"><a href=\"/stihi/134/\">Стихи известных поэтов</a></div>\\n            <div class=\"col-md-4\"><a href=\"/stihi/32/\">Стихи на иностранных языках</a></div>\\n            <div class=\"col-md-4\"><a href=\"/stihi/10/\">Стихи о войне</a></div>\\n            <div class=\"col-md-4\"><a href=\"/stihi/135/\">Стихи с видео (авторские)</a></div>\\n            <div class=\"col-md-4\"><a href=\"/stihi/31/\">Стихи, не вошедшие в рубрики</a></div>\\n            <div class=\"col-md-4\"><a href=\"/stihi/34/\">Твердые формы</a></div>\\n            <div class=\"col-md-4\"><a href=\"/stihi/133/\">Художественное чтение стихов</a></div>\\n            <div class=\"col-md-4\"><a href=\"/stihi/35/\">Частушки</a></div>\\n            <div class=\"col-md-4\"><a href=\"/stihi/36/\">Шуточные стихи</a></div>\\n            <div class=\"col-md-4\"><a href=\"/stihi/37/\">Эзотерические стихи</a></div>\\n            <div class=\"col-md-4\"><a href=\"/stihi/38/\">Экспериментальная поэзия</a></div>\\n            <div class=\"col-md-4\"><a href=\"/stihi/39/\">Эпиграммы</a></div>\\n            <div class=\"col-md-4\"><a href=\"/stihi/18/\">Эротические стихи</a></div>\\n            <div class=\"col-md-4\"><a href=\"/stihi/40/\">Юмористические стихи</a></div>\\n                  <div class=\"clearfix\"></div>\\n      </div>\\n      <div class=\"x93 MNClickA2\"> \\n        <div class=\"col-md-4\"><a href=\"/proselist.php\">Проза за сегодня</a></div>       \\n        <div class=\"col-md-4\"><a href=\"/prose.php\">Вся проза</a></div>      \\n        <div class=\"col-md-4\"><a href=\"/prose/41/\">Антиутопия</a></div>\\n        <div class=\"col-md-4\"><a href=\"/prose/119/\">Байки</a></div>\\n        <div class=\"col-md-4\"><a href=\"/prose/42/\">Быль</a></div>\\n        <div class=\"col-md-4\"><a href=\"/prose/43/\">Детектив</a></div>\\n        <div class=\"col-md-4\"><a href=\"/prose/44/\">Детская литература</a></div>\\n        <div class=\"col-md-4\"><a href=\"/prose/76/\">Другое</a></div>\\n        <div class=\"col-md-4\"><a href=\"/prose/45/\">Исторический роман</a></div>\\n        <div class=\"col-md-4\"><a href=\"/prose/46/\">История</a></div>\\n        <div class=\"col-md-4\"><a href=\"/prose/110/\">Киберпанк</a></div>\\n        <div class=\"col-md-4\"><a href=\"/prose/109/\">Контркультура</a></div>\\n        <div class=\"col-md-4\"><a href=\"/prose/47/\">Любовная литература</a></div>\\n        <div class=\"col-md-4\"><a href=\"/prose/48/\">Мемуары</a></div>\\n        <div class=\"col-md-4\"><a href=\"/prose/50/\">Миниатюра</a></div>\\n        <div class=\"col-md-4\"><a href=\"/prose/49/\">Мистика</a></div>\\n        <div class=\"col-md-4\"><a href=\"/prose/108/\">Новеллы</a></div>\\n        <div class=\"col-md-4\"><a href=\"/prose/51/\">Остросюжетная литература</a></div>\\n        <div class=\"col-md-4\"><a href=\"/prose/52/\">Очерк</a></div>\\n        <div class=\"col-md-4\"><a href=\"/prose/54/\">Письмо</a></div>\\n        <div class=\"col-md-4\"><a href=\"/prose/55/\">Повесть</a></div>\\n        <div class=\"col-md-4\"><a href=\"/prose/56/\">Поэма</a></div>\\n        <div class=\"col-md-4\"><a href=\"/prose/53/\">Приключения</a></div>\\n        <div class=\"col-md-4\"><a href=\"/prose/58/\">Психоделическая литература</a></div>\\n        <div class=\"col-md-4\"><a href=\"/prose/59/\">Психологический роман</a></div>\\n        <div class=\"col-md-4\"><a href=\"/prose/93/\">Психология</a></div>\\n        <div class=\"col-md-4\"><a href=\"/prose/57/\">Пьеса</a></div>\\n        <div class=\"col-md-4\"><a href=\"/prose/61/\">Рассказ</a></div>\\n        <div class=\"col-md-4\"><a href=\"/prose/60/\">Роман</a></div>\\n        <div class=\"col-md-4\"><a href=\"/prose/62/\">Сатира</a></div>\\n        <div class=\"col-md-4\"><a href=\"/prose/63/\">Сказка</a></div>\\n        <div class=\"col-md-4\"><a href=\"/prose/64/\">Статья</a></div>\\n        <div class=\"col-md-4\"><a href=\"/prose/65/\">Триллер</a></div>\\n        <div class=\"col-md-4\"><a href=\"/prose/66/\">Ужасы</a></div>\\n        <div class=\"col-md-4\"><a href=\"/prose/67/\">Утопия</a></div>\\n        <div class=\"col-md-4\"><a href=\"/prose/68/\">Фантастика</a></div>\\n        <div class=\"col-md-4\"><a href=\"/prose/136/\">Фанфики</a></div>\\n        <div class=\"col-md-4\"><a href=\"/prose/69/\">Фельетон</a></div>\\n        <div class=\"col-md-4\"><a href=\"/prose/70/\">Фэнтези</a></div>\\n        <div class=\"col-md-4\"><a href=\"/prose/137/\">Художественные переводы</a></div>\\n        <div class=\"col-md-4\"><a href=\"/prose/138/\">Школьная литература</a></div>\\n        <div class=\"col-md-4\"><a href=\"/prose/72/\">Эзотерика</a></div>\\n        <div class=\"col-md-4\"><a href=\"/prose/73/\">Эпос</a></div>\\n        <div class=\"col-md-4\"><a href=\"/prose/74/\">Эротика</a></div>\\n        <div class=\"col-md-4\"><a href=\"/prose/71/\">Эссе</a></div>\\n        <div class=\"col-md-4\"><a href=\"/prose/75/\">Юмор</a></div>\\n                  <div class=\"clearfix\"></div>\\n      </div>\\n      <div class=\"x93 MNClickA3\"> \\n        <div class=\"col-md-4\"><a href=\"/other.php\">Все произведения</a></div>      \\n        <div class=\"col-md-4\"><a href=\"/other/77/\">Анекдот</a></div>\\n        <div class=\"col-md-4\"><a href=\"/other/78/\">Афоризм</a></div>\\n        <div class=\"col-md-4\"><a href=\"/other/99/\">Декламация</a></div>\\n        <div class=\"col-md-4\"><a href=\"/other/79/\">Драматургия</a></div>\\n        <div class=\"col-md-4\"><a href=\"/other/80/\">Интервью</a></div>\\n        <div class=\"col-md-4\"><a href=\"/other/84/\">Комикс</a></div>\\n        <div class=\"col-md-4\"><a href=\"/other/85/\">Критика</a></div>\\n        <div class=\"col-md-4\"><a href=\"/other/95/\">Легенда</a></div>\\n        <div class=\"col-md-4\"><a href=\"/other/81/\">Литературная критика</a></div>\\n        <div class=\"col-md-4\"><a href=\"/other/82/\">Литературоведение</a></div>\\n        <div class=\"col-md-4\"><a href=\"/other/83/\">Научная литература</a></div>\\n        <div class=\"col-md-4\"><a href=\"/other/87/\">Политика</a></div>\\n        <div class=\"col-md-4\"><a href=\"/other/86/\">Публицистика</a></div>\\n        <div class=\"col-md-4\"><a href=\"/other/88/\">Репортаж</a></div>\\n        <div class=\"col-md-4\"><a href=\"/other/89/\">Сценарий</a></div>\\n        <div class=\"col-md-4\"><a href=\"/other/90/\">Техническая литература</a></div>\\n        <div class=\"col-md-4\"><a href=\"/other/94/\">Тосты</a></div>\\n        <div class=\"col-md-4\"><a href=\"/other/91/\">Философия</a></div>      \\n                  <div class=\"clearfix\"></div>\\n      </div>\\n      <div class=\"x93 MNClickA4\"> \\n          <div class=\"col-md-12\"><a href=\"/contest.php\">Конкурсы от редакции сайта</a></div>\\n          <div class=\"col-md-12\"><a href=\"/users/contest/\">Конкурсы от \"КЛиК\"</a></div>\\n          <div class=\"col-md-12\"><a href=\"/users/cup.izba/\">Ежегодный кубок в \"Избе Читальне\"</a></div>\\n          <div class=\"col-md-12\"><a href=\"/forum.php?t=13\">Конкурсы на форуме</a></div>\\n          <div class=\"clearfix\"></div>\\n      </div>\\n      <div class=\"x93 MNClickA5\"> \\n          <div class=\"col-md-12\"><a href=\"/board/\">Отзывы и рецензии к произведениям</a></div>\\n          <div class=\"col-md-12\"><a href=\"/reviews_stihi/\">Рецензии на стихи и песни</a></div>\\n          <div class=\"col-md-12\"><a href=\"/reviews_proza/\">Рецензии на прозу</a></div>\\n          <div class=\"col-md-12\"><a href=\"/reviews-best.php\">Отзывы и рецензии к книгам</a></div>\\n          <div class=\"col-md-12\"><a href=\"/books.php\">Все книги России и мира</a></div>\\n          <div class=\"clearfix\"></div>\\n      </div>\\n      <div class=\"x93 MNClickA6\"> \\n          <div class=\"col-md-6\"><a href=\"/authors.php\">Все авторы</a></div>\\n          <div class=\"col-md-6\"><a href=\"/authors.php?st=11\">ТОП поэтов</a></div>\\n          <div class=\"col-md-6\"><a href=\"/decade.php\">Авторы месяца</a></div>\\n          <div class=\"col-md-6\"><a href=\"/users/interview/\">Интервью с авторами Избы-Читальни</a></div>\\n          <div class=\"col-md-6\"><a href=\"/authors.php?st=9\">ТОП бардов</a></div>\\n          <div class=\"col-md-6\"><a href=\"/best.php\">Рекомендованные авторы</a></div>\\n          <div class=\"col-md-6\"><a href=\"/authors.php?st=10\">ТОП прозаиков</a></div>\\n          <div class=\"col-md-6\"><a href=\"/authors.php?st=15\">Молодые перспективные авторы</a></div>          \\n          <div class=\"col-md-6\"><a href=\"/authors.php?st=12\">ТОП стихи и проза</a></div>\\n          <div class=\"col-md-6\"><a href=\"/authors.php?st=4\">Популярные авторы</a></div>\\n          <div class=\"col-md-6\"><a href=\"/authors.php?st=13\">Страницы памяти</a></div>\\n          <div class=\"col-md-6\"><a href=\"/authors.php?st=14\">Сегодня День Рождения у авторов</a></div>\\n\\n          <div class=\"col-md-6\"><a href=\"/authors.php?st=19\">ТОП-плейкастов</a></div>\\n                    <div class=\"clearfix\"></div>\\n      </div>\\n      <div class=\"x93 MNClickA7\"> \\n          <div class=\"col-md-6\"><a href=\"/users/leksey/\">Клуб литераторов и критиков</a></div>\\n          <div class=\"col-md-6\"><a href=\"/users/contest/\">Конкурсы КЛиК</a></div>\\n          <div class=\"col-md-6\"><a href=\"/public_list.php\">Редакторские анонсы (стихи)</a></div>\\n          <div class=\"col-md-6\"><a href=\"/video.php\">Видео</a></div>\\n          <div class=\"col-md-6\"><a href=\"/public_prose_list.php\">Редакторские анонсы (проза)</a></div>\\n          <div class=\"col-md-6\"><a href=\"/playcast.php\">Плэйкасты</a></div>     \\n          <div class=\"col-md-6\"><a href=\"/public_audio_list.php\">Редакторские анонсы (песни)</a></div>                            \\n          <div class=\"col-md-6\"><a href=\"/international.php\">Фонд Игоря Царёва</a></div>\\n          <div class=\"col-md-6\"><a href=\"/photoalbum.php\">Фотоальбомы</a></div>\\n          <div class=\"col-md-6\"><a href=\"/vs.php\">Вечерние стихи с Избой-Читальней</a></div>   \\n          <div class=\"col-md-6\"><a href=\"/blogs.php\">Блоги и дневники</a></div>\\n          <div class=\"col-md-6\"><a href=\"/users/larina/\">Музыкальный Чемодан</a></div>   \\n                    <div class=\"col-md-6\"><a href=\"/about.php\">О нас</a></div>\\n          <div class=\"col-md-6\"><a href=\"/regional.php\">Общероссийское движение</a></div>\\n          <div class=\"col-md-6\"><a href=\"/redaction.php\">Редакция сайта</a></div>\\n          <div class=\"col-md-6\"><a href=\"/federation.php\">О судьбе России</a></div>\\n          <div class=\"col-md-6\"><a href=\"/send.php\">Контакты</a></div>\\n                    <div class=\"col-md-6\"><a href=\"/search.php\">Поиск по сайту</a></div>\\n          <div class=\"col-md-6\"><a href=\"/shops.php\">Книжная полка</a></div>\\n          <div class=\"col-md-6\"><a href=\"/journal.php\">Книги и журналы</a></div>        \\n          <div class=\"col-md-6\"><a href=\"/radio/\">Радио «Изба-Читальня»</a></div>   \\n                    <div class=\"clearfix\"></div>\\n      </div>\\n      <div class=\"x93 MNClickA8\"> \\n          <div class=\"col-md-12\"><a href=\"javascript:void(null)\" class=\"LookForums\" >Все темы форума</a></div>\\n          <div class=\"col-md-12\"><a href=\"javascript:void(null)\" class=\"LookForums\" >Общение на разные темы</a></div>\\n          <div class=\"col-md-12\"><a href=\"javascript:void(null)\" class=\"LookForums\" >Творческая мастерская</a></div>   \\n          <div class=\"col-md-12\"><a href=\"javascript:void(null)\" class=\"LookForums\" >Общение литературного характера</a></div>\\n          <div class=\"col-md-12\"><a href=\"javascript:void(null)\" class=\"LookForums\" >Идеология и мировоззрение</a></div>\\n          <div class=\"col-md-12\"><a href=\"javascript:void(null)\" class=\"LookForums\" >Всё о человеке. Гуманитарные науки</a></div>\\n          <div class=\"col-md-12\"><a href=\"javascript:void(null)\" class=\"LookForums\" >На завалинке</a></div>                \\n          <div class=\"col-md-12\"><a href=\"javascript:void(null)\" class=\"LookForums\" >Политика</a></div>\\n          <div class=\"col-md-12\"><a href=\"javascript:void(null)\" class=\"LookForums\" >Шутка юмора</a></div>\\n          <div class=\"col-md-12\"><a href=\"javascript:void(null)\" class=\"LookForums\" >О кино</a></div>\\n          <div class=\"col-md-12\"><a href=\"javascript:void(null)\" class=\"LookForums\" >Поэтические дуэли и состязания</a></div>\\n          <div class=\"col-md-12\"><a href=\"javascript:void(null)\" class=\"LookForums\" >Конкурсы на форуме</a></div>\\n          <div class=\"col-md-12\"><a href=\"javascript:void(null)\" class=\"LookForums\" >Работа сайта</a></div>\\n          <div class=\"clearfix\"></div>\\n      </div>  \\n      <div class=\"x93 MNClickA9\">     \\n        <div class=\"col-md-4\"><a href=\"/audiolist.php\">Все песни</a></div>\\n        <div class=\"col-md-4\"><a href=\"/audio/1/\">Авторская песня</a></div>\\n        <div class=\"col-md-4\"><a href=\"/audio/120/\">Армейские песни</a></div>\\n        <div class=\"col-md-4\"><a href=\"/audio/7/\">Блатные песни</a></div>\\n        <div class=\"col-md-4\"><a href=\"/audio/121/\">Вокал</a></div>\\n        <div class=\"col-md-4\"><a href=\"/audio/131/\">Джаз, блюз</a></div>\\n        <div class=\"col-md-4\"><a href=\"/audio/122/\">Известные хиты (кавер)</a></div>\\n        <div class=\"col-md-4\"><a href=\"/audio/132/\">Кантри</a></div>\\n        <div class=\"col-md-4\"><a href=\"/audio/98/\">Переводы песен</a></div>\\n        <div class=\"col-md-4\"><a href=\"/audio/22/\">Переделки песен</a></div>\\n        <div class=\"col-md-4\"><a href=\"/audio/21/\">Песни (разное)</a></div>\\n        <div class=\"col-md-4\"><a href=\"/audio/124/\">Песни с видео</a></div>\\n        <div class=\"col-md-4\"><a href=\"/audio/125/\">Поп-музыка</a></div>\\n        <div class=\"col-md-4\"><a href=\"/audio/123/\">Рок</a></div>\\n        <div class=\"col-md-4\"><a href=\"/audio/130/\">Романсы</a></div>\\n        <div class=\"col-md-4\"><a href=\"/audio/100/\">Рэп</a></div>\\n        <div class=\"col-md-4\"><a href=\"/audio/126/\">Тексты песен</a></div>\\n        <div class=\"col-md-4\"><a href=\"/audio/127/\">Фольклор</a></div>\\n        <div class=\"col-md-4\"><a href=\"/audio/128/\">Шансон</a></div>\\n        <div class=\"col-md-4\"><a href=\"/audio/129/\">Экспериментальная</a></div>\\n                  <div class=\"clearfix\"></div>\\n      </div>\\n  </div>\\n    <div class=\"hidden-lg x99\"> \\n   <nav class=\"maian_mnu clearfix\">\\n              <div class=\"x12 clearfix\">\\n                <ul>\\n                  <li><a href=\"/other.php\">Разное</a></li>\\n                                    <li><a href=\"/playcast.php\">Плейкасты</a></li>\\n                  <li><a href=\"/contest.php\">Конкурсы</a><li>\\n                  <li><a href=\"/board/\">Отзывы</a><li>\\n                  <li><a href=\"/reviews-best.php\">Отзывы к книгам</a></li>\\n                  <li><a href=\"/video.php\">Видео</a></li>\\n                  <li><a href=\"/authors.php?st=11\">ТОП поэтов</a></li>\\n                  <li><a href=\"/authors.php?st=9\">ТОП бардов</a></li>\\n                  <li><a href=\"/authors.php?st=10\">ТОП прозаиков</a></li>\\n                  <li class=\"visible-xs\"><a href=\"/forum.php\">Форум</a></li>\\n\\n                  <li style=\"background-color: #CDB9AE;\"><a style=\"color:#221B11;\" href=\"/redaction.php\">Редакция сайта</a></li>\\n                  <li style=\"background-color: #CDB9AE;\"><a style=\"color:#221B11;\" href=\"/send.php\">Контакты</a></li>\\n                  <li style=\"background-color: #CDB9AE;\"><a style=\"color:#221B11;\" href=\"/forum.php?t=2\">Творческая мастерская</a></li>\\n                  <li style=\"background-color: #CDB9AE;\"><a style=\"color:#221B11;\" href=\"/public_list.php\">Редакторские анонсы</a></li>\\n                  <li style=\"background-color: #CDB9AE;\"><a style=\"color:#221B11;\" href=\"/radio/\">Радио “Изба-Читальня”</a></li>\\n                  <li style=\"background-color: #CDB9AE;\"><a style=\"color:#221B11;\" href=\"/decade.php\">Авторы месяца</a></li>\\n                  <li style=\"background-color: #CDB9AE;\"><a style=\"color:#221B11;\" href=\"/authors.php?st=15\">Молодые перспективные авторы</a></li>\\n                  <li style=\"background-color: #CDB9AE;\"><a style=\"color:#221B11;\" href=\"/authors.php?st=14\">Сегодня День Рождения у авторов</a></li>\\n                  <li style=\"background-color: #CDB9AE;\"><a style=\"color:#221B11;\" href=\"/search.php\">Поиск по сайту</a></li>\\n                  <li style=\"background-color: #CDB9AE;\"><a style=\"color:#221B11;\" href=\"/authors.php?st=13\">Страницы памяти</a></li>\\n                  <li style=\"background-color: #CDB9AE;\"><a style=\"color:#221B11;\" href=\"/about.php\">О нас</a></li>\\n                </ul>\\n              </div>\\n  </nav>\\n  </div>\\n\\n  <div class=\"col-xs-12 col-md-2 col-lg-2 x1x x94\">\\n               <a href=\"/\"><img src=\"/images/logo_2019.png\" alt=\"\" onmouseover=\"this.src=\\'/images/logo_2019A.png\\'\" onmouseout=\"this.src=\\'/images/logo_2019.png\\'\"></a>\\n   <div class=\"clearfix\"></div>\\n  </div>\\n\\n  <div class=\"col-xs-12 col-md-5 col-lg-8 x1x x95\">\\n    <div class=\"x91 visible-lg MNClick\" data-id=\"1\">Стихи</div>\\n    <div class=\"x91 visible-lg MNClick\" data-id=\"2\">Проза</div>  \\n    <a href=\"/stihi.php\" class=\"none hidden-lg\"><div class=\"x91A x91ABg\">Стихи</div></a>\\n    <a href=\"/prose.php\" class=\"none hidden-lg\"><div class=\"x91A x91ABg\">Проза</div></a>\\n    <a href=\"/poetry_audio.php\" class=\"none hidden-lg\"><div class=\"x91A x91ABg\">Песни</div></a>\\n    <a href=\"/other.php\" class=\"none hidden-lg\"><div class=\"x91A x91ABg x91ABgHide\">Разное</div></a>\\n    <a href=\"/authors.php\" class=\"none hidden-lg\"><div class=\"x91A x91ABg\">Авторы</div></a>\\n    <a href=\"/forum.php\" class=\"none hidden-lg\"><div class=\"x91A x91ABg x91ABgHide2\">Форум</div></a>  \\n      <div class=\"x91B hidden-lg\"><img src=\"/images/menu_plx.gif\" alt=\"\"></div>\\n      <div class=\"x91 visible-lg MNClick\" data-id=\"3\">Разное</div>      \\n      <div class=\"x91 visible-lg MNClick\"  data-id=\"9\">Песни</div> \\n      <div class=\"x91 visible-lg MNClick\"  data-id=\"8\">Форум</div>\\n      <div class=\"x91 visible-lg MNClick\"  data-id=\"5\">Отзывы</div>\\n      <div class=\"x91 visible-lg MNClick\"  data-id=\"4\">Конкурсы</div>\\n            <div class=\"x91 visible-lg MNClick\" data-id=\"6\">Авторы</div>\\n      <div class=\"x91 visible-lg MNClick\"  data-id=\"7\">Литпортал</div>\\n      <div class=\"clearfix\"></div>\\n  </div>\\n\\n  <div class=\"col-xs-12 col-md-3 col-lg-2 x1x x96\">\\n                       <a href=\"/registration.php\" class=\"regs\">Регистрация</a>\\n              <a href=\"/enter.php\" class=\"enters\">Войти</a>\\n            </div>\\n<div class=\"clearfix\"></div>\\n</div>\\n</div>\\n<script type=\"text/javascript\" charset=\"utf-8\">\\nlet blocks = document.querySelectorAll( \".MNClick\" ); \\nfor( let i = 0; i < blocks.length; i++){ \\n  blocks[i].addEventListener(\"click\", function (event){ \\n    var MNClickA = \".MNClickA\" +  this.getAttribute(\\'data-id\\');  \\n        let blocksX93 = document.querySelectorAll(\".x93:not(\" + MNClickA + \")\"); \\n        for( let j = 0; j < blocksX93.length; j++){   \\n          blocksX93[j].style.display = \"none\"; \\n        }\\n        if (document.querySelector(MNClickA).style.display !== \"block\")  { \\n           document.querySelector(MNClickA).style.display = \"block\";\\n           document.querySelector(\".x13Plashka\").style.display = \"block\";\\n        } \\n        else  {  \\n           document.querySelector(MNClickA).style.display = \"none\";\\n           document.querySelector(\".x13Plashka\").style.display = \"none\";\\n        } \\n  });\\n} \\n</script>\\n<div class=\"x13Plashka\"></div>\\n<div class=\"x13P\">\\n<div class=\"x123 hidden-xs hidden-sm\">\\n  <div class=\"container2\"> \\n    <div class=\"col-md-12\" style=\"padding-left: 10px; padding-right: 10px;\"> \\n      <div class=\"x124\"><a href=\"/invitation.php\">Авторы приглашают</a></div>\\n      <div class=\"x125\">Рекомендуем:</div>\\n      <div class=\"x126\"><a href=\"/public_list.php\">СТИХИ</a></div>\\n      <div class=\"x126\"><a href=\"/public_prose_list.php\">ПРОЗА</a></div>\\n      <div class=\"x126\"><a href=\"/public_audio_list.php\">ПЕСНИ</a></div>\\n      <div class=\"x126T\">\\n        <form action=\"/search.php\" method=\"POST\">\\n          <div class=\"x124\" style=\"width: 100%;\"><input placeholder=\"Поиск автора по фамилии...\" type=\"text\" name=\"search\" value=\"\" style=\"width: 100%; font-size: 16px; height: 26px;\"></div>\\n          <div class=\"x124T\"><input type=\"image\" src=\"/images/lupa.gif\"></div>\\n          <input type=\"hidden\" name=\"radio\" value=\"s2\">\\n        </form>\\n        <div class=\"clearfix\"></div>    \\n      </div>\\n    </div>\\n    <div class=\"clearfix\"></div>\\n  </div>\\n</div>\\n<div class=\"container2\">  \\n     \\n      <div class=\"row\">\\n      <div class=\"col-md-12 x1cls\"> \\n      <div >\\n      <div class=\"x109 hidden-xs hidden-sm\" style=\"top:-46px; left:64.4%;\"><a href=\"/radio/\" class=\"none\"><img src=\"/images/priem.jpg\" alt=\"\"></a></div>\\n        \\n<div class=\"row\">\\n<div class=\"h1\"><h1>Бизнес класс</h1></div>\\n<div class=\"col-md-12 x2 x28\">\\n    <div class=\"col-xs-7 col-sm-6 col-md-4 x2\">[<a href=\"/users/Alanra/\">Александр Рыбак</a>]</div>  \\n    <div class=\"col-xs-5  col-sm-6 col-md-8 x29\">\\n    <span class=\"x30\"><a href=\"/print.php?id=3610167\" rel=\"nofollow\" target=\"_blank\"><i  original-title=\"Версия для печати\" class=\"fa fa-print TipsyNorth\" aria-hidden=\"true\">&nbsp;</i><span class=\"yousa\">Версия для печати</span></a></span>\\n       \\n    </div>\\n</div>\\n<div class=\"clear\"><br></div>\\n<div style=\"position: relative; display: table; width: 100%;\">\\n<div class=\"col-md-9 x2\">\\n<div class=\"clearfix\"></div>У каждого жизнь протекает по - своему. Кто – то всю\\r\\nжизнь проводит в путешествиях и развлечениях, а кто – то всю жизнь вкалывает.\\r\\nКак говорят в народе «Значит судьба такая!». И вот эта самая судьба, для\\r\\nразнообразия, подкидывает иногда забот любителям развлечений, и наоборот,\\r\\nподкидывает приятные сюрпризы трудоголикам. <br/>\\r\\nКак – то раз пришлось мне c товарищами заниматься наладкой оборудования на\\r\\nодном заводе. Я налаживал электрическую часть, Володя занимался механикой,\\r\\nАндрей – гидравликой. Нужно сказать пару слов о том, как выглядела наша троица.\\r\\nЯ – среднего роста, среднего телосложения, возраст – за 50. Володя и Андрей\\r\\nмолодые ребята богатырского телосложения, ростом чуть меньше двух метров. Из\\r\\nуважения ребята меня всегда  пропускали\\r\\nвперед, а сами шли чуть сзади. Со стороны выглядело так, будто идет «авторитет»\\r\\nсо своими телохранителями. Меня эта игра забавляла.<br/>\\r\\nВолодя и Андрей в своем деле были специалисты, обо\\r\\nмне и говорить нечего, так что работа продвигалась быстро. Мы наладили\\r\\nоборудование и передали его в эксплуатацию.<br/>\\r\\nПришло время возвращаться из командировки домой.\\r\\nПредстоял двухчасовой перелет. Приехали в аэропорт за час до вылета и\\r\\nнаправились к стойке регистрации. Подходим к стойке, как обычно я впереди,\\r\\nребята чуть сзади. Я подаю девушке три паспорта с билетами и говорю:&nbsp;<br/>- Нам пожалуйста три\\r\\nместа рядом.<br/>\\r\\nИ с серьезным видом, кивнув в сторону ребят, шучу:<br/>- Мои телохранители.<br/>\\r\\nДевушка внимательно смотрит на нас, потом смотрит на\\r\\nмонитор и с некоторым замешательством говорит:<br/>- В эконом\\r\\nклассе три места рядом не получается. Давайте я вам дам места в бизнес классе.<br/>\\r\\n- Мы доплачивать не будем! - тут же басом говорит\\r\\nВолодя.<br/>\\r\\n- Доплачивать не нужно, просто полетите бизнес\\r\\nклассом, - говорит девушка.<br/>\\r\\n- Хорошо, - вежливо соглашаюсь я.<br/>\\r\\nЯ беру посадочные талоны и мы проходим в\\r\\nнакопитель.<br/>\\r\\n- Анатольевич, что это было? Мы действительно летим\\r\\nбизнес классом? - шепотом спрашивает меня Андрей.<br/>\\r\\n- А есть мы там будем? Деньги не потребуют? -\\r\\nспрашивает Володя.<br/>\\r\\n- Я почем знаю, - тихо отвечаю я. <br/>\\r\\n- Предлагаю вести себя так, будто мы всю жизнь\\r\\nтолько бизнес классом и летаем. Едим, пьем, все по полной программе. Если о\\r\\nденьгах пойдет речь, говорим, что на последние командировочные купили билеты.\\r\\nДенег нет!<br/>\\r\\n- Андрей, ты бизнес классом когда – ни будь летал?\\r\\n– спрашиваю я.<br/>\\r\\n-  Нет.<br/>\\r\\n- А ты, Володя?<br/>\\r\\n- Тоже нет.<br/>\\r\\n- Я тоже не летал. Вот и летанём разок! Судьба нам\\r\\nподбросила приятный сюрприз, так давайте им воспользуемся!<br/>\\r\\nЗашли в самолет, заняли свои места в бизнес классе.\\r\\nЯ посередине, Володя у окна слева, Андрей через проход справа, как и положено\\r\\nтелохранителям. Кресла шикарные, не то что в эконом классе. Сидим, ждем, что\\r\\nдальше будет.<br/>\\r\\nСамолет взлетел, в бизнес классе даже взлетать\\r\\nприятнее! <br/>\\r\\nПодошел стюард, подал меню. Мы переглянулись и\\r\\nзаказали, ребята по полной, я по среднему, в меня просто столько бы не влезло. <br/>\\r\\n- Что будете пить? – вежливо спросил стюард.<br/>\\r\\n- Мне водку и пиво! – мгновенно выдал Володя.<br/>\\r\\n- Мне тоже! – подхватил Андрей.<br/>\\r\\nСтюарт вежливо посмотрел на меня. Я, не мене\\r\\nвежливо, кивнул головой, подтверждая заказ «телохранителей».<br/>\\r\\n- А Вам что налить? – спросил стюард.<br/>\\r\\nМне тоже хотелось водки, но, чтобы поддержать имидж\\r\\n«авторитета», я сказал:<br/>\\r\\n- Мне пожалуйста бокал вина.<br/>\\r\\nИ добавил:<br/>\\r\\n– Красного.<br/>\\r\\nСтюарт тут же подал мне винную карту. Я открыл\\r\\nкарту – ни одного знакомого названия!<br/>\\r\\nВидя мое замешательство, стюард предложил:<br/>\\r\\n– Может, вот это возьмете?<br/>\\r\\n- Да, это как раз подойдет! – ответил я.<br/>\\r\\nЧерез минут пятнадцать принесли заказ. Один вид\\r\\nзаказа вызывал восторг, ни какого сравнения с бутербродом в эконом классе!<br/>\\r\\nПоглощение такого количества пищи заняло довольно\\r\\nмного времени. Приятно, черт возьми, лететь бизнес классом и кушать деликатесы!\\r\\nИ вдвойне приятно, что за все это не надо платить!<br/>\\r\\nПо ходу застолья «телохранители» пропустили еще по\\r\\nводочке. Все расслабились, настроение супер. Как мало нужно человеку для\\r\\nощущения счастья!<br/>\\r\\nПосле трапезы смотрели фильмы, слушали музыку –\\r\\nкому что нравится. Там во впереди стоящем кресле монитор небольшой вмонтирован\\r\\nи наушники к нему есть.<br/>\\r\\nДва часа пролетели как пять минут.<br/>\\r\\nПри выходе из самолета Андрей говорит:<br/>\\r\\n- Анатольевич, может следующий раз опять бизнес\\r\\nклассом полетим?<br/>\\r\\n- А это как судьбе будет угодно! Возможно, опять\\r\\nприятный сюрприз преподнесет! – с надеждой в голосе ответил я.<br/>\\xad<div class=\"clearfix\"><br><br></div> \\n<div class=\"clearfix\"><br></div>\\n</div>\\n \\n<div class=\"hidden-xs hidden-sm col-md-3\" style=\"position: sticky; top: 0;\"  >\\n    <div id=\"MyBessFID3\">\\n      <div style=\"position:relative; left:30px; display:block; max-width:300px; margin:auto;\">\\n                <div><ins class=\"tfxads\" data-tfx-id=\"13913\" data-tfx-w=\"300\" data-tfx-h=\"600\"></ins><script src=\"https://cdn.adlook.me/js/ads.js\" async=\"async\"></script></div>\\n      </div>\\n    </div>\\n    <div class=\"clear\"><br></div>\\n</div>\\n</div><div class=\"clear\"><br></div><div class=\"clearfix\"></div><div class=\"visible-md visible-lg\"><!--Тип баннера: [chitalnya.ru] | Desktop Under Text In Prose-->\\n<div id=\"adfox_160334624862859038\"></div>\\n<script>\\n    window.Ya.adfoxCode.createAdaptive({\\n        ownerId: 311920,\\n        containerId: \\'adfox_160334624862859038\\',\\n        params: {\\n            pp: \\'g\\',\\n            ps: \\'ekmd\\',\\n            p2: \\'gzfw\\'\\n        }\\n    }, [\\'desktop\\', \\'tablet\\'], {\\n        tabletWidth: 830,\\n        phoneWidth: 480,\\n        isAutoReloads: false\\n    });\\n</script></div><div class=\"visible-xs visible-sm\"><!--Тип баннера: [chitalnya.ru] | Mobile Feed-->\\n<div id=\"adfox_160371099508075704\"></div>\\n<script>\\n    window.Ya.adfoxCode.createAdaptive({\\n        ownerId: 311920,\\n        containerId: \\'adfox_160371099508075704\\',\\n        params: {\\n            pp: \\'i\\',\\n            ps: \\'ekmd\\',\\n            p2: \\'gzik\\'\\n        }\\n    }, [\\'phone\\'], {\\n        tabletWidth: 830,\\n        phoneWidth: 480,\\n        isAutoReloads: false\\n    });\\n</script></div><div class=\"clearfix\"></div><div class=\"clearfix\"><br><br></div>\\n <div  class=\"tgx-vbf\" data-vbf-id=\"12643\" data-vbf-exp=\"1\" data-vbf-hide=\"0\" data-vbf-loop=\"10\"></div>\\n<div class=\"boxH\">\\n<span id=\"ocenka\">      \\n        \\nКоличество отзывов:  <b>0</b><br/>         \\nКоличество сообщений:  <b>0</b><br/>    \\nКоличество просмотров:  <b>6</b><br/> \\n&copy; 21.08.2023г. Александр Рыбак <br/>\\nСвидетельство о публикации: <b>izba-2023-3610167</b> <br/><br/>\\nРубрика произведения: <a href=\"prose.php\" class=\"smoll\">Проза</a> -> <a href=\"prose/61/\" class=\"smoll\">Рассказ</a><br/> \\n</span>\\n</div>\\n</div>\\n<div class=\"m30\"><ul class=\"pagination\"><li class=\"active\"><a href=\"javascript:void(null)\">1</a></li><li><a href=/work/3599074/>2</a></li><li><a href=/work/3588999/>3</a></li><li><a href=/work/3577218/>4</a></li><li><a href=/work/3570442/>5</a></li><li><a href=/work/3599074/>»</a></li>  <li><a href=/work/3516805/>»»</a></li></ul></div><span id=\"spgrey\"><script type=\"text/javascript\">\\n<!--\\nvar _acic={dataProvider:10};(function(){var e=document.createElement(\"script\");e.type=\"text/javascript\";e.async=true;e.src=\"https://www.acint.net/aci.js\";var t=document.getElementsByTagName(\"script\")[0];t.parentNode.insertBefore(e,t)})()\\n//-->\\n</script></span>\\n<div class=\"clearfix\"><br></div>\\n<br/> \\n<span id=\"changePost\" style=\"display:none;\"></span>\\n<div class=\"x66\"><a class=\"rgs\" href=\"javascript:void(null)\">Оставить отзыв к произведению</a></div><div class=\"clearfix\"><br></div><div class=\"clearfix\"><br><br></div>      <div class=\"clearfix\"> <br></div>      \\n            <div class=\"x25\">\\n         <script src=\"https://yastatic.net/share2/share.js\" async></script>\\n         <div class=\"ya-share2\" data-curtain data-size=\"l\" data-services=\"vkontakte,facebook,odnoklassniki,moimir,twitter,viber,whatsapp\"></div>\\n      </div>\\n                  <div class=\"clear\"><br><br></div>\\n      <div class=\"ya-site-form ya-site-form_inited_no\" data-bem=\"{&quot;action&quot;:&quot;https://yandex.ru/search/site/&quot;,&quot;arrow&quot;:false,&quot;bg&quot;:&quot;transparent&quot;,&quot;fontsize&quot;:12,&quot;fg&quot;:&quot;#000000&quot;,&quot;language&quot;:&quot;ru&quot;,&quot;logo&quot;:&quot;rb&quot;,&quot;publicname&quot;:&quot;Я ищу&quot;,&quot;suggest&quot;:true,&quot;target&quot;:&quot;_self&quot;,&quot;tld&quot;:&quot;ru&quot;,&quot;type&quot;:2,&quot;usebigdictionary&quot;:false,&quot;searchid&quot;:2359172,&quot;input_fg&quot;:&quot;#000000&quot;,&quot;input_bg&quot;:&quot;#ffffff&quot;,&quot;input_fontStyle&quot;:&quot;normal&quot;,&quot;input_fontWeight&quot;:&quot;normal&quot;,&quot;input_placeholder&quot;:&quot;Поиск по сайту&quot;,&quot;input_placeholderColor&quot;:&quot;#000000&quot;,&quot;input_borderColor&quot;:&quot;#7f9db9&quot;}\"><form action=\"https://yandex.ru/search/site/\" method=\"get\" target=\"_self\" accept-charset=\"utf-8\"><input type=\"hidden\" name=\"searchid\" value=\"2359172\"/><input type=\"hidden\" name=\"l10n\" value=\"ru\"/><input type=\"hidden\" name=\"reqenc\" value=\"\"/><input  type=\"search\" style=\"padding-left:6px;\" name=\"text\" value=\"\"/><input type=\"submit\"  value=\"Найти\"/></form></div><style type=\"text/css\">.ya-page_js_yes .ya-site-form_inited_no { display: none; }</style><script type=\"text/javascript\">(function(w,d,c){var s=d.createElement(\\'script\\'),h=d.getElementsByTagName(\\'script\\')[0],e=d.documentElement;if((\\' \\'+e.className+\\' \\').indexOf(\\' ya-page_js_yes \\')===-1){e.className+=\\' ya-page_js_yes\\';}s.type=\\'text/javascript\\';s.async=true;s.charset=\\'utf-8\\';s.src=(d.location.protocol===\\'https:\\'?\\'https:\\':\\'http:\\')+\\'//site.yandex.net/v2.0/js/all.js\\';h.parentNode.insertBefore(s,h);(w[c]||(w[c]=[])).push(function(){Ya.Site.Form.init()})})(window,document,\\'yandex_site_callbacks\\');</script>\\n      <div class=\"clearfix\"><br></div>\\n       \\n<div class=\"clearfix\"></div><br>\\n        <div class=\"clearfix\"></div>  \\n    \\n\\n            <div class=\"clearfix\"></div><div id=\"DescriptionBlock\">\\n</div><div class=\"clearfix\"></div>\\n       <!--Тип баннера: chitalnya.ru:M_H1_v-->\\n<!--Расположение: M_H1-->\\n<div id=\"adfox_163723587863651085\"></div>\\n<script>\\n    window.yaContextCb.push(()=>{\\n        Ya.adfoxCode.createAdaptive({\\n            ownerId: 389280,\\n            containerId: \\'adfox_163723587863651085\\',\\n            params: {\\n                pp: \\'bsvh\\',\\n                ps: \\'fgbz\\',\\n                p2: \\'hkmv\\'\\n            }\\n        }, [\\'tablet\\', \\'phone\\'], {\\n            tabletWidth: 1182,\\n            phoneWidth: 974,\\n            isAutoReloads: true\\n        })\\n    })\\n</script><div class=\"clearfix\"></div>  \\n      </div>\\n      </div>\\n      </div> \\n      <div class=\"clearfix\"></div>    \\n      <footer id=\"footer\">\\n        <div class=\"row x4\"> \\n            <div class=\"col-md-6 x1cls\">\\n              <div class=\"x15 ft2\">\\n                 <div class=\"ft3\">© 2007-2023 Chitalnya.ru</div>\\n                 <div class=\"ft5\" style=\"font-weight: bold; color: #B02525;\">Рекламы будет меньше, если вы <a href=\"/registration.php\">авторизируетесь</a> на сайте.</div>                 <div class=\"ft4\">Входящий, знай, тебя здесь ждут свобода слова и уют!</div>\\n                 <div class=\"ft5\">\\n                 «Изба-Читальня» - литературный портал.<br>Включен в <noindex><a href=\"https://digital.gov.ru/ru/documents/7146/\" target=\"_blank\" rel=\"nofollow\">перечень социально значимых интернет-ресурсов России.</a></noindex>\\n                 <br><br>Отправляя любой текст через специальные формы на сайте, вы соглашаетесь с политикой конфиденциальности данного сайта. Все авторские права на произведения принадлежат их авторам и охраняются действующим законодательством. Перепечатка и копирование произведений возможны только с согласия их автора, к которому вы можете обратиться на его авторской странице. Ответственность за содержание произведений закреплена за их авторами на основании правил публикации и российского законодательства. При нарушении правил сайта и официального судебного запроса Администрация сайта предоставит все необходимые данные об авторе-нарушителе.</div>          \\n              </div>\\n            </div>\\n            <div class=\"col-md-3 col-md-push-3 x1cls\">\\n               <div class=\"x15 ft2\">\\n                <div class=\"ft1\"><a href=\"/forum.php?t=2\">Творческая мастерская</a></div>\\n                <div class=\"ft1\"><a href=\"/redaction.php\">Редакция сайта</a></div>                       \\n                <div class=\"ft1\"><a href=\"/decade.php\">Авторы декады</a></div>\\n                <div class=\"ft1\"><a href=\"/dogovor.php\">Пользовательское соглашение</a></div> \\n                <div class=\"ft1\"><a href=\"/prava.php\">Авторские права</a></div> \\n                <div class=\"ft1\"><a href=\"/holders.php\">Для правообладателей</a></div> \\n                <div class=\"ft1\"><a href=\"/users/alchou/\">Редакторская страница</a></div>           \\n               </div>\\n            </div>\\n            <div class=\"col-md-3 col-md-pull-3 x1cls\">\\n              <div class=\"x15 ft2\">\\n                <div class=\"ft1\"><a href=\"/about.php\">О нас</a></div>\\n                <div class=\"ft1\"><a href=\"/send.php\">Контакты</a></div>\\n                <div class=\"ft1\"><a href=\"/reclama.php\">Реклама</a></div>\\n                                <div class=\"clearfix\"></div>\\n                <a href=\"//vk.com/club77178317\" target=\"_blank\" rel=\"nofollow\"><img src=\"/images/soc1.gif\" height=\"20\" /></a>  \\n                <a href=\"//www.odnoklassniki.ru/group/52304442097751\" target=\"_blank\" rel=\"nofollow\"><img src=\"/images/soc3.gif\"  height=\"20\" /></a>  \\n                                <a href=\"https://zen.yandex.ru/izba\" target=\"_blank\" rel=\"nofollow\"><img src=\"/images/zen.jpg\" ></a> \\n                <div class=\"clearfix\"></div>\\n                  <noindex>\\n                    <!-- Rating@Mail.ru counter -->\\n                    <script type=\"text/javascript\">\\n                    var _tmr = window._tmr || (window._tmr = []);\\n                    _tmr.push({id: \"1419746\", type: \"pageView\", start: (new Date()).getTime()});\\n                    (function (d, w, id) {\\n                      if (d.getElementById(id)) return;\\n                      var ts = d.createElement(\"script\"); ts.type = \"text/javascript\"; ts.async = true; ts.id = id;\\n                      ts.src = (d.location.protocol == \"https:\" ? \"https:\" : \"http:\") + \"//top-fwz1.mail.ru/js/code.js\";\\n                      var f = function () {var s = d.getElementsByTagName(\"script\")[0]; s.parentNode.insertBefore(ts, s);};\\n                      if (w.opera == \"[object Opera]\") { d.addEventListener(\"DOMContentLoaded\", f, false); } else { f(); }\\n                    })(document, window, \"topmailru-code\");\\n                    </script><noscript><div style=\"position:absolute;left:-10000px;\"><img src=\"//top-fwz1.mail.ru/counter?id=1419746;js=na\" style=\"border:0;\" height=\"1\" width=\"1\" alt=\"Рейтинг@Mail.ru\" /></div></noscript>\\n                    <!-- //Rating@Mail.ru counter -->\\n                    <!-- Rating@Mail.ru logo -->\\n                    <a rel=\\'nofollow\\' href=\"http://top.mail.ru/jump?from=1419746\">\\n                    <img src=\"//top-fwz1.mail.ru/counter?id=1419746;t=487;l=1\" \\n                    style=\"border:0;\" height=\"31\" width=\"88\" alt=\"Рейтинг@Mail.ru\" /></a>\\n                    <!-- //Rating@Mail.ru logo -->\\n                    <!--LiveInternet counter--><a href=\"https://www.liveinternet.ru/click\"\\n                    target=\"_blank\"><img id=\"licnt2E8D\" width=\"88\" height=\"31\" style=\"border:0\" \\n                    title=\"LiveInternet: показано число просмотров за 24 часа, посетителей за 24 часа и за сегодня\"\\n                    src=\"data:image/gif;base64,R0lGODlhAQABAIAAAAAAAP///yH5BAEAAAEALAAAAAABAAEAAAIBTAA7\"\\n                    alt=\"\"/></a><script>(function(d,s){d.getElementById(\"licnt2E8D\").src=\\n                    \"https://counter.yadro.ru/hit?t11.2;r\"+escape(d.referrer)+\\n                    ((typeof(s)==\"undefined\")?\"\":\";s\"+s.width+\"*\"+s.height+\"*\"+\\n                    (s.colorDepth?s.colorDepth:s.pixelDepth))+\";u\"+escape(d.URL)+\\n                    \";h\"+escape(d.title.substring(0,150))+\";\"+Math.random()})\\n                    (document,screen)</script><!--/LiveInternet--> \\n\\n                    <!-- Yandex.Metrika counter --> <script type=\"text/javascript\" > (function(m,e,t,r,i,k,a){m[i]=m[i]||function(){(m[i].a=m[i].a||[]).push(arguments)}; m[i].l=1*new Date();k=e.createElement(t),a=e.getElementsByTagName(t)[0],k.async=1,k.src=r,a.parentNode.insertBefore(k,a)}) (window, document, \"script\", \"/js/downloadJs/tag.js\", \"ym\"); ym(1177251, \"init\", { clickmap:true, trackLinks:true, accurateTrackBounce:true }); </script> <noscript><div><img src=\"https://mc.yandex.ru/watch/1177251\" style=\"position:absolute; left:-9999px;\" alt=\"\" /></div></noscript> <!-- /Yandex.Metrika counter -->   \\n\\n                </noindex> \\n                <div class=\"clearfix\"></div>   \\n                                               \\n                <div class=\"x119 ft1\"><a href=\"/users/best-stihi-velikih-poetov/\">Cтихи великих русских поэтов</a></div>\\n              </div>\\n            </div>\\n        </div>\\n        <div class=\"clearfix\"></div>\\n      </footer>\\n</div>   \\n</div>\\n</div>\\n<div id=\"ViewerWrap\">\\n<div class=\"ViewerPage\">\\n<div class=\"WRL2\" onClick=\"ViewerWrap(\\'1\\');\"></div>\\n<table width=\"100%\" cellpadding=\"0\" cellspacing=\"0\" align=\"center\">\\n<tr><td class=\"WRL1 ViewerShow\"><b class=\"WRL3\" id=\"NameTops\"></b></td></tr>\\n<tr>\\n<td valign=\"top\" class=\"WRL4T\" id=\"editors\">\\n<div id=\"loading\"><div id=\"loading2\"></div></div>\\n<div id=\"ContentBlank\"></div>\\n</td>\\n</tr>\\n</table>\\n</div>\\n<div class=\"area1\"></div>\\n<div class=\"area2\" onClick=\"ViewerWrap(\\'2\\');\"></div>\\n</div>\\n<div id=\"ipcity\" style=\"border:0px; display: none\"></div>\\n<span id=\"NoAuthoritation\">1</span>\\n<div id=\"TopYScroll\" class=\"TopYScroll\"></div>\\n<script type=\"text/javascript\"  src=\"/js/jquery-1.9.1.min.js\"></script><script type=\"text/javascript\" src=\"/js/common.js?v=v7\"></script>\\n<script type=\"text/javascript\" src=\"/js/share42.js?v=3\"></script>\\n<script language=\"JavaScript\" type=\"text/javascript\">document.oncopy = AddCopy;</script>\\n<link rel=\"stylesheet\" href=\"/js/jquery.scrollbar/my_smails.css?v=1\" />\\n <script defer src=\"https://cdn.adlook.me/js/rlf.js\"></script>\\n <script defer src=\"https://cdn.adlook.me/js/vbf.js\"></script>\\n <script>\\n  setTimeout(function(){\\n                 (function(){\\n                       var s = document.createElement(\"script\");\\n                       s.type = \"text/javascript\";\\n                       s.async = true;\\n                       s.src = \"https://cdn.adlook.me/js/rlf.js\";\\n  document.body.appendChild(s);\\n                 })();\\n          }, 3000);\\n </script> \\n</body>\\n</html>'"
            ],
            "application/vnd.google.colaboratory.intrinsic+json": {
              "type": "string"
            }
          },
          "metadata": {},
          "execution_count": 41
        }
      ]
    },
    {
      "cell_type": "code",
      "source": [
        "type(r.text)"
      ],
      "metadata": {
        "colab": {
          "base_uri": "https://localhost:8080/"
        },
        "id": "5pLqu7GVJbih",
        "outputId": "f50e1970-4e5b-4841-b892-790ccdc12c2b"
      },
      "execution_count": null,
      "outputs": [
        {
          "output_type": "execute_result",
          "data": {
            "text/plain": [
              "str"
            ]
          },
          "metadata": {},
          "execution_count": 27
        }
      ]
    },
    {
      "cell_type": "code",
      "source": [
        "soup = BeautifulSoup(r.text) # пред. обработка через BeautifulSoup\n",
        "soup"
      ],
      "metadata": {
        "id": "bU5s0tbhJith"
      },
      "execution_count": null,
      "outputs": []
    },
    {
      "cell_type": "code",
      "source": [
        "type(soup)"
      ],
      "metadata": {
        "colab": {
          "base_uri": "https://localhost:8080/"
        },
        "id": "_2dBTjsUKNNa",
        "outputId": "04e2b05f-a464-42e4-eb31-780750692c83"
      },
      "execution_count": null,
      "outputs": [
        {
          "output_type": "execute_result",
          "data": {
            "text/plain": [
              "bs4.BeautifulSoup"
            ]
          },
          "metadata": {},
          "execution_count": 10
        }
      ]
    },
    {
      "cell_type": "code",
      "source": [
        "div=soup.find_all('div', {'class': 'col-md-9 x2'}) # взять данные из поля\n",
        "text = div[0].text"
      ],
      "metadata": {
        "id": "a1ngP08XLac2"
      },
      "execution_count": null,
      "outputs": []
    },
    {
      "cell_type": "code",
      "source": [
        "print(text)"
      ],
      "metadata": {
        "id": "CX9VUox-f7Ro"
      },
      "execution_count": null,
      "outputs": []
    },
    {
      "cell_type": "code",
      "source": [
        "len(div)"
      ],
      "metadata": {
        "colab": {
          "base_uri": "https://localhost:8080/"
        },
        "id": "AiXu824PQrAw",
        "outputId": "e4532caf-debd-4984-b068-bb4453ea2f9c"
      },
      "execution_count": null,
      "outputs": [
        {
          "output_type": "execute_result",
          "data": {
            "text/plain": [
              "1"
            ]
          },
          "metadata": {},
          "execution_count": 46
        }
      ]
    },
    {
      "cell_type": "code",
      "source": [
        "type(text)"
      ],
      "metadata": {
        "colab": {
          "base_uri": "https://localhost:8080/"
        },
        "id": "ChVPcH2HgyB-",
        "outputId": "2a335d2d-6f50-4a8b-d922-7cf001783273"
      },
      "execution_count": null,
      "outputs": [
        {
          "output_type": "execute_result",
          "data": {
            "text/plain": [
              "str"
            ]
          },
          "metadata": {},
          "execution_count": 47
        }
      ]
    },
    {
      "cell_type": "code",
      "source": [
        "\n",
        "a = randint(3500000,3650000)"
      ],
      "metadata": {
        "id": "WOTL352Rlihg"
      },
      "execution_count": null,
      "outputs": []
    },
    {
      "cell_type": "code",
      "source": [
        "a"
      ],
      "metadata": {
        "colab": {
          "base_uri": "https://localhost:8080/"
        },
        "id": "vKnNlg9Nlzqd",
        "outputId": "b246ad7c-6604-4879-c45d-4842ba3f5c23"
      },
      "execution_count": null,
      "outputs": [
        {
          "output_type": "execute_result",
          "data": {
            "text/plain": [
              "3604548"
            ]
          },
          "metadata": {},
          "execution_count": 75
        }
      ]
    },
    {
      "cell_type": "code",
      "source": [
        "url = 'https://www.chitalnya.ru/work/' + str(a) +'/'\n",
        "url"
      ],
      "metadata": {
        "colab": {
          "base_uri": "https://localhost:8080/",
          "height": 36
        },
        "id": "5XaLpaSCl1bV",
        "outputId": "8b9f0c88-129a-4057-9393-fb6957d3c861"
      },
      "execution_count": null,
      "outputs": [
        {
          "output_type": "execute_result",
          "data": {
            "text/plain": [
              "'https://www.chitalnya.ru/work/3604548/'"
            ],
            "application/vnd.google.colaboratory.intrinsic+json": {
              "type": "string"
            }
          },
          "metadata": {},
          "execution_count": 76
        }
      ]
    },
    {
      "cell_type": "code",
      "source": [
        "r = requests.get(url) # вернуть разметку страницу по ссылке\n",
        "r.text"
      ],
      "metadata": {
        "colab": {
          "base_uri": "https://localhost:8080/",
          "height": 105
        },
        "id": "Mu8Lh60zmDod",
        "outputId": "9c4dcca6-5208-4673-9e82-06086abf5dce"
      },
      "execution_count": null,
      "outputs": [
        {
          "output_type": "execute_result",
          "data": {
            "text/plain": [
              "'<!DOCTYPE html>\\n<html lang=\"ru\">\\n<head>\\n<meta charset=\"utf-8\">\\n<title>Стихи, проза, стихи о любви и многое другое на литпортале Изба-Читальня</title>\\n<meta name=\"keywords\" content=\"стихи, проза, стихотворения, любовная лирика, конкурсы, произведение, роман, публикация, поэт, прозаик, новелла, миниатюра, автор, литература, творчество, лирика, поэзия, рецензия, критик, рассказ, повесть\" />\\n<meta property=\"og:url\" content=\"https://www.chitalnya.ru/error.php\" />\\n<meta property=\"og:image\" content=\"https://www.chitalnya.ru/images/logo2020.png\" />\\n<meta property=\"vk:image\" content=\"https://www.chitalnya.ru/images/logo2020.png\" />\\n<base href=\"https://www.chitalnya.ru/\"/>\\n<!--[if lt IE 9]>\\n    <script src=\"/libs/html5shiv/es5-shim.min.js\"></script>\\n    <script src=\"/libs/html5shiv/html5shiv.min.js\"></script>\\n    <script src=\"/libs/html5shiv/html5shiv-printshiv.min.js\"></script>\\n    <script src=\"/libs/respond/respond.min.js\"></script>    \\n    <link rel=\"stylesheet\" type=\"text/css\" href=\"/js/ie8_fix.css\" />   \\n<![endif]-->  \\n<link rel=\"preload\" href=\"/libs/fonts/Osans/opensans-semibold.woff\" as=\"font\" type=\"font/woff\" crossorigin>\\n<link rel=\"preload\" href=\"/libs/fonts/Osans/opensans-regular.woff\" as=\"font\" type=\"font/woff\" crossorigin>\\n<link rel=\"preload\" href=\"/libs/fonts/Osans/opensans-bold.woff\" as=\"font\" type=\"font/woff\" crossorigin>\\n<link rel=\"preload\" href=\"/libs/fonts/Osans/opensans-light.woff\" as=\"font\" type=\"font/woff\" crossorigin>\\n<link rel=\"preload\" href=\"/libs/fonts/PTSerif/PTSerif-Regular.woff\" as=\"font\" type=\"font/woff\" crossorigin>\\n<link rel=\"preload\" href=\"/libs/font-awesome/fonts/fontawesome-webfont.woff2?v=4.7.0\" as=\"font\" type=\"font/woff2\" crossorigin>\\n<link rel=\"preload\" href=\"/js/tipsy-master/jquery.tipsy.js\" as=\"script\"> \\n<style>html{font-family:sans-serif;-ms-text-size-adjust:100%;-webkit-text-size-adjust:100%}body{margin:0}article,aside,details,figcaption,figure,footer,header,hgroup,main,menu,nav,section,summary{display:block}audio,canvas,progress,video{display:inline-block;vertical-align:baseline}audio:not([controls]){display:none;height:0}[hidden],template{display:none}a{background-color:transparent}a:active,a:hover{outline:0}abbr[title]{border-bottom:1px dotted}b,strong{font-weight:bold}dfn{font-style:italic}h1{font-size:2em;margin:0.67em 0}mark{background:#ff0;color:#000}small{font-size:80%}sub,sup{font-size:75%;line-height:0;position:relative;vertical-align:baseline}sup{top:-0.5em}sub{bottom:-0.25em}img{border:0}svg:not(:root){overflow:hidden}figure{margin:1em 40px}hr{-moz-box-sizing:content-box;-webkit-box-sizing:content-box;box-sizing:content-box;height:0}pre{overflow:auto}code,kbd,pre,samp{font-family:monospace, monospace;font-size:1em}button,input,optgroup,select,textarea{color:inherit;font:inherit;margin:0}button{overflow:visible}button,select{text-transform:none}button,html input[type=\"button\"],input[type=\"reset\"],input[type=\"submit\"]{-webkit-appearance:button;cursor:pointer}button[disabled],html input[disabled]{cursor:default}button::-moz-focus-inner,input::-moz-focus-inner{border:0;padding:0}input{line-height:normal}input[type=\"checkbox\"],input[type=\"radio\"]{-webkit-box-sizing:border-box;-moz-box-sizing:border-box;box-sizing:border-box;padding:0}input[type=\"number\"]::-webkit-inner-spin-button,input[type=\"number\"]::-webkit-outer-spin-button{height:auto}input[type=\"search\"]{-webkit-appearance:textfield;-moz-box-sizing:content-box;-webkit-box-sizing:content-box;box-sizing:content-box}input[type=\"search\"]::-webkit-search-cancel-button,input[type=\"search\"]::-webkit-search-decoration{-webkit-appearance:none}fieldset{border:1px solid #c0c0c0;margin:0 2px;padding:0.35em 0.625em 0.75em}legend{border:0;padding:0}textarea{overflow:auto}optgroup{font-weight:bold}table{border-collapse:collapse;border-spacing:0}td,th{padding:0}*{-webkit-box-sizing:border-box;-moz-box-sizing:border-box;box-sizing:border-box}*:before,*:after{-webkit-box-sizing:border-box;-moz-box-sizing:border-box;box-sizing:border-box}html{font-size:10px;-webkit-tap-highlight-color:rgba(0,0,0,0)}body{font-family:\"Helvetica Neue\",Helvetica,Arial,sans-serif;font-size:14px;line-height:1.42857143;color:#333;background-color:#fff}input,button,select,textarea{font-family:inherit;font-size:inherit;line-height:inherit}a{color:#337ab7;text-decoration:none}a:hover,a:focus{color:#23527c;text-decoration:underline}a:focus{outline:thin dotted;outline:5px auto -webkit-focus-ring-color;outline-offset:-2px}figure{margin:0}img{vertical-align:middle}.img-responsive{display:block;max-width:100%;height:auto}.img-rounded{border-radius:6px}.img-thumbnail{padding:4px;line-height:1.42857143;background-color:#fff;border:1px solid #ddd;border-radius:4px;-webkit-transition:all .2s ease-in-out;-o-transition:all .2s ease-in-out;transition:all .2s ease-in-out;display:inline-block;max-width:100%;height:auto}.img-circle{border-radius:50%}hr{margin-top:20px;margin-bottom:20px;border:0;border-top:1px solid #eee}.sr-only{position:absolute;width:1px;height:1px;margin:-1px;padding:0;overflow:hidden;clip:rect(0, 0, 0, 0);border:0}.sr-only-focusable:active,.sr-only-focusable:focus{position:static;width:auto;height:auto;margin:0;overflow:visible;clip:auto}[role=\"button\"]{cursor:pointer}.container{margin-right:auto;margin-left:auto;padding-left:15px;padding-right:15px}@media (min-width:768px){.container{width:750px}}@media (min-width:992px){.container{width:970px}}@media (min-width:1200px){.container{width:1170px}}.container-fluid{margin-right:auto;margin-left:auto;padding-left:15px;padding-right:15px}.row{margin-left:-15px;margin-right:-15px}.col-xs-1, .col-sm-1, .col-md-1, .col-lg-1, .col-xs-2, .col-sm-2, .col-md-2, .col-lg-2, .col-xs-3, .col-sm-3, .col-md-3, .col-lg-3, .col-xs-4, .col-sm-4, .col-md-4, .col-lg-4, .col-xs-5, .col-sm-5, .col-md-5, .col-lg-5, .col-xs-6, .col-sm-6, .col-md-6, .col-lg-6, .col-xs-7, .col-sm-7, .col-md-7, .col-lg-7, .col-xs-8, .col-sm-8, .col-md-8, .col-lg-8, .col-xs-9, .col-sm-9, .col-md-9, .col-lg-9, .col-xs-10, .col-sm-10, .col-md-10, .col-lg-10, .col-xs-11, .col-sm-11, .col-md-11, .col-lg-11, .col-xs-12, .col-sm-12, .col-md-12, .col-lg-12{position:relative;min-height:1px;padding-left:15px;padding-right:15px}.col-xs-1, .col-xs-2, .col-xs-3, .col-xs-4, .col-xs-5, .col-xs-6, .col-xs-7, .col-xs-8, .col-xs-9, .col-xs-10, .col-xs-11, .col-xs-12{float:left}.col-xs-12{width:100%}.col-xs-11{width:91.66666667%}.col-xs-10{width:83.33333333%}.col-xs-9{width:75%}.col-xs-8{width:66.66666667%}.col-xs-7{width:58.33333333%}.col-xs-6{width:50%}.col-xs-5{width:41.66666667%}.col-xs-4{width:33.33333333%}.col-xs-3{width:25%}.col-xs-2{width:16.66666667%}.col-xs-1{width:8.33333333%}.col-xs-pull-12{right:100%}.col-xs-pull-11{right:91.66666667%}.col-xs-pull-10{right:83.33333333%}.col-xs-pull-9{right:75%}.col-xs-pull-8{right:66.66666667%}.col-xs-pull-7{right:58.33333333%}.col-xs-pull-6{right:50%}.col-xs-pull-5{right:41.66666667%}.col-xs-pull-4{right:33.33333333%}.col-xs-pull-3{right:25%}.col-xs-pull-2{right:16.66666667%}.col-xs-pull-1{right:8.33333333%}.col-xs-pull-0{right:auto}.col-xs-push-12{left:100%}.col-xs-push-11{left:91.66666667%}.col-xs-push-10{left:83.33333333%}.col-xs-push-9{left:75%}.col-xs-push-8{left:66.66666667%}.col-xs-push-7{left:58.33333333%}.col-xs-push-6{left:50%}.col-xs-push-5{left:41.66666667%}.col-xs-push-4{left:33.33333333%}.col-xs-push-3{left:25%}.col-xs-push-2{left:16.66666667%}.col-xs-push-1{left:8.33333333%}.col-xs-push-0{left:auto}.col-xs-offset-12{margin-left:100%}.col-xs-offset-11{margin-left:91.66666667%}.col-xs-offset-10{margin-left:83.33333333%}.col-xs-offset-9{margin-left:75%}.col-xs-offset-8{margin-left:66.66666667%}.col-xs-offset-7{margin-left:58.33333333%}.col-xs-offset-6{margin-left:50%}.col-xs-offset-5{margin-left:41.66666667%}.col-xs-offset-4{margin-left:33.33333333%}.col-xs-offset-3{margin-left:25%}.col-xs-offset-2{margin-left:16.66666667%}.col-xs-offset-1{margin-left:8.33333333%}.col-xs-offset-0{margin-left:0}@media (min-width:768px){.col-sm-1, .col-sm-2, .col-sm-3, .col-sm-4, .col-sm-5, .col-sm-6, .col-sm-7, .col-sm-8, .col-sm-9, .col-sm-10, .col-sm-11, .col-sm-12{float:left}.col-sm-12{width:100%}.col-sm-11{width:91.66666667%}.col-sm-10{width:83.33333333%}.col-sm-9{width:75%}.col-sm-8{width:66.66666667%}.col-sm-7{width:58.33333333%}.col-sm-6{width:50%}.col-sm-5{width:41.66666667%}.col-sm-4{width:33.33333333%}.col-sm-3{width:25%}.col-sm-2{width:16.66666667%}.col-sm-1{width:8.33333333%}.col-sm-pull-12{right:100%}.col-sm-pull-11{right:91.66666667%}.col-sm-pull-10{right:83.33333333%}.col-sm-pull-9{right:75%}.col-sm-pull-8{right:66.66666667%}.col-sm-pull-7{right:58.33333333%}.col-sm-pull-6{right:50%}.col-sm-pull-5{right:41.66666667%}.col-sm-pull-4{right:33.33333333%}.col-sm-pull-3{right:25%}.col-sm-pull-2{right:16.66666667%}.col-sm-pull-1{right:8.33333333%}.col-sm-pull-0{right:auto}.col-sm-push-12{left:100%}.col-sm-push-11{left:91.66666667%}.col-sm-push-10{left:83.33333333%}.col-sm-push-9{left:75%}.col-sm-push-8{left:66.66666667%}.col-sm-push-7{left:58.33333333%}.col-sm-push-6{left:50%}.col-sm-push-5{left:41.66666667%}.col-sm-push-4{left:33.33333333%}.col-sm-push-3{left:25%}.col-sm-push-2{left:16.66666667%}.col-sm-push-1{left:8.33333333%}.col-sm-push-0{left:auto}.col-sm-offset-12{margin-left:100%}.col-sm-offset-11{margin-left:91.66666667%}.col-sm-offset-10{margin-left:83.33333333%}.col-sm-offset-9{margin-left:75%}.col-sm-offset-8{margin-left:66.66666667%}.col-sm-offset-7{margin-left:58.33333333%}.col-sm-offset-6{margin-left:50%}.col-sm-offset-5{margin-left:41.66666667%}.col-sm-offset-4{margin-left:33.33333333%}.col-sm-offset-3{margin-left:25%}.col-sm-offset-2{margin-left:16.66666667%}.col-sm-offset-1{margin-left:8.33333333%}.col-sm-offset-0{margin-left:0}}@media (min-width:992px){.col-md-1, .col-md-2, .col-md-3, .col-md-4, .col-md-5, .col-md-6, .col-md-7, .col-md-8, .col-md-9, .col-md-10, .col-md-11, .col-md-12{float:left}.col-md-12{width:100%}.col-md-11{width:91.66666667%}.col-md-10{width:83.33333333%}.col-md-9{width:75%}.col-md-8{width:66.66666667%}.col-md-7{width:58.33333333%}.col-md-6{width:50%}.col-md-5{width:41.66666667%}.col-md-4{width:33.33333333%}.col-md-3{width:25%}.col-md-2{width:16.66666667%}.col-md-1{width:8.33333333%}.col-md-pull-12{right:100%}.col-md-pull-11{right:91.66666667%}.col-md-pull-10{right:83.33333333%}.col-md-pull-9{right:75%}.col-md-pull-8{right:66.66666667%}.col-md-pull-7{right:58.33333333%}.col-md-pull-6{right:50%}.col-md-pull-5{right:41.66666667%}.col-md-pull-4{right:33.33333333%}.col-md-pull-3{right:25%}.col-md-pull-2{right:16.66666667%}.col-md-pull-1{right:8.33333333%}.col-md-pull-0{right:auto}.col-md-push-12{left:100%}.col-md-push-11{left:91.66666667%}.col-md-push-10{left:83.33333333%}.col-md-push-9{left:75%}.col-md-push-8{left:66.66666667%}.col-md-push-7{left:58.33333333%}.col-md-push-6{left:50%}.col-md-push-5{left:41.66666667%}.col-md-push-4{left:33.33333333%}.col-md-push-3{left:25%}.col-md-push-2{left:16.66666667%}.col-md-push-1{left:8.33333333%}.col-md-push-0{left:auto}.col-md-offset-12{margin-left:100%}.col-md-offset-11{margin-left:91.66666667%}.col-md-offset-10{margin-left:83.33333333%}.col-md-offset-9{margin-left:75%}.col-md-offset-8{margin-left:66.66666667%}.col-md-offset-7{margin-left:58.33333333%}.col-md-offset-6{margin-left:50%}.col-md-offset-5{margin-left:41.66666667%}.col-md-offset-4{margin-left:33.33333333%}.col-md-offset-3{margin-left:25%}.col-md-offset-2{margin-left:16.66666667%}.col-md-offset-1{margin-left:8.33333333%}.col-md-offset-0{margin-left:0}}@media (min-width:1200px){.col-lg-1, .col-lg-2, .col-lg-3, .col-lg-4, .col-lg-5, .col-lg-6, .col-lg-7, .col-lg-8, .col-lg-9, .col-lg-10, .col-lg-11, .col-lg-12{float:left}.col-lg-12{width:100%}.col-lg-11{width:91.66666667%}.col-lg-10{width:83.33333333%}.col-lg-9{width:75%}.col-lg-8{width:66.66666667%}.col-lg-7{width:58.33333333%}.col-lg-6{width:50%}.col-lg-5{width:41.66666667%}.col-lg-4{width:33.33333333%}.col-lg-3{width:25%}.col-lg-2{width:16.66666667%}.col-lg-1{width:8.33333333%}.col-lg-pull-12{right:100%}.col-lg-pull-11{right:91.66666667%}.col-lg-pull-10{right:83.33333333%}.col-lg-pull-9{right:75%}.col-lg-pull-8{right:66.66666667%}.col-lg-pull-7{right:58.33333333%}.col-lg-pull-6{right:50%}.col-lg-pull-5{right:41.66666667%}.col-lg-pull-4{right:33.33333333%}.col-lg-pull-3{right:25%}.col-lg-pull-2{right:16.66666667%}.col-lg-pull-1{right:8.33333333%}.col-lg-pull-0{right:auto}.col-lg-push-12{left:100%}.col-lg-push-11{left:91.66666667%}.col-lg-push-10{left:83.33333333%}.col-lg-push-9{left:75%}.col-lg-push-8{left:66.66666667%}.col-lg-push-7{left:58.33333333%}.col-lg-push-6{left:50%}.col-lg-push-5{left:41.66666667%}.col-lg-push-4{left:33.33333333%}.col-lg-push-3{left:25%}.col-lg-push-2{left:16.66666667%}.col-lg-push-1{left:8.33333333%}.col-lg-push-0{left:auto}.col-lg-offset-12{margin-left:100%}.col-lg-offset-11{margin-left:91.66666667%}.col-lg-offset-10{margin-left:83.33333333%}.col-lg-offset-9{margin-left:75%}.col-lg-offset-8{margin-left:66.66666667%}.col-lg-offset-7{margin-left:58.33333333%}.col-lg-offset-6{margin-left:50%}.col-lg-offset-5{margin-left:41.66666667%}.col-lg-offset-4{margin-left:33.33333333%}.col-lg-offset-3{margin-left:25%}.col-lg-offset-2{margin-left:16.66666667%}.col-lg-offset-1{margin-left:8.33333333%}.col-lg-offset-0{margin-left:0}}.clearfix:before,.clearfix:after,.container:before,.container:after,.container-fluid:before,.container-fluid:after,.row:before,.row:after{content:\" \";display:table}.clearfix:after,.container:after,.container-fluid:after,.row:after{clear:both}.center-block{display:block;margin-left:auto;margin-right:auto}.pull-right{float:right !important}.pull-left{float:left !important}.hide{display:none !important}.show{display:block !important}.invisible{visibility:hidden}.text-hide{font:0/0 a;color:transparent;text-shadow:none;background-color:transparent;border:0}.hidden{display:none !important}.affix{position:fixed}@-ms-viewport{width:device-width}.visible-xs,.visible-sm,.visible-md,.visible-lg{display:none !important}.visible-xs-block,.visible-xs-inline,.visible-xs-inline-block,.visible-sm-block,.visible-sm-inline,.visible-sm-inline-block,.visible-md-block,.visible-md-inline,.visible-md-inline-block,.visible-lg-block,.visible-lg-inline,.visible-lg-inline-block{display:none !important}@media (max-width:767px){.visible-xs{display:block !important}table.visible-xs{display:table}tr.visible-xs{display:table-row !important}th.visible-xs,td.visible-xs{display:table-cell !important}}@media (max-width:767px){.visible-xs-block{display:block !important}}@media (max-width:767px){.visible-xs-inline{display:inline !important}}@media (max-width:767px){.visible-xs-inline-block{display:inline-block !important}}@media (min-width:768px) and (max-width:991px){.visible-sm{display:block !important}table.visible-sm{display:table}tr.visible-sm{display:table-row !important}th.visible-sm,td.visible-sm{display:table-cell !important}}@media (min-width:768px) and (max-width:991px){.visible-sm-block{display:block !important}}@media (min-width:768px) and (max-width:991px){.visible-sm-inline{display:inline !important}}@media (min-width:768px) and (max-width:991px){.visible-sm-inline-block{display:inline-block !important}}@media (min-width:992px) and (max-width:1199px){.visible-md{display:block !important}table.visible-md{display:table}tr.visible-md{display:table-row !important}th.visible-md,td.visible-md{display:table-cell !important}}@media (min-width:992px) and (max-width:1199px){.visible-md-block{display:block !important}}@media (min-width:992px) and (max-width:1199px){.visible-md-inline{display:inline !important}}@media (min-width:992px) and (max-width:1199px){.visible-md-inline-block{display:inline-block !important}}@media (min-width:1200px){.visible-lg{display:block !important}table.visible-lg{display:table}tr.visible-lg{display:table-row !important}th.visible-lg,td.visible-lg{display:table-cell !important}}@media (min-width:1200px){.visible-lg-block{display:block !important}}@media (min-width:1200px){.visible-lg-inline{display:inline !important}}@media (min-width:1200px){.visible-lg-inline-block{display:inline-block !important}}@media (max-width:767px){.hidden-xs{display:none !important}}@media (min-width:768px) and (max-width:991px){.hidden-sm{display:none !important}}@media (min-width:992px) and (max-width:1199px){.hidden-md{display:none !important}}@media (min-width:1200px){.hidden-lg{display:none !important}}.visible-print{display:none !important}@media print{.visible-print{display:block !important}table.visible-print{display:table}tr.visible-print{display:table-row !important}th.visible-print,td.visible-print{display:table-cell !important}}.visible-print-block{display:none !important}@media print{.visible-print-block{display:block !important}}.visible-print-inline{display:none !important}@media print{.visible-print-inline{display:inline !important}}.visible-print-inline-block{display:none !important}@media print{.visible-print-inline-block{display:inline-block !important}}@media print{.hidden-print{display:none !important}}</style>\\n<link rel=\"stylesheet\" type=\"text/css\" href=\"/js/styles.css?v=v12\" />     \\n<style>.x92, .x93Ajax, .tipsy {-webkit-transition: all 0s ease;-moz-transition: all 0s ease;-o-transition: all 0s ease;-ms-transition: all 0s ease;transition: all 0s ease;} a, img { outline: none!important; }</style>\\n<meta http-equiv=\"X-UA-Compatible\" content=\"IE=edge\">\\n<meta name=\"viewport\" content=\"width=device-width, initial-scale=1, maximum-scale=1\">\\n<link rel=\"shortcut icon\" href=\"/images/favicon.ico\" type=\"image/x-icon\">\\n\\n</head>\\n<body class=\"x13PBody \">\\n<div class=\"tgx-rlf\" data-rlf-id=\"12455\" data-rlf-auto=\"1\" data-rlf-flt=\"1\" data-rlf-dock=\"0\" data-rlf-align=\"rb\" data-rlf-min-time=\"60\" data-rlf-fw=\"420\"></div>\\n<div id=\"TopPanel\" > \\n<div class=\"x92 no_select\">\\n<div class=\"container2\">\\n    <div class=\"x93Ajax visible-lg\" style=\"display: none\">    \\n      <div class=\"x93 MNClickA1\"> \\n            <div class=\"col-md-4\"><a href=\"/poetrylist.php\">Стихи за сегодня</a></div>             \\n            <div class=\"col-md-4\"><a href=\"/stihi.php\">Все стихи</a></div> \\n            <div class=\"col-md-4\"><a href=\"/poetrylist-best.php\" style=\"color:#9c6728\">Рекомендованные новые стихи</a></div> \\n            <div class=\"col-md-4\"><a href=\"/stihi/92/\">Акростихи</a></div>            \\n            <div class=\"col-md-4\"><a href=\"/stihi/2/\">Афоризмы</a></div>\\n            <div class=\"col-md-4\"><a href=\"/stihi/3/\">Баллады</a></div>\\n            <div class=\"col-md-4\"><a href=\"/stihi/4/\">Басни</a></div>\\n            <div class=\"col-md-4\"><a href=\"/stihi/5/\">Белый и вольный стих</a></div>\\n            <div class=\"col-md-4\"><a href=\"/stihi/6/\">Верлибр</a></div>\\n            <div class=\"col-md-4\"><a href=\"/stihi/97/\">Декадентская поэзия</a></div>\\n            <div class=\"col-md-4\"><a href=\"/stihi/8/\">Драмы в стихах</a></div>\\n            <div class=\"col-md-4\"><a href=\"/stihi/9/\">Иронические стихи</a></div>\\n            <div class=\"col-md-4\"><a href=\"/stihi/13/\">Исторические стихи</a></div>\\n            <div class=\"col-md-4\"><a href=\"/stihi/11/\">Лирика городская</a></div>\\n            <div class=\"col-md-4\"><a href=\"/stihi/12/\">Лирика гражданская</a></div>\\n            <div class=\"col-md-4\"><a href=\"/stihi/14/\">Лирика любовная</a></div>\\n            <div class=\"col-md-4\"><a href=\"/stihi/15/\">Лирика пейзажная</a></div>\\n            <div class=\"col-md-4\"><a href=\"/stihi/16/\">Лирика религиозная</a></div>\\n            <div class=\"col-md-4\"><a href=\"/stihi/17/\">Лирика философская</a></div>\\n            <div class=\"col-md-4\"><a href=\"/stihi/19/\">Матерные стихи</a></div>\\n            <div class=\"col-md-4\"><a href=\"/stihi/20/\">Мир души</a></div>\\n            <div class=\"col-md-4\"><a href=\"/stihi/96/\">Мистическая поэзия</a></div>\\n            <div class=\"col-md-4\"><a href=\"/stihi/24/\">Подражания и пародии</a></div>\\n            <div class=\"col-md-4\"><a href=\"/stihi/23/\">Поэмы и циклы стихов</a></div>\\n            <div class=\"col-md-4\"><a href=\"/stihi/27/\">Поэтические манифесты</a></div>\\n            <div class=\"col-md-4\"><a href=\"/stihi/25/\">Поэтические переводы</a></div>\\n            <div class=\"col-md-4\"><a href=\"/stihi/26/\">Прозаические миниатюры</a></div>\\n            <div class=\"col-md-4\"><a href=\"/stihi/28/\">Сатирические стихи</a></div>\\n            <div class=\"col-md-4\"><a href=\"/stihi/33/\">Стихи в прозе</a></div>\\n            <div class=\"col-md-4\"><a href=\"/stihi/30/\">Стихи для детей</a></div>\\n            <div class=\"col-md-4\"><a href=\"/stihi/134/\">Стихи известных поэтов</a></div>\\n            <div class=\"col-md-4\"><a href=\"/stihi/32/\">Стихи на иностранных языках</a></div>\\n            <div class=\"col-md-4\"><a href=\"/stihi/10/\">Стихи о войне</a></div>\\n            <div class=\"col-md-4\"><a href=\"/stihi/135/\">Стихи с видео (авторские)</a></div>\\n            <div class=\"col-md-4\"><a href=\"/stihi/31/\">Стихи, не вошедшие в рубрики</a></div>\\n            <div class=\"col-md-4\"><a href=\"/stihi/34/\">Твердые формы</a></div>\\n            <div class=\"col-md-4\"><a href=\"/stihi/133/\">Художественное чтение стихов</a></div>\\n            <div class=\"col-md-4\"><a href=\"/stihi/35/\">Частушки</a></div>\\n            <div class=\"col-md-4\"><a href=\"/stihi/36/\">Шуточные стихи</a></div>\\n            <div class=\"col-md-4\"><a href=\"/stihi/37/\">Эзотерические стихи</a></div>\\n            <div class=\"col-md-4\"><a href=\"/stihi/38/\">Экспериментальная поэзия</a></div>\\n            <div class=\"col-md-4\"><a href=\"/stihi/39/\">Эпиграммы</a></div>\\n            <div class=\"col-md-4\"><a href=\"/stihi/18/\">Эротические стихи</a></div>\\n            <div class=\"col-md-4\"><a href=\"/stihi/40/\">Юмористические стихи</a></div>\\n                  <div class=\"clearfix\"></div>\\n      </div>\\n      <div class=\"x93 MNClickA2\"> \\n        <div class=\"col-md-4\"><a href=\"/proselist.php\">Проза за сегодня</a></div>       \\n        <div class=\"col-md-4\"><a href=\"/prose.php\">Вся проза</a></div>      \\n        <div class=\"col-md-4\"><a href=\"/prose/41/\">Антиутопия</a></div>\\n        <div class=\"col-md-4\"><a href=\"/prose/119/\">Байки</a></div>\\n        <div class=\"col-md-4\"><a href=\"/prose/42/\">Быль</a></div>\\n        <div class=\"col-md-4\"><a href=\"/prose/43/\">Детектив</a></div>\\n        <div class=\"col-md-4\"><a href=\"/prose/44/\">Детская литература</a></div>\\n        <div class=\"col-md-4\"><a href=\"/prose/76/\">Другое</a></div>\\n        <div class=\"col-md-4\"><a href=\"/prose/45/\">Исторический роман</a></div>\\n        <div class=\"col-md-4\"><a href=\"/prose/46/\">История</a></div>\\n        <div class=\"col-md-4\"><a href=\"/prose/110/\">Киберпанк</a></div>\\n        <div class=\"col-md-4\"><a href=\"/prose/109/\">Контркультура</a></div>\\n        <div class=\"col-md-4\"><a href=\"/prose/47/\">Любовная литература</a></div>\\n        <div class=\"col-md-4\"><a href=\"/prose/48/\">Мемуары</a></div>\\n        <div class=\"col-md-4\"><a href=\"/prose/50/\">Миниатюра</a></div>\\n        <div class=\"col-md-4\"><a href=\"/prose/49/\">Мистика</a></div>\\n        <div class=\"col-md-4\"><a href=\"/prose/108/\">Новеллы</a></div>\\n        <div class=\"col-md-4\"><a href=\"/prose/51/\">Остросюжетная литература</a></div>\\n        <div class=\"col-md-4\"><a href=\"/prose/52/\">Очерк</a></div>\\n        <div class=\"col-md-4\"><a href=\"/prose/54/\">Письмо</a></div>\\n        <div class=\"col-md-4\"><a href=\"/prose/55/\">Повесть</a></div>\\n        <div class=\"col-md-4\"><a href=\"/prose/56/\">Поэма</a></div>\\n        <div class=\"col-md-4\"><a href=\"/prose/53/\">Приключения</a></div>\\n        <div class=\"col-md-4\"><a href=\"/prose/58/\">Психоделическая литература</a></div>\\n        <div class=\"col-md-4\"><a href=\"/prose/59/\">Психологический роман</a></div>\\n        <div class=\"col-md-4\"><a href=\"/prose/93/\">Психология</a></div>\\n        <div class=\"col-md-4\"><a href=\"/prose/57/\">Пьеса</a></div>\\n        <div class=\"col-md-4\"><a href=\"/prose/61/\">Рассказ</a></div>\\n        <div class=\"col-md-4\"><a href=\"/prose/60/\">Роман</a></div>\\n        <div class=\"col-md-4\"><a href=\"/prose/62/\">Сатира</a></div>\\n        <div class=\"col-md-4\"><a href=\"/prose/63/\">Сказка</a></div>\\n        <div class=\"col-md-4\"><a href=\"/prose/64/\">Статья</a></div>\\n        <div class=\"col-md-4\"><a href=\"/prose/65/\">Триллер</a></div>\\n        <div class=\"col-md-4\"><a href=\"/prose/66/\">Ужасы</a></div>\\n        <div class=\"col-md-4\"><a href=\"/prose/67/\">Утопия</a></div>\\n        <div class=\"col-md-4\"><a href=\"/prose/68/\">Фантастика</a></div>\\n        <div class=\"col-md-4\"><a href=\"/prose/136/\">Фанфики</a></div>\\n        <div class=\"col-md-4\"><a href=\"/prose/69/\">Фельетон</a></div>\\n        <div class=\"col-md-4\"><a href=\"/prose/70/\">Фэнтези</a></div>\\n        <div class=\"col-md-4\"><a href=\"/prose/137/\">Художественные переводы</a></div>\\n        <div class=\"col-md-4\"><a href=\"/prose/138/\">Школьная литература</a></div>\\n        <div class=\"col-md-4\"><a href=\"/prose/72/\">Эзотерика</a></div>\\n        <div class=\"col-md-4\"><a href=\"/prose/73/\">Эпос</a></div>\\n        <div class=\"col-md-4\"><a href=\"/prose/74/\">Эротика</a></div>\\n        <div class=\"col-md-4\"><a href=\"/prose/71/\">Эссе</a></div>\\n        <div class=\"col-md-4\"><a href=\"/prose/75/\">Юмор</a></div>\\n                  <div class=\"clearfix\"></div>\\n      </div>\\n      <div class=\"x93 MNClickA3\"> \\n        <div class=\"col-md-4\"><a href=\"/other.php\">Все произведения</a></div>      \\n        <div class=\"col-md-4\"><a href=\"/other/77/\">Анекдот</a></div>\\n        <div class=\"col-md-4\"><a href=\"/other/78/\">Афоризм</a></div>\\n        <div class=\"col-md-4\"><a href=\"/other/99/\">Декламация</a></div>\\n        <div class=\"col-md-4\"><a href=\"/other/79/\">Драматургия</a></div>\\n        <div class=\"col-md-4\"><a href=\"/other/80/\">Интервью</a></div>\\n        <div class=\"col-md-4\"><a href=\"/other/84/\">Комикс</a></div>\\n        <div class=\"col-md-4\"><a href=\"/other/85/\">Критика</a></div>\\n        <div class=\"col-md-4\"><a href=\"/other/95/\">Легенда</a></div>\\n        <div class=\"col-md-4\"><a href=\"/other/81/\">Литературная критика</a></div>\\n        <div class=\"col-md-4\"><a href=\"/other/82/\">Литературоведение</a></div>\\n        <div class=\"col-md-4\"><a href=\"/other/83/\">Научная литература</a></div>\\n        <div class=\"col-md-4\"><a href=\"/other/87/\">Политика</a></div>\\n        <div class=\"col-md-4\"><a href=\"/other/86/\">Публицистика</a></div>\\n        <div class=\"col-md-4\"><a href=\"/other/88/\">Репортаж</a></div>\\n        <div class=\"col-md-4\"><a href=\"/other/89/\">Сценарий</a></div>\\n        <div class=\"col-md-4\"><a href=\"/other/90/\">Техническая литература</a></div>\\n        <div class=\"col-md-4\"><a href=\"/other/94/\">Тосты</a></div>\\n        <div class=\"col-md-4\"><a href=\"/other/91/\">Философия</a></div>      \\n                  <div class=\"clearfix\"></div>\\n      </div>\\n      <div class=\"x93 MNClickA4\"> \\n          <div class=\"col-md-12\"><a href=\"/contest.php\">Конкурсы от редакции сайта</a></div>\\n          <div class=\"col-md-12\"><a href=\"/users/contest/\">Конкурсы от \"КЛиК\"</a></div>\\n          <div class=\"col-md-12\"><a href=\"/users/cup.izba/\">Ежегодный кубок в \"Избе Читальне\"</a></div>\\n          <div class=\"col-md-12\"><a href=\"/forum.php?t=13\">Конкурсы на форуме</a></div>\\n          <div class=\"clearfix\"></div>\\n      </div>\\n      <div class=\"x93 MNClickA5\"> \\n          <div class=\"col-md-12\"><a href=\"/board/\">Отзывы и рецензии к произведениям</a></div>\\n          <div class=\"col-md-12\"><a href=\"/reviews_stihi/\">Рецензии на стихи и песни</a></div>\\n          <div class=\"col-md-12\"><a href=\"/reviews_proza/\">Рецензии на прозу</a></div>\\n          <div class=\"col-md-12\"><a href=\"/reviews-best.php\">Отзывы и рецензии к книгам</a></div>\\n          <div class=\"col-md-12\"><a href=\"/books.php\">Все книги России и мира</a></div>\\n          <div class=\"clearfix\"></div>\\n      </div>\\n      <div class=\"x93 MNClickA6\"> \\n          <div class=\"col-md-6\"><a href=\"/authors.php\">Все авторы</a></div>\\n          <div class=\"col-md-6\"><a href=\"/authors.php?st=11\">ТОП поэтов</a></div>\\n          <div class=\"col-md-6\"><a href=\"/decade.php\">Авторы месяца</a></div>\\n          <div class=\"col-md-6\"><a href=\"/users/interview/\">Интервью с авторами Избы-Читальни</a></div>\\n          <div class=\"col-md-6\"><a href=\"/authors.php?st=9\">ТОП бардов</a></div>\\n          <div class=\"col-md-6\"><a href=\"/best.php\">Рекомендованные авторы</a></div>\\n          <div class=\"col-md-6\"><a href=\"/authors.php?st=10\">ТОП прозаиков</a></div>\\n          <div class=\"col-md-6\"><a href=\"/authors.php?st=15\">Молодые перспективные авторы</a></div>          \\n          <div class=\"col-md-6\"><a href=\"/authors.php?st=12\">ТОП стихи и проза</a></div>\\n          <div class=\"col-md-6\"><a href=\"/authors.php?st=4\">Популярные авторы</a></div>\\n          <div class=\"col-md-6\"><a href=\"/authors.php?st=13\">Страницы памяти</a></div>\\n          <div class=\"col-md-6\"><a href=\"/authors.php?st=14\">Сегодня День Рождения у авторов</a></div>\\n\\n          <div class=\"col-md-6\"><a href=\"/authors.php?st=19\">ТОП-плейкастов</a></div>\\n                    <div class=\"clearfix\"></div>\\n      </div>\\n      <div class=\"x93 MNClickA7\"> \\n          <div class=\"col-md-6\"><a href=\"/users/leksey/\">Клуб литераторов и критиков</a></div>\\n          <div class=\"col-md-6\"><a href=\"/users/contest/\">Конкурсы КЛиК</a></div>\\n          <div class=\"col-md-6\"><a href=\"/public_list.php\">Редакторские анонсы (стихи)</a></div>\\n          <div class=\"col-md-6\"><a href=\"/video.php\">Видео</a></div>\\n          <div class=\"col-md-6\"><a href=\"/public_prose_list.php\">Редакторские анонсы (проза)</a></div>\\n          <div class=\"col-md-6\"><a href=\"/playcast.php\">Плэйкасты</a></div>     \\n          <div class=\"col-md-6\"><a href=\"/public_audio_list.php\">Редакторские анонсы (песни)</a></div>                            \\n          <div class=\"col-md-6\"><a href=\"/international.php\">Фонд Игоря Царёва</a></div>\\n          <div class=\"col-md-6\"><a href=\"/photoalbum.php\">Фотоальбомы</a></div>\\n          <div class=\"col-md-6\"><a href=\"/vs.php\">Вечерние стихи с Избой-Читальней</a></div>   \\n          <div class=\"col-md-6\"><a href=\"/blogs.php\">Блоги и дневники</a></div>\\n          <div class=\"col-md-6\"><a href=\"/users/larina/\">Музыкальный Чемодан</a></div>   \\n                    <div class=\"col-md-6\"><a href=\"/about.php\">О нас</a></div>\\n          <div class=\"col-md-6\"><a href=\"/regional.php\">Общероссийское движение</a></div>\\n          <div class=\"col-md-6\"><a href=\"/redaction.php\">Редакция сайта</a></div>\\n          <div class=\"col-md-6\"><a href=\"/federation.php\">О судьбе России</a></div>\\n          <div class=\"col-md-6\"><a href=\"/send.php\">Контакты</a></div>\\n                    <div class=\"col-md-6\"><a href=\"/search.php\">Поиск по сайту</a></div>\\n          <div class=\"col-md-6\"><a href=\"/shops.php\">Книжная полка</a></div>\\n          <div class=\"col-md-6\"><a href=\"/journal.php\">Книги и журналы</a></div>        \\n          <div class=\"col-md-6\"><a href=\"/radio/\">Радио «Изба-Читальня»</a></div>   \\n                    <div class=\"clearfix\"></div>\\n      </div>\\n      <div class=\"x93 MNClickA8\"> \\n          <div class=\"col-md-12\"><a href=\"javascript:void(null)\" class=\"LookForums\" >Все темы форума</a></div>\\n          <div class=\"col-md-12\"><a href=\"javascript:void(null)\" class=\"LookForums\" >Общение на разные темы</a></div>\\n          <div class=\"col-md-12\"><a href=\"javascript:void(null)\" class=\"LookForums\" >Творческая мастерская</a></div>   \\n          <div class=\"col-md-12\"><a href=\"javascript:void(null)\" class=\"LookForums\" >Общение литературного характера</a></div>\\n          <div class=\"col-md-12\"><a href=\"javascript:void(null)\" class=\"LookForums\" >Идеология и мировоззрение</a></div>\\n          <div class=\"col-md-12\"><a href=\"javascript:void(null)\" class=\"LookForums\" >Всё о человеке. Гуманитарные науки</a></div>\\n          <div class=\"col-md-12\"><a href=\"javascript:void(null)\" class=\"LookForums\" >На завалинке</a></div>                \\n          <div class=\"col-md-12\"><a href=\"javascript:void(null)\" class=\"LookForums\" >Политика</a></div>\\n          <div class=\"col-md-12\"><a href=\"javascript:void(null)\" class=\"LookForums\" >Шутка юмора</a></div>\\n          <div class=\"col-md-12\"><a href=\"javascript:void(null)\" class=\"LookForums\" >О кино</a></div>\\n          <div class=\"col-md-12\"><a href=\"javascript:void(null)\" class=\"LookForums\" >Поэтические дуэли и состязания</a></div>\\n          <div class=\"col-md-12\"><a href=\"javascript:void(null)\" class=\"LookForums\" >Конкурсы на форуме</a></div>\\n          <div class=\"col-md-12\"><a href=\"javascript:void(null)\" class=\"LookForums\" >Работа сайта</a></div>\\n          <div class=\"clearfix\"></div>\\n      </div>  \\n      <div class=\"x93 MNClickA9\">     \\n        <div class=\"col-md-4\"><a href=\"/audiolist.php\">Все песни</a></div>\\n        <div class=\"col-md-4\"><a href=\"/audio/1/\">Авторская песня</a></div>\\n        <div class=\"col-md-4\"><a href=\"/audio/120/\">Армейские песни</a></div>\\n        <div class=\"col-md-4\"><a href=\"/audio/7/\">Блатные песни</a></div>\\n        <div class=\"col-md-4\"><a href=\"/audio/121/\">Вокал</a></div>\\n        <div class=\"col-md-4\"><a href=\"/audio/131/\">Джаз, блюз</a></div>\\n        <div class=\"col-md-4\"><a href=\"/audio/122/\">Известные хиты (кавер)</a></div>\\n        <div class=\"col-md-4\"><a href=\"/audio/132/\">Кантри</a></div>\\n        <div class=\"col-md-4\"><a href=\"/audio/98/\">Переводы песен</a></div>\\n        <div class=\"col-md-4\"><a href=\"/audio/22/\">Переделки песен</a></div>\\n        <div class=\"col-md-4\"><a href=\"/audio/21/\">Песни (разное)</a></div>\\n        <div class=\"col-md-4\"><a href=\"/audio/124/\">Песни с видео</a></div>\\n        <div class=\"col-md-4\"><a href=\"/audio/125/\">Поп-музыка</a></div>\\n        <div class=\"col-md-4\"><a href=\"/audio/123/\">Рок</a></div>\\n        <div class=\"col-md-4\"><a href=\"/audio/130/\">Романсы</a></div>\\n        <div class=\"col-md-4\"><a href=\"/audio/100/\">Рэп</a></div>\\n        <div class=\"col-md-4\"><a href=\"/audio/126/\">Тексты песен</a></div>\\n        <div class=\"col-md-4\"><a href=\"/audio/127/\">Фольклор</a></div>\\n        <div class=\"col-md-4\"><a href=\"/audio/128/\">Шансон</a></div>\\n        <div class=\"col-md-4\"><a href=\"/audio/129/\">Экспериментальная</a></div>\\n                  <div class=\"clearfix\"></div>\\n      </div>\\n  </div>\\n    <div class=\"hidden-lg x99\"> \\n   <nav class=\"maian_mnu clearfix\">\\n              <div class=\"x12 clearfix\">\\n                <ul>\\n                  <li><a href=\"/other.php\">Разное</a></li>\\n                                    <li><a href=\"/playcast.php\">Плейкасты</a></li>\\n                  <li><a href=\"/contest.php\">Конкурсы</a><li>\\n                  <li><a href=\"/board/\">Отзывы</a><li>\\n                  <li><a href=\"/reviews-best.php\">Отзывы к книгам</a></li>\\n                  <li><a href=\"/video.php\">Видео</a></li>\\n                  <li><a href=\"/authors.php?st=11\">ТОП поэтов</a></li>\\n                  <li><a href=\"/authors.php?st=9\">ТОП бардов</a></li>\\n                  <li><a href=\"/authors.php?st=10\">ТОП прозаиков</a></li>\\n                  <li class=\"visible-xs\"><a href=\"/forum.php\">Форум</a></li>\\n\\n                  <li style=\"background-color: #CDB9AE;\"><a style=\"color:#221B11;\" href=\"/redaction.php\">Редакция сайта</a></li>\\n                  <li style=\"background-color: #CDB9AE;\"><a style=\"color:#221B11;\" href=\"/send.php\">Контакты</a></li>\\n                  <li style=\"background-color: #CDB9AE;\"><a style=\"color:#221B11;\" href=\"/forum.php?t=2\">Творческая мастерская</a></li>\\n                  <li style=\"background-color: #CDB9AE;\"><a style=\"color:#221B11;\" href=\"/public_list.php\">Редакторские анонсы</a></li>\\n                  <li style=\"background-color: #CDB9AE;\"><a style=\"color:#221B11;\" href=\"/radio/\">Радио “Изба-Читальня”</a></li>\\n                  <li style=\"background-color: #CDB9AE;\"><a style=\"color:#221B11;\" href=\"/decade.php\">Авторы месяца</a></li>\\n                  <li style=\"background-color: #CDB9AE;\"><a style=\"color:#221B11;\" href=\"/authors.php?st=15\">Молодые перспективные авторы</a></li>\\n                  <li style=\"background-color: #CDB9AE;\"><a style=\"color:#221B11;\" href=\"/authors.php?st=14\">Сегодня День Рождения у авторов</a></li>\\n                  <li style=\"background-color: #CDB9AE;\"><a style=\"color:#221B11;\" href=\"/search.php\">Поиск по сайту</a></li>\\n                  <li style=\"background-color: #CDB9AE;\"><a style=\"color:#221B11;\" href=\"/authors.php?st=13\">Страницы памяти</a></li>\\n                  <li style=\"background-color: #CDB9AE;\"><a style=\"color:#221B11;\" href=\"/about.php\">О нас</a></li>\\n                </ul>\\n              </div>\\n  </nav>\\n  </div>\\n\\n  <div class=\"col-xs-12 col-md-2 col-lg-2 x1x x94\">\\n               <a href=\"/\"><img src=\"/images/logo_2019.png\" alt=\"\" onmouseover=\"this.src=\\'/images/logo_2019A.png\\'\" onmouseout=\"this.src=\\'/images/logo_2019.png\\'\"></a>\\n   <div class=\"clearfix\"></div>\\n  </div>\\n\\n  <div class=\"col-xs-12 col-md-5 col-lg-8 x1x x95\">\\n    <div class=\"x91 visible-lg MNClick\" data-id=\"1\">Стихи</div>\\n    <div class=\"x91 visible-lg MNClick\" data-id=\"2\">Проза</div>  \\n    <a href=\"/stihi.php\" class=\"none hidden-lg\"><div class=\"x91A x91ABg\">Стихи</div></a>\\n    <a href=\"/prose.php\" class=\"none hidden-lg\"><div class=\"x91A x91ABg\">Проза</div></a>\\n    <a href=\"/poetry_audio.php\" class=\"none hidden-lg\"><div class=\"x91A x91ABg\">Песни</div></a>\\n    <a href=\"/other.php\" class=\"none hidden-lg\"><div class=\"x91A x91ABg x91ABgHide\">Разное</div></a>\\n    <a href=\"/authors.php\" class=\"none hidden-lg\"><div class=\"x91A x91ABg\">Авторы</div></a>\\n    <a href=\"/forum.php\" class=\"none hidden-lg\"><div class=\"x91A x91ABg x91ABgHide2\">Форум</div></a>  \\n      <div class=\"x91B hidden-lg\"><img src=\"/images/menu_plx.gif\" alt=\"\"></div>\\n      <div class=\"x91 visible-lg MNClick\" data-id=\"3\">Разное</div>      \\n      <div class=\"x91 visible-lg MNClick\"  data-id=\"9\">Песни</div> \\n      <div class=\"x91 visible-lg MNClick\"  data-id=\"8\">Форум</div>\\n      <div class=\"x91 visible-lg MNClick\"  data-id=\"5\">Отзывы</div>\\n      <div class=\"x91 visible-lg MNClick\"  data-id=\"4\">Конкурсы</div>\\n            <div class=\"x91 visible-lg MNClick\" data-id=\"6\">Авторы</div>\\n      <div class=\"x91 visible-lg MNClick\"  data-id=\"7\">Литпортал</div>\\n      <div class=\"clearfix\"></div>\\n  </div>\\n\\n  <div class=\"col-xs-12 col-md-3 col-lg-2 x1x x96\">\\n                       <a href=\"/registration.php\" class=\"regs\">Регистрация</a>\\n              <a href=\"/enter.php\" class=\"enters\">Войти</a>\\n            </div>\\n<div class=\"clearfix\"></div>\\n</div>\\n</div>\\n<script type=\"text/javascript\" charset=\"utf-8\">\\nlet blocks = document.querySelectorAll( \".MNClick\" ); \\nfor( let i = 0; i < blocks.length; i++){ \\n  blocks[i].addEventListener(\"click\", function (event){ \\n    var MNClickA = \".MNClickA\" +  this.getAttribute(\\'data-id\\');  \\n        let blocksX93 = document.querySelectorAll(\".x93:not(\" + MNClickA + \")\"); \\n        for( let j = 0; j < blocksX93.length; j++){   \\n          blocksX93[j].style.display = \"none\"; \\n        }\\n        if (document.querySelector(MNClickA).style.display !== \"block\")  { \\n           document.querySelector(MNClickA).style.display = \"block\";\\n           document.querySelector(\".x13Plashka\").style.display = \"block\";\\n        } \\n        else  {  \\n           document.querySelector(MNClickA).style.display = \"none\";\\n           document.querySelector(\".x13Plashka\").style.display = \"none\";\\n        } \\n  });\\n} \\n</script>\\n<div class=\"x13Plashka\"></div>\\n<div class=\"x13P\">\\n<div class=\"x123 hidden-xs hidden-sm\">\\n  <div class=\"container2\"> \\n    <div class=\"col-md-12\" style=\"padding-left: 10px; padding-right: 10px;\"> \\n      <div class=\"x124\"><a href=\"/invitation.php\">Авторы приглашают</a></div>\\n      <div class=\"x125\">Рекомендуем:</div>\\n      <div class=\"x126\"><a href=\"/public_list.php\">СТИХИ</a></div>\\n      <div class=\"x126\"><a href=\"/public_prose_list.php\">ПРОЗА</a></div>\\n      <div class=\"x126\"><a href=\"/public_audio_list.php\">ПЕСНИ</a></div>\\n      <div class=\"x126T\">\\n        <form action=\"/search.php\" method=\"POST\">\\n          <div class=\"x124\" style=\"width: 100%;\"><input placeholder=\"Поиск автора по фамилии...\" type=\"text\" name=\"search\" value=\"\" style=\"width: 100%; font-size: 16px; height: 26px;\"></div>\\n          <div class=\"x124T\"><input type=\"image\" src=\"/images/lupa.gif\"></div>\\n          <input type=\"hidden\" name=\"radio\" value=\"s2\">\\n        </form>\\n        <div class=\"clearfix\"></div>    \\n      </div>\\n    </div>\\n    <div class=\"clearfix\"></div>\\n  </div>\\n</div>\\n<div class=\"container2\">  \\n     \\n      <div class=\"row\">\\n      <div class=\"col-md-12 x1cls\"> \\n      <div >\\n      <div class=\"x109 hidden-xs hidden-sm\" style=\"top:-46px; left:64.4%;\"><a href=\"/radio/\" class=\"none\"><img src=\"/images/priem.jpg\" alt=\"\"></a></div>\\n      <div class=\"h1\"><h1>Ошибка 404</h1></div>\\nИзвините, такой страницы не существует...\\n      <div class=\"clearfix\"> <br></div>      \\n            <div class=\"x25\">\\n         <script src=\"https://yastatic.net/share2/share.js\" async></script>\\n         <div class=\"ya-share2\" data-curtain data-size=\"l\" data-services=\"vkontakte,facebook,odnoklassniki,moimir,twitter,viber,whatsapp\"></div>\\n      </div>\\n             \\n<div class=\"clearfix\"></div><br>\\n        <div class=\"clearfix\"></div>  \\n    \\n\\n            <div class=\"clearfix\"></div><div id=\"DescriptionBlock\">\\n</div><div class=\"clearfix\"></div>\\n      <div class=\"clearfix\"></div>  \\n<span id=\"spgrey\"><script type=\"text/javascript\">\\n<!--\\nvar _acic={dataProvider:10};(function(){var e=document.createElement(\"script\");e.type=\"text/javascript\";e.async=true;e.src=\"https://www.acint.net/aci.js\";var t=document.getElementsByTagName(\"script\")[0];t.parentNode.insertBefore(e,t)})()\\n//-->\\n</script> <br/></span>      </div>\\n      </div>\\n      </div> \\n      <div class=\"clearfix\"></div>    \\n      <footer id=\"footer\">\\n        <div class=\"row x4\"> \\n            <div class=\"col-md-6 x1cls\">\\n              <div class=\"x15 ft2\">\\n                 <div class=\"ft3\">© 2007-2023 Chitalnya.ru</div>\\n                 <div class=\"ft5\" style=\"font-weight: bold; color: #B02525;\">Рекламы будет меньше, если вы <a href=\"/registration.php\">авторизируетесь</a> на сайте.</div>                 <div class=\"ft4\">Входящий, знай, тебя здесь ждут свобода слова и уют!</div>\\n                 <div class=\"ft5\">\\n                 «Изба-Читальня» - литературный портал.<br>Включен в <noindex><a href=\"https://digital.gov.ru/ru/documents/7146/\" target=\"_blank\" rel=\"nofollow\">перечень социально значимых интернет-ресурсов России.</a></noindex>\\n                 <br><br>Отправляя любой текст через специальные формы на сайте, вы соглашаетесь с политикой конфиденциальности данного сайта. Все авторские права на произведения принадлежат их авторам и охраняются действующим законодательством. Перепечатка и копирование произведений возможны только с согласия их автора, к которому вы можете обратиться на его авторской странице. Ответственность за содержание произведений закреплена за их авторами на основании правил публикации и российского законодательства. При нарушении правил сайта и официального судебного запроса Администрация сайта предоставит все необходимые данные об авторе-нарушителе.</div>          \\n              </div>\\n            </div>\\n            <div class=\"col-md-3 col-md-push-3 x1cls\">\\n               <div class=\"x15 ft2\">\\n                <div class=\"ft1\"><a href=\"/forum.php?t=2\">Творческая мастерская</a></div>\\n                <div class=\"ft1\"><a href=\"/redaction.php\">Редакция сайта</a></div>                       \\n                <div class=\"ft1\"><a href=\"/decade.php\">Авторы декады</a></div>\\n                <div class=\"ft1\"><a href=\"/dogovor.php\">Пользовательское соглашение</a></div> \\n                <div class=\"ft1\"><a href=\"/prava.php\">Авторские права</a></div> \\n                <div class=\"ft1\"><a href=\"/holders.php\">Для правообладателей</a></div> \\n                <div class=\"ft1\"><a href=\"/users/alchou/\">Редакторская страница</a></div>           \\n               </div>\\n            </div>\\n            <div class=\"col-md-3 col-md-pull-3 x1cls\">\\n              <div class=\"x15 ft2\">\\n                <div class=\"ft1\"><a href=\"/about.php\">О нас</a></div>\\n                <div class=\"ft1\"><a href=\"/send.php\">Контакты</a></div>\\n                <div class=\"ft1\"><a href=\"/reclama.php\">Реклама</a></div>\\n                                <div class=\"clearfix\"></div>\\n                <a href=\"//vk.com/club77178317\" target=\"_blank\" rel=\"nofollow\"><img src=\"/images/soc1.gif\" height=\"20\" /></a>  \\n                <a href=\"//www.odnoklassniki.ru/group/52304442097751\" target=\"_blank\" rel=\"nofollow\"><img src=\"/images/soc3.gif\"  height=\"20\" /></a>  \\n                                <a href=\"https://zen.yandex.ru/izba\" target=\"_blank\" rel=\"nofollow\"><img src=\"/images/zen.jpg\" ></a> \\n                <div class=\"clearfix\"></div>\\n                  <noindex>\\n                    <!-- Rating@Mail.ru counter -->\\n                    <script type=\"text/javascript\">\\n                    var _tmr = window._tmr || (window._tmr = []);\\n                    _tmr.push({id: \"1419746\", type: \"pageView\", start: (new Date()).getTime()});\\n                    (function (d, w, id) {\\n                      if (d.getElementById(id)) return;\\n                      var ts = d.createElement(\"script\"); ts.type = \"text/javascript\"; ts.async = true; ts.id = id;\\n                      ts.src = (d.location.protocol == \"https:\" ? \"https:\" : \"http:\") + \"//top-fwz1.mail.ru/js/code.js\";\\n                      var f = function () {var s = d.getElementsByTagName(\"script\")[0]; s.parentNode.insertBefore(ts, s);};\\n                      if (w.opera == \"[object Opera]\") { d.addEventListener(\"DOMContentLoaded\", f, false); } else { f(); }\\n                    })(document, window, \"topmailru-code\");\\n                    </script><noscript><div style=\"position:absolute;left:-10000px;\"><img src=\"//top-fwz1.mail.ru/counter?id=1419746;js=na\" style=\"border:0;\" height=\"1\" width=\"1\" alt=\"Рейтинг@Mail.ru\" /></div></noscript>\\n                    <!-- //Rating@Mail.ru counter -->\\n                    <!-- Rating@Mail.ru logo -->\\n                    <a rel=\\'nofollow\\' href=\"http://top.mail.ru/jump?from=1419746\">\\n                    <img src=\"//top-fwz1.mail.ru/counter?id=1419746;t=487;l=1\" \\n                    style=\"border:0;\" height=\"31\" width=\"88\" alt=\"Рейтинг@Mail.ru\" /></a>\\n                    <!-- //Rating@Mail.ru logo -->\\n                    <!--LiveInternet counter--><a href=\"https://www.liveinternet.ru/click\"\\n                    target=\"_blank\"><img id=\"licnt2E8D\" width=\"88\" height=\"31\" style=\"border:0\" \\n                    title=\"LiveInternet: показано число просмотров за 24 часа, посетителей за 24 часа и за сегодня\"\\n                    src=\"data:image/gif;base64,R0lGODlhAQABAIAAAAAAAP///yH5BAEAAAEALAAAAAABAAEAAAIBTAA7\"\\n                    alt=\"\"/></a><script>(function(d,s){d.getElementById(\"licnt2E8D\").src=\\n                    \"https://counter.yadro.ru/hit?t11.2;r\"+escape(d.referrer)+\\n                    ((typeof(s)==\"undefined\")?\"\":\";s\"+s.width+\"*\"+s.height+\"*\"+\\n                    (s.colorDepth?s.colorDepth:s.pixelDepth))+\";u\"+escape(d.URL)+\\n                    \";h\"+escape(d.title.substring(0,150))+\";\"+Math.random()})\\n                    (document,screen)</script><!--/LiveInternet--> \\n\\n                    <!-- Yandex.Metrika counter --> <script type=\"text/javascript\" > (function(m,e,t,r,i,k,a){m[i]=m[i]||function(){(m[i].a=m[i].a||[]).push(arguments)}; m[i].l=1*new Date();k=e.createElement(t),a=e.getElementsByTagName(t)[0],k.async=1,k.src=r,a.parentNode.insertBefore(k,a)}) (window, document, \"script\", \"/js/downloadJs/tag.js\", \"ym\"); ym(1177251, \"init\", { clickmap:true, trackLinks:true, accurateTrackBounce:true }); </script> <noscript><div><img src=\"https://mc.yandex.ru/watch/1177251\" style=\"position:absolute; left:-9999px;\" alt=\"\" /></div></noscript> <!-- /Yandex.Metrika counter -->   \\n\\n                </noindex> \\n                <div class=\"clearfix\"></div>   \\n                                               \\n                <div class=\"x119 ft1\"><a href=\"/users/best-stihi-velikih-poetov/\">Cтихи великих русских поэтов</a></div>\\n              </div>\\n            </div>\\n        </div>\\n        <div class=\"clearfix\"></div>\\n      </footer>\\n</div>   \\n</div>\\n</div>\\n<div id=\"ViewerWrap\">\\n<div class=\"ViewerPage\">\\n<div class=\"WRL2\" onClick=\"ViewerWrap(\\'1\\');\"></div>\\n<table width=\"100%\" cellpadding=\"0\" cellspacing=\"0\" align=\"center\">\\n<tr><td class=\"WRL1 ViewerShow\"><b class=\"WRL3\" id=\"NameTops\"></b></td></tr>\\n<tr>\\n<td valign=\"top\" class=\"WRL4T\" id=\"editors\">\\n<div id=\"loading\"><div id=\"loading2\"></div></div>\\n<div id=\"ContentBlank\"></div>\\n</td>\\n</tr>\\n</table>\\n</div>\\n<div class=\"area1\"></div>\\n<div class=\"area2\" onClick=\"ViewerWrap(\\'2\\');\"></div>\\n</div>\\n<div id=\"ipcity\" style=\"border:0px; display: none\"></div>\\n<span id=\"NoAuthoritation\">1</span>\\n<div id=\"TopYScroll\" class=\"TopYScroll\"></div>\\n<script type=\"text/javascript\"  src=\"/js/jquery-1.9.1.min.js\"></script><script type=\"text/javascript\" src=\"/js/common.js?v=v7\"></script>\\n<script type=\"text/javascript\" src=\"/js/share42.js?v=3\"></script>\\n<script language=\"JavaScript\" type=\"text/javascript\">document.oncopy = AddCopy;</script>\\n<link rel=\"stylesheet\" href=\"/js/jquery.scrollbar/my_smails.css?v=1\" />\\n <script defer src=\"https://cdn.adlook.me/js/rlf.js\"></script>\\n <script defer src=\"https://cdn.adlook.me/js/vbf.js\"></script>\\n <script>\\n  setTimeout(function(){\\n                 (function(){\\n                       var s = document.createElement(\"script\");\\n                       s.type = \"text/javascript\";\\n                       s.async = true;\\n                       s.src = \"https://cdn.adlook.me/js/rlf.js\";\\n  document.body.appendChild(s);\\n                 })();\\n          }, 3000);\\n </script> \\n</body>\\n</html>'"
            ],
            "application/vnd.google.colaboratory.intrinsic+json": {
              "type": "string"
            }
          },
          "metadata": {},
          "execution_count": 77
        }
      ]
    },
    {
      "cell_type": "code",
      "source": [
        "soup = BeautifulSoup(r.text)"
      ],
      "metadata": {
        "id": "-EVZnyYwmVMW"
      },
      "execution_count": null,
      "outputs": []
    },
    {
      "cell_type": "code",
      "source": [
        "div=soup.find_all('div', {'class': 'col-md-9 x2'}) # взять данные из поля\n",
        "# div\n",
        "text = div[0].text\n",
        "text"
      ],
      "metadata": {
        "colab": {
          "base_uri": "https://localhost:8080/",
          "height": 88
        },
        "id": "__6oXez6maLF",
        "outputId": "cb1fda7a-9e3e-4803-b408-7af02b4ab1df"
      },
      "execution_count": null,
      "outputs": [
        {
          "output_type": "execute_result",
          "data": {
            "text/plain": [
              "'\\n\\xad\\xadГей, славяне!Егорий!Серпантином  дудочки  звук ,травы невинны,-соком, соками,зачатие  Божьей  Матери!Воздух дымкой  стелитьсяв потаенных  закромах  души,тревожа  первоначальный  образ.Начало  пасьбы,вербными,  на  поле,веточками ,освященными  ,скот выгоняют,пиво  ручьями,пироги, яичницу-пастухам,первая  кружка за ГеоргияХраброго,победителя басурман.Открываются  ворота торговли,срок сделкам  и наймам.-Налетай  народ! Продаю!Меняю! Меняю!Продаю!Сегодня  вельми помогаетроса,коли  телешком покататься ,нагим  искупаться.-Не  бранись  на  Егория- молния  убьет,-наставляют бабушки внучат.Народ  ублажаетГеоргия Победоносца,почитаемого в земле Русскойсвятого и крестится, глядяна  небо  !\\n\\n'"
            ],
            "application/vnd.google.colaboratory.intrinsic+json": {
              "type": "string"
            }
          },
          "metadata": {},
          "execution_count": 97
        }
      ]
    },
    {
      "cell_type": "code",
      "source": [
        "print(text)"
      ],
      "metadata": {
        "id": "h0gawUMRtoyh"
      },
      "execution_count": null,
      "outputs": []
    },
    {
      "cell_type": "code",
      "source": [
        "len(div)"
      ],
      "metadata": {
        "colab": {
          "base_uri": "https://localhost:8080/"
        },
        "id": "W04EHMkDnchj",
        "outputId": "cf334eec-e279-4ae7-f55b-de4c97526f5a"
      },
      "execution_count": null,
      "outputs": [
        {
          "output_type": "execute_result",
          "data": {
            "text/plain": [
              "1"
            ]
          },
          "metadata": {},
          "execution_count": 71
        }
      ]
    },
    {
      "cell_type": "code",
      "source": [
        "# Открываем файл в режиме записи\n",
        "with open(\"text_data.txt\", \"w\") as file:\n",
        "    # Записываем текст в файл\n",
        "    file.write(text)\n",
        "# Файл автоматически закрывается после выхода из блока with"
      ],
      "metadata": {
        "id": "l5OFKIG8qD3s"
      },
      "execution_count": null,
      "outputs": []
    },
    {
      "cell_type": "markdown",
      "source": [
        "#### Парсинг"
      ],
      "metadata": {
        "id": "7TZWu5TADayz"
      }
    },
    {
      "cell_type": "code",
      "source": [
        "# Открываем файл в режиме записи\n",
        "with open(\"text_data.txt\", \"w\") as file:\n",
        "  i = 0\n",
        "  while i != 1000:\n",
        "    number = randint(3500000,3650000)\n",
        "    url = 'https://www.chitalnya.ru/work/' + str(number) +'/'\n",
        "    r = requests.get(url) # вернуть разметку страницу по ссылке\n",
        "\n",
        "    soup = BeautifulSoup(r.text) # пред. обработка через BeautifulSoup\n",
        "    div=soup.find_all('div', {'class': 'col-md-9 x2'}) # взять данные из поля\n",
        "\n",
        "    try:\n",
        "      text = div[0].text\n",
        "    except IndexError:\n",
        "        continue\n",
        "\n",
        "    # Записываем текст в файл\n",
        "    file.write(text + '\\n')\n",
        "    i += 1\n",
        "\n",
        "    if i % 20 == 0:\n",
        "      print(f'Стихов записано в файл:{i}')\n",
        "# Файл автоматически закрывается после выхода из блока with"
      ],
      "metadata": {
        "colab": {
          "base_uri": "https://localhost:8080/"
        },
        "id": "1I9n2sBczHg1",
        "outputId": "36d24f06-e9b7-4d20-d859-1b373d48825b"
      },
      "execution_count": null,
      "outputs": [
        {
          "output_type": "stream",
          "name": "stdout",
          "text": [
            "Стихов записано в файл:20\n",
            "Стихов записано в файл:40\n",
            "Стихов записано в файл:60\n",
            "Стихов записано в файл:80\n",
            "Стихов записано в файл:100\n",
            "Стихов записано в файл:120\n",
            "Стихов записано в файл:140\n",
            "Стихов записано в файл:160\n",
            "Стихов записано в файл:180\n",
            "Стихов записано в файл:200\n",
            "Стихов записано в файл:220\n",
            "Стихов записано в файл:240\n",
            "Стихов записано в файл:260\n",
            "Стихов записано в файл:280\n",
            "Стихов записано в файл:300\n",
            "Стихов записано в файл:320\n",
            "Стихов записано в файл:340\n",
            "Стихов записано в файл:360\n",
            "Стихов записано в файл:380\n",
            "Стихов записано в файл:400\n",
            "Стихов записано в файл:420\n",
            "Стихов записано в файл:440\n",
            "Стихов записано в файл:460\n",
            "Стихов записано в файл:480\n",
            "Стихов записано в файл:500\n",
            "Стихов записано в файл:520\n",
            "Стихов записано в файл:540\n",
            "Стихов записано в файл:560\n",
            "Стихов записано в файл:580\n",
            "Стихов записано в файл:600\n",
            "Стихов записано в файл:620\n",
            "Стихов записано в файл:640\n",
            "Стихов записано в файл:660\n",
            "Стихов записано в файл:680\n",
            "Стихов записано в файл:700\n",
            "Стихов записано в файл:720\n",
            "Стихов записано в файл:740\n",
            "Стихов записано в файл:760\n",
            "Стихов записано в файл:780\n",
            "Стихов записано в файл:800\n",
            "Стихов записано в файл:820\n",
            "Стихов записано в файл:840\n",
            "Стихов записано в файл:860\n",
            "Стихов записано в файл:880\n",
            "Стихов записано в файл:900\n",
            "Стихов записано в файл:920\n",
            "Стихов записано в файл:940\n",
            "Стихов записано в файл:960\n",
            "Стихов записано в файл:980\n",
            "Стихов записано в файл:1000\n"
          ]
        }
      ]
    },
    {
      "cell_type": "markdown",
      "source": [
        "# Лабораторная работа №2. Предварительная обработка текста"
      ],
      "metadata": {
        "id": "8Uu1cYHvLB4X"
      }
    },
    {
      "cell_type": "markdown",
      "source": [
        "#### Загрузка выборки на английском языке (примеры на основе coco_image_captions)"
      ],
      "metadata": {
        "id": "rE3tas0LRfi6"
      }
    },
    {
      "cell_type": "code",
      "source": [
        "START_LETTER = 0 # номер начального слова (слово с которого начинаются все тексты, которое подается первым на нейронную сеть, чтобы указать начало предложения)\n",
        "MAX_SEQ_LEN = 20 # максимальная длина примеров\n",
        "VOCAB_SIZE = 4838 # размер словаря слов\n",
        "CLOSING_WORD = 1814 # слово конца предложения / слово заполнитель (вставляется в конец текста для заполнения текста до заданной длины)\n",
        "\n",
        "# (правда START_LETTER для английской не совпадает, поздно заметил)"
      ],
      "metadata": {
        "id": "JWUicbS-LOap"
      },
      "execution_count": null,
      "outputs": []
    },
    {
      "cell_type": "code",
      "source": [
        "# загрузка словаря\n",
        "import numpy as np\n",
        "import pickle\n",
        "\n",
        "vocab_file_path = '/content/drive/MyDrive/Набор данных/coco_image_captions/coco_image_captions_vocab_cotra_test.pkl'\n",
        "\n",
        "word, vocab = pickle.load(open(vocab_file_path, 'rb')) # загручаем данные из файла, используя модуль pickle;   rb (read binary) - в файле находятся бинарные данные"
      ],
      "metadata": {
        "id": "E85t_ebHR2Td"
      },
      "execution_count": null,
      "outputs": []
    },
    {
      "cell_type": "code",
      "source": [
        "word"
      ],
      "metadata": {
        "id": "Nm6BQA-PmcTO"
      },
      "execution_count": null,
      "outputs": []
    },
    {
      "cell_type": "code",
      "source": [
        "vocab"
      ],
      "metadata": {
        "id": "4NL_KuiPmjqR"
      },
      "execution_count": null,
      "outputs": []
    },
    {
      "cell_type": "code",
      "source": [
        "print('Пример первого слова из словаря:', word[0])\n",
        "print('Пример слова заполнителя (пробел):', word[1814])\n",
        "word[1814]"
      ],
      "metadata": {
        "colab": {
          "base_uri": "https://localhost:8080/",
          "height": 71
        },
        "id": "AM1UDGSkUAK4",
        "outputId": "9883feb6-4efa-4f0a-aae0-368006947973"
      },
      "execution_count": null,
      "outputs": [
        {
          "output_type": "stream",
          "name": "stdout",
          "text": [
            "Пример первого слова из словаря: raining\n",
            "Пример слова заполнителя (пробел):  \n"
          ]
        },
        {
          "output_type": "execute_result",
          "data": {
            "text/plain": [
              "' '"
            ],
            "application/vnd.google.colaboratory.intrinsic+json": {
              "type": "string"
            }
          },
          "metadata": {},
          "execution_count": 6
        }
      ]
    },
    {
      "cell_type": "code",
      "source": [
        "# загрузка обучающей выборки\n",
        "train_file_path = '/content/drive/MyDrive/Набор данных/coco_image_captions/coco_image_captions_train.txt'\n",
        "f = open(train_file_path, 'r')\n",
        "data_file_train = []\n",
        "for line in f:\n",
        "  line = line.replace('\\n', '')\n",
        "  line = line.split()\n",
        "  for i in range(len(line)):\n",
        "    line[i] = int(line[i])\n",
        "  data_file_train.append(line)\n",
        "data_file_train = np.array(data_file_train)[:, :MAX_SEQ_LEN]\n",
        "print(\"Примеров в обучающей выборке: \", len(data_file_train))"
      ],
      "metadata": {
        "colab": {
          "base_uri": "https://localhost:8080/"
        },
        "id": "b7q-Oi4rkbSC",
        "outputId": "12f82c3b-0334-4a42-9338-375ae65152e6"
      },
      "execution_count": null,
      "outputs": [
        {
          "output_type": "stream",
          "name": "stdout",
          "text": [
            "Примеров в обучающей выборке:  80000\n"
          ]
        }
      ]
    },
    {
      "cell_type": "code",
      "source": [
        "# загрузка тестовой выборки\n",
        "test_file = '/content/drive/MyDrive/Набор данных/coco_image_captions/coco_image_captions_test.txt'\n",
        "f = open(test_file, 'r')\n",
        "data_file_test = []\n",
        "for line in f:\n",
        "  line = line.replace('\\n', '')\n",
        "  line = line.split()\n",
        "  for i in range(len(line)):\n",
        "    line[i] = int(line[i])\n",
        "  data_file_test.append(line)\n",
        "data_file_test = np.array(data_file_test)[:, :MAX_SEQ_LEN]\n",
        "print(\"Примеров в тестовой выборке: \", len(data_file_test))"
      ],
      "metadata": {
        "colab": {
          "base_uri": "https://localhost:8080/"
        },
        "id": "MnksSG8OkeJh",
        "outputId": "bf4b5f17-bed6-4b6b-b7c0-6cfba5692037"
      },
      "execution_count": null,
      "outputs": [
        {
          "output_type": "stream",
          "name": "stdout",
          "text": [
            "Примеров в тестовой выборке:  5000\n"
          ]
        }
      ]
    },
    {
      "cell_type": "code",
      "source": [
        "# примеры из обучающей выборки\n",
        "print(\"Примеры из обучающей выборки\")\n",
        "batch_size = 50 # количество случайных примеров для вывода примеров\n",
        "\n",
        "samples = data_file_train[np.random.randint(0, len(data_file_train), batch_size)]\n",
        "output_function = []\n",
        "for samp in samples:\n",
        "  line = [word[x] for x in samp]\n",
        "  line = ' '.join(line)\n",
        "  output_function.append(line)\n",
        "\n",
        "for i, output in enumerate(output_function):\n",
        "  print(\"#\", i, \"\\tПример: \", output)"
      ],
      "metadata": {
        "colab": {
          "base_uri": "https://localhost:8080/"
        },
        "id": "acye5qBykg_c",
        "outputId": "86d3b6d7-e333-4fdb-aeaa-f90d4d6e3318"
      },
      "execution_count": null,
      "outputs": [
        {
          "output_type": "stream",
          "name": "stdout",
          "text": [
            "Примеры из обучающей выборки\n",
            "# 0 \tПример:  A lady flying a kite with a black dog nearby .                  \n",
            "# 1 \tПример:  A small family sitting on a bench on a grassy field surrounded by ducks .          \n",
            "# 2 \tПример:  Truck with off road vehicle in bed in front of trailer in driveway .            \n",
            "# 3 \tПример:  Several ducks standing in the grass next to a river .                  \n",
            "# 4 \tПример:  A cat that is curled up and laying on a bed .                \n",
            "# 5 \tПример:  A black and white photo of a young man doing a trick on a skateboard .        \n",
            "# 6 \tПример:  A very small girl flying a kite in a field .                  \n",
            "# 7 \tПример:  A couple of people that are sitting down on a table .                \n",
            "# 8 \tПример:  A person wearing a hat and glasses with a refrigerator behind them .              \n",
            "# 9 \tПример:  A young boy holding a donut with pink sprinkles on it .                \n",
            "# 10 \tПример:  A person that is riding on a brown colored horse , in a grass field with tall trees in the\n",
            "# 11 \tПример:  A doll table with tiny toy doll donuts arranged on the top of the table on tiny trays .  \n",
            "# 12 \tПример:  A giraffe standing in the middle of a grassy area .                  \n",
            "# 13 \tПример:  A giraffe in shrubbery and next to a barren tree .                  \n",
            "# 14 \tПример:  A little boy on a skateboard leaning against a rail .                  \n",
            "# 15 \tПример:  A plate of food that appears to be turkey and vegetables .                \n",
            "# 16 \tПример:  A woman in black jacket standing with skis next to a blue and white train .        \n",
            "# 17 \tПример:  A plate of food with an assortment of food on it .                \n",
            "# 18 \tПример:  A person is on a surf board riding a wave .                  \n",
            "# 19 \tПример:  A half bathroom with tile flooring and a toilet and vanity .                \n",
            "# 20 \tПример:  A baseball player is throwing a baseball on the field .                  \n",
            "# 21 \tПример:  A woman on a motorized scooter is holding an umbrella .                  \n",
            "# 22 \tПример:  A cut in half orange made to look like a face .                \n",
            "# 23 \tПример:  A green and white bus is on the street near an overpass .              \n",
            "# 24 \tПример:  A very large piece of pizza that has some bites taken out of it .          \n",
            "# 25 \tПример:  A bowl filled with oranges and apples sitting on a table top .              \n",
            "# 26 \tПример:  A dog sits in a car seat while wearing a harness .                \n",
            "# 27 \tПример:  A mirror in a bathroom that has the lights on .                  \n",
            "# 28 \tПример:  A fire place sitting in a living room under a mantel .                \n",
            "# 29 \tПример:  A heard of sheep are grazing behind their confined area .                  \n",
            "# 30 \tПример:  A man in a suit speaks to a camera , in an auditorium .            \n",
            "# 31 \tПример:  A family sitting at a table with two pizzas on it .                \n",
            "# 32 \tПример:  A girl is sitting on a couch with her laptop computer .                \n",
            "# 33 \tПример:  A woman walks down a rainy street holding an umbrella .                  \n",
            "# 34 \tПример:  A man holds up a piece of desert on a fork .                \n",
            "# 35 \tПример:  a train on a train track with a colorful advertisement on the sides of the train .      \n",
            "# 36 \tПример:  Some animals sleeping on the front porch without any food to eat .              \n",
            "# 37 \tПример:  A man wearing a red jacket and a gray hat smoking a cigarette .            \n",
            "# 38 \tПример:  Two women from the back , standing and playing a video game projected on wall , and three man sitting\n",
            "# 39 \tПример:  An airplane in the desert , getting ready for takeoff .                  \n",
            "# 40 \tПример:  A man and a woman sitting in the backseat as the woman talks on a cell phone .    \n",
            "# 41 \tПример:  A group of three men standing next to a green city bus .              \n",
            "# 42 \tПример:  A motorcyclist in a helmet rides near a parked cycle .                  \n",
            "# 43 \tПример:  A young boy sitting on top of a surfboard in a field .              \n",
            "# 44 \tПример:  A woman tries to brush her teeth with a huge tooth brush in a store .        \n",
            "# 45 \tПример:  A group of people are riding horses near the water on a bench .            \n",
            "# 46 \tПример:  A person is riding a horse inside an obstacle course .                  \n",
            "# 47 \tПример:  A couple of elephants standing in the middle of a forest .                \n",
            "# 48 \tПример:  A large group of people with some umbrellas on a street .                \n",
            "# 49 \tПример:  A bunch of signs that are on the sides of buildings .                \n"
          ]
        }
      ]
    },
    {
      "cell_type": "markdown",
      "source": [
        "#### Загрузка выборки на русском языке"
      ],
      "metadata": {
        "id": "18Tro260mzvL"
      }
    },
    {
      "cell_type": "code",
      "source": [
        "START_LETTER = 4999 # номер начального слова (слово с которого начинаются все тексты, которое подается первым на нейронную сеть, чтобы указать начало предложения)\n",
        "MAX_SEQ_LEN = 10 # максимальная длина примеров\n",
        "VOCAB_SIZE = 5000 # размер словаря слов\n",
        "CLOSING_WORD = 4997 # слово конца предложения / слово заполнитель (вставляется в конец текста для заполнения текста до заданной длины)"
      ],
      "metadata": {
        "id": "YrVeptBlnHpo"
      },
      "execution_count": 207,
      "outputs": []
    },
    {
      "cell_type": "code",
      "source": [
        "# загрузка словаря\n",
        "import numpy as np\n",
        "import pickle\n",
        "\n",
        "vocab_file_path = '/content/drive/MyDrive/Набор данных/stihi_ru/stihi_ru_vocab.pkl'\n",
        "word, vocab = pickle.load(open(vocab_file_path, 'rb'))"
      ],
      "metadata": {
        "id": "_Sl2eRNrnO26"
      },
      "execution_count": 208,
      "outputs": []
    },
    {
      "cell_type": "code",
      "source": [
        "print('Пример первого слова из словаря:', word[0])\n",
        "print('Пример стартового слова (_START_):', word[4999])\n",
        "print('Пример слова заполнителя (пробел):', word[4997])\n",
        "word[4997]"
      ],
      "metadata": {
        "id": "Jrk-WqwcnatJ",
        "colab": {
          "base_uri": "https://localhost:8080/",
          "height": 88
        },
        "outputId": "9355d13e-96b4-4981-958d-871af9faa353"
      },
      "execution_count": 209,
      "outputs": [
        {
          "output_type": "stream",
          "name": "stdout",
          "text": [
            "Пример первого слова из словаря: и\n",
            "Пример стартового слова (_START_): _START_\n",
            "Пример слова заполнителя (пробел): \n"
          ]
        },
        {
          "output_type": "execute_result",
          "data": {
            "text/plain": [
              "''"
            ],
            "application/vnd.google.colaboratory.intrinsic+json": {
              "type": "string"
            }
          },
          "metadata": {},
          "execution_count": 209
        }
      ]
    },
    {
      "cell_type": "code",
      "source": [
        "len(word)"
      ],
      "metadata": {
        "colab": {
          "base_uri": "https://localhost:8080/"
        },
        "id": "RsX9Jy3PIwFt",
        "outputId": "4a10c3ac-8571-494a-a3d4-b7b38329f108"
      },
      "execution_count": 160,
      "outputs": [
        {
          "output_type": "execute_result",
          "data": {
            "text/plain": [
              "5000"
            ]
          },
          "metadata": {},
          "execution_count": 160
        }
      ]
    },
    {
      "cell_type": "code",
      "source": [
        "print(word)"
      ],
      "metadata": {
        "colab": {
          "base_uri": "https://localhost:8080/"
        },
        "id": "kiTULATSL0Wv",
        "outputId": "f0396b5e-a38e-4ef1-ba71-ac34e7daf5c3"
      },
      "execution_count": 49,
      "outputs": [
        {
          "output_type": "stream",
          "name": "stdout",
          "text": [
            "['и', 'в', 'не', 'я', 'на', 'что', 'с', 'как', 'ты', 'а', 'но', 'мне', 'то', 'все', 'за', 'мы', 'так', 'по', 'от', 'к', 'он', 'это', 'тебя', 'меня', 'всё', 'у', 'о', 'из', 'же', 'когда', 'только', 'лишь', 'кто', 'где', 'нет', 'для', 'бы', 'тебе', 'без', 'его', 'до', 'нам', 'жизнь', 'она', 'нас', 'ведь', 'вот', 'жизни', 'ни', 'их', 'быть', 'уже', 'если', 'чтоб', 'любовь', 'есть', 'да', 'будет', 'пусть', 'под', 'может', 'мой', 'там', 'сердце', 'был', 'было', 'они', 'себя', 'любви', 'во', 'вы', 'просто', 'всегда', 'тобой', 'мир', 'чтобы', 'всех', 'время', 'со', 'день', 'даже', 'или', 'теперь', 'ну', 'здесь', 'моя', 'снова', 'очень', 'её', 'себе', 'больше', 'хочу', 'надо', 'вновь', 'чем', 'жить', 'ли', 'тот', 'этот', 'глаза', 'души', 'ещё', 'свой', 'душа', 'много', 'каждый', 'раз', 'словно', 'знаю', 'вдруг', 'друг', 'всем', 'этом', 'уж', 'свет', 'вам', 'вас', 'них', 'твой', 'хоть', 'над', 'будто', 'люди', 'свою', 'ней', 'люблю', 'душе', 'им', 'счастье', 'была', 'своей', 'ей', 'буду', 'давно', 'опять', 'сейчас', 'рядом', 'слова', 'тогда', 'сегодня', 'один', 'еще', 'душу', 'никогда', 'совсем', 'лет', 'пока', 'том', 'ее', 'б', 'ему', 'людей', 'путь', 'моей', 'тут', 'ночь', 'мои', 'свои', 'потом', 'мной', 'год', 'вместе', 'тобою', 'тех', 'небо', 'можно', 'бог', 'твои', 'про', 'сам', 'ветер', 'зачем', 'те', 'были', 'ничего', 'солнце', 'этой', 'нужно', 'того', 'мысли', 'тем', 'наш', 'руки', 'боль', 'человек', 'хочется', 'одна', 'такой', 'мире', 'почему', 'любить', 'куда', 'г', 'года', 'счастья', 'лучше', 'осень', 'весь', 'дом', 'всю', 'всего', 'эти', 'чуть', 'ж', 'чего', 'при', 'тоже', 'никто', 'ним', 'собой', 'пути', 'сердца', 'могу', 'своих', 'кого', 'сколько', 'вокруг', 'твоих', 'земле', 'ночи', 'него', 'слов', 'снег', 'потому', 'после', 'стоит', 'наши', 'тихо', 'оно', 'твоя', 'той', 'через', 'свете', 'кому', 'миг', 'знаешь', 'сквозь', 'стал', 'конечно', 'радость', 'твоей', 'хотя', 'новый', 'бывает', 'взгляд', 'ко', 'сказать', 'чувства', 'об', 'глаз', 'та', 'нами', 'вся', 'иль', 'этого', 'прости', 'долго', 'мечты', 'понять', 'хорошо', 'стихи', 'порой', 'который', 'какой', 'бога', 'глазах', 'друга', 'сон', 'ответ', 'ночью', 'судьба', 'перед', 'значит', 'эту', 'два', 'дни', 'будем', 'вижу', 'своим', 'прошу', 'дома', 'мало', 'час', 'среди', 'между', 'часто', 'моих', 'немного', 'навсегда', 'жаль', 'будут', 'дождь', 'другой', 'боли', 'любовью', 'однажды', 'стало', 'дальше', 'нельзя', 'мою', 'кажется', 'море', 'слово', 'эта', 'сразу', 'небе', 'тепло', 'дней', 'голос', 'вечер', 'дети', 'внутри', 'город', 'скоро', 'точно', 'станет', 'сказал', 'зима', 'забыть', 'найти', 'нибудь', 'знает', 'кровь', 'покой', 'будь', 'пора', 'память', 'мама', 'сама', 'легко', 'такое', 'одно', 'туда', 'кем', 'одной', 'стать', 'нашей', 'мира', 'мною', 'будешь', 'которые', 'других', 'такая', 'стала', 'знать', 'равно', 'народ', 'видно', 'землю', 'душой', 'моё', 'земли', 'дай', 'света', 'судьбы', 'назад', 'почти', 'сил', 'увы', 'помню', 'солнца', 'времени', 'наша', 'хочешь', 'этим', 'лето', 'тело', 'годы', 'верю', 'человека', 'слишком', 'ждать', 'силы', 'иногда', 'мать', 'смерть', 'утра', 'земля', 'ах', 'стали', 'нужен', 'спасибо', 'утром', 'друзья', 'мог', 'сне', 'первый', 'нём', 'возможно', 'хотел', 'больно', 'неба', 'дня', 'вечно', 'весна', 'дверь', 'ту', 'утро', 'три', 'завтра', 'давай', 'лица', 'домой', 'этих', 'коль', 'живу', 'нежно', 'чём', 'готов', 'говорят', 'идти', 'своё', 'раньше', 'быстро', 'огонь', 'последний', 'груди', 'нем', 'дела', 'век', 'конца', 'милый', 'детей', 'всей', 'наверно', 'дело', 'руках', 'прежде', 'печаль', 'правда', 'чувств', 'небес', 'цветы', 'мое', 'наших', 'радости', 'столько', 'твою', 'окном', 'неё', 'сильно', 'которой', 'нету', 'тому', 'і', 'сердцем', 'окно', 'господь', 'двери', 'делать', 'смерти', 'руку', 'родной', 'верить', 'самый', 'жду', 'пред', 'сами', 'осталось', 'дух', 'пор', 'рассвет', 'такие', 'место', 'видеть', 'памяти', 'скажи', 'вовсе', 'дорога', 'вопрос', 'след', 'дороги', 'вчера', 'две', 'страх', 'печали', 'далеко', 'ноги', 'песни', 'пишу', 'ними', 'людям', 'любил', 'грусть', 'зря', 'смотрю', 'друзей', 'богу', 'важно', 'ангел', 'вроде', 'скажу', 'имя', 'трудно', 'лицо', 'слёзы', 'знал', 'пускай', 'иду', 'слезы', 'хотелось', 'смог', 'россии', 'звезды', 'воздух', 'хочет', 'наверное', 'ума', 'говорить', 'рук', 'птицы', 'белый', 'мимо', 'таких', 'вами', 'голове', 'воды', 'смысл', 'говорит', 'видел', 'чему', 'никак', 'можешь', 'надежды', 'встречи', 'чудо', 'смотреть', 'каждого', 'пришла', 'идёт', 'собою', 'вода', 'средь', 'ждёт', 'судьбе', 'дорогу', 'другу', 'крови', 'окна', 'свое', 'иначе', 'нужна', 'самой', 'крылья', 'любит', 'взглядом', 'сделать', 'женщина', 'любимый', 'какая', 'другим', 'войны', 'века', 'тень', 'разве', 'увидеть', 'сны', 'лес', 'другие', 'перевод', 'которых', 'ветра', 'своего', 'суть', 'боже', 'более', 'поле', 'запах', 'вечность', 'мороз', 'сердцу', 'впереди', 'большой', 'луна', 'рукой', 'одну', 'наше', 'казалось', 'богом', 'дано', 'которая', 'горит', 'разум', 'стану', 'страшно', 'места', 'образ', 'глазами', 'поэт', 'желаю', 'хватит', 'родная', 'твоё', 'хватает', 'боюсь', 'губы', 'должен', 'наконец', 'деньги', 'смогу', 'листья', 'доме', 'тени', 'горе', 'шаг', 'никому', 'жил', 'хотела', 'думать', 'страсти', 'зло', 'поверь', 'никого', 'таким', 'тепла', 'светом', 'также', 'прямо', 'поэтому', 'вернуть', 'живёт', 'звезда', 'рад', 'спокойно', 'улыбкой', 'писать', 'тишина', 'дали', 'праздник', 'уйти', 'мыслей', 'чувство', 'порою', 'нежность', 'приходит', 'отец', 'искать', 'судьбу', 'ждут', 'спать', 'ради', 'днём', 'рай', 'смех', 'беда', 'слышу', 'огня', 'сила', 'твоим', 'меж', 'любила', 'голову', 'звёзды', 'уходит', 'ложь', 'старый', 'холод', 'таки', 'война', 'добро', 'понял', 'идет', 'небеса', 'какие', 'могут', 'мысль', 'облака', 'чаще', 'снега', 'плечи', 'главное', 'сто', 'ваш', 'сказала', 'край', 'тишине', 'фото', 'судьбой', 'стих', 'е', 'одни', 'ушла', 'туман', 'дорог', 'момент', 'другом', 'головой', 'понимаю', 'вина', 'зная', 'ближе', 'поздно', 'вселенной', 'твое', 'сложно', 'прочь', 'ждет', 'любой', 'нему', 'вниз', 'нее', 'моим', 'автора', 'взять', 'каждой', 'обо', 'ль', 'цвет', 'выше', 'дорогой', 'едва', 'надежда', 'нужны', 'плохо', 'сна', 'любя', 'чай', 'весны', 'становится', 'самом', 'птица', 'дал', 'честь', 'вместо', 'жизнью', 'реки', 'конец', 'зла', 'власти', 'сих', 'прошло', 'остался', 'дороге', 'тела', 'везде', 'чувствую', 'видишь', 'летит', 'могла', 'нынче', 'вообще', 'природа', 'н', 'молча', 'нашу', 'моря', 'ночами', 'невозможно', 'придёт', 'прошлое', 'живут', 'грустно', 'тоска', 'каждым', 'рано', 'города', 'края', 'думал', 'добра', 'лист', 'ветром', 'скорей', 'душою', 'пять', 'миру', 'должны', 'напрасно', 'думаю', 'силу', 'говорю', 'такого', 'вера', 'дым', 'летят', 'помнишь', 'случилось', 'кофе', 'ваши', 'против', 'мечта', 'идут', 'капли', 'новой', 'крик', 'одном', 'горы', 'привет', 'смотри', 'сын', 'любишь', 'правду', 'разных', 'одного', 'женщины', 'стою', 'деле', 'любимой', 'милая', 'голова', 'раны', 'жена', 'именно', 'i', 'живет', 'рука', 'страны', 'всему', 'дать', 'днем', 'сильнее', 'власть', 'остаться', 'проходит', 'счастлив', 'говорил', 'теплом', 'круг', 'помочь', 'обиды', 'месте', 'легче', 'прошлом', 'пол', 'ищу', 'откуда', 'губ', 'зимы', 'луч', 'вперёд', 'улыбка', 'свечи', 'котором', 'бой', 'стране', 'словами', 'сей', 'одним', 'слёз', 'играет', 'забудь', 'никуда', 'скорее', 'денег', 'the', 'т', 'вино', 'мол', 'прожить', 'ждала', 'снов', 'господи', 'живой', 'лжи', 'стены', 'пить', 'грусти', 'забыл', 'кругом', 'волны', 'вперед', 'знаем', 'самого', 'слез', 'смысла', 'минуты', 'звуки', 'меньше', 'плачет', 'дышать', 'пару', 'краю', 'детства', 'видит', 'нить', 'осталась', 'тьме', 'дождя', 'устал', 'поможет', 'которую', 'устала', 'скажет', 'сад', 'строки', 'семья', 'осени', 'тучи', 'брат', 'миром', 'двух', 'покоя', 'ног', 'месяц', 'сначала', 'грех', 'знай', 'светит', 'любим', 'смотрит', 'крепко', 'улице', 'лежит', 'надеюсь', 'силах', 'случайно', 'слышишь', 'встречу', 'природы', 'каждом', 'вид', 'целый', 'могли', 'сильней', 'слушать', 'своём', 'закат', 'красоты', 'знала', 'сотни', 'несколько', 'лесу', 'спит', 'тоски', 'даль', 'россия', 'снегом', 'болью', 'многих', 'дар', 'живи', 'другого', 'году', 'часы', 'иди', 'страсть', 'словом', 'навеки', 'многие', 'разные', 'жили', 'зимой', 'вернуться', 'надежду', 'деревья', 'странно', 'лета', 'грудь', 'сюда', 'прекрасно', 'другому', 'крест', 'мужчина', 'оставив', 'увидел', 'конце', 'можем', 'ногами', 'двоих', 'придет', 'пройти', 'песню', 'какое', 'права', 'ничто', 'начало', 'весной', 'ад', 'ка', 'решил', 'веры', 'душ', 'срок', 'цветов', 'тысячи', 'сказки', 'воду', 'часть', 'всём', 'болит', 'холодный', 'веру', 'каждому', 'чужой', 'руками', 'птиц', 'сможет', 'красиво', 'постоянно', 'слегка', 'знают', 'имеет', 'грехи', 'летом', 'м', 'беды', 'красота', 'нежный', 'кино', 'сделал', 'руке', 'мыслях', 'враг', 'самое', 'тяжело', 'ум', 'з', 'бед', 'слеза', 'кроме', 'смело', 'тихонько', 'женщин', 'дед', 'страна', 'медленно', 'такую', 'небу', 'своими', 'пламя', 'начала', 'навстречу', 'кровью', 'звучит', 'останется', 'части', 'родные', 'скучаю', 'ладони', 'узнать', 'дожди', 'дороже', 'счастьем', 'страха', 'горя', 'краски', 'которого', 'надеждой', 'готова', 'обратно', 'дна', 'планете', 'отца', 'улыбки', 'кот', 'стихов', 'плакать', 'вдаль', 'забуду', 'другая', 'снах', 'проблемы', 'затем', 'солнцем', 'помнить', 'простой', 'осенний', 'остались', 'однако', 'игра', 'звук', 'музыка', 'леса', 'земной', 'моего', 'жила', 'новые', 'честно', 'вспоминаю', 'ветру', 'вкус', 'новым', 'следы', 'вдвоём', 'дел', 'право', 'совесть', 'живём', 'зато', 'любимая', 'камень', 'должна', 'девочка', 'силой', 'стороны', 'река', 'ждал', 'прекрасна', 'белой', 'цели', 'ответа', 'годами', 'мечтать', 'должно', 'обнять', 'пустота', 'свободу', 'ночам', 'цвета', 'поля', 'платье', 'господа', 'поёт', 'прощай', 'прав', 'чужие', 'спиной', 'пыль', 'смогла', 'белым', 'ярко', 'нравится', 'ком', 'своем', 'муж', 'даёт', 'проще', 'гости', 'дарит', 'детство', 'столь', 'and', 'знали', 'вдали', 'двадцать', 'звёзд', 'рождения', 'бытия', 'слава', 'работа', 'либо', 'громко', 'выбор', 'стоят', 'любят', 'посмотри', 'сижу', 'хуже', 'ночной', 'работу', 'отдать', 'спину', 'прошлого', 'святой', 'тьма', 'родных', 'петь', 'водой', 'волю', 'й', 'нею', 'вслед', 'пойму', 'сладко', 'метель', 'людьми', 'пожалуйста', 'пойду', 'добрый', 'сможешь', 'повсюду', 'довольно', 'бежит', 'маленький', 'ясно', 'этому', 'искал', 'глядя', 'берегу', 'мгновенье', 'ибо', 'мечту', 'пальцы', 'вверх', 'сына', 'холодно', 'шли', 'каким', 'свободы', 'простить', 'вопросы', 'ошибки', 'даст', 'христа', 'бежать', 'белые', 'моем', 'детстве', 'улыбку', 'верь', 'кругу', 'обычно', 'вечный', 'белом', 'герой', 'уйду', 'забыла', 'небом', 'самых', 'принять', 'небесах', 'снится', 'книги', 'пришёл', 'взор', 'чужих', 'вечером', 'годом', 'всеми', 'темноте', 'звон', 'моём', 'дочь', 'уходят', 'играть', 'забыв', 'вряд', 'стук', 'пришлось', 'мальчик', 'мужчины', 'ти', 'многое', 'колени', 'одиночество', 'самым', 'що', 'вернусь', 'найду', 'городе', 'свету', 'проблем', 'хотят', 'пустой', 'второй', 'поэта', 'стол', 'ищет', 'дне', 'внезапно', 'холода', 'тихий', 'красоту', 'благодать', 'сном', 'пытаюсь', 'понимаешь', 'новых', 'д', 'вдвоем', 'суждено', 'летать', 'которым', 'спеша', 'стучит', 'берег', 'тянет', 'любили', 'манит', 'происходит', 'стихах', 'мечтаю', 'работы', 'нашем', 'песня', 'радостью', 'розы', 'твоего', 'сидит', 'волос', 'лучший', 'услышать', 'обман', 'поют', 'снегу', 'похоже', 'страну', 'народа', 'волосы', 'грязь', 'желание', 'войне', 'которое', 'вдоль', 'скажешь', 'горят', 'вечности', 'пришел', 'взял', 'награды', 'тиши', 'саду', 'искренне', 'прошла', 'рая', 'ушёл', 'цветок', 'истории', 'мрак', 'помощь', 'забыли', 'иной', 'р', 'своему', 'минут', 'нежности', 'закон', 'изменить', 'часов', 'бесконечно', 'желания', 'язык', 'мосты', 'понятно', 'подарок', 'прежнему', 'вечной', 'сути', 'роль', 'цель', 'аромат', 'вышел', 'рот', 'снежинки', 'уходи', 'луны', 'поцелуй', 'увидишь', 'наступит', 'свобода', 'воде', 'всюду', 'вполне', 'сердцах', 'строк', 'белых', 'вспоминать', 'приятно', 'прекрасный', 'папа', 'родился', 'правды', 'яркий', 'близко', 'рассказать', 'ох', 'оставил', 'счастливой', 'л', 'лёд', 'любимых', 'шум', 'мамы', 'слышать', 'рассвета', 'дворе', 'чудеса', 'своя', 'голоса', 'божий', 'солнышко', 'начал', 'общем', 'человеку', 'сомнений', 'словах', 'говоришь', 'храм', 'дает', 'речи', 'девушка', 'возьми', 'впрочем', 'разговор', 'огне', 'молодой', 'труд', 'фраз', 'виноват', 'птицей', 'тает', 'отдам', 'одиноко', 'нос', 'to', 'победы', 'русь', 'a', 's', 'шепчет', 'you', 'сердец', 'навек', 'шанс', 'лик', 'огни', 'шла', 'слезами', 'пытаясь', 'разлуки', 'золотой', 'рада', 'одному', 'матери', 'умею', 'головы', 'жди', 'муки', 'сказку', 'весело', 'тьмы', 'четыре', 'живем', 'писал', 'тьму', 'верит', 'смотрел', 'вскоре', 'зовут', 'сомнения', 'ушел', 'сторону', 'бегу', 'начать', 'радостно', 'окне', 'бред', 'природе', 'сказка', 'тайны', 'пусто', 'теле', 'русский', 'мозг', 'времена', 'войну', 'страдать', 'прах', 'человеком', 'постели', 'жив', 'возле', 'давайте', 'пройдёт', 'чей', 'дам', 'поняла', 'немало', 'временем', 'шёл', 'ваших', 'жалко', 'кричать', 'люби', 'желаний', 'звезд', 'пространство', 'слышно', 'поверить', 'особенно', 'здоровья', 'видимо', 'глупо', 'стоял', 'прошли', 'дно', 'пройдет', 'пожалуй', 'сознание', 'говорили', 'лице', 'спасти', 'поток', 'травы', 'телом', 'ходить', 'врагов', 'хотели', 'дождём', 'дают', 'дышит', 'кричит', 'бегут', 'вон', 'читать', 'увижу', 'огнём', 'оставить', 'россию', 'океан', 'отчего', 'смогли', 'дурак', 'марта', 'осенью', 'листьев', 'еле', 'мудрость', 'думаешь', 'речь', 'уши', 'безумно', 'холодной', 'другое', 'ныне', 'готовы', 'жива', 'нежной', 'плоть', 'оба', 'чудес', 'духа', 'полёт', 'дарить', 'отныне', 'здравствуй', 'як', 'плевать', 'строчки', 'смотришь', 'нашего', 'встрече', 'зари', 'стоять', 'тысяч', 'история', 'истины', 'квартире', 'говори', 'потерял', 'плачу', 'благодарю', 'дорогая', 'придётся', 'жар', 'вмиг', 'уснуть', 'письма', 'подруга', 'неужели', 'хлеб', 'пахнет', 'урок', 'простите', 'сомненья', 'скажите', 'первым', 'бывают', 'знак', 'редко', 'чьи', 'светло', 'совершенно', 'греет', 'тоску', 'рассвете', 'обид', 'недавно', 'реальность', 'известно', 'отказ', 'молчит', 'другую', 'ласки', 'тишину', 'весне', 'успех', 'мечтах', 'каких', 'нечего', 'кружит', 'красотой', 'нежных', 'дрожь', 'п', 'умереть', 'волна', 'минуту', 'пойми', 'светлый', 'нашла', 'горечь', 'пропасть', 'первой', 'кровать', 'ангелы', 'хотим', 'наяву', 'великий', 'суеты', 'ушли', 'верно', 'воли', 'молчать', 'темно', 'близких', 'песок', 'думала', 'молю', 'встреча', 'вне', 'станешь', 'непременно', 'декабря', 'гулять', 'интересно', 'достаточно', 'ваша', 'пустоту', 'спешит', 'блеск', 'мгновение', 'понимать', 'держать', 'счастлива', 'счастью', 'духом', 'погода', 'заботы', 'эх', 'сорок', 'настолько', 'терпеть', 'повезло', 'несёт', 'говорила', 'хороший', 'пишет', 'судьбою', 'мечтой', 'зверь', 'хороша', 'ярче', 'верный', 'смотря', 'хранит', 'оказалось', 'нашим', 'вашей', 'поезд', 'навечно', 'истина', 'солнечный', 'семье', 'случай', 'дитя', 'опыт', 'видим', 'хлеба', 'ноября', 'нового', 'рожденья', 'точки', 'творить', 'впервые', 'своею', 'игры', 'мечтал', 'горько', 'немножко', 'помни', 'весну', 'друзьями', 'сладкий', 'порог', 'упал', 'метели', 'полной', 'пустые', 'букет', 'потерять', 'вспомнить', 'лиц', 'пришли', 'трава', 'лучик', 'кошка', 'истину', 'злой', 'письмо', 'падает', 'верил', 'идей', 'столе', 'дыхание', 'шел', 'октября', 'кружится', 'семьи', 'незаметно', 'ладно', 'осколки', 'пошли', 'коли', 'станут', 'дождем', 'юности', 'остаётся', 'успел', 'рекой', 'возможность', 'двое', 'поймешь', 'тенью', 'веки', 'секрет', 'любимым', 'боги', 'похожи', 'решила', 'сполна', 'большая', 'множество', 'листва', 'счастливым', 'ваше', 'ой', 'последние', 'веришь', 'сети', 'сияет', 'убить', 'спеши', 'бреду', 'ненавижу', 'взгляды', 'ход', 'нашёл', 'помоги', 'бойся', 'старость', 'семь', 'губах', 'нашел', 'планеты', 'деревьев', 'уверен', 'пришло', 'облаках', 'знаете', 'иметь', 'парень', 'глубоко', 'встреч', 'черты', 'просит', 'видела', 'зиму', 'солдат', 'дому', 'дыханье', 'ведёт', 'обязательно', 'веков', 'пепел', 'дышу', 'является', 'поверьте', 'имени', 'встречать', 'оставь', 'дана', 'умирать', 'виду', 'спросил', 'остается', 'позади', 'ровно', 'чья', 'нервы', 'смеяться', 'десять', 'верой', 'х', 'нигде', 'полна', 'дождик', 'мужчин', 'тишины', 'работе', 'лучи', 'камни', 'надежде', 'новое', 'видать', 'вести', 'каждую', 'чистый', 'лечу', 'комнате', 'стихами', 'порога', 'маме', 'законы', 'разом', 'прекрасен', 'самим', 'ввысь', 'красивый', 'утру', 'серый', 'милой', 'полон', 'старик', 'надежд', 'объятья', 'тумане', 'детям', 'желанья', 'тоской', 'потерь', 'позже', 'осторожно', 'лед', 'просить', 'стон', 'воле', 'автор', 'любите', 'печально', 'бег', 'дала', 'видя', 'сказали', 'награда', 'действительно', 'ходит', 'нести', 'изнутри', 'подарил', 'волной', 'счастливы', 'ребята', 'умер', 'открыть', 'встретить', 'ответы', 'груз', 'расскажи', 'совет', 'ада', 'приду', 'виде', 'пытался', 'глубине', 'поет', 'объятьях', 'реке', 'делает', 'каждое', 'вьюга', 'забот', 'картины', 'раю', 'чувствовать', 'постель', 'уют', 'всякий', 'муза', 'единственный', 'взгляда', 'здоровье', 'вещи', 'нежные', 'тридцать', 'губами', 'in', 'белая', 'правильно', 'останусь', 'лень', 'терять', 'написать', 'пара', 'яд', 'of', 'лучшее', 'пью', 'вернулся', 'небесный', 'надоело', 'роз', 'лечит', 'поскольку', 'юность', 'нож', 'выходит', 'стоишь', 'смотрят', 'понимая', 'ухожу', 'свыше', 'сверху', 'бьётся', 'высоты', 'красива', 'песен', 'оков', 'упасть', 'выход', 'создал', 'уста', 'слышал', 'берега', 'рады', 'очи', 'придется', 'творца', 'случится', 'оказался', 'другими', 'ими', 'бокал', 'сказке', 'понимает', 'христос', 'гордость', 'бывало', 'траве', 'зовёт', 'луной', 'ярких', 'чистой', 'коже', 'подарки', 'проходят', 'музыку', 'высоко', 'существует', 'пыли', 'плен', 'лицом', 'итоге', 'самые', 'золото', 'трудом', 'столом', 'красок', 'гор', 'подарит', 'пустоты', 'встретил', 'ответил', 'старой', 'причины', 'мгновенья', 'смешно', 'пошла', 'мгле', 'эмоций', 'роли', 'устали', 'семью', 'хозяин', 'какую', 'целовать', 'свеча', 'твоем', 'беду', 'грязи', 'огнем', 'бьется', 'живых', 'смотрела', 'облаков', 'полюбить', 'страстей', 'плачь', 'одиночества', 'родина', 'ми', 'ладонь', 'бояться', 'держит', 'выйти', 'жюри', 'событий', 'стремится', 'последней', 'границы', 'проснуться', 'причин', 'плену', 'молитвы', 'улыбаться', 'тревоги', 'ждали', 'первая', 'счастливый', 'сидеть', 'вопреки', 'внимание', 'зеркало', 'обидно', 'оставляя', 'строго', 'нашли', 'словам', 'рукою', 'неважно', 'мило', 'умру', 'телу', 'помощи', 'полный', 'чувствах', 'успеть', 'суета', 'великой', 'толпе', 'новая', 'будущее', 'самая', 'каждая', 'ночей', 'узнал', 'большие', 'быстрее', 'страницы', 'святая', 'картина', 'мая', 'красный', 'грани', 'стекло', 'моменты', 'ушло', 'дружно', 'ведут', 'заря', 'миров', 'верность', 'май', 'спится', 'врага', 'весною', 'наоборот', 'шаги', 'воля', 'волк', 'плечо', 'посмотреть', 'сохранить', 'молодость', 'усталость', 'живёшь', 'связь', 'омут', 'my', 'помнит', 'совести', 'привык', 'гром', 'открыл', 'образом', 'третий', 'приходят', 'увидев', 'постой', 'верим', 'слышен', 'нежностью', 'одинок', 'ужин', 'славу', 'чёрный', 'огромный', 'горизонт', 'богов', 'солнцу', 'говоря', 'какого', 'царь', 'новую', 'главный', 'эхо', 'танце', 'обед', 'лужи', 'соль', 'утрам', 'целую', 'кричу', 'падают', 'моему', 'чести', 'видят', 'двор', 'мужа', 'милость', 'телефон', 'гроза', 'невзгоды', 'слышит', 'вернётся', 'позволь', 'планета', 'возьму', 'потери', 'красивой', 'серых', 'весьма', 'теплый', 'расскажу', 'стыдно', 'замок', 'гордо', 'познать', 'художник', 'танец', 'поймёшь', 'грустью', 'искала', 'руси', 'просил', 'рассветы', 'остальное', 'скажут', 'живое', 'правит', 'король', 'старые', 'старых', 'крыши', 'лучами', 'живешь', 'добрым', 'отношения', 'костра', 'добрые', 'сильный', 'оттого', 'удачи', 'корабли', 'добром', 'заметил', 'причина', 'считать', 'де', 'играют', 'пошёл', 'напишу', 'твоём', 'воспоминания', 'кухне', 'струны', 'суд', 'начале', 'удар', 'враги', 'прощать', 'ищем', 'корабль', 'цветами', 'крики', 'бесконечность', 'историю', 'песнь', 'устало', 'мужик', 'подумал', 'полностью', 'ищи', 'родину', 'мыслями', 'недели', 'хотите', 'позабыть', 'скуки', 'явно', 'упала', 'грёз', 'удел', 'написал', 'братья', 'народу', 'морозы', 'несут', 'вернется', 'умом', 'имена', 'стояла', 'ненависть', 'случае', 'билет', 'иисус', 'собака', 'часа', 'характер', 'ошибок', 'стене', 'тайну', 'постепенно', 'женой', 'повод', 'хватало', 'умеет', 'страданий', 'встал', 'пороге', 'воздухе', 'настанет', 'стен', 'января', 'глядит', 'встать', 'бес', 'течёт', 'заката', 'родным', 'невольно', 'похож', 'планы', 'читая', 'итог', 'ложится', 'бродит', 'подари', 'подарить', 'услышал', 'желанье', 'попал', 'уйдёт', 'ярким', 'встретимся', 'пиши', 'маму', 'листвы', 'ниже', 'прошёл', 'отчаянно', 'идём', 'рассветом', 'назло', 'ветерок', 'вой', 'ото', 'ногам', 'молчи', 'попробуй', 'делах', 'отдал', 'резко', 'молиться', 'ряд', 'злые', 'бремя', 'работать', 'зубы', 'мешает', 'милые', 'прекрасной', 'творец', 'открою', 'благо', 'будущем', 'вышло', 'фальши', 'черный', 'бабушка', 'само', 'боясь', 'отпусти', 'думай', 'бороться', 'спят', 'будьте', 'малость', 'интернета', 'мечтала', 'дрожит', 'виски', 'страстно', 'москва', 'угодно', 'талант', 'точку', 'красивая', 'нежным', 'брата', 'маски', 'светлой', 'слух', 'исправить', 'поры', 'болезни', 'пустых', 'читаю', 'послушай', 'надолго', 'глоток', 'приходится', 'желает', 'подарю', 'заново', 'спешу', 'аж', 'признаться', 'быстрей', 'получилось', 'решили', 'подумать', 'слушай', 'толпы', 'рифмы', 'щеке', 'многим', 'улицы', 'хвост', 'например', 'способен', 'зов', 'времён', 'молюсь', 'судеб', 'славы', 'напротив', 'август', 'лицу', 'лететь', 'самому', 'гореть', 'держись', 'слезах', 'страдания', 'сумел', 'одиночестве', 'факт', 'чуда', 'книгу', 'луну', 'молчишь', 'вспомни', 'тревожит', 'полно', 'октябрь', 'взамен', 'любого', 'зимний', 'стороне', 'ели', 'горло', 'песней', 'беде', 'пространстве', 'ведет', 'стучится', 'растает', 'лучах', 'напиться', 'вечера', 'крепче', 'играя', 'туч', 'красавица', 'полет', 'помогает', 'полу', 'никаких', 'тёплый', 'пошел', 'уходя', 'небесной', 'рассказ', 'порядок', 'искры', 'льда', 'плачут', 'первых', 'простор', 'труда', 'космос', 'жалеть', 'вспять', 'приносит', 'красивых', 'углу', 'всяких', 'молчу', 'поэты', 'сюжет', 'такими', 'мечте', 'пальто', 'скучно', 'хватило', 'наружу', 'холодным', 'бою', 'несет', 'добрых', 'бьют', 'дважды', 'взяла', 'мозги', 'ветки', 'плывут', 'обмана', 'ждешь', 'плыть', 'хранить', 'купить', 'бездну', 'пожар', 'звездой', 'наряд', 'дружба', 'вопросов', 'границ', 'полночь', 'родители', 'ищут', 'перемен', 'чувствуешь', 'аду', 'кости', 'ч', 'плохое', 'суете', 'крылом', 'встретились', 'душах', 'теми', 'радует', 'смертью', 'доброе', 'жену', 'золотая', 'разу', 'первые', 'смеха', 'ласково', 'рисует', 'сидел', 'ненастья', 'захочешь', 'рок', 'ожидании', 'машины', 'ждём', 'наступает', 'живы', 'уносит', 'мост', 'менять', 'вечная', 'красивые', 'умирает', 'стеной', 'кричат', 'вспоминая', 'одинокий', 'глубины', 'толку', 'тайна', 'ею', 'черту', 'быт', 'прекрасных', 'полей', 'поздравляю', 'миллионы', 'церкви', 'мыслью', 'решать', 'окон', 'короче', 'гораздо', 'вышла', 'прожил', 'судить', 'пел', 'вдалеке', 'подальше', 'ключи', 'летний', 'стараюсь', 'согреться', 'станем', 'долг', 'согреет', 'открой', 'прими', 'уходить', 'мгновения', 'чисто', 'растут', 'бросил', 'отсюда', 'реальности', 'весенний', 'роман', 'думая', 'подобно', 'ненастье', 'одежды', 'ноябрь', 'прохожих', 'забудем', 'выпить', 'золотом', 'думает', 'парке', 'миры', 'мил', 'сплю', 'свободно', 'несмотря', 'хорошее', 'услышишь', 'пример', 'фонари', 'удача', 'оставлю', 'пели', 'яркие', 'ловлю', 'спишь', 'номер', 'землёй', 'чая', 'пройдут', 'лету', 'нити', 'богатство', 'ничем', 'проснулся', 'сможем', 'бьёт', 'ребёнок', 'видели', 'пережить', 'попасть', 'полны', 'дверью', 'живая', 'собственной', 'гуляет', 'последнее', 'весть', 'отвечу', 'влюбиться', 'оставит', 'вашу', 'брать', 'домов', 'друзьям', 'гляжу', 'женщину', 'первое', 'счёт', 'написано', 'ветви', 'искусство', 'звонок', 'уйдет', 'начинает', 'зависть', 'удачу', 'целом', 'связи', 'буквы', 'неожиданно', 'роза', 'вселенная', 'мотив', 'кровати', 'стакан', 'зной', 'спустя', 'детский', 'желая', 'мысленно', 'огней', 'капель', 'грехов', 'странный', 'лежат', 'обрести', 'представить', 'старости', 'узнаешь', 'глазам', 'серой', 'хожу', 'портрет', 'ключ', 'держи', 'обещаю', 'золотые', 'природу', 'достойно', 'ищешь', 'вины', 'считаю', 'беги', 'расстаться', 'общества', 'вспомнил', 'сознания', 'борьбе', 'преграды', 'храни', 'объятия', 'правил', 'улыбаясь', 'могло', 'поступки', 'унисон', 'головою', 'ребенок', 'насквозь', 'удержать', 'зовет', 'любимые', 'последних', 'любое', 'окошко', 'источник', 'плач', 'назвать', 'тише', 'сша', 'новом', 'плоти', 'малыш', 'подарила', 'смотрели', 'русской', 'лоб', 'падать', 'чужая', 'голубой', 'внимания', 'насколько', 'тихой', 'прекрасней', 'побед', 'прошел', 'биться', 'передать', 'эй', 'разлука', 'конь', 'злая', 'любую', 'шесть', 'ждёшь', 'жадно', 'пил', 'ужас', 'страшный', 'листвой', 'умерла', 'исчез', 'намного', 'волшебный', 'родного', 'пёс', 'получается', 'увидела', 'найдешь', 'венец', 'получить', 'ритм', 'ходят', 'дарил', 'седой', 'ласкает', 'пойти', 'звезду', 'жарко', 'мудрости', 'мгновенно', 'былое', 'имею', 'дверей', 'наплевать', 'ответить', 'пою', 'настроение', 'меч', 'украдкой', 'воздуха', 'оттуда', 'иван', 'луне', 'ходил', 'зиме', 'еду', 'унять', 'свято', 'идем', 'школе', 'прекрасная', 'кстати', 'дарю', 'го', 'виновата', 'такт', 'девчонка', 'разговоры', 'держу', 'русских', 'листок', 'обещал', 'льётся', 'знакомый', 'метро', 'it', 'царство', 'кусочек', 'учиться', 'спешат', 'вспомнишь', 'неделю', 'стояли', 'небесам', 'кожу', 'жены', 'уст', 'простая', 'дайте', 'общество', 'предел', 'ветры', 'порядке', 'сестра', 'остатки', 'почувствовать', 'скалы', 'убежать', 'поймёт', 'возраст', 'молод', 'серые', 'костёр', 'мамой', 'книга', 'спасенье', 'кошки', 'прощения', 'начинается', 'греха', 'сынок', 'делал', 'ощущаю', 'восемь', 'объяснить', 'чувством', 'около', 'is', 'всевышний', 'зову', 'чист', 'больной', 'собрать', 'дыша', 'поднять', 'тел', 'отпустить', 'бо', 'настоящий', 'собаки', 'каком', 'вином', 'давит', 'водки', 'плод', 'гений', 'иные', 'книг', 'восток', 'возможности', 'коленях', 'рождество', 'появился', 'крыльях', 'девушки', 'страданья', 'звенит', 'подняться', 'знания', 'молчание', 'звери', 'узнаю', 'холодные', 'горячий', 'людях', 'шепот', 'страстью', 'сказав', 'ран', 'доброта', 'восторг', 'потеряла', 'первого', 'чужим', 'земных', 'отыскать', 'скажем', 'таков', 'шею', 'ветров', 'вздох', 'больших', 'большое', 'оставаться', 'подряд', 'привычно', 'дивный', 'исчезнет', 'яркой', 'подруги', 'ответе', 'следует', 'слезу', 'просторы', 'помог', 'победу', 'грустить', 'вещей', 'шепчу', 'приходи', 'жалея', 'смеётся', 'бросить', 'победа', 'последняя', 'крыше', 'сладость', 'ухо', 'просила', 'мечтает', 'морской', 'побольше', 'дорогие', 'простит', 'гнев', 'спи', 'лежать', 'небосвод', 'жалею', 'ноты', 'объятиях', 'большим', 'прекрасные', 'внизу', 'зимою', 'цепи', 'родную', 'мила', 'мест', 'разлуке', 'картину', 'вдохновение', 'взлететь', 'ладонях', 'отрада', 'грудью', 'вальс', 'поэтов', 'последнего', 'кольцо', 'полюбил', 'трав', 'бьет', 'пропал', 'фразы', 'служить', 'морем', 'раб', 'приют', 'боится', 'обниму', 'упрямо', 'синий', 'впредь', 'ноль', 'покуда', 'карты', 'лежу', 'нелегко', 'счесть', 'разума', 'окнами', 'очередь', 'получил', 'глядят', 'слабость', 'куски', 'остров', 'толпа', 'любая', 'вспомню', 'зависит', 'найдёт', 'менее', 'александр', 'секунды', 'людской', 'стекла', 'доброй', 'возвращаться', 'отдохнуть', 'даром', 'забывать', 'маленькая', 'бал', 'отражение', 'живые', 'таком', 'сожалению', 'женщине', 'счастливые', 'тесно', 'родное', 'кое', 'страдает', 'пустыне', 'сергей', 'никакой', 'показать', 'тянется', 'эмоции', 'улицам', 'лучшие', 'спасение', 'доброты', 'любые', 'говорим', 'нечто', 'черт', 'поезда', 'блестит', 'необходимо', 'забываю', 'клочья', 'союз', 'верят', 'поисках', 'ворот', 'охота', 'узор', 'лети', 'декабрь', 'мам', 'зеркала', 'стая', 'лихо', 'научиться', 'глазки', 'обычный', 'русские', 'строить', 'росы', 'глубже', 'голосом', 'меняет', 'снаружи', 'вслух', 'красной', 'род', 'смысле', 'движение', 'жажду', 'выйдет', 'правде', 'ценить', 'струится', 'гладь', 'веря', 'простые', 'забыться', 'захотелось', 'пыталась', 'раза', 'настал', 'могилы', 'придут', 'невзначай', 'рода', 'похожа', 'уютно', 'предела', 'пожелать', 'поэтом', 'полях', 'ужасно', 'тонкой', 'зал', 'чиста', 'мирно', 'траву', 'мечтали', 'имеют', 'жалость', 'крыльев', 'закончится', 'плечу', 'счет', 'первую', 'помогут', 'осенней', 'забывай', 'спал', 'рвётся', 'падал', 'крыла', 'достоин', 'секунду', 'жара', 'выжить', 'уроки', 'холодных', 'гонит', 'краше', 'плед', 'побыть', 'стаи', 'бросает', 'глупость', 'лунный', 'план', 'сердечко', 'бережно', 'мороза', 'встречает', 'забудешь', 'вере', 'печалью', 'москве', 'оказалась', 'свежий', 'гостей', 'играл', 'находится', 'тают', 'убивать', 'чистым', 'дождей', 'планету', 'стонет', 'туманом', 'сидят', 'заре', 'беспечно', 'открыла', 'белое', 'школу', 'зови', 'класс', 'рождается', 'принимать', 'спросить', 'абсолютно', 'войти', 'пьяный', 'милых', 'маленькой', 'голод', 'пир', 'создать', 'стоя', 'цена', 'грозы', 'устах', 'прощенья', 'сторон', 'листву', 'интернет', 'эхом', 'откроет', 'мёд', 'сущность', 'листа', 'коснуться', 'цветом', 'можете', 'беречь', 'клетке', 'поставить', 'коня', 'кружат', 'спаси', 'сделала', 'шагом', 'придумал', 'прошлым', 'прошлых', 'которому', 'благодаря', 'кричал', 'волн', 'родилась', 'теней', 'горле', 'любимого', 'наслаждаться', 'облик', 'улыбается', 'юг', 'становятся', 'дружбу', 'надеясь', 'внуки', 'дочка', 'игру', 'стороной', 'улыбаюсь', 'старше', 'счастливо', 'важнее', 'делить', 'светлые', 'осознать', 'святого', 'имел', 'стремиться', 'поцелуи', 'верила', 'делом', 'мук', 'сосед', 'p', 'говорите', 'церковь', 'прийти', 'иней', 'победить', 'улыбок', 'бури', 'знаний', 'став', 'шагов', 'нежная', 'многом', 'фонарь', 'всерьёз', 'мальчишка', 'пламени', 'ласковый', 'следа', 'листопад', 'правила', 'страхи', 'це', 'учитель', 'никакого', 'долгих', 'подумай', 'обидеть', 'мчится', 'прекрасное', 'поймет', 'следом', 'спине', 'видна', 'избежать', 'господин', 'знаком', 'удалось', 'мере', 'злость', 'тревожно', 'стена', 'сентября', 'старая', 'пьян', 'льдом', 'сидишь', 'кожи', 'вовек', 'августа', 'огромной', 'закрыть', 'немой', 'пела', 'рядышком', 'сказано', 'проснулась', 'печать', 'звучат', 'вернулась', 'течет', 'дама', 'несу', 'успела', 'жизненный', 'некогда', 'робко', 'приговор', 'наверняка', 'силуэт', 'снятся', 'веселье', 'красив', 'родителей', 'спросила', 'лежал', 'понимал', 'ответит', 'андрей', 'боя', 'ворон', 'летают', 'строчек', 'природой', 'дикий', 'пули', 'кожей', 'вовремя', 'получится', 'обними', 'глупости', 'тая', 'девчонки', 'состояние', 'сильной', 'невзгод', 'счастливых', 'соловей', 'божьей', 'виден', 'борьба', 'неужто', 'пылает', 'точка', 'мнение', 'босиком', 'март', 'сутки', 'кота', 'гость', 'кармане', 'достать', 'кусок', 'пылью', 'святые', 'береги', 'будете', 'увидит', 'сидя', 'ребёнка', 'проста', 'дан', 'попрошу', 'сладкой', 'стан', 'шар', 'грущу', 'улиц', 'водку', 'черной', 'жестоко', 'чёрной', 'стену', 'вод', 'угол', 'чёрт', 'процесс', 'страдаю', 'знакомы', 'реже', 'кричи', 'храме', 'согреть', 'лишних', 'сознанье', 'рвется', 'ушко', 'взгляде', 'подходит', 'тревога', 'бери', 'объятий', 'стужу', 'уйдут', 'слепой', 'одновременно', 'воин', 'чудесный', 'признаюсь', 'камнем', 'встречаю', 'мечтая', 'плюс', 'дерево', 'иных', 'считает', 'летели', 'дьявол', 'вдох', 'принц', 'пополам', 'растёт', 'me', 'тонкий', 'желаем', 'призрак', 'сады', 'вор', 'заставляет', 'движения', 'поутру', 'взглянуть', 'очередной', 'улицу', 'тоске', 'спасает', 'играли', 'парус', 'теряя', 'ресницы', 'героев', 'тоскливо', 'поэзии', 'наедине', 'живите', 'ногах', 'погас', 'ответь', 'хоровод', 'поймать', 'живым', 'прощанье', 'прям', 'темноты', 'произошло', 'мелодия', 'светлых', 'замечая', 'понимаем', 'обиду', 'воспоминаний', 'поклон', 'идёшь', 'закаты', 'идешь', 'мужем', 'земные', 'лично', 'волнует', 'чистого', 'девочки', 'спор', 'влюбился', 'ногой', 'пыл', 'запомни', 'пустяк', 'верьте', 'большую', 'услышу', 'свечу', 'открыто', 'человеке', 'считая', 'иллюзий', 'зеркале', 'целовал', 'времен', 'услышит', 'забудет', 'мене', 'болезнь', 'шумит', 'святое', 'проблема', 'доброту', 'оковы', 'финал', 'ю', 'землей', 'королева', 'святых', 'вечном', 'асфальт', 'долгий', 'президент', 'лучших', 'перо', 'здорово', 'пугает', 'владимир', 'приди', 'морю', 'узнала', 'прекрасны', 'закрыв', 'врать', 'февраль', 'свободе', 'пух', 'появилась', 'молитву', 'дамы', 'храня', 'божья', 'сверкает', 'новому', 'волшебство', 'вине', 'сделали', 'пой', 'свободен', 'очей', 'касаясь', 'силе', 'грез', 'делаю', 'выбрал', 'щедро', 'синь', 'символ', 'мраке', 'чьей', 'пламенем', 'ядом', 'деревне', 'найдёшь', 'планет', 'смеясь', 'криком', 'разобраться', 'дева', 'простых', 'пишут', 'красоте', 'искали', 'льются', 'молчанье', 'вже', 'бить', 'жизней', 'шее', 'злости', 'лесной', 'принёс', 'меняется', 'дум', 'хорошего', 'села', 'проснувшись', 'самую', 'отцом', 'хорош', 'теряю', 'венам', 'пустоте', 'тишь', 'деда', 'найди', 'ура', 'чьих', 'уходишь', 'явь', 'открыты', 'встретиться', 'ангелов', 'подожди', 'темнота', 'стекле', 'концов', 'просыпаться', 'ворота', 'висит', 'доля', 'рана', 'ангела', 'ходу', 'скрою', 'пустое', 'великая', 'слушал', 'веках', 'сделай', 'сильным', 'запад', 'показалось', 'играю', 'мгновений', 'которыми', 'тону', 'тайной', 'снежной', 'меры', 'вершины', 'дольше', 'поймут', 'успели', 'ссоры', 'плохой', 'спорить', 'легка', 'большого', 'замуж', 'мираж', 'земная', 'стран', 'уходил', 'молодые', 'дождями', 'решение', 'исчезает', 'помним', 'серым', 'пытается', 'интерес', 'жене', 'советы', 'сидели', 'гложет', 'убил', 'писала', 'принял', 'лучей', 'долгие', 'горький', 'закате', 'прибой', 'веке', 'лучом', 'секс', 'тысячу', 'баба', 'кончается', 'окнах', 'чужую', 'чувствами', 'отдала', 'делай', 'веками', 'сел', 'тихим', 'украине', 'богатства', 'сок', 'ручей', 'потихоньку', 'читал', 'обитель', 'храню', 'вены', 'кулак', 'высь', 'рост', 'ребенка', 'музыки', 'стрелки', 'дружить', 'расстались', 'нрав', 'февраля', 'смеется', 'холодом', 'украина', 'именем', 'поскорей', 'трепетно', 'школы', 'богиня', 'узоры', 'грань', 'косы', 'поэзия', 'подушку', 'узнает', 'звали', 'мгла', 'молодым', 'бумаги', 'ерунда', 'прелесть', 'вечерами', 'звонко', 'развития', 'звать', 'идеал', 'пальцев', 'первом', 'плавно', 'мужики', 'искрится', 'льется', 'молитва', 'серебром', 'строка', 'пульс', 'злобы', 'велик', 'дрожи', 'смеются', 'лужам', 'чувствам', 'улыбнись', 'злом', 'ссср', 'пили', 'хороши', 'некому', 'лаской', 'стань', 'находит', 'русская', 'отношений', 'круги', 'белого', 'погиб', 'народы', 'пары', 'расставаться', 'часах', 'цветут', 'печальный', 'дарят', 'покое', 'ласку', 'потеряли', 'найдет', 'часами', 'послал', 'преград', 'путин', 'описать', 'мораль', 'понимают', 'боялся', 'черные', 'вторая', 'тумана', 'богат', 'чужое', 'домик', 'цену', 'реку', 'награду', 'некуда', 'пепла', 'детьми', 'вставать', 'шёпот', 'корни', 'взяв', 'слышится', 'судья', 'сказочный', 'делают', 'разлук', 'иисуса', 'период', 'остановить', 'застыл', 'рек', 'глубину', 'сумею', 'обида', 'крым', 'прост', 'машин', 'неспешно', 'сколь', 'течение', 'близким', 'вечным', 'ждем', 'короткий', 'рисую', 'запахом', 'насладиться', 'ногу', 'молодая', 'черти', 'кружатся', 'январь', 'влюблён', 'низко', 'предков', 'водою', 'капельки', 'ощутить', 'оглядки', 'душевной', 'считают', 'кони', 'трепет', 'ходили', 'слове', 'искренность', 'дну', 'умный', 'колен', 'месяца', 'холодная', 'степи', 'that', 'некоторые', 'машина', 'надеяться', 'мудрец', 'мягко', 'шепчут', 'пойдёт', 'поворот', 'женщиной', 'знакомых', 'кипит', 'выйду', 'улыбнулась', 'отпускаю', 'ложатся', 'остатка', 'стенах', 'мелькают', 'доволен', 'улыбке', 'сидела', 'сбежать', 'простое', 'события', 'сойти', 'давал', 'смогут', 'облаками', 'числа', 'бежал', 'пройдя', 'беру', 'думали', 'обмануть', 'привыкли', 'винить', 'стой', 'родины', 'океана', 'погоду', 'тишиной', 'плоды', 'летает', 'завтрак', 'нахожу', 'пишешь', 'сладких', 'фоне', 'тревог', 'частью', 'теряем', 'пуст', 'стараясь', 'светлое', 'свернуть', 'бесполезно', 'спаситель', 'старался', 'давать', 'взгляни', 'воет', 'исчезла', 'красками', 'самих', 'порыв', 'открыта', 'число', 'замирает', 'покажет', 'песке', 'лёгкий', 'плеч', 'кричали', 'ребят', 'одежду', 'единственной', 'кусты', 'услышав', 'способны', 'чашу', 'застыла', 'страшны', 'решить', 'скучать', 'соловьи', 'сиянье', 'погоды', 'отцов', 'забывая', 'плакала', 'смыслом', 'передо', 'фонарей', 'заранее', 'царя', 'даришь', 'пушкин', 'губам', 'блаженство', 'пространства', 'давным', 'смехом', 'учит', 'соседи', 'идеи', 'прекрасным', 'устав', 'стоим', 'помощью', 'костер', 'покров', 'стола', 'небесных', 'берёзы', 'закрою', 'сатана', 'легкий', 'встречал', 'думы', 'темной', 'влюблен', 'считал', 'слепо', 'вдохновенье', 'кров', 'кричала', 'чуточку', 'горах', 'love', 'умело', 'ответов', 'благодарна', 'позабыв', 'убивает', 'вышли', 'печи', 'отнюдь', 'ветвей', 'глупый', 'океане', 'зверей', 'пасть', 'истинный', 'будни', 'опасно', 'прощаю', 'густой', 'взрослые', 'хорошие', 'собак', 'темноту', 'be', 'лучшей', 'линии', 'сталь', 'смотрите', 'забота', 'тяжко', 'теплее', 'царит', 'ресниц', 'лицах', 'апрель', 'сохрани', 'отвечать', 'прикоснуться', 'рыба', 'признания', 'согревает', 'страшен', 'захочет', 'покажется', 'извини', 'хороших', 'вырос', 'помнят', 'чаю', 'пройду', 'николай', 'солнечных', 'слог', 'капля', 'поделать', 'срока', 'тему', 'молодых', 'правило', 'делам', 'останутся', 'горю', 'утренней', 'обязан', 'старом', 'герои', 'сберечь', 'энергии', 'мигом', 'думают', 'чёрные', 'вернись', 'умоляю', 'ношу', 'вечное', 'крепкий', 'хранитель', 'вспомним', 'слезой', 'карман', 'детских', 'основа', 'состоянии', 'текут', 'случается', 'требует', 'пытались', 'село', 'флаг', 'боятся', 'земного', 'народов', 'блики', 'всякой', 'сниться', 'останься', 'ловить', 'двенадцать', 'счастливая', 'боишься', 'правдой', 'отлично', 'помните', 'парк', 'красные', 'пустая', 'познал', 'настоящее', 'встретишь', 'забрать', 'расскажет', 'чувствует', 'приму', 'днях', 'позабыл', 'дружбы', 'разрушить', 'желанный', 'скрывать', 'каприз', 'сирень', 'изменилось', 'месть', 'стучат', 'украины', 'стихотворение', 'душевный', 'зелёный', 'дура', 'напиши', 'матерей', 'отцу', 'одеялом', 'милей', 'чужого', 'сияют', 'безвозвратно', 'дышишь', 'смеюсь', 'фильм', 'смотрим', 'грустит', 'казаться', 'горячо', 'дорого', 'испить', 'глядишь', 'сбудется', 'господу', 'тоскою', 'мечтами', 'упорно', 'лете', 'важен', 'итак', 'молоко', 'языке', 'иного', 'мастер', 'носить', 'прощу', 'последним', 'сбылось', 'утонуть', 'правы', 'вину', 'спас', 'наблюдать', 'принцесса', 'цены', 'родине', 'молчат', 'крышу', 'центре', 'днями', 'невеста', 'одних', 'городов', 'выбрать', 'потоке', 'волшебной', 'желать', 'даря', 'внутренний', 'пейзаж', 'вошла', 'спешить', 'пей', 'перестал', 'сука', 'доктор', 'принес', 'чисты', 'медведь', 'ледяной', 'окошком', 'называют', 'щеки', 'игре', 'сугробы', 'подвиг', 'прячется', 'птицу', 'пуста', 'платья', 'сцене', 'звука', 'помогать', 'осенние', 'выпьем', 'поздравить', 'предо', 'машину', 'городом', 'замки', 'близок', 'попытки', 'шелест', 'нормально', 'посмотрел', 'светлым', 'быль', 'ловко', 'пойдём', 'расти', 'плечах', 'светило', 'ясный', 'верности', 'остальные', 'согласен', 'крыло', 'кафе', 'взором', 'любима', 'спросит', 'скал', 'ще', 'открыв', 'повернуть', 'север', 'дотла', 'книге', 'пальцами', 'игрушки', 'уверенно', 'лучшим', 'названием', 'синее', 'спасения', 'your', 'туманы', 'берет', 'построить', 'хорошим', 'плывёт', 'знакомые', 'болен', 'стоны', 'системы', 'прохожий', 'осенняя', 'понимание', 'жажда', 'чувствовал', 'строй', 'комнату', 'старого', 'задача', 'гаснет', 'влюбилась', 'жалости', 'прочих', 'исчезли', 'плечами', 'тетрадь', 'городу', 'стереть', 'предательство', 'гуляли', 'деньгами', 'сосны', 'чувствуя', 'сумрак', 'пьют', 'изо', 'родиться', 'нечаянно', 'разошлись', 'закрой', 'наивно', 'зависти', 'демон', 'благодарность', 'заботу', 'перемены', 'солдаты', 'путей', 'потоком', 'родник', 'живот', 'сидим', 'боле', 'дойти', 'глупые', 'мечтаний', 'несомненно', 'хорошая', 'небрежно', 'найдут', 'скорость', 'нечем', 'черта', 'with', 'творит', 'музыкой', 'рекою', 'чаем', 'отнять', 'льёт', 'коне', 'вдвойне', 'шагает', 'гармонии', 'дальний', 'поближе', 'ночные', 'раствориться', 'мечтою', 'подруг', 'верится', 'голубые', 'собственных', 'спиною', 'держал', 'точнее', 'имея', 'вечных', 'километры', 'обществе', 'деться', 'краса', 'пусты', 'снять', 'обидел', 'чрез', 'безумный', 'хлам', 'смеялись', 'ушедших', 'оказались', 'особо', 'радуга', 'прочим', 'выстрел', 'ответила', 'верен', 'безжалостно', 'листы', 'безмерно', 'волки', 'шторм', 'горькой', 'круга', 'пушистый', 'убит', 'реально', 'оказаться', 'прячет', 'шутку', 'холодном', 'непонятно', 'він', 'неземной', 'шептал', 'вспомнит', 'режет', 'тяжкий', 'боялась', 'застыли', 'выбирать', 'дорогам', 'рвутся', 'причал', 'светел', 'собрались', 'возврата', 'маршрут', 'спала', 'пеплом', 'человечество', 'ненавидеть', 'неся', 'від', 'зверя', 'вороны', 'любом', 'восход', 'поставил', 'видны', 'рассказал', 'песне', 'сзади', 'зрения', 'порыве', 'крыльями', 'одеяло', 'слаще', 'сознании', 'сильная', 'название', 'бродить', 'горьких', 'формы', 'виноваты', 'живя', 'камней', 'роса', 'сделав', 'плакал', 'улыбнулся', 'рождает', 'теплым', 'улыбкою', 'поднял', 'секреты', 'примет', 'сада', 'потолок', 'мал', 'дерева', 'растет', 'уныло', 'молитвой', 'строю', 'сирени', 'приказ', 'пойдет', 'теряет', 'близкие', 'забываем', 'домом', 'град', 'божественный', 'придешь', 'сильные', 'уйдешь', 'заставить', 'паруса', 'сумеет', 'меру', 'плача', 'иное', 'моде', 'принимаю', 'стадо', 'милым', 'искусства', 'вышине', 'глупых', 'дует', 'берёз', 'забытый', 'чи', 'высокой', 'щоб', 'выхода', 'грёзы', 'зале', 'чудный', 'нелепо', 'повторится', 'календарь', 'no', 'берегов', 'твердят', 'злых', 'врач', 'нежное', 'знаки', 'практически', 'начну', 'уме', 'даётся', 'уйди', 'поцелуев', 'прожитых', 'делаешь', 'снежинок', 'морей', 'слякоть', 'русского', 'пар', 'страхом', 'спасенья', 'отдавать', 'танцует', 'прощаться', 'пору', 'всерьез', 'гори', 'серость', 'бьются', 'дядя', 'страниц', 'одночасье', 'дремлет', 'тёмной', 'вечные', 'расстояние', 'отвечает', 'цветёт', 'справедливость', 'обнимать', 'зимней', 'будущего', 'лепестки', 'жалей', 'стынет', 'братьев', 'неизвестно', 'былом', 'ранним', 'срочно', 'остаются', 'врагам', 'минус', 'синим', 'способна', 'носит', 'оставила', 'последнюю', 'бушует', 'привыкла', 'красным', 'вашим', 'продолжает', 'толпой', 'могилу', 'начинаю', 'брожу', 'чудом', 'нежна', 'черно', 'спины', 'девушку', 'скрыть', 'девять', 'предстоит', 'дружок', 'маску', 'простил', 'принесла', 'ошибку', 'недолго', 'связаны', 'знамя', 'сильна', 'ложью', 'открывает', 'полюбила', 'родила', 'огонёк', 'страшной', 'праздником', 'сияние', 'волком', 'добрая', 'поговорить', 'школа', 'предал', 'ведая', 'странник', 'купил', 'ничуть', 'прошлой', 'глубин', 'вагон', 'висках', 'весёлый', 'мамочка', 'ложе', 'нежданно', 'дню', 'ощущение', 'звонкий', 'берёт', 'отраженье', 'квартиры', 'пойдем', 'сделаю', 'пошло', 'сентябрь', 'придёшь', 'потоки', 'готовит', 'вечного', 'лесов', 'славный', 'великих', 'благодарен', 'рос', 'пытаться', 'лгать', 'научилась', 'вальсе', 'усталый', 'маленькие', 'интернете', 'момента', 'танцевать', 'вопросом', 'змея', 'веселья', 'явился', 'for', 'дабы', 'приехал', 'ля', 'очаг', 'буря', 'блин', 'европе', 'речка', 'синей', 'округе', 'скрывая', 'манят', 'поверил', 'наступил', 'какими', 'учить', 'рвёт', 'жертву', 'тянутся', 'людских', 'такова', 'откровенно', 'наполняет', 'доверять', 'случиться', 'вьюги', 'забыт', 'свободной', 'стрелы', 'хвостом', 'маяк', 'странные', 'соли', 'сказкой', 'чертям', 'лучшая', 't', 'июня', 'запас', 'рыбы', 'подумала', 'боге', 'хозяйка', 'веселей', 'рождаются', 'хаос', 'мужчину', 'концу', 'товарищ', 'сигареты', 'стремительно', 'воевать', 'подчас', 'спокойствие', 'брошу', 'доказать', 'рябины', 'оставим', 'шутки', 'местах', 'большего', 'найдя', 'бабы', 'рассудок', 'окунуться', 'принесёт', 'тайком', 'тяжесть', 'жару', 'простым', 'напрочь', 'взглядов', 'встречали', 'вокзал', 'красивым', 'ошибка', 'струна', 'народе', 'годам', 'ночных', 'научи', 'немножечко', 'глупая', 'платить', 'любимую', 'дымом', 'тонкие', 'пиво', 'бокалы', 'выпал', 'обнимает', 'близкий', 'прятки', 'плеча', 'долю', 'зарю', 'женский', 'вернее', 'загадка', 'глава', 'спокойной', 'лишний', 'жутко', 'собирать', 'захотел', 'стар', 'богам', 'радоваться', 'би', 'попала', 'оставляет', 'ураган', 'капитан', 'разным', 'твоею', 'играем', 'снежный', 'озеро', 'матушка', 'заглянуть', 'лужах', 'горячей', 'бумаге', 'назвал', 'добрее', 'бежала', 'петух', 'верх', 'магазин', 'святую', 'слову', 'свидание', 'волосах', 'действия', 'перестану', 'рыжий', 'носом', 'грустный', 'маленьких', 'гроба', 'душит', 'далеки', 'ощущать', 'осенних', 'стыда', 'трёх', 'палач', 'умеешь', 'будней', 'кумир', 'жилах', 'князь', 'мудрый', 'верили', 'высокий', 'останешься', 'настало', 'твоему', 'летим', 'дыханьем', 'спокоен', 'уму', 'создатель', 'врагу', 'лесом', 'вершин', 'наполнен', 'напоминает', 'куст', 'пал', 'семя', 'делами', 'борьбы', 'отпускать', 'испытать', 'наука', 'никем', 'проснусь', 'блестят', 'истин', 'слышим', 'умирают', 'клетки', 'сложилось', 'глухой', 'писем', 'небольшой', 'звала', 'старым', 'свободный', 'мадам', 'ветрами', 'пальцем', 'ежедневно', 'святым', 'бок', 'общаться', 'длится', 'безумной', 'взяли', 'покинуть', 'появились', 'млечный', 'трудный', 'all', 'двора', 'читает', 'важней', 'смею', 'пожить', 'светят', 'свиданье', 'милости', 'отдых', 'сумели', 'благ', 'приходишь', 'утренний', 'идя', 'речей', 'дары', 'трон', 'результат', 'освещает', 'творится', 'упаду', 'мусор', 'начали', 'золота', 'ручьи', 'пропала', 'разлуку', 'звал', 'простила', 'достал', 'парит', 'местам', 'улыбалась', 'играла', 'стремлюсь', 'шептала', 'настала', 'синие', 'забыты', 'мясо', 'ф', 'улететь', 'верной', 'животных', 'тайно', 'духу', 'ангелом', 'спасёт', 'привычке', 'страшнее', 'всякого', 'бумагу', 'государства', 'миллион', 'ушах', 'волнах', 'клянусь', 'страдал', 'квартиру', 'праздники', 'следующий', 'меняя', 'принесет', 'ляжет', 'прощаясь', 'свиданья', 'воздухом', 'забыто', 'войной', 'зелень', 'кожа', 'понимания', 'поцелуем', 'читатель', 'скорби', 'лев', 'говорится', 'человечества', 'детские', 'умеют', 'касается', 'родня', 'життя', 'целует', 'жестокий', 'светлая', 'буквально', 'луга', 'ревность', 'продолжать', 'разница', 'продолжаю', 'возвращаюсь', 'грош', 'закрыла', 'работает', 'ожидает', 'погоде', 'слаб', 'предать', 'годах', 'думаем', 'нутро', 'лекарство', 'важны', 'ароматом', 'состоит', 'шорох', 'чью', 'диване', 'поговорим', 'туча', 'смеялась', 'тема', 'тихонечко', 'оконце', 'крыш', 'рану', 'дадут', 'шрамы', 'памятью', 'свидания', 'телевизор', 'гору', 'курс', 'остановиться', 'колено', 'громче', 'живого', 'курить', 'враз', 'лесть', 'ехать', 'ста', 'трубы', 'веток', 'елена', 'молода', 'далее', 'бездны', 'улыбнусь', 'ища', 'мені', 'тонет', 'бедный', 'ищите', 'заметить', 'путём', 'зим', 'числе', 'глуши', 'лапы', 'мироздания', 'понимала', 'рабы', 'костей', 'синем', 'вашего', 'выть', 'видится', 'коротка', 'любуюсь', 'великого', 'але', 'рвать', 'вернулись', 'дрожат', 'берегите', 'прямой', 'типа', 'летаю', 'окажется', 'глубокой', 'повторять', 'снежок', 'выглядит', 'молчал', 'стеклу', 'люд', 'звонка', 'горести', 'образы', 'бессмысленно', 'спешим', 'просят', 'ставит', 'облако', 'стыд', 'ранее', 'любоваться', 'свежесть', 'качает', 'not', 'гроб', 'креста', 'легла', 'жесток', 'вспоминай', 'видом', 'стараться', 'посвящается', 'едины', 'чайки', 'давали', 'душам', 'чужими', 'покрепче', 'миражи', 'леди', 'сеть', 'пес', 'so', 'позови', 'ситуации', 'затих', 'сильных', 'страхе', 'уставший', 'попросту', 'смей', 'солнечным', 'безусловно', 'сверкают', 'перестали', 'забытых', 'просторах', 'гордиться', 'высоких', 'бываю', 'апреля', 'важна', 'рвет', 'остановись', 'снегопад', 'внимательно', 'светла', 'вдыхая', 'народом', 'дрова', 'смириться', 'отпущу', 'получишь', 'темы', 'сосен', 'представь', 'тщетно', 'одинокой', 'близки', 'непросто', 'речке', 'тёплым', 'шло', 'мужчиной', 'молоком', 'дав', 'рукам', 'бабушки', 'разбудит', 'проси', 'нужный', 'клетку', 'создан', 'встану', 'подошла', 'встречались', 'бежим', 'грехах', 'покорно', 'количество', 'дымке', 'сладок', 'разглядеть', 'терзает', 'вес', 'любому', 'вела', 'дыши', 'прохладой', 'бабочки', 'глас', 'здоров', 'камина', 'вечен', 'система', 'кровавый', 'сего', 'зубами', 'дверцу', 'обнимая', 'сумела', 'растаял', 'встречая', 'веет', 'даты', 'почаще', 'трели', 'былого', 'заметно', 'оставили', 'решает', 'встанет', 'звуков', 'золотых', 'дыханием', 'удивительно', 'давала', 'синих', 'вещь', 'вдохновения', 'каюсь', 'естественно', 'полная', 'любых', 'хлебом', 'длинный', 'былые', 'бесконечной', 'позор', 'принимает', 'длинные', 'мае', 'личность', 'родней', 'грубо', 'единый', 'уехать', 'становлюсь', 'скрыться', 'кучу', 'поняв', 'будучи', 'речки', 'уснул', 'радостный', 'велика', 'закрыты', 'ожидания', 'светится', 'божественной', 'покинул', 'сводит', 'решения', 'гнева', 'мечтам', 'сплошной', 'красивы', 'лести', 'земное', 'напомнит', 'осенним', 'долги', 'коней', 'перестала', '', '_UNK_', '_START_']\n"
          ]
        }
      ]
    },
    {
      "cell_type": "code",
      "source": [
        "print(vocab)"
      ],
      "metadata": {
        "colab": {
          "base_uri": "https://localhost:8080/"
        },
        "id": "aWixTNUGMAoH",
        "outputId": "d6b0f18a-6d2f-4852-f6e8-dafccc1a09fc"
      },
      "execution_count": 50,
      "outputs": [
        {
          "output_type": "stream",
          "name": "stdout",
          "text": [
            "{'и': 0, 'в': 1, 'не': 2, 'я': 3, 'на': 4, 'что': 5, 'с': 6, 'как': 7, 'ты': 8, 'а': 9, 'но': 10, 'мне': 11, 'то': 12, 'все': 13, 'за': 14, 'мы': 15, 'так': 16, 'по': 17, 'от': 18, 'к': 19, 'он': 20, 'это': 21, 'тебя': 22, 'меня': 23, 'всё': 24, 'у': 25, 'о': 26, 'из': 27, 'же': 28, 'когда': 29, 'только': 30, 'лишь': 31, 'кто': 32, 'где': 33, 'нет': 34, 'для': 35, 'бы': 36, 'тебе': 37, 'без': 38, 'его': 39, 'до': 40, 'нам': 41, 'жизнь': 42, 'она': 43, 'нас': 44, 'ведь': 45, 'вот': 46, 'жизни': 47, 'ни': 48, 'их': 49, 'быть': 50, 'уже': 51, 'если': 52, 'чтоб': 53, 'любовь': 54, 'есть': 55, 'да': 56, 'будет': 57, 'пусть': 58, 'под': 59, 'может': 60, 'мой': 61, 'там': 62, 'сердце': 63, 'был': 64, 'было': 65, 'они': 66, 'себя': 67, 'любви': 68, 'во': 69, 'вы': 70, 'просто': 71, 'всегда': 72, 'тобой': 73, 'мир': 74, 'чтобы': 75, 'всех': 76, 'время': 77, 'со': 78, 'день': 79, 'даже': 80, 'или': 81, 'теперь': 82, 'ну': 83, 'здесь': 84, 'моя': 85, 'снова': 86, 'очень': 87, 'её': 88, 'себе': 89, 'больше': 90, 'хочу': 91, 'надо': 92, 'вновь': 93, 'чем': 94, 'жить': 95, 'ли': 96, 'тот': 97, 'этот': 98, 'глаза': 99, 'души': 100, 'ещё': 101, 'свой': 102, 'душа': 103, 'много': 104, 'каждый': 105, 'раз': 106, 'словно': 107, 'знаю': 108, 'вдруг': 109, 'друг': 110, 'всем': 111, 'этом': 112, 'уж': 113, 'свет': 114, 'вам': 115, 'вас': 116, 'них': 117, 'твой': 118, 'хоть': 119, 'над': 120, 'будто': 121, 'люди': 122, 'свою': 123, 'ней': 124, 'люблю': 125, 'душе': 126, 'им': 127, 'счастье': 128, 'была': 129, 'своей': 130, 'ей': 131, 'буду': 132, 'давно': 133, 'опять': 134, 'сейчас': 135, 'рядом': 136, 'слова': 137, 'тогда': 138, 'сегодня': 139, 'один': 140, 'еще': 141, 'душу': 142, 'никогда': 143, 'совсем': 144, 'лет': 145, 'пока': 146, 'том': 147, 'ее': 148, 'б': 149, 'ему': 150, 'людей': 151, 'путь': 152, 'моей': 153, 'тут': 154, 'ночь': 155, 'мои': 156, 'свои': 157, 'потом': 158, 'мной': 159, 'год': 160, 'вместе': 161, 'тобою': 162, 'тех': 163, 'небо': 164, 'можно': 165, 'бог': 166, 'твои': 167, 'про': 168, 'сам': 169, 'ветер': 170, 'зачем': 171, 'те': 172, 'были': 173, 'ничего': 174, 'солнце': 175, 'этой': 176, 'нужно': 177, 'того': 178, 'мысли': 179, 'тем': 180, 'наш': 181, 'руки': 182, 'боль': 183, 'человек': 184, 'хочется': 185, 'одна': 186, 'такой': 187, 'мире': 188, 'почему': 189, 'любить': 190, 'куда': 191, 'г': 192, 'года': 193, 'счастья': 194, 'лучше': 195, 'осень': 196, 'весь': 197, 'дом': 198, 'всю': 199, 'всего': 200, 'эти': 201, 'чуть': 202, 'ж': 203, 'чего': 204, 'при': 205, 'тоже': 206, 'никто': 207, 'ним': 208, 'собой': 209, 'пути': 210, 'сердца': 211, 'могу': 212, 'своих': 213, 'кого': 214, 'сколько': 215, 'вокруг': 216, 'твоих': 217, 'земле': 218, 'ночи': 219, 'него': 220, 'слов': 221, 'снег': 222, 'потому': 223, 'после': 224, 'стоит': 225, 'наши': 226, 'тихо': 227, 'оно': 228, 'твоя': 229, 'той': 230, 'через': 231, 'свете': 232, 'кому': 233, 'миг': 234, 'знаешь': 235, 'сквозь': 236, 'стал': 237, 'конечно': 238, 'радость': 239, 'твоей': 240, 'хотя': 241, 'новый': 242, 'бывает': 243, 'взгляд': 244, 'ко': 245, 'сказать': 246, 'чувства': 247, 'об': 248, 'глаз': 249, 'та': 250, 'нами': 251, 'вся': 252, 'иль': 253, 'этого': 254, 'прости': 255, 'долго': 256, 'мечты': 257, 'понять': 258, 'хорошо': 259, 'стихи': 260, 'порой': 261, 'который': 262, 'какой': 263, 'бога': 264, 'глазах': 265, 'друга': 266, 'сон': 267, 'ответ': 268, 'ночью': 269, 'судьба': 270, 'перед': 271, 'значит': 272, 'эту': 273, 'два': 274, 'дни': 275, 'будем': 276, 'вижу': 277, 'своим': 278, 'прошу': 279, 'дома': 280, 'мало': 281, 'час': 282, 'среди': 283, 'между': 284, 'часто': 285, 'моих': 286, 'немного': 287, 'навсегда': 288, 'жаль': 289, 'будут': 290, 'дождь': 291, 'другой': 292, 'боли': 293, 'любовью': 294, 'однажды': 295, 'стало': 296, 'дальше': 297, 'нельзя': 298, 'мою': 299, 'кажется': 300, 'море': 301, 'слово': 302, 'эта': 303, 'сразу': 304, 'небе': 305, 'тепло': 306, 'дней': 307, 'голос': 308, 'вечер': 309, 'дети': 310, 'внутри': 311, 'город': 312, 'скоро': 313, 'точно': 314, 'станет': 315, 'сказал': 316, 'зима': 317, 'забыть': 318, 'найти': 319, 'нибудь': 320, 'знает': 321, 'кровь': 322, 'покой': 323, 'будь': 324, 'пора': 325, 'память': 326, 'мама': 327, 'сама': 328, 'легко': 329, 'такое': 330, 'одно': 331, 'туда': 332, 'кем': 333, 'одной': 334, 'стать': 335, 'нашей': 336, 'мира': 337, 'мною': 338, 'будешь': 339, 'которые': 340, 'других': 341, 'такая': 342, 'стала': 343, 'знать': 344, 'равно': 345, 'народ': 346, 'видно': 347, 'землю': 348, 'душой': 349, 'моё': 350, 'земли': 351, 'дай': 352, 'света': 353, 'судьбы': 354, 'назад': 355, 'почти': 356, 'сил': 357, 'увы': 358, 'помню': 359, 'солнца': 360, 'времени': 361, 'наша': 362, 'хочешь': 363, 'этим': 364, 'лето': 365, 'тело': 366, 'годы': 367, 'верю': 368, 'человека': 369, 'слишком': 370, 'ждать': 371, 'силы': 372, 'иногда': 373, 'мать': 374, 'смерть': 375, 'утра': 376, 'земля': 377, 'ах': 378, 'стали': 379, 'нужен': 380, 'спасибо': 381, 'утром': 382, 'друзья': 383, 'мог': 384, 'сне': 385, 'первый': 386, 'нём': 387, 'возможно': 388, 'хотел': 389, 'больно': 390, 'неба': 391, 'дня': 392, 'вечно': 393, 'весна': 394, 'дверь': 395, 'ту': 396, 'утро': 397, 'три': 398, 'завтра': 399, 'давай': 400, 'лица': 401, 'домой': 402, 'этих': 403, 'коль': 404, 'живу': 405, 'нежно': 406, 'чём': 407, 'готов': 408, 'говорят': 409, 'идти': 410, 'своё': 411, 'раньше': 412, 'быстро': 413, 'огонь': 414, 'последний': 415, 'груди': 416, 'нем': 417, 'дела': 418, 'век': 419, 'конца': 420, 'милый': 421, 'детей': 422, 'всей': 423, 'наверно': 424, 'дело': 425, 'руках': 426, 'прежде': 427, 'печаль': 428, 'правда': 429, 'чувств': 430, 'небес': 431, 'цветы': 432, 'мое': 433, 'наших': 434, 'радости': 435, 'столько': 436, 'твою': 437, 'окном': 438, 'неё': 439, 'сильно': 440, 'которой': 441, 'нету': 442, 'тому': 443, 'і': 444, 'сердцем': 445, 'окно': 446, 'господь': 447, 'двери': 448, 'делать': 449, 'смерти': 450, 'руку': 451, 'родной': 452, 'верить': 453, 'самый': 454, 'жду': 455, 'пред': 456, 'сами': 457, 'осталось': 458, 'дух': 459, 'пор': 460, 'рассвет': 461, 'такие': 462, 'место': 463, 'видеть': 464, 'памяти': 465, 'скажи': 466, 'вовсе': 467, 'дорога': 468, 'вопрос': 469, 'след': 470, 'дороги': 471, 'вчера': 472, 'две': 473, 'страх': 474, 'печали': 475, 'далеко': 476, 'ноги': 477, 'песни': 478, 'пишу': 479, 'ними': 480, 'людям': 481, 'любил': 482, 'грусть': 483, 'зря': 484, 'смотрю': 485, 'друзей': 486, 'богу': 487, 'важно': 488, 'ангел': 489, 'вроде': 490, 'скажу': 491, 'имя': 492, 'трудно': 493, 'лицо': 494, 'слёзы': 495, 'знал': 496, 'пускай': 497, 'иду': 498, 'слезы': 499, 'хотелось': 500, 'смог': 501, 'россии': 502, 'звезды': 503, 'воздух': 504, 'хочет': 505, 'наверное': 506, 'ума': 507, 'говорить': 508, 'рук': 509, 'птицы': 510, 'белый': 511, 'мимо': 512, 'таких': 513, 'вами': 514, 'голове': 515, 'воды': 516, 'смысл': 517, 'говорит': 518, 'видел': 519, 'чему': 520, 'никак': 521, 'можешь': 522, 'надежды': 523, 'встречи': 524, 'чудо': 525, 'смотреть': 526, 'каждого': 527, 'пришла': 528, 'идёт': 529, 'собою': 530, 'вода': 531, 'средь': 532, 'ждёт': 533, 'судьбе': 534, 'дорогу': 535, 'другу': 536, 'крови': 537, 'окна': 538, 'свое': 539, 'иначе': 540, 'нужна': 541, 'самой': 542, 'крылья': 543, 'любит': 544, 'взглядом': 545, 'сделать': 546, 'женщина': 547, 'любимый': 548, 'какая': 549, 'другим': 550, 'войны': 551, 'века': 552, 'тень': 553, 'разве': 554, 'увидеть': 555, 'сны': 556, 'лес': 557, 'другие': 558, 'перевод': 559, 'которых': 560, 'ветра': 561, 'своего': 562, 'суть': 563, 'боже': 564, 'более': 565, 'поле': 566, 'запах': 567, 'вечность': 568, 'мороз': 569, 'сердцу': 570, 'впереди': 571, 'большой': 572, 'луна': 573, 'рукой': 574, 'одну': 575, 'наше': 576, 'казалось': 577, 'богом': 578, 'дано': 579, 'которая': 580, 'горит': 581, 'разум': 582, 'стану': 583, 'страшно': 584, 'места': 585, 'образ': 586, 'глазами': 587, 'поэт': 588, 'желаю': 589, 'хватит': 590, 'родная': 591, 'твоё': 592, 'хватает': 593, 'боюсь': 594, 'губы': 595, 'должен': 596, 'наконец': 597, 'деньги': 598, 'смогу': 599, 'листья': 600, 'доме': 601, 'тени': 602, 'горе': 603, 'шаг': 604, 'никому': 605, 'жил': 606, 'хотела': 607, 'думать': 608, 'страсти': 609, 'зло': 610, 'поверь': 611, 'никого': 612, 'таким': 613, 'тепла': 614, 'светом': 615, 'также': 616, 'прямо': 617, 'поэтому': 618, 'вернуть': 619, 'живёт': 620, 'звезда': 621, 'рад': 622, 'спокойно': 623, 'улыбкой': 624, 'писать': 625, 'тишина': 626, 'дали': 627, 'праздник': 628, 'уйти': 629, 'мыслей': 630, 'чувство': 631, 'порою': 632, 'нежность': 633, 'приходит': 634, 'отец': 635, 'искать': 636, 'судьбу': 637, 'ждут': 638, 'спать': 639, 'ради': 640, 'днём': 641, 'рай': 642, 'смех': 643, 'беда': 644, 'слышу': 645, 'огня': 646, 'сила': 647, 'твоим': 648, 'меж': 649, 'любила': 650, 'голову': 651, 'звёзды': 652, 'уходит': 653, 'ложь': 654, 'старый': 655, 'холод': 656, 'таки': 657, 'война': 658, 'добро': 659, 'понял': 660, 'идет': 661, 'небеса': 662, 'какие': 663, 'могут': 664, 'мысль': 665, 'облака': 666, 'чаще': 667, 'снега': 668, 'плечи': 669, 'главное': 670, 'сто': 671, 'ваш': 672, 'сказала': 673, 'край': 674, 'тишине': 675, 'фото': 676, 'судьбой': 677, 'стих': 678, 'е': 679, 'одни': 680, 'ушла': 681, 'туман': 682, 'дорог': 683, 'момент': 684, 'другом': 685, 'головой': 686, 'понимаю': 687, 'вина': 688, 'зная': 689, 'ближе': 690, 'поздно': 691, 'вселенной': 692, 'твое': 693, 'сложно': 694, 'прочь': 695, 'ждет': 696, 'любой': 697, 'нему': 698, 'вниз': 699, 'нее': 700, 'моим': 701, 'автора': 702, 'взять': 703, 'каждой': 704, 'обо': 705, 'ль': 706, 'цвет': 707, 'выше': 708, 'дорогой': 709, 'едва': 710, 'надежда': 711, 'нужны': 712, 'плохо': 713, 'сна': 714, 'любя': 715, 'чай': 716, 'весны': 717, 'становится': 718, 'самом': 719, 'птица': 720, 'дал': 721, 'честь': 722, 'вместо': 723, 'жизнью': 724, 'реки': 725, 'конец': 726, 'зла': 727, 'власти': 728, 'сих': 729, 'прошло': 730, 'остался': 731, 'дороге': 732, 'тела': 733, 'везде': 734, 'чувствую': 735, 'видишь': 736, 'летит': 737, 'могла': 738, 'нынче': 739, 'вообще': 740, 'природа': 741, 'н': 742, 'молча': 743, 'нашу': 744, 'моря': 745, 'ночами': 746, 'невозможно': 747, 'придёт': 748, 'прошлое': 749, 'живут': 750, 'грустно': 751, 'тоска': 752, 'каждым': 753, 'рано': 754, 'города': 755, 'края': 756, 'думал': 757, 'добра': 758, 'лист': 759, 'ветром': 760, 'скорей': 761, 'душою': 762, 'пять': 763, 'миру': 764, 'должны': 765, 'напрасно': 766, 'думаю': 767, 'силу': 768, 'говорю': 769, 'такого': 770, 'вера': 771, 'дым': 772, 'летят': 773, 'помнишь': 774, 'случилось': 775, 'кофе': 776, 'ваши': 777, 'против': 778, 'мечта': 779, 'идут': 780, 'капли': 781, 'новой': 782, 'крик': 783, 'одном': 784, 'горы': 785, 'привет': 786, 'смотри': 787, 'сын': 788, 'любишь': 789, 'правду': 790, 'разных': 791, 'одного': 792, 'женщины': 793, 'стою': 794, 'деле': 795, 'любимой': 796, 'милая': 797, 'голова': 798, 'раны': 799, 'жена': 800, 'именно': 801, 'i': 802, 'живет': 803, 'рука': 804, 'страны': 805, 'всему': 806, 'дать': 807, 'днем': 808, 'сильнее': 809, 'власть': 810, 'остаться': 811, 'проходит': 812, 'счастлив': 813, 'говорил': 814, 'теплом': 815, 'круг': 816, 'помочь': 817, 'обиды': 818, 'месте': 819, 'легче': 820, 'прошлом': 821, 'пол': 822, 'ищу': 823, 'откуда': 824, 'губ': 825, 'зимы': 826, 'луч': 827, 'вперёд': 828, 'улыбка': 829, 'свечи': 830, 'котором': 831, 'бой': 832, 'стране': 833, 'словами': 834, 'сей': 835, 'одним': 836, 'слёз': 837, 'играет': 838, 'забудь': 839, 'никуда': 840, 'скорее': 841, 'денег': 842, 'the': 843, 'т': 844, 'вино': 845, 'мол': 846, 'прожить': 847, 'ждала': 848, 'снов': 849, 'господи': 850, 'живой': 851, 'лжи': 852, 'стены': 853, 'пить': 854, 'грусти': 855, 'забыл': 856, 'кругом': 857, 'волны': 858, 'вперед': 859, 'знаем': 860, 'самого': 861, 'слез': 862, 'смысла': 863, 'минуты': 864, 'звуки': 865, 'меньше': 866, 'плачет': 867, 'дышать': 868, 'пару': 869, 'краю': 870, 'детства': 871, 'видит': 872, 'нить': 873, 'осталась': 874, 'тьме': 875, 'дождя': 876, 'устал': 877, 'поможет': 878, 'которую': 879, 'устала': 880, 'скажет': 881, 'сад': 882, 'строки': 883, 'семья': 884, 'осени': 885, 'тучи': 886, 'брат': 887, 'миром': 888, 'двух': 889, 'покоя': 890, 'ног': 891, 'месяц': 892, 'сначала': 893, 'грех': 894, 'знай': 895, 'светит': 896, 'любим': 897, 'смотрит': 898, 'крепко': 899, 'улице': 900, 'лежит': 901, 'надеюсь': 902, 'силах': 903, 'случайно': 904, 'слышишь': 905, 'встречу': 906, 'природы': 907, 'каждом': 908, 'вид': 909, 'целый': 910, 'могли': 911, 'сильней': 912, 'слушать': 913, 'своём': 914, 'закат': 915, 'красоты': 916, 'знала': 917, 'сотни': 918, 'несколько': 919, 'лесу': 920, 'спит': 921, 'тоски': 922, 'даль': 923, 'россия': 924, 'снегом': 925, 'болью': 926, 'многих': 927, 'дар': 928, 'живи': 929, 'другого': 930, 'году': 931, 'часы': 932, 'иди': 933, 'страсть': 934, 'словом': 935, 'навеки': 936, 'многие': 937, 'разные': 938, 'жили': 939, 'зимой': 940, 'вернуться': 941, 'надежду': 942, 'деревья': 943, 'странно': 944, 'лета': 945, 'грудь': 946, 'сюда': 947, 'прекрасно': 948, 'другому': 949, 'крест': 950, 'мужчина': 951, 'оставив': 952, 'увидел': 953, 'конце': 954, 'можем': 955, 'ногами': 956, 'двоих': 957, 'придет': 958, 'пройти': 959, 'песню': 960, 'какое': 961, 'права': 962, 'ничто': 963, 'начало': 964, 'весной': 965, 'ад': 966, 'ка': 967, 'решил': 968, 'веры': 969, 'душ': 970, 'срок': 971, 'цветов': 972, 'тысячи': 973, 'сказки': 974, 'воду': 975, 'часть': 976, 'всём': 977, 'болит': 978, 'холодный': 979, 'веру': 980, 'каждому': 981, 'чужой': 982, 'руками': 983, 'птиц': 984, 'сможет': 985, 'красиво': 986, 'постоянно': 987, 'слегка': 988, 'знают': 989, 'имеет': 990, 'грехи': 991, 'летом': 992, 'м': 993, 'беды': 994, 'красота': 995, 'нежный': 996, 'кино': 997, 'сделал': 998, 'руке': 999, 'мыслях': 1000, 'враг': 1001, 'самое': 1002, 'тяжело': 1003, 'ум': 1004, 'з': 1005, 'бед': 1006, 'слеза': 1007, 'кроме': 1008, 'смело': 1009, 'тихонько': 1010, 'женщин': 1011, 'дед': 1012, 'страна': 1013, 'медленно': 1014, 'такую': 1015, 'небу': 1016, 'своими': 1017, 'пламя': 1018, 'начала': 1019, 'навстречу': 1020, 'кровью': 1021, 'звучит': 1022, 'останется': 1023, 'части': 1024, 'родные': 1025, 'скучаю': 1026, 'ладони': 1027, 'узнать': 1028, 'дожди': 1029, 'дороже': 1030, 'счастьем': 1031, 'страха': 1032, 'горя': 1033, 'краски': 1034, 'которого': 1035, 'надеждой': 1036, 'готова': 1037, 'обратно': 1038, 'дна': 1039, 'планете': 1040, 'отца': 1041, 'улыбки': 1042, 'кот': 1043, 'стихов': 1044, 'плакать': 1045, 'вдаль': 1046, 'забуду': 1047, 'другая': 1048, 'снах': 1049, 'проблемы': 1050, 'затем': 1051, 'солнцем': 1052, 'помнить': 1053, 'простой': 1054, 'осенний': 1055, 'остались': 1056, 'однако': 1057, 'игра': 1058, 'звук': 1059, 'музыка': 1060, 'леса': 1061, 'земной': 1062, 'моего': 1063, 'жила': 1064, 'новые': 1065, 'честно': 1066, 'вспоминаю': 1067, 'ветру': 1068, 'вкус': 1069, 'новым': 1070, 'следы': 1071, 'вдвоём': 1072, 'дел': 1073, 'право': 1074, 'совесть': 1075, 'живём': 1076, 'зато': 1077, 'любимая': 1078, 'камень': 1079, 'должна': 1080, 'девочка': 1081, 'силой': 1082, 'стороны': 1083, 'река': 1084, 'ждал': 1085, 'прекрасна': 1086, 'белой': 1087, 'цели': 1088, 'ответа': 1089, 'годами': 1090, 'мечтать': 1091, 'должно': 1092, 'обнять': 1093, 'пустота': 1094, 'свободу': 1095, 'ночам': 1096, 'цвета': 1097, 'поля': 1098, 'платье': 1099, 'господа': 1100, 'поёт': 1101, 'прощай': 1102, 'прав': 1103, 'чужие': 1104, 'спиной': 1105, 'пыль': 1106, 'смогла': 1107, 'белым': 1108, 'ярко': 1109, 'нравится': 1110, 'ком': 1111, 'своем': 1112, 'муж': 1113, 'даёт': 1114, 'проще': 1115, 'гости': 1116, 'дарит': 1117, 'детство': 1118, 'столь': 1119, 'and': 1120, 'знали': 1121, 'вдали': 1122, 'двадцать': 1123, 'звёзд': 1124, 'рождения': 1125, 'бытия': 1126, 'слава': 1127, 'работа': 1128, 'либо': 1129, 'громко': 1130, 'выбор': 1131, 'стоят': 1132, 'любят': 1133, 'посмотри': 1134, 'сижу': 1135, 'хуже': 1136, 'ночной': 1137, 'работу': 1138, 'отдать': 1139, 'спину': 1140, 'прошлого': 1141, 'святой': 1142, 'тьма': 1143, 'родных': 1144, 'петь': 1145, 'водой': 1146, 'волю': 1147, 'й': 1148, 'нею': 1149, 'вслед': 1150, 'пойму': 1151, 'сладко': 1152, 'метель': 1153, 'людьми': 1154, 'пожалуйста': 1155, 'пойду': 1156, 'добрый': 1157, 'сможешь': 1158, 'повсюду': 1159, 'довольно': 1160, 'бежит': 1161, 'маленький': 1162, 'ясно': 1163, 'этому': 1164, 'искал': 1165, 'глядя': 1166, 'берегу': 1167, 'мгновенье': 1168, 'ибо': 1169, 'мечту': 1170, 'пальцы': 1171, 'вверх': 1172, 'сына': 1173, 'холодно': 1174, 'шли': 1175, 'каким': 1176, 'свободы': 1177, 'простить': 1178, 'вопросы': 1179, 'ошибки': 1180, 'даст': 1181, 'христа': 1182, 'бежать': 1183, 'белые': 1184, 'моем': 1185, 'детстве': 1186, 'улыбку': 1187, 'верь': 1188, 'кругу': 1189, 'обычно': 1190, 'вечный': 1191, 'белом': 1192, 'герой': 1193, 'уйду': 1194, 'забыла': 1195, 'небом': 1196, 'самых': 1197, 'принять': 1198, 'небесах': 1199, 'снится': 1200, 'книги': 1201, 'пришёл': 1202, 'взор': 1203, 'чужих': 1204, 'вечером': 1205, 'годом': 1206, 'всеми': 1207, 'темноте': 1208, 'звон': 1209, 'моём': 1210, 'дочь': 1211, 'уходят': 1212, 'играть': 1213, 'забыв': 1214, 'вряд': 1215, 'стук': 1216, 'пришлось': 1217, 'мальчик': 1218, 'мужчины': 1219, 'ти': 1220, 'многое': 1221, 'колени': 1222, 'одиночество': 1223, 'самым': 1224, 'що': 1225, 'вернусь': 1226, 'найду': 1227, 'городе': 1228, 'свету': 1229, 'проблем': 1230, 'хотят': 1231, 'пустой': 1232, 'второй': 1233, 'поэта': 1234, 'стол': 1235, 'ищет': 1236, 'дне': 1237, 'внезапно': 1238, 'холода': 1239, 'тихий': 1240, 'красоту': 1241, 'благодать': 1242, 'сном': 1243, 'пытаюсь': 1244, 'понимаешь': 1245, 'новых': 1246, 'д': 1247, 'вдвоем': 1248, 'суждено': 1249, 'летать': 1250, 'которым': 1251, 'спеша': 1252, 'стучит': 1253, 'берег': 1254, 'тянет': 1255, 'любили': 1256, 'манит': 1257, 'происходит': 1258, 'стихах': 1259, 'мечтаю': 1260, 'работы': 1261, 'нашем': 1262, 'песня': 1263, 'радостью': 1264, 'розы': 1265, 'твоего': 1266, 'сидит': 1267, 'волос': 1268, 'лучший': 1269, 'услышать': 1270, 'обман': 1271, 'поют': 1272, 'снегу': 1273, 'похоже': 1274, 'страну': 1275, 'народа': 1276, 'волосы': 1277, 'грязь': 1278, 'желание': 1279, 'войне': 1280, 'которое': 1281, 'вдоль': 1282, 'скажешь': 1283, 'горят': 1284, 'вечности': 1285, 'пришел': 1286, 'взял': 1287, 'награды': 1288, 'тиши': 1289, 'саду': 1290, 'искренне': 1291, 'прошла': 1292, 'рая': 1293, 'ушёл': 1294, 'цветок': 1295, 'истории': 1296, 'мрак': 1297, 'помощь': 1298, 'забыли': 1299, 'иной': 1300, 'р': 1301, 'своему': 1302, 'минут': 1303, 'нежности': 1304, 'закон': 1305, 'изменить': 1306, 'часов': 1307, 'бесконечно': 1308, 'желания': 1309, 'язык': 1310, 'мосты': 1311, 'понятно': 1312, 'подарок': 1313, 'прежнему': 1314, 'вечной': 1315, 'сути': 1316, 'роль': 1317, 'цель': 1318, 'аромат': 1319, 'вышел': 1320, 'рот': 1321, 'снежинки': 1322, 'уходи': 1323, 'луны': 1324, 'поцелуй': 1325, 'увидишь': 1326, 'наступит': 1327, 'свобода': 1328, 'воде': 1329, 'всюду': 1330, 'вполне': 1331, 'сердцах': 1332, 'строк': 1333, 'белых': 1334, 'вспоминать': 1335, 'приятно': 1336, 'прекрасный': 1337, 'папа': 1338, 'родился': 1339, 'правды': 1340, 'яркий': 1341, 'близко': 1342, 'рассказать': 1343, 'ох': 1344, 'оставил': 1345, 'счастливой': 1346, 'л': 1347, 'лёд': 1348, 'любимых': 1349, 'шум': 1350, 'мамы': 1351, 'слышать': 1352, 'рассвета': 1353, 'дворе': 1354, 'чудеса': 1355, 'своя': 1356, 'голоса': 1357, 'божий': 1358, 'солнышко': 1359, 'начал': 1360, 'общем': 1361, 'человеку': 1362, 'сомнений': 1363, 'словах': 1364, 'говоришь': 1365, 'храм': 1366, 'дает': 1367, 'речи': 1368, 'девушка': 1369, 'возьми': 1370, 'впрочем': 1371, 'разговор': 1372, 'огне': 1373, 'молодой': 1374, 'труд': 1375, 'фраз': 1376, 'виноват': 1377, 'птицей': 1378, 'тает': 1379, 'отдам': 1380, 'одиноко': 1381, 'нос': 1382, 'to': 1383, 'победы': 1384, 'русь': 1385, 'a': 1386, 's': 1387, 'шепчет': 1388, 'you': 1389, 'сердец': 1390, 'навек': 1391, 'шанс': 1392, 'лик': 1393, 'огни': 1394, 'шла': 1395, 'слезами': 1396, 'пытаясь': 1397, 'разлуки': 1398, 'золотой': 1399, 'рада': 1400, 'одному': 1401, 'матери': 1402, 'умею': 1403, 'головы': 1404, 'жди': 1405, 'муки': 1406, 'сказку': 1407, 'весело': 1408, 'тьмы': 1409, 'четыре': 1410, 'живем': 1411, 'писал': 1412, 'тьму': 1413, 'верит': 1414, 'смотрел': 1415, 'вскоре': 1416, 'зовут': 1417, 'сомнения': 1418, 'ушел': 1419, 'сторону': 1420, 'бегу': 1421, 'начать': 1422, 'радостно': 1423, 'окне': 1424, 'бред': 1425, 'природе': 1426, 'сказка': 1427, 'тайны': 1428, 'пусто': 1429, 'теле': 1430, 'русский': 1431, 'мозг': 1432, 'времена': 1433, 'войну': 1434, 'страдать': 1435, 'прах': 1436, 'человеком': 1437, 'постели': 1438, 'жив': 1439, 'возле': 1440, 'давайте': 1441, 'пройдёт': 1442, 'чей': 1443, 'дам': 1444, 'поняла': 1445, 'немало': 1446, 'временем': 1447, 'шёл': 1448, 'ваших': 1449, 'жалко': 1450, 'кричать': 1451, 'люби': 1452, 'желаний': 1453, 'звезд': 1454, 'пространство': 1455, 'слышно': 1456, 'поверить': 1457, 'особенно': 1458, 'здоровья': 1459, 'видимо': 1460, 'глупо': 1461, 'стоял': 1462, 'прошли': 1463, 'дно': 1464, 'пройдет': 1465, 'пожалуй': 1466, 'сознание': 1467, 'говорили': 1468, 'лице': 1469, 'спасти': 1470, 'поток': 1471, 'травы': 1472, 'телом': 1473, 'ходить': 1474, 'врагов': 1475, 'хотели': 1476, 'дождём': 1477, 'дают': 1478, 'дышит': 1479, 'кричит': 1480, 'бегут': 1481, 'вон': 1482, 'читать': 1483, 'увижу': 1484, 'огнём': 1485, 'оставить': 1486, 'россию': 1487, 'океан': 1488, 'отчего': 1489, 'смогли': 1490, 'дурак': 1491, 'марта': 1492, 'осенью': 1493, 'листьев': 1494, 'еле': 1495, 'мудрость': 1496, 'думаешь': 1497, 'речь': 1498, 'уши': 1499, 'безумно': 1500, 'холодной': 1501, 'другое': 1502, 'ныне': 1503, 'готовы': 1504, 'жива': 1505, 'нежной': 1506, 'плоть': 1507, 'оба': 1508, 'чудес': 1509, 'духа': 1510, 'полёт': 1511, 'дарить': 1512, 'отныне': 1513, 'здравствуй': 1514, 'як': 1515, 'плевать': 1516, 'строчки': 1517, 'смотришь': 1518, 'нашего': 1519, 'встрече': 1520, 'зари': 1521, 'стоять': 1522, 'тысяч': 1523, 'история': 1524, 'истины': 1525, 'квартире': 1526, 'говори': 1527, 'потерял': 1528, 'плачу': 1529, 'благодарю': 1530, 'дорогая': 1531, 'придётся': 1532, 'жар': 1533, 'вмиг': 1534, 'уснуть': 1535, 'письма': 1536, 'подруга': 1537, 'неужели': 1538, 'хлеб': 1539, 'пахнет': 1540, 'урок': 1541, 'простите': 1542, 'сомненья': 1543, 'скажите': 1544, 'первым': 1545, 'бывают': 1546, 'знак': 1547, 'редко': 1548, 'чьи': 1549, 'светло': 1550, 'совершенно': 1551, 'греет': 1552, 'тоску': 1553, 'рассвете': 1554, 'обид': 1555, 'недавно': 1556, 'реальность': 1557, 'известно': 1558, 'отказ': 1559, 'молчит': 1560, 'другую': 1561, 'ласки': 1562, 'тишину': 1563, 'весне': 1564, 'успех': 1565, 'мечтах': 1566, 'каких': 1567, 'нечего': 1568, 'кружит': 1569, 'красотой': 1570, 'нежных': 1571, 'дрожь': 1572, 'п': 1573, 'умереть': 1574, 'волна': 1575, 'минуту': 1576, 'пойми': 1577, 'светлый': 1578, 'нашла': 1579, 'горечь': 1580, 'пропасть': 1581, 'первой': 1582, 'кровать': 1583, 'ангелы': 1584, 'хотим': 1585, 'наяву': 1586, 'великий': 1587, 'суеты': 1588, 'ушли': 1589, 'верно': 1590, 'воли': 1591, 'молчать': 1592, 'темно': 1593, 'близких': 1594, 'песок': 1595, 'думала': 1596, 'молю': 1597, 'встреча': 1598, 'вне': 1599, 'станешь': 1600, 'непременно': 1601, 'декабря': 1602, 'гулять': 1603, 'интересно': 1604, 'достаточно': 1605, 'ваша': 1606, 'пустоту': 1607, 'спешит': 1608, 'блеск': 1609, 'мгновение': 1610, 'понимать': 1611, 'держать': 1612, 'счастлива': 1613, 'счастью': 1614, 'духом': 1615, 'погода': 1616, 'заботы': 1617, 'эх': 1618, 'сорок': 1619, 'настолько': 1620, 'терпеть': 1621, 'повезло': 1622, 'несёт': 1623, 'говорила': 1624, 'хороший': 1625, 'пишет': 1626, 'судьбою': 1627, 'мечтой': 1628, 'зверь': 1629, 'хороша': 1630, 'ярче': 1631, 'верный': 1632, 'смотря': 1633, 'хранит': 1634, 'оказалось': 1635, 'нашим': 1636, 'вашей': 1637, 'поезд': 1638, 'навечно': 1639, 'истина': 1640, 'солнечный': 1641, 'семье': 1642, 'случай': 1643, 'дитя': 1644, 'опыт': 1645, 'видим': 1646, 'хлеба': 1647, 'ноября': 1648, 'нового': 1649, 'рожденья': 1650, 'точки': 1651, 'творить': 1652, 'впервые': 1653, 'своею': 1654, 'игры': 1655, 'мечтал': 1656, 'горько': 1657, 'немножко': 1658, 'помни': 1659, 'весну': 1660, 'друзьями': 1661, 'сладкий': 1662, 'порог': 1663, 'упал': 1664, 'метели': 1665, 'полной': 1666, 'пустые': 1667, 'букет': 1668, 'потерять': 1669, 'вспомнить': 1670, 'лиц': 1671, 'пришли': 1672, 'трава': 1673, 'лучик': 1674, 'кошка': 1675, 'истину': 1676, 'злой': 1677, 'письмо': 1678, 'падает': 1679, 'верил': 1680, 'идей': 1681, 'столе': 1682, 'дыхание': 1683, 'шел': 1684, 'октября': 1685, 'кружится': 1686, 'семьи': 1687, 'незаметно': 1688, 'ладно': 1689, 'осколки': 1690, 'пошли': 1691, 'коли': 1692, 'станут': 1693, 'дождем': 1694, 'юности': 1695, 'остаётся': 1696, 'успел': 1697, 'рекой': 1698, 'возможность': 1699, 'двое': 1700, 'поймешь': 1701, 'тенью': 1702, 'веки': 1703, 'секрет': 1704, 'любимым': 1705, 'боги': 1706, 'похожи': 1707, 'решила': 1708, 'сполна': 1709, 'большая': 1710, 'множество': 1711, 'листва': 1712, 'счастливым': 1713, 'ваше': 1714, 'ой': 1715, 'последние': 1716, 'веришь': 1717, 'сети': 1718, 'сияет': 1719, 'убить': 1720, 'спеши': 1721, 'бреду': 1722, 'ненавижу': 1723, 'взгляды': 1724, 'ход': 1725, 'нашёл': 1726, 'помоги': 1727, 'бойся': 1728, 'старость': 1729, 'семь': 1730, 'губах': 1731, 'нашел': 1732, 'планеты': 1733, 'деревьев': 1734, 'уверен': 1735, 'пришло': 1736, 'облаках': 1737, 'знаете': 1738, 'иметь': 1739, 'парень': 1740, 'глубоко': 1741, 'встреч': 1742, 'черты': 1743, 'просит': 1744, 'видела': 1745, 'зиму': 1746, 'солдат': 1747, 'дому': 1748, 'дыханье': 1749, 'ведёт': 1750, 'обязательно': 1751, 'веков': 1752, 'пепел': 1753, 'дышу': 1754, 'является': 1755, 'поверьте': 1756, 'имени': 1757, 'встречать': 1758, 'оставь': 1759, 'дана': 1760, 'умирать': 1761, 'виду': 1762, 'спросил': 1763, 'остается': 1764, 'позади': 1765, 'ровно': 1766, 'чья': 1767, 'нервы': 1768, 'смеяться': 1769, 'десять': 1770, 'верой': 1771, 'х': 1772, 'нигде': 1773, 'полна': 1774, 'дождик': 1775, 'мужчин': 1776, 'тишины': 1777, 'работе': 1778, 'лучи': 1779, 'камни': 1780, 'надежде': 1781, 'новое': 1782, 'видать': 1783, 'вести': 1784, 'каждую': 1785, 'чистый': 1786, 'лечу': 1787, 'комнате': 1788, 'стихами': 1789, 'порога': 1790, 'маме': 1791, 'законы': 1792, 'разом': 1793, 'прекрасен': 1794, 'самим': 1795, 'ввысь': 1796, 'красивый': 1797, 'утру': 1798, 'серый': 1799, 'милой': 1800, 'полон': 1801, 'старик': 1802, 'надежд': 1803, 'объятья': 1804, 'тумане': 1805, 'детям': 1806, 'желанья': 1807, 'тоской': 1808, 'потерь': 1809, 'позже': 1810, 'осторожно': 1811, 'лед': 1812, 'просить': 1813, 'стон': 1814, 'воле': 1815, 'автор': 1816, 'любите': 1817, 'печально': 1818, 'бег': 1819, 'дала': 1820, 'видя': 1821, 'сказали': 1822, 'награда': 1823, 'действительно': 1824, 'ходит': 1825, 'нести': 1826, 'изнутри': 1827, 'подарил': 1828, 'волной': 1829, 'счастливы': 1830, 'ребята': 1831, 'умер': 1832, 'открыть': 1833, 'встретить': 1834, 'ответы': 1835, 'груз': 1836, 'расскажи': 1837, 'совет': 1838, 'ада': 1839, 'приду': 1840, 'виде': 1841, 'пытался': 1842, 'глубине': 1843, 'поет': 1844, 'объятьях': 1845, 'реке': 1846, 'делает': 1847, 'каждое': 1848, 'вьюга': 1849, 'забот': 1850, 'картины': 1851, 'раю': 1852, 'чувствовать': 1853, 'постель': 1854, 'уют': 1855, 'всякий': 1856, 'муза': 1857, 'единственный': 1858, 'взгляда': 1859, 'здоровье': 1860, 'вещи': 1861, 'нежные': 1862, 'тридцать': 1863, 'губами': 1864, 'in': 1865, 'белая': 1866, 'правильно': 1867, 'останусь': 1868, 'лень': 1869, 'терять': 1870, 'написать': 1871, 'пара': 1872, 'яд': 1873, 'of': 1874, 'лучшее': 1875, 'пью': 1876, 'вернулся': 1877, 'небесный': 1878, 'надоело': 1879, 'роз': 1880, 'лечит': 1881, 'поскольку': 1882, 'юность': 1883, 'нож': 1884, 'выходит': 1885, 'стоишь': 1886, 'смотрят': 1887, 'понимая': 1888, 'ухожу': 1889, 'свыше': 1890, 'сверху': 1891, 'бьётся': 1892, 'высоты': 1893, 'красива': 1894, 'песен': 1895, 'оков': 1896, 'упасть': 1897, 'выход': 1898, 'создал': 1899, 'уста': 1900, 'слышал': 1901, 'берега': 1902, 'рады': 1903, 'очи': 1904, 'придется': 1905, 'творца': 1906, 'случится': 1907, 'оказался': 1908, 'другими': 1909, 'ими': 1910, 'бокал': 1911, 'сказке': 1912, 'понимает': 1913, 'христос': 1914, 'гордость': 1915, 'бывало': 1916, 'траве': 1917, 'зовёт': 1918, 'луной': 1919, 'ярких': 1920, 'чистой': 1921, 'коже': 1922, 'подарки': 1923, 'проходят': 1924, 'музыку': 1925, 'высоко': 1926, 'существует': 1927, 'пыли': 1928, 'плен': 1929, 'лицом': 1930, 'итоге': 1931, 'самые': 1932, 'золото': 1933, 'трудом': 1934, 'столом': 1935, 'красок': 1936, 'гор': 1937, 'подарит': 1938, 'пустоты': 1939, 'встретил': 1940, 'ответил': 1941, 'старой': 1942, 'причины': 1943, 'мгновенья': 1944, 'смешно': 1945, 'пошла': 1946, 'мгле': 1947, 'эмоций': 1948, 'роли': 1949, 'устали': 1950, 'семью': 1951, 'хозяин': 1952, 'какую': 1953, 'целовать': 1954, 'свеча': 1955, 'твоем': 1956, 'беду': 1957, 'грязи': 1958, 'огнем': 1959, 'бьется': 1960, 'живых': 1961, 'смотрела': 1962, 'облаков': 1963, 'полюбить': 1964, 'страстей': 1965, 'плачь': 1966, 'одиночества': 1967, 'родина': 1968, 'ми': 1969, 'ладонь': 1970, 'бояться': 1971, 'держит': 1972, 'выйти': 1973, 'жюри': 1974, 'событий': 1975, 'стремится': 1976, 'последней': 1977, 'границы': 1978, 'проснуться': 1979, 'причин': 1980, 'плену': 1981, 'молитвы': 1982, 'улыбаться': 1983, 'тревоги': 1984, 'ждали': 1985, 'первая': 1986, 'счастливый': 1987, 'сидеть': 1988, 'вопреки': 1989, 'внимание': 1990, 'зеркало': 1991, 'обидно': 1992, 'оставляя': 1993, 'строго': 1994, 'нашли': 1995, 'словам': 1996, 'рукою': 1997, 'неважно': 1998, 'мило': 1999, 'умру': 2000, 'телу': 2001, 'помощи': 2002, 'полный': 2003, 'чувствах': 2004, 'успеть': 2005, 'суета': 2006, 'великой': 2007, 'толпе': 2008, 'новая': 2009, 'будущее': 2010, 'самая': 2011, 'каждая': 2012, 'ночей': 2013, 'узнал': 2014, 'большие': 2015, 'быстрее': 2016, 'страницы': 2017, 'святая': 2018, 'картина': 2019, 'мая': 2020, 'красный': 2021, 'грани': 2022, 'стекло': 2023, 'моменты': 2024, 'ушло': 2025, 'дружно': 2026, 'ведут': 2027, 'заря': 2028, 'миров': 2029, 'верность': 2030, 'май': 2031, 'спится': 2032, 'врага': 2033, 'весною': 2034, 'наоборот': 2035, 'шаги': 2036, 'воля': 2037, 'волк': 2038, 'плечо': 2039, 'посмотреть': 2040, 'сохранить': 2041, 'молодость': 2042, 'усталость': 2043, 'живёшь': 2044, 'связь': 2045, 'омут': 2046, 'my': 2047, 'помнит': 2048, 'совести': 2049, 'привык': 2050, 'гром': 2051, 'открыл': 2052, 'образом': 2053, 'третий': 2054, 'приходят': 2055, 'увидев': 2056, 'постой': 2057, 'верим': 2058, 'слышен': 2059, 'нежностью': 2060, 'одинок': 2061, 'ужин': 2062, 'славу': 2063, 'чёрный': 2064, 'огромный': 2065, 'горизонт': 2066, 'богов': 2067, 'солнцу': 2068, 'говоря': 2069, 'какого': 2070, 'царь': 2071, 'новую': 2072, 'главный': 2073, 'эхо': 2074, 'танце': 2075, 'обед': 2076, 'лужи': 2077, 'соль': 2078, 'утрам': 2079, 'целую': 2080, 'кричу': 2081, 'падают': 2082, 'моему': 2083, 'чести': 2084, 'видят': 2085, 'двор': 2086, 'мужа': 2087, 'милость': 2088, 'телефон': 2089, 'гроза': 2090, 'невзгоды': 2091, 'слышит': 2092, 'вернётся': 2093, 'позволь': 2094, 'планета': 2095, 'возьму': 2096, 'потери': 2097, 'красивой': 2098, 'серых': 2099, 'весьма': 2100, 'теплый': 2101, 'расскажу': 2102, 'стыдно': 2103, 'замок': 2104, 'гордо': 2105, 'познать': 2106, 'художник': 2107, 'танец': 2108, 'поймёшь': 2109, 'грустью': 2110, 'искала': 2111, 'руси': 2112, 'просил': 2113, 'рассветы': 2114, 'остальное': 2115, 'скажут': 2116, 'живое': 2117, 'правит': 2118, 'король': 2119, 'старые': 2120, 'старых': 2121, 'крыши': 2122, 'лучами': 2123, 'живешь': 2124, 'добрым': 2125, 'отношения': 2126, 'костра': 2127, 'добрые': 2128, 'сильный': 2129, 'оттого': 2130, 'удачи': 2131, 'корабли': 2132, 'добром': 2133, 'заметил': 2134, 'причина': 2135, 'считать': 2136, 'де': 2137, 'играют': 2138, 'пошёл': 2139, 'напишу': 2140, 'твоём': 2141, 'воспоминания': 2142, 'кухне': 2143, 'струны': 2144, 'суд': 2145, 'начале': 2146, 'удар': 2147, 'враги': 2148, 'прощать': 2149, 'ищем': 2150, 'корабль': 2151, 'цветами': 2152, 'крики': 2153, 'бесконечность': 2154, 'историю': 2155, 'песнь': 2156, 'устало': 2157, 'мужик': 2158, 'подумал': 2159, 'полностью': 2160, 'ищи': 2161, 'родину': 2162, 'мыслями': 2163, 'недели': 2164, 'хотите': 2165, 'позабыть': 2166, 'скуки': 2167, 'явно': 2168, 'упала': 2169, 'грёз': 2170, 'удел': 2171, 'написал': 2172, 'братья': 2173, 'народу': 2174, 'морозы': 2175, 'несут': 2176, 'вернется': 2177, 'умом': 2178, 'имена': 2179, 'стояла': 2180, 'ненависть': 2181, 'случае': 2182, 'билет': 2183, 'иисус': 2184, 'собака': 2185, 'часа': 2186, 'характер': 2187, 'ошибок': 2188, 'стене': 2189, 'тайну': 2190, 'постепенно': 2191, 'женой': 2192, 'повод': 2193, 'хватало': 2194, 'умеет': 2195, 'страданий': 2196, 'встал': 2197, 'пороге': 2198, 'воздухе': 2199, 'настанет': 2200, 'стен': 2201, 'января': 2202, 'глядит': 2203, 'встать': 2204, 'бес': 2205, 'течёт': 2206, 'заката': 2207, 'родным': 2208, 'невольно': 2209, 'похож': 2210, 'планы': 2211, 'читая': 2212, 'итог': 2213, 'ложится': 2214, 'бродит': 2215, 'подари': 2216, 'подарить': 2217, 'услышал': 2218, 'желанье': 2219, 'попал': 2220, 'уйдёт': 2221, 'ярким': 2222, 'встретимся': 2223, 'пиши': 2224, 'маму': 2225, 'листвы': 2226, 'ниже': 2227, 'прошёл': 2228, 'отчаянно': 2229, 'идём': 2230, 'рассветом': 2231, 'назло': 2232, 'ветерок': 2233, 'вой': 2234, 'ото': 2235, 'ногам': 2236, 'молчи': 2237, 'попробуй': 2238, 'делах': 2239, 'отдал': 2240, 'резко': 2241, 'молиться': 2242, 'ряд': 2243, 'злые': 2244, 'бремя': 2245, 'работать': 2246, 'зубы': 2247, 'мешает': 2248, 'милые': 2249, 'прекрасной': 2250, 'творец': 2251, 'открою': 2252, 'благо': 2253, 'будущем': 2254, 'вышло': 2255, 'фальши': 2256, 'черный': 2257, 'бабушка': 2258, 'само': 2259, 'боясь': 2260, 'отпусти': 2261, 'думай': 2262, 'бороться': 2263, 'спят': 2264, 'будьте': 2265, 'малость': 2266, 'интернета': 2267, 'мечтала': 2268, 'дрожит': 2269, 'виски': 2270, 'страстно': 2271, 'москва': 2272, 'угодно': 2273, 'талант': 2274, 'точку': 2275, 'красивая': 2276, 'нежным': 2277, 'брата': 2278, 'маски': 2279, 'светлой': 2280, 'слух': 2281, 'исправить': 2282, 'поры': 2283, 'болезни': 2284, 'пустых': 2285, 'читаю': 2286, 'послушай': 2287, 'надолго': 2288, 'глоток': 2289, 'приходится': 2290, 'желает': 2291, 'подарю': 2292, 'заново': 2293, 'спешу': 2294, 'аж': 2295, 'признаться': 2296, 'быстрей': 2297, 'получилось': 2298, 'решили': 2299, 'подумать': 2300, 'слушай': 2301, 'толпы': 2302, 'рифмы': 2303, 'щеке': 2304, 'многим': 2305, 'улицы': 2306, 'хвост': 2307, 'например': 2308, 'способен': 2309, 'зов': 2310, 'времён': 2311, 'молюсь': 2312, 'судеб': 2313, 'славы': 2314, 'напротив': 2315, 'август': 2316, 'лицу': 2317, 'лететь': 2318, 'самому': 2319, 'гореть': 2320, 'держись': 2321, 'слезах': 2322, 'страдания': 2323, 'сумел': 2324, 'одиночестве': 2325, 'факт': 2326, 'чуда': 2327, 'книгу': 2328, 'луну': 2329, 'молчишь': 2330, 'вспомни': 2331, 'тревожит': 2332, 'полно': 2333, 'октябрь': 2334, 'взамен': 2335, 'любого': 2336, 'зимний': 2337, 'стороне': 2338, 'ели': 2339, 'горло': 2340, 'песней': 2341, 'беде': 2342, 'пространстве': 2343, 'ведет': 2344, 'стучится': 2345, 'растает': 2346, 'лучах': 2347, 'напиться': 2348, 'вечера': 2349, 'крепче': 2350, 'играя': 2351, 'туч': 2352, 'красавица': 2353, 'полет': 2354, 'помогает': 2355, 'полу': 2356, 'никаких': 2357, 'тёплый': 2358, 'пошел': 2359, 'уходя': 2360, 'небесной': 2361, 'рассказ': 2362, 'порядок': 2363, 'искры': 2364, 'льда': 2365, 'плачут': 2366, 'первых': 2367, 'простор': 2368, 'труда': 2369, 'космос': 2370, 'жалеть': 2371, 'вспять': 2372, 'приносит': 2373, 'красивых': 2374, 'углу': 2375, 'всяких': 2376, 'молчу': 2377, 'поэты': 2378, 'сюжет': 2379, 'такими': 2380, 'мечте': 2381, 'пальто': 2382, 'скучно': 2383, 'хватило': 2384, 'наружу': 2385, 'холодным': 2386, 'бою': 2387, 'несет': 2388, 'добрых': 2389, 'бьют': 2390, 'дважды': 2391, 'взяла': 2392, 'мозги': 2393, 'ветки': 2394, 'плывут': 2395, 'обмана': 2396, 'ждешь': 2397, 'плыть': 2398, 'хранить': 2399, 'купить': 2400, 'бездну': 2401, 'пожар': 2402, 'звездой': 2403, 'наряд': 2404, 'дружба': 2405, 'вопросов': 2406, 'границ': 2407, 'полночь': 2408, 'родители': 2409, 'ищут': 2410, 'перемен': 2411, 'чувствуешь': 2412, 'аду': 2413, 'кости': 2414, 'ч': 2415, 'плохое': 2416, 'суете': 2417, 'крылом': 2418, 'встретились': 2419, 'душах': 2420, 'теми': 2421, 'радует': 2422, 'смертью': 2423, 'доброе': 2424, 'жену': 2425, 'золотая': 2426, 'разу': 2427, 'первые': 2428, 'смеха': 2429, 'ласково': 2430, 'рисует': 2431, 'сидел': 2432, 'ненастья': 2433, 'захочешь': 2434, 'рок': 2435, 'ожидании': 2436, 'машины': 2437, 'ждём': 2438, 'наступает': 2439, 'живы': 2440, 'уносит': 2441, 'мост': 2442, 'менять': 2443, 'вечная': 2444, 'красивые': 2445, 'умирает': 2446, 'стеной': 2447, 'кричат': 2448, 'вспоминая': 2449, 'одинокий': 2450, 'глубины': 2451, 'толку': 2452, 'тайна': 2453, 'ею': 2454, 'черту': 2455, 'быт': 2456, 'прекрасных': 2457, 'полей': 2458, 'поздравляю': 2459, 'миллионы': 2460, 'церкви': 2461, 'мыслью': 2462, 'решать': 2463, 'окон': 2464, 'короче': 2465, 'гораздо': 2466, 'вышла': 2467, 'прожил': 2468, 'судить': 2469, 'пел': 2470, 'вдалеке': 2471, 'подальше': 2472, 'ключи': 2473, 'летний': 2474, 'стараюсь': 2475, 'согреться': 2476, 'станем': 2477, 'долг': 2478, 'согреет': 2479, 'открой': 2480, 'прими': 2481, 'уходить': 2482, 'мгновения': 2483, 'чисто': 2484, 'растут': 2485, 'бросил': 2486, 'отсюда': 2487, 'реальности': 2488, 'весенний': 2489, 'роман': 2490, 'думая': 2491, 'подобно': 2492, 'ненастье': 2493, 'одежды': 2494, 'ноябрь': 2495, 'прохожих': 2496, 'забудем': 2497, 'выпить': 2498, 'золотом': 2499, 'думает': 2500, 'парке': 2501, 'миры': 2502, 'мил': 2503, 'сплю': 2504, 'свободно': 2505, 'несмотря': 2506, 'хорошее': 2507, 'услышишь': 2508, 'пример': 2509, 'фонари': 2510, 'удача': 2511, 'оставлю': 2512, 'пели': 2513, 'яркие': 2514, 'ловлю': 2515, 'спишь': 2516, 'номер': 2517, 'землёй': 2518, 'чая': 2519, 'пройдут': 2520, 'лету': 2521, 'нити': 2522, 'богатство': 2523, 'ничем': 2524, 'проснулся': 2525, 'сможем': 2526, 'бьёт': 2527, 'ребёнок': 2528, 'видели': 2529, 'пережить': 2530, 'попасть': 2531, 'полны': 2532, 'дверью': 2533, 'живая': 2534, 'собственной': 2535, 'гуляет': 2536, 'последнее': 2537, 'весть': 2538, 'отвечу': 2539, 'влюбиться': 2540, 'оставит': 2541, 'вашу': 2542, 'брать': 2543, 'домов': 2544, 'друзьям': 2545, 'гляжу': 2546, 'женщину': 2547, 'первое': 2548, 'счёт': 2549, 'написано': 2550, 'ветви': 2551, 'искусство': 2552, 'звонок': 2553, 'уйдет': 2554, 'начинает': 2555, 'зависть': 2556, 'удачу': 2557, 'целом': 2558, 'связи': 2559, 'буквы': 2560, 'неожиданно': 2561, 'роза': 2562, 'вселенная': 2563, 'мотив': 2564, 'кровати': 2565, 'стакан': 2566, 'зной': 2567, 'спустя': 2568, 'детский': 2569, 'желая': 2570, 'мысленно': 2571, 'огней': 2572, 'капель': 2573, 'грехов': 2574, 'странный': 2575, 'лежат': 2576, 'обрести': 2577, 'представить': 2578, 'старости': 2579, 'узнаешь': 2580, 'глазам': 2581, 'серой': 2582, 'хожу': 2583, 'портрет': 2584, 'ключ': 2585, 'держи': 2586, 'обещаю': 2587, 'золотые': 2588, 'природу': 2589, 'достойно': 2590, 'ищешь': 2591, 'вины': 2592, 'считаю': 2593, 'беги': 2594, 'расстаться': 2595, 'общества': 2596, 'вспомнил': 2597, 'сознания': 2598, 'борьбе': 2599, 'преграды': 2600, 'храни': 2601, 'объятия': 2602, 'правил': 2603, 'улыбаясь': 2604, 'могло': 2605, 'поступки': 2606, 'унисон': 2607, 'головою': 2608, 'ребенок': 2609, 'насквозь': 2610, 'удержать': 2611, 'зовет': 2612, 'любимые': 2613, 'последних': 2614, 'любое': 2615, 'окошко': 2616, 'источник': 2617, 'плач': 2618, 'назвать': 2619, 'тише': 2620, 'сша': 2621, 'новом': 2622, 'плоти': 2623, 'малыш': 2624, 'подарила': 2625, 'смотрели': 2626, 'русской': 2627, 'лоб': 2628, 'падать': 2629, 'чужая': 2630, 'голубой': 2631, 'внимания': 2632, 'насколько': 2633, 'тихой': 2634, 'прекрасней': 2635, 'побед': 2636, 'прошел': 2637, 'биться': 2638, 'передать': 2639, 'эй': 2640, 'разлука': 2641, 'конь': 2642, 'злая': 2643, 'любую': 2644, 'шесть': 2645, 'ждёшь': 2646, 'жадно': 2647, 'пил': 2648, 'ужас': 2649, 'страшный': 2650, 'листвой': 2651, 'умерла': 2652, 'исчез': 2653, 'намного': 2654, 'волшебный': 2655, 'родного': 2656, 'пёс': 2657, 'получается': 2658, 'увидела': 2659, 'найдешь': 2660, 'венец': 2661, 'получить': 2662, 'ритм': 2663, 'ходят': 2664, 'дарил': 2665, 'седой': 2666, 'ласкает': 2667, 'пойти': 2668, 'звезду': 2669, 'жарко': 2670, 'мудрости': 2671, 'мгновенно': 2672, 'былое': 2673, 'имею': 2674, 'дверей': 2675, 'наплевать': 2676, 'ответить': 2677, 'пою': 2678, 'настроение': 2679, 'меч': 2680, 'украдкой': 2681, 'воздуха': 2682, 'оттуда': 2683, 'иван': 2684, 'луне': 2685, 'ходил': 2686, 'зиме': 2687, 'еду': 2688, 'унять': 2689, 'свято': 2690, 'идем': 2691, 'школе': 2692, 'прекрасная': 2693, 'кстати': 2694, 'дарю': 2695, 'го': 2696, 'виновата': 2697, 'такт': 2698, 'девчонка': 2699, 'разговоры': 2700, 'держу': 2701, 'русских': 2702, 'листок': 2703, 'обещал': 2704, 'льётся': 2705, 'знакомый': 2706, 'метро': 2707, 'it': 2708, 'царство': 2709, 'кусочек': 2710, 'учиться': 2711, 'спешат': 2712, 'вспомнишь': 2713, 'неделю': 2714, 'стояли': 2715, 'небесам': 2716, 'кожу': 2717, 'жены': 2718, 'уст': 2719, 'простая': 2720, 'дайте': 2721, 'общество': 2722, 'предел': 2723, 'ветры': 2724, 'порядке': 2725, 'сестра': 2726, 'остатки': 2727, 'почувствовать': 2728, 'скалы': 2729, 'убежать': 2730, 'поймёт': 2731, 'возраст': 2732, 'молод': 2733, 'серые': 2734, 'костёр': 2735, 'мамой': 2736, 'книга': 2737, 'спасенье': 2738, 'кошки': 2739, 'прощения': 2740, 'начинается': 2741, 'греха': 2742, 'сынок': 2743, 'делал': 2744, 'ощущаю': 2745, 'восемь': 2746, 'объяснить': 2747, 'чувством': 2748, 'около': 2749, 'is': 2750, 'всевышний': 2751, 'зову': 2752, 'чист': 2753, 'больной': 2754, 'собрать': 2755, 'дыша': 2756, 'поднять': 2757, 'тел': 2758, 'отпустить': 2759, 'бо': 2760, 'настоящий': 2761, 'собаки': 2762, 'каком': 2763, 'вином': 2764, 'давит': 2765, 'водки': 2766, 'плод': 2767, 'гений': 2768, 'иные': 2769, 'книг': 2770, 'восток': 2771, 'возможности': 2772, 'коленях': 2773, 'рождество': 2774, 'появился': 2775, 'крыльях': 2776, 'девушки': 2777, 'страданья': 2778, 'звенит': 2779, 'подняться': 2780, 'знания': 2781, 'молчание': 2782, 'звери': 2783, 'узнаю': 2784, 'холодные': 2785, 'горячий': 2786, 'людях': 2787, 'шепот': 2788, 'страстью': 2789, 'сказав': 2790, 'ран': 2791, 'доброта': 2792, 'восторг': 2793, 'потеряла': 2794, 'первого': 2795, 'чужим': 2796, 'земных': 2797, 'отыскать': 2798, 'скажем': 2799, 'таков': 2800, 'шею': 2801, 'ветров': 2802, 'вздох': 2803, 'больших': 2804, 'большое': 2805, 'оставаться': 2806, 'подряд': 2807, 'привычно': 2808, 'дивный': 2809, 'исчезнет': 2810, 'яркой': 2811, 'подруги': 2812, 'ответе': 2813, 'следует': 2814, 'слезу': 2815, 'просторы': 2816, 'помог': 2817, 'победу': 2818, 'грустить': 2819, 'вещей': 2820, 'шепчу': 2821, 'приходи': 2822, 'жалея': 2823, 'смеётся': 2824, 'бросить': 2825, 'победа': 2826, 'последняя': 2827, 'крыше': 2828, 'сладость': 2829, 'ухо': 2830, 'просила': 2831, 'мечтает': 2832, 'морской': 2833, 'побольше': 2834, 'дорогие': 2835, 'простит': 2836, 'гнев': 2837, 'спи': 2838, 'лежать': 2839, 'небосвод': 2840, 'жалею': 2841, 'ноты': 2842, 'объятиях': 2843, 'большим': 2844, 'прекрасные': 2845, 'внизу': 2846, 'зимою': 2847, 'цепи': 2848, 'родную': 2849, 'мила': 2850, 'мест': 2851, 'разлуке': 2852, 'картину': 2853, 'вдохновение': 2854, 'взлететь': 2855, 'ладонях': 2856, 'отрада': 2857, 'грудью': 2858, 'вальс': 2859, 'поэтов': 2860, 'последнего': 2861, 'кольцо': 2862, 'полюбил': 2863, 'трав': 2864, 'бьет': 2865, 'пропал': 2866, 'фразы': 2867, 'служить': 2868, 'морем': 2869, 'раб': 2870, 'приют': 2871, 'боится': 2872, 'обниму': 2873, 'упрямо': 2874, 'синий': 2875, 'впредь': 2876, 'ноль': 2877, 'покуда': 2878, 'карты': 2879, 'лежу': 2880, 'нелегко': 2881, 'счесть': 2882, 'разума': 2883, 'окнами': 2884, 'очередь': 2885, 'получил': 2886, 'глядят': 2887, 'слабость': 2888, 'куски': 2889, 'остров': 2890, 'толпа': 2891, 'любая': 2892, 'вспомню': 2893, 'зависит': 2894, 'найдёт': 2895, 'менее': 2896, 'александр': 2897, 'секунды': 2898, 'людской': 2899, 'стекла': 2900, 'доброй': 2901, 'возвращаться': 2902, 'отдохнуть': 2903, 'даром': 2904, 'забывать': 2905, 'маленькая': 2906, 'бал': 2907, 'отражение': 2908, 'живые': 2909, 'таком': 2910, 'сожалению': 2911, 'женщине': 2912, 'счастливые': 2913, 'тесно': 2914, 'родное': 2915, 'кое': 2916, 'страдает': 2917, 'пустыне': 2918, 'сергей': 2919, 'никакой': 2920, 'показать': 2921, 'тянется': 2922, 'эмоции': 2923, 'улицам': 2924, 'лучшие': 2925, 'спасение': 2926, 'доброты': 2927, 'любые': 2928, 'говорим': 2929, 'нечто': 2930, 'черт': 2931, 'поезда': 2932, 'блестит': 2933, 'необходимо': 2934, 'забываю': 2935, 'клочья': 2936, 'союз': 2937, 'верят': 2938, 'поисках': 2939, 'ворот': 2940, 'охота': 2941, 'узор': 2942, 'лети': 2943, 'декабрь': 2944, 'мам': 2945, 'зеркала': 2946, 'стая': 2947, 'лихо': 2948, 'научиться': 2949, 'глазки': 2950, 'обычный': 2951, 'русские': 2952, 'строить': 2953, 'росы': 2954, 'глубже': 2955, 'голосом': 2956, 'меняет': 2957, 'снаружи': 2958, 'вслух': 2959, 'красной': 2960, 'род': 2961, 'смысле': 2962, 'движение': 2963, 'жажду': 2964, 'выйдет': 2965, 'правде': 2966, 'ценить': 2967, 'струится': 2968, 'гладь': 2969, 'веря': 2970, 'простые': 2971, 'забыться': 2972, 'захотелось': 2973, 'пыталась': 2974, 'раза': 2975, 'настал': 2976, 'могилы': 2977, 'придут': 2978, 'невзначай': 2979, 'рода': 2980, 'похожа': 2981, 'уютно': 2982, 'предела': 2983, 'пожелать': 2984, 'поэтом': 2985, 'полях': 2986, 'ужасно': 2987, 'тонкой': 2988, 'зал': 2989, 'чиста': 2990, 'мирно': 2991, 'траву': 2992, 'мечтали': 2993, 'имеют': 2994, 'жалость': 2995, 'крыльев': 2996, 'закончится': 2997, 'плечу': 2998, 'счет': 2999, 'первую': 3000, 'помогут': 3001, 'осенней': 3002, 'забывай': 3003, 'спал': 3004, 'рвётся': 3005, 'падал': 3006, 'крыла': 3007, 'достоин': 3008, 'секунду': 3009, 'жара': 3010, 'выжить': 3011, 'уроки': 3012, 'холодных': 3013, 'гонит': 3014, 'краше': 3015, 'плед': 3016, 'побыть': 3017, 'стаи': 3018, 'бросает': 3019, 'глупость': 3020, 'лунный': 3021, 'план': 3022, 'сердечко': 3023, 'бережно': 3024, 'мороза': 3025, 'встречает': 3026, 'забудешь': 3027, 'вере': 3028, 'печалью': 3029, 'москве': 3030, 'оказалась': 3031, 'свежий': 3032, 'гостей': 3033, 'играл': 3034, 'находится': 3035, 'тают': 3036, 'убивать': 3037, 'чистым': 3038, 'дождей': 3039, 'планету': 3040, 'стонет': 3041, 'туманом': 3042, 'сидят': 3043, 'заре': 3044, 'беспечно': 3045, 'открыла': 3046, 'белое': 3047, 'школу': 3048, 'зови': 3049, 'класс': 3050, 'рождается': 3051, 'принимать': 3052, 'спросить': 3053, 'абсолютно': 3054, 'войти': 3055, 'пьяный': 3056, 'милых': 3057, 'маленькой': 3058, 'голод': 3059, 'пир': 3060, 'создать': 3061, 'стоя': 3062, 'цена': 3063, 'грозы': 3064, 'устах': 3065, 'прощенья': 3066, 'сторон': 3067, 'листву': 3068, 'интернет': 3069, 'эхом': 3070, 'откроет': 3071, 'мёд': 3072, 'сущность': 3073, 'листа': 3074, 'коснуться': 3075, 'цветом': 3076, 'можете': 3077, 'беречь': 3078, 'клетке': 3079, 'поставить': 3080, 'коня': 3081, 'кружат': 3082, 'спаси': 3083, 'сделала': 3084, 'шагом': 3085, 'придумал': 3086, 'прошлым': 3087, 'прошлых': 3088, 'которому': 3089, 'благодаря': 3090, 'кричал': 3091, 'волн': 3092, 'родилась': 3093, 'теней': 3094, 'горле': 3095, 'любимого': 3096, 'наслаждаться': 3097, 'облик': 3098, 'улыбается': 3099, 'юг': 3100, 'становятся': 3101, 'дружбу': 3102, 'надеясь': 3103, 'внуки': 3104, 'дочка': 3105, 'игру': 3106, 'стороной': 3107, 'улыбаюсь': 3108, 'старше': 3109, 'счастливо': 3110, 'важнее': 3111, 'делить': 3112, 'светлые': 3113, 'осознать': 3114, 'святого': 3115, 'имел': 3116, 'стремиться': 3117, 'поцелуи': 3118, 'верила': 3119, 'делом': 3120, 'мук': 3121, 'сосед': 3122, 'p': 3123, 'говорите': 3124, 'церковь': 3125, 'прийти': 3126, 'иней': 3127, 'победить': 3128, 'улыбок': 3129, 'бури': 3130, 'знаний': 3131, 'став': 3132, 'шагов': 3133, 'нежная': 3134, 'многом': 3135, 'фонарь': 3136, 'всерьёз': 3137, 'мальчишка': 3138, 'пламени': 3139, 'ласковый': 3140, 'следа': 3141, 'листопад': 3142, 'правила': 3143, 'страхи': 3144, 'це': 3145, 'учитель': 3146, 'никакого': 3147, 'долгих': 3148, 'подумай': 3149, 'обидеть': 3150, 'мчится': 3151, 'прекрасное': 3152, 'поймет': 3153, 'следом': 3154, 'спине': 3155, 'видна': 3156, 'избежать': 3157, 'господин': 3158, 'знаком': 3159, 'удалось': 3160, 'мере': 3161, 'злость': 3162, 'тревожно': 3163, 'стена': 3164, 'сентября': 3165, 'старая': 3166, 'пьян': 3167, 'льдом': 3168, 'сидишь': 3169, 'кожи': 3170, 'вовек': 3171, 'августа': 3172, 'огромной': 3173, 'закрыть': 3174, 'немой': 3175, 'пела': 3176, 'рядышком': 3177, 'сказано': 3178, 'проснулась': 3179, 'печать': 3180, 'звучат': 3181, 'вернулась': 3182, 'течет': 3183, 'дама': 3184, 'несу': 3185, 'успела': 3186, 'жизненный': 3187, 'некогда': 3188, 'робко': 3189, 'приговор': 3190, 'наверняка': 3191, 'силуэт': 3192, 'снятся': 3193, 'веселье': 3194, 'красив': 3195, 'родителей': 3196, 'спросила': 3197, 'лежал': 3198, 'понимал': 3199, 'ответит': 3200, 'андрей': 3201, 'боя': 3202, 'ворон': 3203, 'летают': 3204, 'строчек': 3205, 'природой': 3206, 'дикий': 3207, 'пули': 3208, 'кожей': 3209, 'вовремя': 3210, 'получится': 3211, 'обними': 3212, 'глупости': 3213, 'тая': 3214, 'девчонки': 3215, 'состояние': 3216, 'сильной': 3217, 'невзгод': 3218, 'счастливых': 3219, 'соловей': 3220, 'божьей': 3221, 'виден': 3222, 'борьба': 3223, 'неужто': 3224, 'пылает': 3225, 'точка': 3226, 'мнение': 3227, 'босиком': 3228, 'март': 3229, 'сутки': 3230, 'кота': 3231, 'гость': 3232, 'кармане': 3233, 'достать': 3234, 'кусок': 3235, 'пылью': 3236, 'святые': 3237, 'береги': 3238, 'будете': 3239, 'увидит': 3240, 'сидя': 3241, 'ребёнка': 3242, 'проста': 3243, 'дан': 3244, 'попрошу': 3245, 'сладкой': 3246, 'стан': 3247, 'шар': 3248, 'грущу': 3249, 'улиц': 3250, 'водку': 3251, 'черной': 3252, 'жестоко': 3253, 'чёрной': 3254, 'стену': 3255, 'вод': 3256, 'угол': 3257, 'чёрт': 3258, 'процесс': 3259, 'страдаю': 3260, 'знакомы': 3261, 'реже': 3262, 'кричи': 3263, 'храме': 3264, 'согреть': 3265, 'лишних': 3266, 'сознанье': 3267, 'рвется': 3268, 'ушко': 3269, 'взгляде': 3270, 'подходит': 3271, 'тревога': 3272, 'бери': 3273, 'объятий': 3274, 'стужу': 3275, 'уйдут': 3276, 'слепой': 3277, 'одновременно': 3278, 'воин': 3279, 'чудесный': 3280, 'признаюсь': 3281, 'камнем': 3282, 'встречаю': 3283, 'мечтая': 3284, 'плюс': 3285, 'дерево': 3286, 'иных': 3287, 'считает': 3288, 'летели': 3289, 'дьявол': 3290, 'вдох': 3291, 'принц': 3292, 'пополам': 3293, 'растёт': 3294, 'me': 3295, 'тонкий': 3296, 'желаем': 3297, 'призрак': 3298, 'сады': 3299, 'вор': 3300, 'заставляет': 3301, 'движения': 3302, 'поутру': 3303, 'взглянуть': 3304, 'очередной': 3305, 'улицу': 3306, 'тоске': 3307, 'спасает': 3308, 'играли': 3309, 'парус': 3310, 'теряя': 3311, 'ресницы': 3312, 'героев': 3313, 'тоскливо': 3314, 'поэзии': 3315, 'наедине': 3316, 'живите': 3317, 'ногах': 3318, 'погас': 3319, 'ответь': 3320, 'хоровод': 3321, 'поймать': 3322, 'живым': 3323, 'прощанье': 3324, 'прям': 3325, 'темноты': 3326, 'произошло': 3327, 'мелодия': 3328, 'светлых': 3329, 'замечая': 3330, 'понимаем': 3331, 'обиду': 3332, 'воспоминаний': 3333, 'поклон': 3334, 'идёшь': 3335, 'закаты': 3336, 'идешь': 3337, 'мужем': 3338, 'земные': 3339, 'лично': 3340, 'волнует': 3341, 'чистого': 3342, 'девочки': 3343, 'спор': 3344, 'влюбился': 3345, 'ногой': 3346, 'пыл': 3347, 'запомни': 3348, 'пустяк': 3349, 'верьте': 3350, 'большую': 3351, 'услышу': 3352, 'свечу': 3353, 'открыто': 3354, 'человеке': 3355, 'считая': 3356, 'иллюзий': 3357, 'зеркале': 3358, 'целовал': 3359, 'времен': 3360, 'услышит': 3361, 'забудет': 3362, 'мене': 3363, 'болезнь': 3364, 'шумит': 3365, 'святое': 3366, 'проблема': 3367, 'доброту': 3368, 'оковы': 3369, 'финал': 3370, 'ю': 3371, 'землей': 3372, 'королева': 3373, 'святых': 3374, 'вечном': 3375, 'асфальт': 3376, 'долгий': 3377, 'президент': 3378, 'лучших': 3379, 'перо': 3380, 'здорово': 3381, 'пугает': 3382, 'владимир': 3383, 'приди': 3384, 'морю': 3385, 'узнала': 3386, 'прекрасны': 3387, 'закрыв': 3388, 'врать': 3389, 'февраль': 3390, 'свободе': 3391, 'пух': 3392, 'появилась': 3393, 'молитву': 3394, 'дамы': 3395, 'храня': 3396, 'божья': 3397, 'сверкает': 3398, 'новому': 3399, 'волшебство': 3400, 'вине': 3401, 'сделали': 3402, 'пой': 3403, 'свободен': 3404, 'очей': 3405, 'касаясь': 3406, 'силе': 3407, 'грез': 3408, 'делаю': 3409, 'выбрал': 3410, 'щедро': 3411, 'синь': 3412, 'символ': 3413, 'мраке': 3414, 'чьей': 3415, 'пламенем': 3416, 'ядом': 3417, 'деревне': 3418, 'найдёшь': 3419, 'планет': 3420, 'смеясь': 3421, 'криком': 3422, 'разобраться': 3423, 'дева': 3424, 'простых': 3425, 'пишут': 3426, 'красоте': 3427, 'искали': 3428, 'льются': 3429, 'молчанье': 3430, 'вже': 3431, 'бить': 3432, 'жизней': 3433, 'шее': 3434, 'злости': 3435, 'лесной': 3436, 'принёс': 3437, 'меняется': 3438, 'дум': 3439, 'хорошего': 3440, 'села': 3441, 'проснувшись': 3442, 'самую': 3443, 'отцом': 3444, 'хорош': 3445, 'теряю': 3446, 'венам': 3447, 'пустоте': 3448, 'тишь': 3449, 'деда': 3450, 'найди': 3451, 'ура': 3452, 'чьих': 3453, 'уходишь': 3454, 'явь': 3455, 'открыты': 3456, 'встретиться': 3457, 'ангелов': 3458, 'подожди': 3459, 'темнота': 3460, 'стекле': 3461, 'концов': 3462, 'просыпаться': 3463, 'ворота': 3464, 'висит': 3465, 'доля': 3466, 'рана': 3467, 'ангела': 3468, 'ходу': 3469, 'скрою': 3470, 'пустое': 3471, 'великая': 3472, 'слушал': 3473, 'веках': 3474, 'сделай': 3475, 'сильным': 3476, 'запад': 3477, 'показалось': 3478, 'играю': 3479, 'мгновений': 3480, 'которыми': 3481, 'тону': 3482, 'тайной': 3483, 'снежной': 3484, 'меры': 3485, 'вершины': 3486, 'дольше': 3487, 'поймут': 3488, 'успели': 3489, 'ссоры': 3490, 'плохой': 3491, 'спорить': 3492, 'легка': 3493, 'большого': 3494, 'замуж': 3495, 'мираж': 3496, 'земная': 3497, 'стран': 3498, 'уходил': 3499, 'молодые': 3500, 'дождями': 3501, 'решение': 3502, 'исчезает': 3503, 'помним': 3504, 'серым': 3505, 'пытается': 3506, 'интерес': 3507, 'жене': 3508, 'советы': 3509, 'сидели': 3510, 'гложет': 3511, 'убил': 3512, 'писала': 3513, 'принял': 3514, 'лучей': 3515, 'долгие': 3516, 'горький': 3517, 'закате': 3518, 'прибой': 3519, 'веке': 3520, 'лучом': 3521, 'секс': 3522, 'тысячу': 3523, 'баба': 3524, 'кончается': 3525, 'окнах': 3526, 'чужую': 3527, 'чувствами': 3528, 'отдала': 3529, 'делай': 3530, 'веками': 3531, 'сел': 3532, 'тихим': 3533, 'украине': 3534, 'богатства': 3535, 'сок': 3536, 'ручей': 3537, 'потихоньку': 3538, 'читал': 3539, 'обитель': 3540, 'храню': 3541, 'вены': 3542, 'кулак': 3543, 'высь': 3544, 'рост': 3545, 'ребенка': 3546, 'музыки': 3547, 'стрелки': 3548, 'дружить': 3549, 'расстались': 3550, 'нрав': 3551, 'февраля': 3552, 'смеется': 3553, 'холодом': 3554, 'украина': 3555, 'именем': 3556, 'поскорей': 3557, 'трепетно': 3558, 'школы': 3559, 'богиня': 3560, 'узоры': 3561, 'грань': 3562, 'косы': 3563, 'поэзия': 3564, 'подушку': 3565, 'узнает': 3566, 'звали': 3567, 'мгла': 3568, 'молодым': 3569, 'бумаги': 3570, 'ерунда': 3571, 'прелесть': 3572, 'вечерами': 3573, 'звонко': 3574, 'развития': 3575, 'звать': 3576, 'идеал': 3577, 'пальцев': 3578, 'первом': 3579, 'плавно': 3580, 'мужики': 3581, 'искрится': 3582, 'льется': 3583, 'молитва': 3584, 'серебром': 3585, 'строка': 3586, 'пульс': 3587, 'злобы': 3588, 'велик': 3589, 'дрожи': 3590, 'смеются': 3591, 'лужам': 3592, 'чувствам': 3593, 'улыбнись': 3594, 'злом': 3595, 'ссср': 3596, 'пили': 3597, 'хороши': 3598, 'некому': 3599, 'лаской': 3600, 'стань': 3601, 'находит': 3602, 'русская': 3603, 'отношений': 3604, 'круги': 3605, 'белого': 3606, 'погиб': 3607, 'народы': 3608, 'пары': 3609, 'расставаться': 3610, 'часах': 3611, 'цветут': 3612, 'печальный': 3613, 'дарят': 3614, 'покое': 3615, 'ласку': 3616, 'потеряли': 3617, 'найдет': 3618, 'часами': 3619, 'послал': 3620, 'преград': 3621, 'путин': 3622, 'описать': 3623, 'мораль': 3624, 'понимают': 3625, 'боялся': 3626, 'черные': 3627, 'вторая': 3628, 'тумана': 3629, 'богат': 3630, 'чужое': 3631, 'домик': 3632, 'цену': 3633, 'реку': 3634, 'награду': 3635, 'некуда': 3636, 'пепла': 3637, 'детьми': 3638, 'вставать': 3639, 'шёпот': 3640, 'корни': 3641, 'взяв': 3642, 'слышится': 3643, 'судья': 3644, 'сказочный': 3645, 'делают': 3646, 'разлук': 3647, 'иисуса': 3648, 'период': 3649, 'остановить': 3650, 'застыл': 3651, 'рек': 3652, 'глубину': 3653, 'сумею': 3654, 'обида': 3655, 'крым': 3656, 'прост': 3657, 'машин': 3658, 'неспешно': 3659, 'сколь': 3660, 'течение': 3661, 'близким': 3662, 'вечным': 3663, 'ждем': 3664, 'короткий': 3665, 'рисую': 3666, 'запахом': 3667, 'насладиться': 3668, 'ногу': 3669, 'молодая': 3670, 'черти': 3671, 'кружатся': 3672, 'январь': 3673, 'влюблён': 3674, 'низко': 3675, 'предков': 3676, 'водою': 3677, 'капельки': 3678, 'ощутить': 3679, 'оглядки': 3680, 'душевной': 3681, 'считают': 3682, 'кони': 3683, 'трепет': 3684, 'ходили': 3685, 'слове': 3686, 'искренность': 3687, 'дну': 3688, 'умный': 3689, 'колен': 3690, 'месяца': 3691, 'холодная': 3692, 'степи': 3693, 'that': 3694, 'некоторые': 3695, 'машина': 3696, 'надеяться': 3697, 'мудрец': 3698, 'мягко': 3699, 'шепчут': 3700, 'пойдёт': 3701, 'поворот': 3702, 'женщиной': 3703, 'знакомых': 3704, 'кипит': 3705, 'выйду': 3706, 'улыбнулась': 3707, 'отпускаю': 3708, 'ложатся': 3709, 'остатка': 3710, 'стенах': 3711, 'мелькают': 3712, 'доволен': 3713, 'улыбке': 3714, 'сидела': 3715, 'сбежать': 3716, 'простое': 3717, 'события': 3718, 'сойти': 3719, 'давал': 3720, 'смогут': 3721, 'облаками': 3722, 'числа': 3723, 'бежал': 3724, 'пройдя': 3725, 'беру': 3726, 'думали': 3727, 'обмануть': 3728, 'привыкли': 3729, 'винить': 3730, 'стой': 3731, 'родины': 3732, 'океана': 3733, 'погоду': 3734, 'тишиной': 3735, 'плоды': 3736, 'летает': 3737, 'завтрак': 3738, 'нахожу': 3739, 'пишешь': 3740, 'сладких': 3741, 'фоне': 3742, 'тревог': 3743, 'частью': 3744, 'теряем': 3745, 'пуст': 3746, 'стараясь': 3747, 'светлое': 3748, 'свернуть': 3749, 'бесполезно': 3750, 'спаситель': 3751, 'старался': 3752, 'давать': 3753, 'взгляни': 3754, 'воет': 3755, 'исчезла': 3756, 'красками': 3757, 'самих': 3758, 'порыв': 3759, 'открыта': 3760, 'число': 3761, 'замирает': 3762, 'покажет': 3763, 'песке': 3764, 'лёгкий': 3765, 'плеч': 3766, 'кричали': 3767, 'ребят': 3768, 'одежду': 3769, 'единственной': 3770, 'кусты': 3771, 'услышав': 3772, 'способны': 3773, 'чашу': 3774, 'застыла': 3775, 'страшны': 3776, 'решить': 3777, 'скучать': 3778, 'соловьи': 3779, 'сиянье': 3780, 'погоды': 3781, 'отцов': 3782, 'забывая': 3783, 'плакала': 3784, 'смыслом': 3785, 'передо': 3786, 'фонарей': 3787, 'заранее': 3788, 'царя': 3789, 'даришь': 3790, 'пушкин': 3791, 'губам': 3792, 'блаженство': 3793, 'пространства': 3794, 'давным': 3795, 'смехом': 3796, 'учит': 3797, 'соседи': 3798, 'идеи': 3799, 'прекрасным': 3800, 'устав': 3801, 'стоим': 3802, 'помощью': 3803, 'костер': 3804, 'покров': 3805, 'стола': 3806, 'небесных': 3807, 'берёзы': 3808, 'закрою': 3809, 'сатана': 3810, 'легкий': 3811, 'встречал': 3812, 'думы': 3813, 'темной': 3814, 'влюблен': 3815, 'считал': 3816, 'слепо': 3817, 'вдохновенье': 3818, 'кров': 3819, 'кричала': 3820, 'чуточку': 3821, 'горах': 3822, 'love': 3823, 'умело': 3824, 'ответов': 3825, 'благодарна': 3826, 'позабыв': 3827, 'убивает': 3828, 'вышли': 3829, 'печи': 3830, 'отнюдь': 3831, 'ветвей': 3832, 'глупый': 3833, 'океане': 3834, 'зверей': 3835, 'пасть': 3836, 'истинный': 3837, 'будни': 3838, 'опасно': 3839, 'прощаю': 3840, 'густой': 3841, 'взрослые': 3842, 'хорошие': 3843, 'собак': 3844, 'темноту': 3845, 'be': 3846, 'лучшей': 3847, 'линии': 3848, 'сталь': 3849, 'смотрите': 3850, 'забота': 3851, 'тяжко': 3852, 'теплее': 3853, 'царит': 3854, 'ресниц': 3855, 'лицах': 3856, 'апрель': 3857, 'сохрани': 3858, 'отвечать': 3859, 'прикоснуться': 3860, 'рыба': 3861, 'признания': 3862, 'согревает': 3863, 'страшен': 3864, 'захочет': 3865, 'покажется': 3866, 'извини': 3867, 'хороших': 3868, 'вырос': 3869, 'помнят': 3870, 'чаю': 3871, 'пройду': 3872, 'николай': 3873, 'солнечных': 3874, 'слог': 3875, 'капля': 3876, 'поделать': 3877, 'срока': 3878, 'тему': 3879, 'молодых': 3880, 'правило': 3881, 'делам': 3882, 'останутся': 3883, 'горю': 3884, 'утренней': 3885, 'обязан': 3886, 'старом': 3887, 'герои': 3888, 'сберечь': 3889, 'энергии': 3890, 'мигом': 3891, 'думают': 3892, 'чёрные': 3893, 'вернись': 3894, 'умоляю': 3895, 'ношу': 3896, 'вечное': 3897, 'крепкий': 3898, 'хранитель': 3899, 'вспомним': 3900, 'слезой': 3901, 'карман': 3902, 'детских': 3903, 'основа': 3904, 'состоянии': 3905, 'текут': 3906, 'случается': 3907, 'требует': 3908, 'пытались': 3909, 'село': 3910, 'флаг': 3911, 'боятся': 3912, 'земного': 3913, 'народов': 3914, 'блики': 3915, 'всякой': 3916, 'сниться': 3917, 'останься': 3918, 'ловить': 3919, 'двенадцать': 3920, 'счастливая': 3921, 'боишься': 3922, 'правдой': 3923, 'отлично': 3924, 'помните': 3925, 'парк': 3926, 'красные': 3927, 'пустая': 3928, 'познал': 3929, 'настоящее': 3930, 'встретишь': 3931, 'забрать': 3932, 'расскажет': 3933, 'чувствует': 3934, 'приму': 3935, 'днях': 3936, 'позабыл': 3937, 'дружбы': 3938, 'разрушить': 3939, 'желанный': 3940, 'скрывать': 3941, 'каприз': 3942, 'сирень': 3943, 'изменилось': 3944, 'месть': 3945, 'стучат': 3946, 'украины': 3947, 'стихотворение': 3948, 'душевный': 3949, 'зелёный': 3950, 'дура': 3951, 'напиши': 3952, 'матерей': 3953, 'отцу': 3954, 'одеялом': 3955, 'милей': 3956, 'чужого': 3957, 'сияют': 3958, 'безвозвратно': 3959, 'дышишь': 3960, 'смеюсь': 3961, 'фильм': 3962, 'смотрим': 3963, 'грустит': 3964, 'казаться': 3965, 'горячо': 3966, 'дорого': 3967, 'испить': 3968, 'глядишь': 3969, 'сбудется': 3970, 'господу': 3971, 'тоскою': 3972, 'мечтами': 3973, 'упорно': 3974, 'лете': 3975, 'важен': 3976, 'итак': 3977, 'молоко': 3978, 'языке': 3979, 'иного': 3980, 'мастер': 3981, 'носить': 3982, 'прощу': 3983, 'последним': 3984, 'сбылось': 3985, 'утонуть': 3986, 'правы': 3987, 'вину': 3988, 'спас': 3989, 'наблюдать': 3990, 'принцесса': 3991, 'цены': 3992, 'родине': 3993, 'молчат': 3994, 'крышу': 3995, 'центре': 3996, 'днями': 3997, 'невеста': 3998, 'одних': 3999, 'городов': 4000, 'выбрать': 4001, 'потоке': 4002, 'волшебной': 4003, 'желать': 4004, 'даря': 4005, 'внутренний': 4006, 'пейзаж': 4007, 'вошла': 4008, 'спешить': 4009, 'пей': 4010, 'перестал': 4011, 'сука': 4012, 'доктор': 4013, 'принес': 4014, 'чисты': 4015, 'медведь': 4016, 'ледяной': 4017, 'окошком': 4018, 'называют': 4019, 'щеки': 4020, 'игре': 4021, 'сугробы': 4022, 'подвиг': 4023, 'прячется': 4024, 'птицу': 4025, 'пуста': 4026, 'платья': 4027, 'сцене': 4028, 'звука': 4029, 'помогать': 4030, 'осенние': 4031, 'выпьем': 4032, 'поздравить': 4033, 'предо': 4034, 'машину': 4035, 'городом': 4036, 'замки': 4037, 'близок': 4038, 'попытки': 4039, 'шелест': 4040, 'нормально': 4041, 'посмотрел': 4042, 'светлым': 4043, 'быль': 4044, 'ловко': 4045, 'пойдём': 4046, 'расти': 4047, 'плечах': 4048, 'светило': 4049, 'ясный': 4050, 'верности': 4051, 'остальные': 4052, 'согласен': 4053, 'крыло': 4054, 'кафе': 4055, 'взором': 4056, 'любима': 4057, 'спросит': 4058, 'скал': 4059, 'ще': 4060, 'открыв': 4061, 'повернуть': 4062, 'север': 4063, 'дотла': 4064, 'книге': 4065, 'пальцами': 4066, 'игрушки': 4067, 'уверенно': 4068, 'лучшим': 4069, 'названием': 4070, 'синее': 4071, 'спасения': 4072, 'your': 4073, 'туманы': 4074, 'берет': 4075, 'построить': 4076, 'хорошим': 4077, 'плывёт': 4078, 'знакомые': 4079, 'болен': 4080, 'стоны': 4081, 'системы': 4082, 'прохожий': 4083, 'осенняя': 4084, 'понимание': 4085, 'жажда': 4086, 'чувствовал': 4087, 'строй': 4088, 'комнату': 4089, 'старого': 4090, 'задача': 4091, 'гаснет': 4092, 'влюбилась': 4093, 'жалости': 4094, 'прочих': 4095, 'исчезли': 4096, 'плечами': 4097, 'тетрадь': 4098, 'городу': 4099, 'стереть': 4100, 'предательство': 4101, 'гуляли': 4102, 'деньгами': 4103, 'сосны': 4104, 'чувствуя': 4105, 'сумрак': 4106, 'пьют': 4107, 'изо': 4108, 'родиться': 4109, 'нечаянно': 4110, 'разошлись': 4111, 'закрой': 4112, 'наивно': 4113, 'зависти': 4114, 'демон': 4115, 'благодарность': 4116, 'заботу': 4117, 'перемены': 4118, 'солдаты': 4119, 'путей': 4120, 'потоком': 4121, 'родник': 4122, 'живот': 4123, 'сидим': 4124, 'боле': 4125, 'дойти': 4126, 'глупые': 4127, 'мечтаний': 4128, 'несомненно': 4129, 'хорошая': 4130, 'небрежно': 4131, 'найдут': 4132, 'скорость': 4133, 'нечем': 4134, 'черта': 4135, 'with': 4136, 'творит': 4137, 'музыкой': 4138, 'рекою': 4139, 'чаем': 4140, 'отнять': 4141, 'льёт': 4142, 'коне': 4143, 'вдвойне': 4144, 'шагает': 4145, 'гармонии': 4146, 'дальний': 4147, 'поближе': 4148, 'ночные': 4149, 'раствориться': 4150, 'мечтою': 4151, 'подруг': 4152, 'верится': 4153, 'голубые': 4154, 'собственных': 4155, 'спиною': 4156, 'держал': 4157, 'точнее': 4158, 'имея': 4159, 'вечных': 4160, 'километры': 4161, 'обществе': 4162, 'деться': 4163, 'краса': 4164, 'пусты': 4165, 'снять': 4166, 'обидел': 4167, 'чрез': 4168, 'безумный': 4169, 'хлам': 4170, 'смеялись': 4171, 'ушедших': 4172, 'оказались': 4173, 'особо': 4174, 'радуга': 4175, 'прочим': 4176, 'выстрел': 4177, 'ответила': 4178, 'верен': 4179, 'безжалостно': 4180, 'листы': 4181, 'безмерно': 4182, 'волки': 4183, 'шторм': 4184, 'горькой': 4185, 'круга': 4186, 'пушистый': 4187, 'убит': 4188, 'реально': 4189, 'оказаться': 4190, 'прячет': 4191, 'шутку': 4192, 'холодном': 4193, 'непонятно': 4194, 'він': 4195, 'неземной': 4196, 'шептал': 4197, 'вспомнит': 4198, 'режет': 4199, 'тяжкий': 4200, 'боялась': 4201, 'застыли': 4202, 'выбирать': 4203, 'дорогам': 4204, 'рвутся': 4205, 'причал': 4206, 'светел': 4207, 'собрались': 4208, 'возврата': 4209, 'маршрут': 4210, 'спала': 4211, 'пеплом': 4212, 'человечество': 4213, 'ненавидеть': 4214, 'неся': 4215, 'від': 4216, 'зверя': 4217, 'вороны': 4218, 'любом': 4219, 'восход': 4220, 'поставил': 4221, 'видны': 4222, 'рассказал': 4223, 'песне': 4224, 'сзади': 4225, 'зрения': 4226, 'порыве': 4227, 'крыльями': 4228, 'одеяло': 4229, 'слаще': 4230, 'сознании': 4231, 'сильная': 4232, 'название': 4233, 'бродить': 4234, 'горьких': 4235, 'формы': 4236, 'виноваты': 4237, 'живя': 4238, 'камней': 4239, 'роса': 4240, 'сделав': 4241, 'плакал': 4242, 'улыбнулся': 4243, 'рождает': 4244, 'теплым': 4245, 'улыбкою': 4246, 'поднял': 4247, 'секреты': 4248, 'примет': 4249, 'сада': 4250, 'потолок': 4251, 'мал': 4252, 'дерева': 4253, 'растет': 4254, 'уныло': 4255, 'молитвой': 4256, 'строю': 4257, 'сирени': 4258, 'приказ': 4259, 'пойдет': 4260, 'теряет': 4261, 'близкие': 4262, 'забываем': 4263, 'домом': 4264, 'град': 4265, 'божественный': 4266, 'придешь': 4267, 'сильные': 4268, 'уйдешь': 4269, 'заставить': 4270, 'паруса': 4271, 'сумеет': 4272, 'меру': 4273, 'плача': 4274, 'иное': 4275, 'моде': 4276, 'принимаю': 4277, 'стадо': 4278, 'милым': 4279, 'искусства': 4280, 'вышине': 4281, 'глупых': 4282, 'дует': 4283, 'берёз': 4284, 'забытый': 4285, 'чи': 4286, 'высокой': 4287, 'щоб': 4288, 'выхода': 4289, 'грёзы': 4290, 'зале': 4291, 'чудный': 4292, 'нелепо': 4293, 'повторится': 4294, 'календарь': 4295, 'no': 4296, 'берегов': 4297, 'твердят': 4298, 'злых': 4299, 'врач': 4300, 'нежное': 4301, 'знаки': 4302, 'практически': 4303, 'начну': 4304, 'уме': 4305, 'даётся': 4306, 'уйди': 4307, 'поцелуев': 4308, 'прожитых': 4309, 'делаешь': 4310, 'снежинок': 4311, 'морей': 4312, 'слякоть': 4313, 'русского': 4314, 'пар': 4315, 'страхом': 4316, 'спасенья': 4317, 'отдавать': 4318, 'танцует': 4319, 'прощаться': 4320, 'пору': 4321, 'всерьез': 4322, 'гори': 4323, 'серость': 4324, 'бьются': 4325, 'дядя': 4326, 'страниц': 4327, 'одночасье': 4328, 'дремлет': 4329, 'тёмной': 4330, 'вечные': 4331, 'расстояние': 4332, 'отвечает': 4333, 'цветёт': 4334, 'справедливость': 4335, 'обнимать': 4336, 'зимней': 4337, 'будущего': 4338, 'лепестки': 4339, 'жалей': 4340, 'стынет': 4341, 'братьев': 4342, 'неизвестно': 4343, 'былом': 4344, 'ранним': 4345, 'срочно': 4346, 'остаются': 4347, 'врагам': 4348, 'минус': 4349, 'синим': 4350, 'способна': 4351, 'носит': 4352, 'оставила': 4353, 'последнюю': 4354, 'бушует': 4355, 'привыкла': 4356, 'красным': 4357, 'вашим': 4358, 'продолжает': 4359, 'толпой': 4360, 'могилу': 4361, 'начинаю': 4362, 'брожу': 4363, 'чудом': 4364, 'нежна': 4365, 'черно': 4366, 'спины': 4367, 'девушку': 4368, 'скрыть': 4369, 'девять': 4370, 'предстоит': 4371, 'дружок': 4372, 'маску': 4373, 'простил': 4374, 'принесла': 4375, 'ошибку': 4376, 'недолго': 4377, 'связаны': 4378, 'знамя': 4379, 'сильна': 4380, 'ложью': 4381, 'открывает': 4382, 'полюбила': 4383, 'родила': 4384, 'огонёк': 4385, 'страшной': 4386, 'праздником': 4387, 'сияние': 4388, 'волком': 4389, 'добрая': 4390, 'поговорить': 4391, 'школа': 4392, 'предал': 4393, 'ведая': 4394, 'странник': 4395, 'купил': 4396, 'ничуть': 4397, 'прошлой': 4398, 'глубин': 4399, 'вагон': 4400, 'висках': 4401, 'весёлый': 4402, 'мамочка': 4403, 'ложе': 4404, 'нежданно': 4405, 'дню': 4406, 'ощущение': 4407, 'звонкий': 4408, 'берёт': 4409, 'отраженье': 4410, 'квартиры': 4411, 'пойдем': 4412, 'сделаю': 4413, 'пошло': 4414, 'сентябрь': 4415, 'придёшь': 4416, 'потоки': 4417, 'готовит': 4418, 'вечного': 4419, 'лесов': 4420, 'славный': 4421, 'великих': 4422, 'благодарен': 4423, 'рос': 4424, 'пытаться': 4425, 'лгать': 4426, 'научилась': 4427, 'вальсе': 4428, 'усталый': 4429, 'маленькие': 4430, 'интернете': 4431, 'момента': 4432, 'танцевать': 4433, 'вопросом': 4434, 'змея': 4435, 'веселья': 4436, 'явился': 4437, 'for': 4438, 'дабы': 4439, 'приехал': 4440, 'ля': 4441, 'очаг': 4442, 'буря': 4443, 'блин': 4444, 'европе': 4445, 'речка': 4446, 'синей': 4447, 'округе': 4448, 'скрывая': 4449, 'манят': 4450, 'поверил': 4451, 'наступил': 4452, 'какими': 4453, 'учить': 4454, 'рвёт': 4455, 'жертву': 4456, 'тянутся': 4457, 'людских': 4458, 'такова': 4459, 'откровенно': 4460, 'наполняет': 4461, 'доверять': 4462, 'случиться': 4463, 'вьюги': 4464, 'забыт': 4465, 'свободной': 4466, 'стрелы': 4467, 'хвостом': 4468, 'маяк': 4469, 'странные': 4470, 'соли': 4471, 'сказкой': 4472, 'чертям': 4473, 'лучшая': 4474, 't': 4475, 'июня': 4476, 'запас': 4477, 'рыбы': 4478, 'подумала': 4479, 'боге': 4480, 'хозяйка': 4481, 'веселей': 4482, 'рождаются': 4483, 'хаос': 4484, 'мужчину': 4485, 'концу': 4486, 'товарищ': 4487, 'сигареты': 4488, 'стремительно': 4489, 'воевать': 4490, 'подчас': 4491, 'спокойствие': 4492, 'брошу': 4493, 'доказать': 4494, 'рябины': 4495, 'оставим': 4496, 'шутки': 4497, 'местах': 4498, 'большего': 4499, 'найдя': 4500, 'бабы': 4501, 'рассудок': 4502, 'окунуться': 4503, 'принесёт': 4504, 'тайком': 4505, 'тяжесть': 4506, 'жару': 4507, 'простым': 4508, 'напрочь': 4509, 'взглядов': 4510, 'встречали': 4511, 'вокзал': 4512, 'красивым': 4513, 'ошибка': 4514, 'струна': 4515, 'народе': 4516, 'годам': 4517, 'ночных': 4518, 'научи': 4519, 'немножечко': 4520, 'глупая': 4521, 'платить': 4522, 'любимую': 4523, 'дымом': 4524, 'тонкие': 4525, 'пиво': 4526, 'бокалы': 4527, 'выпал': 4528, 'обнимает': 4529, 'близкий': 4530, 'прятки': 4531, 'плеча': 4532, 'долю': 4533, 'зарю': 4534, 'женский': 4535, 'вернее': 4536, 'загадка': 4537, 'глава': 4538, 'спокойной': 4539, 'лишний': 4540, 'жутко': 4541, 'собирать': 4542, 'захотел': 4543, 'стар': 4544, 'богам': 4545, 'радоваться': 4546, 'би': 4547, 'попала': 4548, 'оставляет': 4549, 'ураган': 4550, 'капитан': 4551, 'разным': 4552, 'твоею': 4553, 'играем': 4554, 'снежный': 4555, 'озеро': 4556, 'матушка': 4557, 'заглянуть': 4558, 'лужах': 4559, 'горячей': 4560, 'бумаге': 4561, 'назвал': 4562, 'добрее': 4563, 'бежала': 4564, 'петух': 4565, 'верх': 4566, 'магазин': 4567, 'святую': 4568, 'слову': 4569, 'свидание': 4570, 'волосах': 4571, 'действия': 4572, 'перестану': 4573, 'рыжий': 4574, 'носом': 4575, 'грустный': 4576, 'маленьких': 4577, 'гроба': 4578, 'душит': 4579, 'далеки': 4580, 'ощущать': 4581, 'осенних': 4582, 'стыда': 4583, 'трёх': 4584, 'палач': 4585, 'умеешь': 4586, 'будней': 4587, 'кумир': 4588, 'жилах': 4589, 'князь': 4590, 'мудрый': 4591, 'верили': 4592, 'высокий': 4593, 'останешься': 4594, 'настало': 4595, 'твоему': 4596, 'летим': 4597, 'дыханьем': 4598, 'спокоен': 4599, 'уму': 4600, 'создатель': 4601, 'врагу': 4602, 'лесом': 4603, 'вершин': 4604, 'наполнен': 4605, 'напоминает': 4606, 'куст': 4607, 'пал': 4608, 'семя': 4609, 'делами': 4610, 'борьбы': 4611, 'отпускать': 4612, 'испытать': 4613, 'наука': 4614, 'никем': 4615, 'проснусь': 4616, 'блестят': 4617, 'истин': 4618, 'слышим': 4619, 'умирают': 4620, 'клетки': 4621, 'сложилось': 4622, 'глухой': 4623, 'писем': 4624, 'небольшой': 4625, 'звала': 4626, 'старым': 4627, 'свободный': 4628, 'мадам': 4629, 'ветрами': 4630, 'пальцем': 4631, 'ежедневно': 4632, 'святым': 4633, 'бок': 4634, 'общаться': 4635, 'длится': 4636, 'безумной': 4637, 'взяли': 4638, 'покинуть': 4639, 'появились': 4640, 'млечный': 4641, 'трудный': 4642, 'all': 4643, 'двора': 4644, 'читает': 4645, 'важней': 4646, 'смею': 4647, 'пожить': 4648, 'светят': 4649, 'свиданье': 4650, 'милости': 4651, 'отдых': 4652, 'сумели': 4653, 'благ': 4654, 'приходишь': 4655, 'утренний': 4656, 'идя': 4657, 'речей': 4658, 'дары': 4659, 'трон': 4660, 'результат': 4661, 'освещает': 4662, 'творится': 4663, 'упаду': 4664, 'мусор': 4665, 'начали': 4666, 'золота': 4667, 'ручьи': 4668, 'пропала': 4669, 'разлуку': 4670, 'звал': 4671, 'простила': 4672, 'достал': 4673, 'парит': 4674, 'местам': 4675, 'улыбалась': 4676, 'играла': 4677, 'стремлюсь': 4678, 'шептала': 4679, 'настала': 4680, 'синие': 4681, 'забыты': 4682, 'мясо': 4683, 'ф': 4684, 'улететь': 4685, 'верной': 4686, 'животных': 4687, 'тайно': 4688, 'духу': 4689, 'ангелом': 4690, 'спасёт': 4691, 'привычке': 4692, 'страшнее': 4693, 'всякого': 4694, 'бумагу': 4695, 'государства': 4696, 'миллион': 4697, 'ушах': 4698, 'волнах': 4699, 'клянусь': 4700, 'страдал': 4701, 'квартиру': 4702, 'праздники': 4703, 'следующий': 4704, 'меняя': 4705, 'принесет': 4706, 'ляжет': 4707, 'прощаясь': 4708, 'свиданья': 4709, 'воздухом': 4710, 'забыто': 4711, 'войной': 4712, 'зелень': 4713, 'кожа': 4714, 'понимания': 4715, 'поцелуем': 4716, 'читатель': 4717, 'скорби': 4718, 'лев': 4719, 'говорится': 4720, 'человечества': 4721, 'детские': 4722, 'умеют': 4723, 'касается': 4724, 'родня': 4725, 'життя': 4726, 'целует': 4727, 'жестокий': 4728, 'светлая': 4729, 'буквально': 4730, 'луга': 4731, 'ревность': 4732, 'продолжать': 4733, 'разница': 4734, 'продолжаю': 4735, 'возвращаюсь': 4736, 'грош': 4737, 'закрыла': 4738, 'работает': 4739, 'ожидает': 4740, 'погоде': 4741, 'слаб': 4742, 'предать': 4743, 'годах': 4744, 'думаем': 4745, 'нутро': 4746, 'лекарство': 4747, 'важны': 4748, 'ароматом': 4749, 'состоит': 4750, 'шорох': 4751, 'чью': 4752, 'диване': 4753, 'поговорим': 4754, 'туча': 4755, 'смеялась': 4756, 'тема': 4757, 'тихонечко': 4758, 'оконце': 4759, 'крыш': 4760, 'рану': 4761, 'дадут': 4762, 'шрамы': 4763, 'памятью': 4764, 'свидания': 4765, 'телевизор': 4766, 'гору': 4767, 'курс': 4768, 'остановиться': 4769, 'колено': 4770, 'громче': 4771, 'живого': 4772, 'курить': 4773, 'враз': 4774, 'лесть': 4775, 'ехать': 4776, 'ста': 4777, 'трубы': 4778, 'веток': 4779, 'елена': 4780, 'молода': 4781, 'далее': 4782, 'бездны': 4783, 'улыбнусь': 4784, 'ища': 4785, 'мені': 4786, 'тонет': 4787, 'бедный': 4788, 'ищите': 4789, 'заметить': 4790, 'путём': 4791, 'зим': 4792, 'числе': 4793, 'глуши': 4794, 'лапы': 4795, 'мироздания': 4796, 'понимала': 4797, 'рабы': 4798, 'костей': 4799, 'синем': 4800, 'вашего': 4801, 'выть': 4802, 'видится': 4803, 'коротка': 4804, 'любуюсь': 4805, 'великого': 4806, 'але': 4807, 'рвать': 4808, 'вернулись': 4809, 'дрожат': 4810, 'берегите': 4811, 'прямой': 4812, 'типа': 4813, 'летаю': 4814, 'окажется': 4815, 'глубокой': 4816, 'повторять': 4817, 'снежок': 4818, 'выглядит': 4819, 'молчал': 4820, 'стеклу': 4821, 'люд': 4822, 'звонка': 4823, 'горести': 4824, 'образы': 4825, 'бессмысленно': 4826, 'спешим': 4827, 'просят': 4828, 'ставит': 4829, 'облако': 4830, 'стыд': 4831, 'ранее': 4832, 'любоваться': 4833, 'свежесть': 4834, 'качает': 4835, 'not': 4836, 'гроб': 4837, 'креста': 4838, 'легла': 4839, 'жесток': 4840, 'вспоминай': 4841, 'видом': 4842, 'стараться': 4843, 'посвящается': 4844, 'едины': 4845, 'чайки': 4846, 'давали': 4847, 'душам': 4848, 'чужими': 4849, 'покрепче': 4850, 'миражи': 4851, 'леди': 4852, 'сеть': 4853, 'пес': 4854, 'so': 4855, 'позови': 4856, 'ситуации': 4857, 'затих': 4858, 'сильных': 4859, 'страхе': 4860, 'уставший': 4861, 'попросту': 4862, 'смей': 4863, 'солнечным': 4864, 'безусловно': 4865, 'сверкают': 4866, 'перестали': 4867, 'забытых': 4868, 'просторах': 4869, 'гордиться': 4870, 'высоких': 4871, 'бываю': 4872, 'апреля': 4873, 'важна': 4874, 'рвет': 4875, 'остановись': 4876, 'снегопад': 4877, 'внимательно': 4878, 'светла': 4879, 'вдыхая': 4880, 'народом': 4881, 'дрова': 4882, 'смириться': 4883, 'отпущу': 4884, 'получишь': 4885, 'темы': 4886, 'сосен': 4887, 'представь': 4888, 'тщетно': 4889, 'одинокой': 4890, 'близки': 4891, 'непросто': 4892, 'речке': 4893, 'тёплым': 4894, 'шло': 4895, 'мужчиной': 4896, 'молоком': 4897, 'дав': 4898, 'рукам': 4899, 'бабушки': 4900, 'разбудит': 4901, 'проси': 4902, 'нужный': 4903, 'клетку': 4904, 'создан': 4905, 'встану': 4906, 'подошла': 4907, 'встречались': 4908, 'бежим': 4909, 'грехах': 4910, 'покорно': 4911, 'количество': 4912, 'дымке': 4913, 'сладок': 4914, 'разглядеть': 4915, 'терзает': 4916, 'вес': 4917, 'любому': 4918, 'вела': 4919, 'дыши': 4920, 'прохладой': 4921, 'бабочки': 4922, 'глас': 4923, 'здоров': 4924, 'камина': 4925, 'вечен': 4926, 'система': 4927, 'кровавый': 4928, 'сего': 4929, 'зубами': 4930, 'дверцу': 4931, 'обнимая': 4932, 'сумела': 4933, 'растаял': 4934, 'встречая': 4935, 'веет': 4936, 'даты': 4937, 'почаще': 4938, 'трели': 4939, 'былого': 4940, 'заметно': 4941, 'оставили': 4942, 'решает': 4943, 'встанет': 4944, 'звуков': 4945, 'золотых': 4946, 'дыханием': 4947, 'удивительно': 4948, 'давала': 4949, 'синих': 4950, 'вещь': 4951, 'вдохновения': 4952, 'каюсь': 4953, 'естественно': 4954, 'полная': 4955, 'любых': 4956, 'хлебом': 4957, 'длинный': 4958, 'былые': 4959, 'бесконечной': 4960, 'позор': 4961, 'принимает': 4962, 'длинные': 4963, 'мае': 4964, 'личность': 4965, 'родней': 4966, 'грубо': 4967, 'единый': 4968, 'уехать': 4969, 'становлюсь': 4970, 'скрыться': 4971, 'кучу': 4972, 'поняв': 4973, 'будучи': 4974, 'речки': 4975, 'уснул': 4976, 'радостный': 4977, 'велика': 4978, 'закрыты': 4979, 'ожидания': 4980, 'светится': 4981, 'божественной': 4982, 'покинул': 4983, 'сводит': 4984, 'решения': 4985, 'гнева': 4986, 'мечтам': 4987, 'сплошной': 4988, 'красивы': 4989, 'лести': 4990, 'земное': 4991, 'напомнит': 4992, 'осенним': 4993, 'долги': 4994, 'коней': 4995, 'перестала': 4996, '': 4997, '_UNK_': 4998, '_START_': 4999}\n"
          ]
        }
      ]
    },
    {
      "cell_type": "code",
      "source": [
        "def make_reverse_vocab(vocab):\n",
        "  reverse_vocab = {value: key for key, value in vocab.items()}\n",
        "  return reverse_vocab\n",
        "reverse_vocab = make_reverse_vocab(vocab)\n",
        "# reverse_vocab"
      ],
      "metadata": {
        "id": "g4qPju3KMJHA"
      },
      "execution_count": 210,
      "outputs": []
    },
    {
      "cell_type": "code",
      "source": [
        "# загрузка обучающей выборки\n",
        "train_file_path = '/content/drive/MyDrive/Набор данных/stihi_ru/stihi_ru_realtrain.txt'\n",
        "f = open(train_file_path, 'r')\n",
        "\n",
        "data_file_train = []\n",
        "for line in f:\n",
        "  line = line.replace('\\n', '') # удаляем перевод строки, делаем всё содержимое одной строкой\n",
        "  line = line.split()           # разделяет текущую строку на предложения, разделить - ''\n",
        "  for i in range(len(line)):    # для каждого индекса слова в предложении\n",
        "    line[i] = int(line[i])      # переводим индекс в int вместо str\n",
        "  data_file_train.append(line)  # добавляем в список индексов слов\n",
        "# data_file_train - numpy-массив из списков индексов (предложений), каждый список имеет длину 10 индексов\n",
        "# data_file_train = np.array(data_file_train)[:, :MAX_SEQ_LEN]  #\n",
        "print(\"Примеров в обучающей выборке: \", len(data_file_train))"
      ],
      "metadata": {
        "colab": {
          "base_uri": "https://localhost:8080/"
        },
        "id": "pbwRauyUnd6L",
        "outputId": "7fb91cac-a2b5-4632-e909-11066de578ba"
      },
      "execution_count": 211,
      "outputs": [
        {
          "output_type": "stream",
          "name": "stdout",
          "text": [
            "Примеров в обучающей выборке:  400000\n"
          ]
        }
      ]
    },
    {
      "cell_type": "code",
      "source": [
        "for sentence in data_file_train[:10]:\n",
        "  print(sentence)"
      ],
      "metadata": {
        "colab": {
          "base_uri": "https://localhost:8080/"
        },
        "id": "rQYkw_g4Am9s",
        "outputId": "8a10dc91-7df1-44f7-97b0-3a6aa794f3bc"
      },
      "execution_count": 6,
      "outputs": [
        {
          "output_type": "stream",
          "name": "stdout",
          "text": [
            "[34, 4209, 48, 19, 520, 0, 1773, 4997, 4997, 4997]\n",
            "[3, 874, 62, 4, 3738, 0, 2076, 4997, 4997, 4997]\n",
            "[83, 1514, 61, 312, 548, 4997, 4997, 4997, 4997, 4997]\n",
            "[55, 2305, 41, 191, 3117, 4997, 4997, 4997, 4997, 4997]\n",
            "[326, 18, 422, 15, 115, 3297, 4997, 4997, 4997, 4997]\n",
            "[32, 1, 903, 44, 1, 4021, 1054, 1486, 4997, 4997]\n",
            "[19, 1800, 4, 4570, 2583, 4997, 4997, 4997, 4997, 4997]\n",
            "[468, 490, 36, 186, 1077, 263, 3370, 4997, 4997, 4997]\n",
            "[8, 2251, 0, 181, 635, 452, 4997, 4997, 4997, 4997]\n",
            "[46, 30, 4263, 19, 2911, 4997, 4997, 4997, 4997, 4997]\n"
          ]
        }
      ]
    },
    {
      "cell_type": "markdown",
      "source": [
        "##### тестовая выборка"
      ],
      "metadata": {
        "id": "Mxg1FBY7_qJ7"
      }
    },
    {
      "cell_type": "code",
      "source": [
        "# загрузка тестовой выборки\n",
        "test_file_path = '/content/drive/MyDrive/Набор данных/stihi_ru/stihi_ru_realtest.txt'\n",
        "f = open(test_file_path, 'r')\n",
        "data_file_test = []\n",
        "for line in f:\n",
        "  line = line.replace('\\n', '')\n",
        "  line = line.split()\n",
        "  for i in range(len(line)):\n",
        "    line[i] = int(line[i])\n",
        "  data_file_test.append(line)\n",
        "data_file_test = np.array(data_file_test)[:, :MAX_SEQ_LEN]\n",
        "print(\"Примеров в тестовой выборке: \", len(data_file_test))"
      ],
      "metadata": {
        "colab": {
          "base_uri": "https://localhost:8080/"
        },
        "id": "BRCxIZFknwc-",
        "outputId": "36977a21-fbb8-4a74-9612-c0ff0497fa7d"
      },
      "execution_count": 7,
      "outputs": [
        {
          "output_type": "stream",
          "name": "stdout",
          "text": [
            "Примеров в тестовой выборке:  5000\n"
          ]
        }
      ]
    },
    {
      "cell_type": "code",
      "source": [
        "data_file_test[0]"
      ],
      "metadata": {
        "colab": {
          "base_uri": "https://localhost:8080/"
        },
        "id": "WwttPq5qBRT7",
        "outputId": "09dc2d27-c9ea-47a5-8c00-2c77b9e3120b"
      },
      "execution_count": 8,
      "outputs": [
        {
          "output_type": "execute_result",
          "data": {
            "text/plain": [
              "array([ 156,  247,    0,   85,   54, 4997, 4997, 4997, 4997, 4997])"
            ]
          },
          "metadata": {},
          "execution_count": 8
        }
      ]
    },
    {
      "cell_type": "code",
      "source": [
        "# примеры из обучающей выборки\n",
        "print(\"Примеры из обучающей выборки\")\n",
        "batch_size = 50 # количество случайных примеров для вывода примеров\n",
        "\n",
        "samples = data_file_train[np.random.randint(0, len(data_file_train), batch_size)] #  код случайным образом выбирает элементы из массива data_file_train с использованием случайных индексов\n",
        "output_function = []\n",
        "for samp in samples:\n",
        "  line = [word[x] for x in samp]\n",
        "  line = ' '.join(line)\n",
        "  output_function.append(line)\n",
        "\n",
        "for i, output in enumerate(output_function):\n",
        "  print(\"#\", i, \"\\tПример: \", output)"
      ],
      "metadata": {
        "id": "iUA1lqrPn4DN",
        "colab": {
          "base_uri": "https://localhost:8080/",
          "height": 262
        },
        "outputId": "bb4eae71-b3a2-4ae7-f623-4792fa293626"
      },
      "execution_count": 9,
      "outputs": [
        {
          "output_type": "stream",
          "name": "stdout",
          "text": [
            "Примеры из обучающей выборки\n"
          ]
        },
        {
          "output_type": "error",
          "ename": "TypeError",
          "evalue": "ignored",
          "traceback": [
            "\u001b[0;31m---------------------------------------------------------------------------\u001b[0m",
            "\u001b[0;31mTypeError\u001b[0m                                 Traceback (most recent call last)",
            "\u001b[0;32m<ipython-input-9-9528271b9fb0>\u001b[0m in \u001b[0;36m<cell line: 5>\u001b[0;34m()\u001b[0m\n\u001b[1;32m      3\u001b[0m \u001b[0mbatch_size\u001b[0m \u001b[0;34m=\u001b[0m \u001b[0;36m50\u001b[0m \u001b[0;31m# количество случайных примеров для вывода примеров\u001b[0m\u001b[0;34m\u001b[0m\u001b[0;34m\u001b[0m\u001b[0m\n\u001b[1;32m      4\u001b[0m \u001b[0;34m\u001b[0m\u001b[0m\n\u001b[0;32m----> 5\u001b[0;31m \u001b[0msamples\u001b[0m \u001b[0;34m=\u001b[0m \u001b[0mdata_file_train\u001b[0m\u001b[0;34m[\u001b[0m\u001b[0mnp\u001b[0m\u001b[0;34m.\u001b[0m\u001b[0mrandom\u001b[0m\u001b[0;34m.\u001b[0m\u001b[0mrandint\u001b[0m\u001b[0;34m(\u001b[0m\u001b[0;36m0\u001b[0m\u001b[0;34m,\u001b[0m \u001b[0mlen\u001b[0m\u001b[0;34m(\u001b[0m\u001b[0mdata_file_train\u001b[0m\u001b[0;34m)\u001b[0m\u001b[0;34m,\u001b[0m \u001b[0mbatch_size\u001b[0m\u001b[0;34m)\u001b[0m\u001b[0;34m]\u001b[0m \u001b[0;31m#  код случайным образом выбирает элементы из массива data_file_train с использованием случайных индексов\u001b[0m\u001b[0;34m\u001b[0m\u001b[0;34m\u001b[0m\u001b[0m\n\u001b[0m\u001b[1;32m      6\u001b[0m \u001b[0moutput_function\u001b[0m \u001b[0;34m=\u001b[0m \u001b[0;34m[\u001b[0m\u001b[0;34m]\u001b[0m\u001b[0;34m\u001b[0m\u001b[0;34m\u001b[0m\u001b[0m\n\u001b[1;32m      7\u001b[0m \u001b[0;32mfor\u001b[0m \u001b[0msamp\u001b[0m \u001b[0;32min\u001b[0m \u001b[0msamples\u001b[0m\u001b[0;34m:\u001b[0m\u001b[0;34m\u001b[0m\u001b[0;34m\u001b[0m\u001b[0m\n",
            "\u001b[0;31mTypeError\u001b[0m: only integer scalar arrays can be converted to a scalar index"
          ]
        }
      ]
    },
    {
      "cell_type": "markdown",
      "source": [
        "#### Загрузка собственных текстовых данных (спарсил в первой лабе)"
      ],
      "metadata": {
        "id": "uQ6NXcC9oUVH"
      }
    },
    {
      "cell_type": "code",
      "source": [
        "test_file_path = '/content/drive/MyDrive/Набор данных/text_data.txt'\n",
        "\n",
        "with open(test_file_path,'r') as text_file:\n",
        "  original_text = text_file.read()"
      ],
      "metadata": {
        "id": "4PGOQPMVohGz"
      },
      "execution_count": null,
      "outputs": []
    },
    {
      "cell_type": "markdown",
      "source": [
        "#### Черновик"
      ],
      "metadata": {
        "id": "XkN3o7GQA9J2"
      }
    },
    {
      "cell_type": "markdown",
      "source": [
        "##### 1 шаг"
      ],
      "metadata": {
        "id": "k2xvVSDsELKW"
      }
    },
    {
      "cell_type": "code",
      "source": [
        "type(original_text)"
      ],
      "metadata": {
        "colab": {
          "base_uri": "https://localhost:8080/"
        },
        "id": "H4E2bETkqTos",
        "outputId": "09cd3b57-f1fc-4d70-daeb-a299bbfda1f4"
      },
      "execution_count": null,
      "outputs": [
        {
          "output_type": "execute_result",
          "data": {
            "text/plain": [
              "str"
            ]
          },
          "metadata": {},
          "execution_count": 2
        }
      ]
    },
    {
      "cell_type": "code",
      "source": [
        "print(original_text[:4000])"
      ],
      "metadata": {
        "id": "Z7N1bu3oqoca"
      },
      "execution_count": null,
      "outputs": []
    },
    {
      "cell_type": "code",
      "source": [
        "original_text = original_text.replace('\\n', ' ')   # делаем весь текст в одну строку"
      ],
      "metadata": {
        "id": "ucK59CWAwQ-D"
      },
      "execution_count": null,
      "outputs": []
    },
    {
      "cell_type": "code",
      "source": [
        "print(original_text[:4000])"
      ],
      "metadata": {
        "colab": {
          "base_uri": "https://localhost:8080/"
        },
        "id": "koMjRfp9wci5",
        "outputId": "17dd8116-0708-4ed1-c553-56072297c578"
      },
      "execution_count": null,
      "outputs": [
        {
          "output_type": "stream",
          "name": "stdout",
          "text": [
            " ­­­­­­\"Анна Павлова в Сильфиде\" - эскиз художника Валентина Серова к основной афише для театра С. Дягилева \"Русские сезоны\" в Париже 1909 г.***повсюду тысячи афиш...и город наэлектризован,ведь вскоре \"Русские сезоны\"прибудут удивлять Париж!...в наследие на много летСеров донёс углём и меломдвижений слаженно-умелыхполётность, невесомость... светпрекрасной Анны! кто бы знал,однажды хрупкая тростинкавзойдёт на сцену Мариинки,и станет явь волшебней сна!её точёный силуэт,изгибы, флёр тончайших кружевмогли в момент обезоружитьи тех, кому был чужд балет.она любила в танце житьталантливо и филигранно,стихия Анны - грусть, не драма,земная лирика души.известный в мире педагог*когда-то искренне заметил:\"она пушинка или ветер,изящный, трепетный цветок...\"неподражаемо-легка,икона русского балетазатронула сердца по свету,чтоб в них остаться на века...❈～❈～❈～❈～❈2023* балетмейстер Мариус Петипа    ­То, как ты думаешь о Богечто ожидаешь в жизни тыкак Он с тобой общаться можеткак ждёшь что Он направит жизнь так Бог себя и проявляетпо вере, что ты так взрастилБог сверхъестественно являеттебе Себя, любовь внутри реально ты переживаешьопрёшься на Него душойкак на скалу, что рассекаетвсе волны моря, Дух Святой в реальности твоя опораиль опираешься на плотьсвоей надеждой, веришь в Бога,но плоть лишь тон весь задаёт в твоих молитвах, сердца чувствахи том, как видишь мир весь тылишь плоть души твоей опора,а Бог... туманные мечты? И это все определяетв тех отношениях с Христомчто ты реально созидаешьи повлияет здесь на то на самом деле ли захочешьХриста Спасителя искатьили ты изредка лишь можешьтворить молитву, как обряд без веры что Христос услышити что ответит в жизни Они скукой ты в молитве дышишьзаботой мира поглощён Бог сверхъестественный по Сутии Он такой внутри тебяна что ты опираться будешьна плоть лишь или на Христа Имеет плоть свои границыи в силе действовать внутрии в этом мире твоей жизни,но не имеет Дух границ Здесь я писал тебе о вере,что жизнь твою всю создаётона как мостик к Царству Небаспособен выдержать тот Мост величие Христа и Славуи силу сверхъестественных чудескак милость Бога к ближним, к братуили к друзьям, или к сестре через себя доставить с Небачтоб ближним в трудностях помочьили она лишь порождениечужих молитв, ошибок, проб и ты не можешь оперетьсяна сверхъестественный нам дарСвятого Духа в твоём сердцехоть Бог нам это завещал?    Истоки наших дней зажаты в ДОСах. Союз знаком нам из конца в конец. Мы гордо отвечали при расспросах: \"Я буду офицером. Как отец\".  И нахлобучив батину фуражку, В казармах, где жаргон суров и крут. Смотрели как армейскую упряжку Отцы по жизни с хрипом волокут.  Мы узнавали дом из строк приказов, Контейнер трамбовал уют квартир, И гул прощальных дружеских наказов, Гонял по лесу тишь армейских \"дыр\".  Познали с детства сборы и тревоги, И повидали наяву и в снах, Как танки месят траками дороги, И бьют ракеты бреши в облаках.  Прошли года. Шинели трут нам плечи. Все соки выжимая, словно пресс. Мы здесь росли, и чужды нам те речи, Где армию возносят до небес.  У двери ждет тревожная укладка, Сирены рвут весеннюю капель. А на коленях спит, зевая сладко, Наследник мой, закутанный в шинель.    ­ Олег Яненагорский, член Союза писателей России. 5 апреля 2023 г. Десять лет работы следователем прокуратуры и последующие тридцать лет «в защите» сделали привычкой не торопиться с выводами о совершении преступлений и виновности. Или о невиновности… Поэтому ждал дополнительной информации о террористическом акте в Петербурге, совершенном 2 апреля 2023 г.  Прежде всего, с чисто профессиональной точки зрения мне интересно было как со-исполнитель уходил со места совершения преступления.  Однако, потом с удивлением узнал, что Д. Трепову организаторы теракта использовали как одноразовый «расходный материал». Она должна была погибнуть вместе с остальными жертвами. Замысел простой, как три копейки, – грохнуть со-исполнителя, и «концы в пыль от взрыва». Но Д. Треповой повезло, она осталась жива «назло организаторам» и теперь \n"
          ]
        }
      ]
    },
    {
      "cell_type": "code",
      "source": [
        "original_text = original_text.lower() # переводим все символы в нижний регистр"
      ],
      "metadata": {
        "id": "8j4ulmTfz3Um"
      },
      "execution_count": null,
      "outputs": []
    },
    {
      "cell_type": "code",
      "source": [
        "print(original_text[:4000])"
      ],
      "metadata": {
        "colab": {
          "base_uri": "https://localhost:8080/"
        },
        "id": "stbkiPEEz75w",
        "outputId": "a7d9eb28-278a-4880-a7d4-4cec9bf57684"
      },
      "execution_count": null,
      "outputs": [
        {
          "output_type": "stream",
          "name": "stdout",
          "text": [
            " ­­­­­­\"анна павлова в сильфиде\" - эскиз художника валентина серова к основной афише для театра с. дягилева \"русские сезоны\" в париже 1909 г.***повсюду тысячи афиш...и город наэлектризован,ведь вскоре \"русские сезоны\"прибудут удивлять париж!...в наследие на много летсеров донёс углём и меломдвижений слаженно-умелыхполётность, невесомость... светпрекрасной анны! кто бы знал,однажды хрупкая тростинкавзойдёт на сцену мариинки,и станет явь волшебней сна!её точёный силуэт,изгибы, флёр тончайших кружевмогли в момент обезоружитьи тех, кому был чужд балет.она любила в танце житьталантливо и филигранно,стихия анны - грусть, не драма,земная лирика души.известный в мире педагог*когда-то искренне заметил:\"она пушинка или ветер,изящный, трепетный цветок...\"неподражаемо-легка,икона русского балетазатронула сердца по свету,чтоб в них остаться на века...❈～❈～❈～❈～❈2023* балетмейстер мариус петипа    ­то, как ты думаешь о богечто ожидаешь в жизни тыкак он с тобой общаться можеткак ждёшь что он направит жизнь так бог себя и проявляетпо вере, что ты так взрастилбог сверхъестественно являеттебе себя, любовь внутри реально ты переживаешьопрёшься на него душойкак на скалу, что рассекаетвсе волны моря, дух святой в реальности твоя опораиль опираешься на плотьсвоей надеждой, веришь в бога,но плоть лишь тон весь задаёт в твоих молитвах, сердца чувствахи том, как видишь мир весь тылишь плоть души твоей опора,а бог... туманные мечты? и это все определяетв тех отношениях с христомчто ты реально созидаешьи повлияет здесь на то на самом деле ли захочешьхриста спасителя искатьили ты изредка лишь можешьтворить молитву, как обряд без веры что христос услышити что ответит в жизни они скукой ты в молитве дышишьзаботой мира поглощён бог сверхъестественный по сутии он такой внутри тебяна что ты опираться будешьна плоть лишь или на христа имеет плоть свои границыи в силе действовать внутрии в этом мире твоей жизни,но не имеет дух границ здесь я писал тебе о вере,что жизнь твою всю создаётона как мостик к царству небаспособен выдержать тот мост величие христа и славуи силу сверхъестественных чудескак милость бога к ближним, к братуили к друзьям, или к сестре через себя доставить с небачтоб ближним в трудностях помочьили она лишь порождениечужих молитв, ошибок, проб и ты не можешь оперетьсяна сверхъестественный нам дарсвятого духа в твоём сердцехоть бог нам это завещал?    истоки наших дней зажаты в досах. союз знаком нам из конца в конец. мы гордо отвечали при расспросах: \"я буду офицером. как отец\".  и нахлобучив батину фуражку, в казармах, где жаргон суров и крут. смотрели как армейскую упряжку отцы по жизни с хрипом волокут.  мы узнавали дом из строк приказов, контейнер трамбовал уют квартир, и гул прощальных дружеских наказов, гонял по лесу тишь армейских \"дыр\".  познали с детства сборы и тревоги, и повидали наяву и в снах, как танки месят траками дороги, и бьют ракеты бреши в облаках.  прошли года. шинели трут нам плечи. все соки выжимая, словно пресс. мы здесь росли, и чужды нам те речи, где армию возносят до небес.  у двери ждет тревожная укладка, сирены рвут весеннюю капель. а на коленях спит, зевая сладко, наследник мой, закутанный в шинель.    ­ олег яненагорский, член союза писателей россии. 5 апреля 2023 г. десять лет работы следователем прокуратуры и последующие тридцать лет «в защите» сделали привычкой не торопиться с выводами о совершении преступлений и виновности. или о невиновности… поэтому ждал дополнительной информации о террористическом акте в петербурге, совершенном 2 апреля 2023 г.  прежде всего, с чисто профессиональной точки зрения мне интересно было как со-исполнитель уходил со места совершения преступления.  однако, потом с удивлением узнал, что д. трепову организаторы теракта использовали как одноразовый «расходный материал». она должна была погибнуть вместе с остальными жертвами. замысел простой, как три копейки, – грохнуть со-исполнителя, и «концы в пыль от взрыва». но д. треповой повезло, она осталась жива «назло организаторам» и теперь \n"
          ]
        }
      ]
    },
    {
      "cell_type": "code",
      "source": [
        "print(original_text[:4000])"
      ],
      "metadata": {
        "colab": {
          "base_uri": "https://localhost:8080/"
        },
        "id": "rVLvo8SLx1gE",
        "outputId": "e4ccb90e-b08e-4e1e-ba48-ff05b1af46b3"
      },
      "execution_count": null,
      "outputs": [
        {
          "output_type": "stream",
          "name": "stdout",
          "text": [
            " ­­­­­­\"анна павлова в сильфиде\" - эскиз художника валентина серова к основной афише для театра с. дягилева \"русские сезоны\" в париже 1909 г.***повсюду тысячи афиш...и город наэлектризован,ведь вскоре \"русские сезоны\"прибудут удивлять париж!...в наследие на много летсеров донёс углём и меломдвижений слаженно-умелыхполётность, невесомость... светпрекрасной анны! кто бы знал,однажды хрупкая тростинкавзойдёт на сцену мариинки,и станет явь волшебней сна!её точёный силуэт,изгибы, флёр тончайших кружевмогли в момент обезоружитьи тех, кому был чужд балет.она любила в танце житьталантливо и филигранно,стихия анны - грусть, не драма,земная лирика души.известный в мире педагог*когда-то искренне заметил:\"она пушинка или ветер,изящный, трепетный цветок...\"неподражаемо-легка,икона русского балетазатронула сердца по свету,чтоб в них остаться на века...❈～❈～❈～❈～❈2023* балетмейстер мариус петипа    ­то, как ты думаешь о богечто ожидаешь в жизни тыкак он с тобой общаться можеткак ждёшь что он направит жизнь так бог себя и проявляетпо вере, что ты так взрастилбог сверхъестественно являеттебе себя, любовь внутри реально ты переживаешьопрёшься на него душойкак на скалу, что рассекаетвсе волны моря, дух святой в реальности твоя опораиль опираешься на плотьсвоей надеждой, веришь в бога,но плоть лишь тон весь задаёт в твоих молитвах, сердца чувствахи том, как видишь мир весь тылишь плоть души твоей опора,а бог... туманные мечты? и это все определяетв тех отношениях с христомчто ты реально созидаешьи повлияет здесь на то на самом деле ли захочешьхриста спасителя искатьили ты изредка лишь можешьтворить молитву, как обряд без веры что христос услышити что ответит в жизни они скукой ты в молитве дышишьзаботой мира поглощён бог сверхъестественный по сутии он такой внутри тебяна что ты опираться будешьна плоть лишь или на христа имеет плоть свои границыи в силе действовать внутрии в этом мире твоей жизни,но не имеет дух границ здесь я писал тебе о вере,что жизнь твою всю создаётона как мостик к царству небаспособен выдержать тот мост величие христа и славуи силу сверхъестественных чудескак милость бога к ближним, к братуили к друзьям, или к сестре через себя доставить с небачтоб ближним в трудностях помочьили она лишь порождениечужих молитв, ошибок, проб и ты не можешь оперетьсяна сверхъестественный нам дарсвятого духа в твоём сердцехоть бог нам это завещал?    истоки наших дней зажаты в досах. союз знаком нам из конца в конец. мы гордо отвечали при расспросах: \"я буду офицером. как отец\".  и нахлобучив батину фуражку, в казармах, где жаргон суров и крут. смотрели как армейскую упряжку отцы по жизни с хрипом волокут.  мы узнавали дом из строк приказов, контейнер трамбовал уют квартир, и гул прощальных дружеских наказов, гонял по лесу тишь армейских \"дыр\".  познали с детства сборы и тревоги, и повидали наяву и в снах, как танки месят траками дороги, и бьют ракеты бреши в облаках.  прошли года. шинели трут нам плечи. все соки выжимая, словно пресс. мы здесь росли, и чужды нам те речи, где армию возносят до небес.  у двери ждет тревожная укладка, сирены рвут весеннюю капель. а на коленях спит, зевая сладко, наследник мой, закутанный в шинель.    ­ олег яненагорский, член союза писателей россии. 5 апреля 2023 г. десять лет работы следователем прокуратуры и последующие тридцать лет «в защите» сделали привычкой не торопиться с выводами о совершении преступлений и виновности. или о невиновности… поэтому ждал дополнительной информации о террористическом акте в петербурге, совершенном 2 апреля 2023 г.  прежде всего, с чисто профессиональной точки зрения мне интересно было как со-исполнитель уходил со места совершения преступления.  однако, потом с удивлением узнал, что д. трепову организаторы теракта использовали как одноразовый «расходный материал». она должна была погибнуть вместе с остальными жертвами. замысел простой, как три копейки, – грохнуть со-исполнителя, и «концы в пыль от взрыва». но д. треповой повезло, она осталась жива «назло организаторам» и теперь \n"
          ]
        }
      ]
    },
    {
      "cell_type": "markdown",
      "source": [
        "##### 2 шаг"
      ],
      "metadata": {
        "id": "whrzeMd7MQGV"
      }
    },
    {
      "cell_type": "code",
      "source": [
        "# подключение библиотеки\n",
        "import nltk\n",
        "nltk.download('punkt')"
      ],
      "metadata": {
        "colab": {
          "base_uri": "https://localhost:8080/"
        },
        "id": "AKOi0Dp08c79",
        "outputId": "bf843311-b685-4235-a61f-566b7df39464"
      },
      "execution_count": null,
      "outputs": [
        {
          "output_type": "stream",
          "name": "stderr",
          "text": [
            "[nltk_data] Downloading package punkt to /root/nltk_data...\n",
            "[nltk_data]   Unzipping tokenizers/punkt.zip.\n"
          ]
        },
        {
          "output_type": "execute_result",
          "data": {
            "text/plain": [
              "True"
            ]
          },
          "metadata": {},
          "execution_count": 15
        }
      ]
    },
    {
      "cell_type": "code",
      "source": [
        "tokenized_text = nltk.word_tokenize(original_text) # переводим весь текст в список слов (токенизируем)\n",
        "tokenized_text"
      ],
      "metadata": {
        "id": "DJ19UdhCzuD2"
      },
      "execution_count": null,
      "outputs": []
    },
    {
      "cell_type": "code",
      "source": [
        "from collections import Counter\n",
        "cntr = Counter(tokenized_text) # считаем количество упоминаний каждого слова\n",
        "cntr"
      ],
      "metadata": {
        "id": "hKpmWImY9ChD"
      },
      "execution_count": null,
      "outputs": []
    },
    {
      "cell_type": "code",
      "source": [
        "most_words = list(cntr.most_common(5000-3)) # наиболее частые N-3 слов (добавится заполнитель и два зарезервированных слова)\n",
        "most_words"
      ],
      "metadata": {
        "id": "KMbtBega9lv4"
      },
      "execution_count": null,
      "outputs": []
    },
    {
      "cell_type": "code",
      "source": [
        "len(most_words)"
      ],
      "metadata": {
        "colab": {
          "base_uri": "https://localhost:8080/"
        },
        "id": "X9AGsogXHtb2",
        "outputId": "403a3085-1bc7-4931-a6ab-cef610c43a12"
      },
      "execution_count": null,
      "outputs": [
        {
          "output_type": "execute_result",
          "data": {
            "text/plain": [
              "4997"
            ]
          },
          "metadata": {},
          "execution_count": 15
        }
      ]
    },
    {
      "cell_type": "code",
      "source": [
        "most_words[:10]"
      ],
      "metadata": {
        "colab": {
          "base_uri": "https://localhost:8080/"
        },
        "id": "PdzIgWQmJW5P",
        "outputId": "245c3754-fbdd-45f0-913a-0a3c1ff8a51d"
      },
      "execution_count": null,
      "outputs": [
        {
          "output_type": "execute_result",
          "data": {
            "text/plain": [
              "[(',', 38251),\n",
              " ('.', 16499),\n",
              " ('и', 11859),\n",
              " ('в', 8714),\n",
              " ('не', 6221),\n",
              " ('на', 4763),\n",
              " ('!', 3638),\n",
              " ('я', 3427),\n",
              " ('что', 3360),\n",
              " ('с', 3273)]"
            ]
          },
          "metadata": {},
          "execution_count": 16
        }
      ]
    },
    {
      "cell_type": "code",
      "source": [
        "# создание словаря слов: каждому слову присваиваем индекс, в зависимости от количества его упоминаний в текстовых данных\n",
        "vocab = dict()\n",
        "for i in range(len(most_words)):\n",
        "  vocab[most_words[i][0]] = i"
      ],
      "metadata": {
        "id": "18H9EU0kIpvj"
      },
      "execution_count": null,
      "outputs": []
    },
    {
      "cell_type": "code",
      "source": [
        "# добавление специальных слов в словарь\n",
        "vocab[' ']=len(vocab) # добавить пробел (заполнитель)\n",
        "vocab['_UNK_']=len(vocab) # добавить удаленное слово (удаляемые слова заменяются этим словом)\n",
        "vocab['_START_']=len(vocab) # добавить стартовое слово в словарь"
      ],
      "metadata": {
        "id": "XRHyRN5IKWo-"
      },
      "execution_count": null,
      "outputs": []
    },
    {
      "cell_type": "code",
      "source": [
        "vocab[' ']"
      ],
      "metadata": {
        "colab": {
          "base_uri": "https://localhost:8080/"
        },
        "id": "1F4kStep5Mh1",
        "outputId": "067c5f34-f239-4298-8ab3-57dd64427ffe"
      },
      "execution_count": null,
      "outputs": [
        {
          "output_type": "execute_result",
          "data": {
            "text/plain": [
              "4997"
            ]
          },
          "metadata": {},
          "execution_count": 19
        }
      ]
    },
    {
      "cell_type": "code",
      "source": [
        "def get_key_by_value(dictionary, value):\n",
        "    for key, val in dictionary.items():\n",
        "        if val == value:\n",
        "            return key\n",
        "    return None"
      ],
      "metadata": {
        "id": "IjfX55jZDQPe"
      },
      "execution_count": null,
      "outputs": []
    },
    {
      "cell_type": "code",
      "source": [
        "key = get_key_by_value(vocab,4997)\n",
        "key"
      ],
      "metadata": {
        "colab": {
          "base_uri": "https://localhost:8080/",
          "height": 36
        },
        "id": "qqNb0HpRDR0C",
        "outputId": "71894f23-0f3d-418e-b887-23b810a9b121"
      },
      "execution_count": null,
      "outputs": [
        {
          "output_type": "execute_result",
          "data": {
            "text/plain": [
              "' '"
            ],
            "application/vnd.google.colaboratory.intrinsic+json": {
              "type": "string"
            }
          },
          "metadata": {},
          "execution_count": 54
        }
      ]
    },
    {
      "cell_type": "markdown",
      "source": [
        "##### 3 шаг"
      ],
      "metadata": {
        "id": "3ZnKO-k8MSZA"
      }
    },
    {
      "cell_type": "code",
      "source": [
        "import re\n",
        "\n",
        "def split_sentences(text):\n",
        "  sentences = re.split(r'(?<=[.!?…])\\s+', text)\n",
        "  return sentences"
      ],
      "metadata": {
        "id": "HQgcTwnNMUNc"
      },
      "execution_count": null,
      "outputs": []
    },
    {
      "cell_type": "code",
      "source": [
        "print(original_text[:4000])"
      ],
      "metadata": {
        "colab": {
          "base_uri": "https://localhost:8080/"
        },
        "id": "rbBn_hT6XEmY",
        "outputId": "6eaa3c89-0996-4bea-c5f2-502c738ce024"
      },
      "execution_count": null,
      "outputs": [
        {
          "output_type": "stream",
          "name": "stdout",
          "text": [
            " ­­­­­­\"анна павлова в сильфиде\" - эскиз художника валентина серова к основной афише для театра с. дягилева \"русские сезоны\" в париже 1909 г.***повсюду тысячи афиш...и город наэлектризован,ведь вскоре \"русские сезоны\"прибудут удивлять париж!...в наследие на много летсеров донёс углём и меломдвижений слаженно-умелыхполётность, невесомость... светпрекрасной анны! кто бы знал,однажды хрупкая тростинкавзойдёт на сцену мариинки,и станет явь волшебней сна!её точёный силуэт,изгибы, флёр тончайших кружевмогли в момент обезоружитьи тех, кому был чужд балет.она любила в танце житьталантливо и филигранно,стихия анны - грусть, не драма,земная лирика души.известный в мире педагог*когда-то искренне заметил:\"она пушинка или ветер,изящный, трепетный цветок...\"неподражаемо-легка,икона русского балетазатронула сердца по свету,чтоб в них остаться на века...❈～❈～❈～❈～❈2023* балетмейстер мариус петипа    ­то, как ты думаешь о богечто ожидаешь в жизни тыкак он с тобой общаться можеткак ждёшь что он направит жизнь так бог себя и проявляетпо вере, что ты так взрастилбог сверхъестественно являеттебе себя, любовь внутри реально ты переживаешьопрёшься на него душойкак на скалу, что рассекаетвсе волны моря, дух святой в реальности твоя опораиль опираешься на плотьсвоей надеждой, веришь в бога,но плоть лишь тон весь задаёт в твоих молитвах, сердца чувствахи том, как видишь мир весь тылишь плоть души твоей опора,а бог... туманные мечты? и это все определяетв тех отношениях с христомчто ты реально созидаешьи повлияет здесь на то на самом деле ли захочешьхриста спасителя искатьили ты изредка лишь можешьтворить молитву, как обряд без веры что христос услышити что ответит в жизни они скукой ты в молитве дышишьзаботой мира поглощён бог сверхъестественный по сутии он такой внутри тебяна что ты опираться будешьна плоть лишь или на христа имеет плоть свои границыи в силе действовать внутрии в этом мире твоей жизни,но не имеет дух границ здесь я писал тебе о вере,что жизнь твою всю создаётона как мостик к царству небаспособен выдержать тот мост величие христа и славуи силу сверхъестественных чудескак милость бога к ближним, к братуили к друзьям, или к сестре через себя доставить с небачтоб ближним в трудностях помочьили она лишь порождениечужих молитв, ошибок, проб и ты не можешь оперетьсяна сверхъестественный нам дарсвятого духа в твоём сердцехоть бог нам это завещал?    истоки наших дней зажаты в досах. союз знаком нам из конца в конец. мы гордо отвечали при расспросах: \"я буду офицером. как отец\".  и нахлобучив батину фуражку, в казармах, где жаргон суров и крут. смотрели как армейскую упряжку отцы по жизни с хрипом волокут.  мы узнавали дом из строк приказов, контейнер трамбовал уют квартир, и гул прощальных дружеских наказов, гонял по лесу тишь армейских \"дыр\".  познали с детства сборы и тревоги, и повидали наяву и в снах, как танки месят траками дороги, и бьют ракеты бреши в облаках.  прошли года. шинели трут нам плечи. все соки выжимая, словно пресс. мы здесь росли, и чужды нам те речи, где армию возносят до небес.  у двери ждет тревожная укладка, сирены рвут весеннюю капель. а на коленях спит, зевая сладко, наследник мой, закутанный в шинель.    ­ олег яненагорский, член союза писателей россии. 5 апреля 2023 г. десять лет работы следователем прокуратуры и последующие тридцать лет «в защите» сделали привычкой не торопиться с выводами о совершении преступлений и виновности. или о невиновности… поэтому ждал дополнительной информации о террористическом акте в петербурге, совершенном 2 апреля 2023 г.  прежде всего, с чисто профессиональной точки зрения мне интересно было как со-исполнитель уходил со места совершения преступления.  однако, потом с удивлением узнал, что д. трепову организаторы теракта использовали как одноразовый «расходный материал». она должна была погибнуть вместе с остальными жертвами. замысел простой, как три копейки, – грохнуть со-исполнителя, и «концы в пыль от взрыва». но д. треповой повезло, она осталась жива «назло организаторам» и теперь \n"
          ]
        }
      ]
    },
    {
      "cell_type": "code",
      "source": [
        "sentences = split_sentences(original_text)"
      ],
      "metadata": {
        "id": "ydC-bpGsW7iQ"
      },
      "execution_count": null,
      "outputs": []
    },
    {
      "cell_type": "code",
      "source": [
        "type(sentences)"
      ],
      "metadata": {
        "colab": {
          "base_uri": "https://localhost:8080/"
        },
        "id": "QvfbbOW5XSO_",
        "outputId": "0861f767-7b84-401a-d1d8-785da0ea362b"
      },
      "execution_count": null,
      "outputs": [
        {
          "output_type": "execute_result",
          "data": {
            "text/plain": [
              "list"
            ]
          },
          "metadata": {},
          "execution_count": 25
        }
      ]
    },
    {
      "cell_type": "code",
      "source": [
        "len(sentences)"
      ],
      "metadata": {
        "colab": {
          "base_uri": "https://localhost:8080/"
        },
        "id": "EpoHQTGzY_au",
        "outputId": "d22fb067-6d41-4966-9c7e-fc88b4818024"
      },
      "execution_count": null,
      "outputs": [
        {
          "output_type": "execute_result",
          "data": {
            "text/plain": [
              "21933"
            ]
          },
          "metadata": {},
          "execution_count": 26
        }
      ]
    },
    {
      "cell_type": "code",
      "source": [
        "sentences[49]"
      ],
      "metadata": {
        "colab": {
          "base_uri": "https://localhost:8080/",
          "height": 36
        },
        "id": "aW6AAhhrXVj9",
        "outputId": "2347ab21-ec8a-4f45-8b5c-1a33f1309814"
      },
      "execution_count": null,
      "outputs": [
        {
          "output_type": "execute_result",
          "data": {
            "text/plain": [
              "'молодое «митинговое мясо» пошло в «расходные материалы» для террористической деятельности.'"
            ],
            "application/vnd.google.colaboratory.intrinsic+json": {
              "type": "string"
            }
          },
          "metadata": {},
          "execution_count": 27
        }
      ]
    },
    {
      "cell_type": "code",
      "source": [
        "nltk.word_tokenize(sentences[49])"
      ],
      "metadata": {
        "colab": {
          "base_uri": "https://localhost:8080/"
        },
        "id": "o9HJIfaSlkZg",
        "outputId": "faf109e6-0b3f-467a-a1c9-01eaa55b25cc"
      },
      "execution_count": null,
      "outputs": [
        {
          "output_type": "execute_result",
          "data": {
            "text/plain": [
              "['молодое',\n",
              " '«',\n",
              " 'митинговое',\n",
              " 'мясо',\n",
              " '»',\n",
              " 'пошло',\n",
              " 'в',\n",
              " '«',\n",
              " 'расходные',\n",
              " 'материалы',\n",
              " '»',\n",
              " 'для',\n",
              " 'террористической',\n",
              " 'деятельности',\n",
              " '.']"
            ]
          },
          "metadata": {},
          "execution_count": 28
        }
      ]
    },
    {
      "cell_type": "code",
      "source": [
        "set(nltk.word_tokenize(sentences[49]))"
      ],
      "metadata": {
        "colab": {
          "base_uri": "https://localhost:8080/"
        },
        "id": "eOdnWVCuZaIA",
        "outputId": "21369078-7203-4f97-cf39-9665fa410c8f"
      },
      "execution_count": null,
      "outputs": [
        {
          "output_type": "execute_result",
          "data": {
            "text/plain": [
              "{'.',\n",
              " '«',\n",
              " '»',\n",
              " 'в',\n",
              " 'деятельности',\n",
              " 'для',\n",
              " 'материалы',\n",
              " 'митинговое',\n",
              " 'молодое',\n",
              " 'мясо',\n",
              " 'пошло',\n",
              " 'расходные',\n",
              " 'террористической'}"
            ]
          },
          "metadata": {},
          "execution_count": 29
        }
      ]
    },
    {
      "cell_type": "code",
      "source": [
        "# for word in set(nltk.word_tokenize(sentences[49])):\n",
        "#   print(word)"
      ],
      "metadata": {
        "id": "rEbwJ4awuOx5"
      },
      "execution_count": null,
      "outputs": []
    },
    {
      "cell_type": "code",
      "source": [
        "set_of_vocab_words = set(vocab.keys())\n",
        "sentence_to_del = []\n",
        "\n",
        "for sentence in sentences:\n",
        "  # print(i, sentence)\n",
        "  words_in_sentence = set(nltk.word_tokenize(sentence))  # разбиваем каждое предложение на слова\n",
        "  for word in words_in_sentence:\n",
        "    # print(word)\n",
        "    if word not in set_of_vocab_words:\n",
        "      sentence_to_del.append(sentence)    # сохраняем индексы предложений, где есть слова, которые не входят в словарь\n",
        "      break\n",
        "\n",
        "  if (len(words_in_sentence) < 5) or len(words_in_sentence) > 15:\n",
        "    sentence_to_del.append(sentence)    # сохраняем индексы предложений, в которых меньше 5 или больше 15 слов"
      ],
      "metadata": {
        "id": "k0cOEORfbXEz"
      },
      "execution_count": null,
      "outputs": []
    },
    {
      "cell_type": "code",
      "source": [
        "sentence_to_del = set(sentence_to_del)"
      ],
      "metadata": {
        "id": "xOnrljcYjo96"
      },
      "execution_count": null,
      "outputs": []
    },
    {
      "cell_type": "code",
      "source": [
        "len(sentence_to_del)"
      ],
      "metadata": {
        "colab": {
          "base_uri": "https://localhost:8080/"
        },
        "id": "ITZVZV3PkAI7",
        "outputId": "cce4bd36-1c20-4785-deff-03b8b6b91cef"
      },
      "execution_count": null,
      "outputs": [
        {
          "output_type": "execute_result",
          "data": {
            "text/plain": [
              "19411"
            ]
          },
          "metadata": {},
          "execution_count": 63
        }
      ]
    },
    {
      "cell_type": "code",
      "source": [
        "sentenses = list(set(sentences) - sentence_to_del)   # убираем из множества сообщений те, которые не подходят"
      ],
      "metadata": {
        "id": "c1T8CdQUor_y"
      },
      "execution_count": null,
      "outputs": []
    },
    {
      "cell_type": "code",
      "source": [
        "type(sentenses)"
      ],
      "metadata": {
        "colab": {
          "base_uri": "https://localhost:8080/"
        },
        "id": "fXzNFximsziZ",
        "outputId": "864b2e08-68e3-4ee3-c79c-98926ddaf163"
      },
      "execution_count": null,
      "outputs": [
        {
          "output_type": "execute_result",
          "data": {
            "text/plain": [
              "list"
            ]
          },
          "metadata": {},
          "execution_count": 38
        }
      ]
    },
    {
      "cell_type": "code",
      "source": [
        "len(sentenses)"
      ],
      "metadata": {
        "colab": {
          "base_uri": "https://localhost:8080/"
        },
        "id": "CY5EHbQyxhwJ",
        "outputId": "e2dcbd8a-0393-4fca-912e-a98cf2624fb4"
      },
      "execution_count": null,
      "outputs": [
        {
          "output_type": "execute_result",
          "data": {
            "text/plain": [
              "1823"
            ]
          },
          "metadata": {},
          "execution_count": 65
        }
      ]
    },
    {
      "cell_type": "code",
      "source": [
        "sentenses[:10]"
      ],
      "metadata": {
        "colab": {
          "base_uri": "https://localhost:8080/"
        },
        "id": "9acrGLy2tqda",
        "outputId": "759803c8-022f-457a-9879-c7652ef4be93"
      },
      "execution_count": null,
      "outputs": [
        {
          "output_type": "execute_result",
          "data": {
            "text/plain": [
              "['но - вряд ли опасно для врага.',\n",
              " 'тишина и наши эмоции.',\n",
              " 'но он не отвечал.',\n",
              " 'здесь он может петь от души.',\n",
              " '– он помогает ему подняться.',\n",
              " 'такой вертолет я видел в первый раз.',\n",
              " '– а что это?',\n",
              " 'и тогда закричал я.',\n",
              " 'и это далеко не пригожин.',\n",
              " 'а потом подумал и попросил помощи и у гуаньинь.']"
            ]
          },
          "metadata": {},
          "execution_count": 66
        }
      ]
    },
    {
      "cell_type": "code",
      "source": [
        "sentenses[0]"
      ],
      "metadata": {
        "colab": {
          "base_uri": "https://localhost:8080/",
          "height": 36
        },
        "id": "M--i5Cuf4gWo",
        "outputId": "668ba389-89dc-49e5-d21c-d82a7cb71b66"
      },
      "execution_count": null,
      "outputs": [
        {
          "output_type": "execute_result",
          "data": {
            "text/plain": [
              "'но - вряд ли опасно для врага.'"
            ],
            "application/vnd.google.colaboratory.intrinsic+json": {
              "type": "string"
            }
          },
          "metadata": {},
          "execution_count": 67
        }
      ]
    },
    {
      "cell_type": "code",
      "source": [
        "standard_sentenses = []\n",
        "for sentence in sentenses:\n",
        "  words_in_sentence = nltk.word_tokenize(sentence)  # разбиваем каждое предложение на слова\n",
        "  num_words = len(words_in_sentence)\n",
        "  print(num_words)\n",
        "  # print(type(sentence))\n",
        "  if num_words != 15:\n",
        "    num_spaces = 15 - num_words\n",
        "    # sentence +=  num_spaces * ' '\n",
        "    for _ in range(num_spaces):\n",
        "      words_in_sentence.append(' ')\n",
        "\n",
        "    sentence = ' '.join(words_in_sentence)\n",
        "\n",
        "    standard_sentenses.append(sentence)\n",
        "    print(sentence)\n",
        "    print(len(words_in_sentence))\n",
        "  else:\n",
        "    standard_sentenses.append(sentence)\n",
        "    print(sentence)"
      ],
      "metadata": {
        "id": "EvIYGTfB35Mt"
      },
      "execution_count": null,
      "outputs": []
    },
    {
      "cell_type": "code",
      "source": [
        "standard_sentenses[0]"
      ],
      "metadata": {
        "colab": {
          "base_uri": "https://localhost:8080/",
          "height": 36
        },
        "id": "BoF6Fn4OH3qY",
        "outputId": "52bd1370-644c-4362-d04c-96a18e5a86af"
      },
      "execution_count": null,
      "outputs": [
        {
          "output_type": "execute_result",
          "data": {
            "text/plain": [
              "'но - вряд ли опасно для врага .              '"
            ],
            "application/vnd.google.colaboratory.intrinsic+json": {
              "type": "string"
            }
          },
          "metadata": {},
          "execution_count": 69
        }
      ]
    },
    {
      "cell_type": "code",
      "source": [
        "words_in_sentence = nltk.word_tokenize(standard_sentenses[0])\n",
        "print(len(words_in_sentence))\n",
        "print(words_in_sentence)"
      ],
      "metadata": {
        "colab": {
          "base_uri": "https://localhost:8080/"
        },
        "id": "UrO70aJx-i-b",
        "outputId": "9c552622-5550-4cce-b4c5-15608fa2a768"
      },
      "execution_count": null,
      "outputs": [
        {
          "output_type": "stream",
          "name": "stdout",
          "text": [
            "8\n",
            "['но', '-', 'вряд', 'ли', 'опасно', 'для', 'врага', '.']\n"
          ]
        }
      ]
    },
    {
      "cell_type": "code",
      "source": [
        "words_in_sentence = standard_sentenses[0].split()\n",
        "len(words_in_sentence)"
      ],
      "metadata": {
        "colab": {
          "base_uri": "https://localhost:8080/"
        },
        "id": "vKPazJTXEO4X",
        "outputId": "7756a5ed-0e87-4be3-ff21-10a541c8fa2e"
      },
      "execution_count": null,
      "outputs": [
        {
          "output_type": "execute_result",
          "data": {
            "text/plain": [
              "8"
            ]
          },
          "metadata": {},
          "execution_count": 71
        }
      ]
    },
    {
      "cell_type": "markdown",
      "source": [
        "##### 4 шаг"
      ],
      "metadata": {
        "id": "qzTIyBclkGhm"
      }
    },
    {
      "cell_type": "code",
      "source": [
        "replaced_sentences = []\n",
        "for sentence in standard_sentenses:\n",
        "  words_in_sentence = nltk.word_tokenize(sentence)\n",
        "  replaced_sentence = []\n",
        "\n",
        "  for word in words_in_sentence:\n",
        "    if word in vocab:\n",
        "      index = vocab[word]\n",
        "      replaced_sentence.append(str(index))\n",
        "    else:\n",
        "      replaced_sentence.append(word)\n",
        "\n",
        "  replaced_sentences.append(' '.join(replaced_sentence))"
      ],
      "metadata": {
        "id": "V_fsJazpgxeq"
      },
      "execution_count": null,
      "outputs": []
    },
    {
      "cell_type": "code",
      "source": [
        "replaced_sentences[:1]"
      ],
      "metadata": {
        "colab": {
          "base_uri": "https://localhost:8080/"
        },
        "id": "w0MW7sO4lseU",
        "outputId": "2f6eb14e-2868-4ead-9bd8-d6f71e3eb13f"
      },
      "execution_count": null,
      "outputs": [
        {
          "output_type": "execute_result",
          "data": {
            "text/plain": [
              "['20 10 868 98 3720 48 1836 1']"
            ]
          },
          "metadata": {},
          "execution_count": 73
        }
      ]
    },
    {
      "cell_type": "code",
      "source": [
        "replaced_sentences[:2]"
      ],
      "metadata": {
        "colab": {
          "base_uri": "https://localhost:8080/"
        },
        "id": "y4wd_UdAlxqZ",
        "outputId": "3f30952e-f88e-4e07-c7bb-f3549b4af185"
      },
      "execution_count": null,
      "outputs": [
        {
          "output_type": "execute_result",
          "data": {
            "text/plain": [
              "['20 10 868 98 3720 48 1836 1', '883 2 293 2358 1']"
            ]
          },
          "metadata": {},
          "execution_count": 74
        }
      ]
    },
    {
      "cell_type": "code",
      "source": [
        "replaced_sentences = ' '.join(replaced_sentences)"
      ],
      "metadata": {
        "id": "usdZo3uwnzkH"
      },
      "execution_count": null,
      "outputs": []
    },
    {
      "cell_type": "code",
      "source": [
        "type(replaced_sentences)"
      ],
      "metadata": {
        "colab": {
          "base_uri": "https://localhost:8080/"
        },
        "id": "fvmFLOyrn6Ud",
        "outputId": "fe27b568-053c-4a3e-f5fb-e187d38517a6"
      },
      "execution_count": null,
      "outputs": [
        {
          "output_type": "execute_result",
          "data": {
            "text/plain": [
              "str"
            ]
          },
          "metadata": {},
          "execution_count": 79
        }
      ]
    },
    {
      "cell_type": "markdown",
      "source": [
        "##### 5 шаг"
      ],
      "metadata": {
        "id": "rcShehcgmQol"
      }
    },
    {
      "cell_type": "code",
      "source": [
        "processed_text_path = '/content/processed_text.txt'\n",
        "\n",
        "with open(processed_text_path,'w') as text_file:\n",
        "  text_file.write(replaced_sentences)"
      ],
      "metadata": {
        "id": "2Df4TKwsmP1_"
      },
      "execution_count": null,
      "outputs": []
    },
    {
      "cell_type": "code",
      "source": [
        "print(type(vocab))"
      ],
      "metadata": {
        "colab": {
          "base_uri": "https://localhost:8080/"
        },
        "id": "d1jwTQhSoQw6",
        "outputId": "64171824-e499-4e1f-b2ea-8a8ef0fc1908"
      },
      "execution_count": null,
      "outputs": [
        {
          "output_type": "stream",
          "name": "stdout",
          "text": [
            "<class 'dict'>\n"
          ]
        }
      ]
    },
    {
      "cell_type": "code",
      "source": [
        "import json\n",
        "processed_vocab_path = '/content/processed_vocab.txt'\n",
        "\n",
        "vocab = json.dumps(vocab)\n",
        "\n",
        "with open(processed_vocab_path,'w') as text_file:\n",
        "  text_file.write(vocab)"
      ],
      "metadata": {
        "id": "_j22nU0BoIo5"
      },
      "execution_count": null,
      "outputs": []
    },
    {
      "cell_type": "markdown",
      "source": [
        "#### Обработка текста"
      ],
      "metadata": {
        "id": "JbRjnTGNCPEB"
      }
    },
    {
      "cell_type": "code",
      "source": [
        "# подключение библиотеки\n",
        "import nltk\n",
        "nltk.download('punkt')\n",
        "from collections import Counter\n",
        "import re"
      ],
      "metadata": {
        "colab": {
          "base_uri": "https://localhost:8080/"
        },
        "id": "1F6esh-bIQOD",
        "outputId": "096369b5-94bc-4b5a-d594-b619e6a5cd2a"
      },
      "execution_count": null,
      "outputs": [
        {
          "output_type": "stream",
          "name": "stderr",
          "text": [
            "[nltk_data] Downloading package punkt to /root/nltk_data...\n",
            "[nltk_data]   Unzipping tokenizers/punkt.zip.\n"
          ]
        }
      ]
    },
    {
      "cell_type": "code",
      "source": [
        "class Preprocessing():\n",
        "  # делаем весь текст в одну строку\n",
        "  def one_line(text):\n",
        "    return text.replace('\\n', ' ')  # делаем весь текст в одну строку\n",
        "\n",
        "  # переводим все символы в нижний регистр\n",
        "  def to_lower(text):\n",
        "    return text.lower()             # переводим все символы в нижний регистр\n",
        "\n",
        "  # токенизируем текст\n",
        "  def tokenize_text(text):\n",
        "    return nltk.word_tokenize(text) # переводим весь текст в список слов (токенизируем)\n",
        "\n",
        "  # список наиболее часто упоминаемых слов\n",
        "  def most_words(text):\n",
        "    tokenized_text = Preprocessing.tokenize_text(text)\n",
        "    cntr = Counter(tokenized_text) # считаем количество упоминаний каждого слова\n",
        "    return list(cntr.most_common(5000-3)) # наиболее частые N-3 слов (добавится заполнитель и два зарезервированных слова)\n",
        "\n",
        "  # создаем словарь слов\n",
        "  def make_vocab(text):\n",
        "    text = Preprocessing.one_line(text)\n",
        "    text = Preprocessing.to_lower(text)\n",
        "    # создание словаря слов: каждому слову присваиваем индекс, в зависимости от количества его упоминаний в текстовых данных\n",
        "    vocab = dict()\n",
        "    most_words_list = Preprocessing.most_words(text)\n",
        "    for i in range(len(most_words_list)):\n",
        "      vocab[most_words_list[i][0]] = i\n",
        "\n",
        "    # добавление специальных слов в словарь\n",
        "    vocab[' ']=len(vocab) # добавить пробел (заполнитель)\n",
        "    vocab['_UNK_']=len(vocab) # добавить удаленное слово (удаляемые слова заменяются этим словом)\n",
        "    vocab['_START_']=len(vocab) # добавить стартовое слово в словарь\n",
        "    return vocab\n",
        "\n",
        "  # создаем обратный словарь слов\n",
        "  def make_reverse_vocab(text):\n",
        "    vocab = Preprocessing.make_vocab(text)   # создаем обычный словарь\n",
        "    reverse_vocab = {value: key for key, value in vocab.items()}\n",
        "    return reverse_vocab\n",
        "\n",
        "  # разделяем текст на предложения по точке, воскл. и вопросит. знаку и многоточию\n",
        "  def split_sentences(text):\n",
        "    text = Preprocessing.one_line(text)\n",
        "    text = Preprocessing.to_lower(text)\n",
        "    sentences = re.split(r'(?<=[.!?…])\\s+', text)\n",
        "    return sentences\n",
        "\n",
        "  # убираем лишние примеры предложений\n",
        "  def examples_filtering(text):\n",
        "    sentences = Preprocessing.split_sentences(text)\n",
        "    vocab = Preprocessing.make_vocab(text)\n",
        "\n",
        "    set_of_vocab_words = set(vocab.keys())\n",
        "    sentence_to_del = []\n",
        "\n",
        "    for sentence in sentences:\n",
        "      words_in_sentence = set(nltk.word_tokenize(sentence))  # разбиваем каждое предложение на слова\n",
        "      for word in words_in_sentence:\n",
        "        if word not in set_of_vocab_words:\n",
        "          sentence_to_del.append(sentence)    # сохраняем индексы предложений, где есть слова, которые не входят в словарь\n",
        "          break\n",
        "\n",
        "      if (len(words_in_sentence) < 5) or len(words_in_sentence) > 10:\n",
        "        sentence_to_del.append(sentence)    # сохраняем индексы предложений, в которых меньше 5 или больше 10 слов\n",
        "\n",
        "    sentence_to_del = set(sentence_to_del)\n",
        "    sentenses = list(set(sentences) - sentence_to_del)   # убираем из множества сообщений те, которые не подходят\n",
        "    return sentenses\n",
        "\n",
        "  # заменяем текст индексами слов и дополняем каждый пример пробелами до 10 слов\n",
        "  def examples_repalce(text):\n",
        "\n",
        "    vocab = Preprocessing.make_vocab(text)\n",
        "\n",
        "    sentenses = Preprocessing.examples_filtering(text)\n",
        "\n",
        "    replaced_sentences = []\n",
        "\n",
        "    for sentence in sentenses:\n",
        "      words_in_sentence = Preprocessing.tokenize_text(sentence)\n",
        "      num_words = len(words_in_sentence)\n",
        "      replaced_sentence = []\n",
        "\n",
        "      for word in words_in_sentence:   # заменяем слова числами\n",
        "        if word in vocab:\n",
        "          index = vocab[word]\n",
        "          replaced_sentence.append(str(index))\n",
        "        else:\n",
        "          replaced_sentence.append(word)\n",
        "\n",
        "      if num_words != 10:             # добавляем нужное количество пробелов\n",
        "        num_spaces = 10 - num_words\n",
        "\n",
        "        for _ in range(num_spaces):\n",
        "          replaced_sentence.append(str(vocab[' ']))\n",
        "\n",
        "\n",
        "      replaced_sentences.append(' '.join(replaced_sentence))\n",
        "    return '\\n'.join(replaced_sentences)\n"
      ],
      "metadata": {
        "id": "TKgd8TP7BTh1"
      },
      "execution_count": null,
      "outputs": []
    },
    {
      "cell_type": "code",
      "source": [
        "print(original_text[:4000])"
      ],
      "metadata": {
        "id": "TVgcnDk1yNdS"
      },
      "execution_count": null,
      "outputs": []
    },
    {
      "cell_type": "code",
      "source": [
        "reverse_vocab = Preprocessing.make_reverse_vocab(original_text)\n",
        "reverse_vocab"
      ],
      "metadata": {
        "id": "IfQn39enNrh9"
      },
      "execution_count": null,
      "outputs": []
    },
    {
      "cell_type": "code",
      "source": [
        "examples = Preprocessing.examples_filtering(original_text)\n",
        "examples"
      ],
      "metadata": {
        "id": "RRuypmvjwrQR"
      },
      "execution_count": null,
      "outputs": []
    },
    {
      "cell_type": "code",
      "source": [
        "print(len(examples))"
      ],
      "metadata": {
        "colab": {
          "base_uri": "https://localhost:8080/"
        },
        "id": "y33OZRPaVfHf",
        "outputId": "77252fa1-34c9-4072-c21e-9f61c98f03ca"
      },
      "execution_count": null,
      "outputs": [
        {
          "output_type": "stream",
          "name": "stdout",
          "text": [
            "1519\n"
          ]
        }
      ]
    },
    {
      "cell_type": "code",
      "source": [
        "processed_text = Preprocessing.examples_repalce(original_text)"
      ],
      "metadata": {
        "id": "KSr9sWoDYh_7"
      },
      "execution_count": null,
      "outputs": []
    },
    {
      "cell_type": "code",
      "source": [
        "print(processed_text[:37])"
      ],
      "metadata": {
        "colab": {
          "base_uri": "https://localhost:8080/"
        },
        "id": "eSosMyrLi2d2",
        "outputId": "8ac02910-9c34-4b64-b481-287988f1a0e0"
      },
      "execution_count": null,
      "outputs": [
        {
          "output_type": "stream",
          "name": "stdout",
          "text": [
            "255 0 17 38 997 1 4997 4997 4997 4997\n"
          ]
        }
      ]
    },
    {
      "cell_type": "code",
      "source": [
        "processed_text_path = '/content/processed_text.txt'\n",
        "\n",
        "with open(processed_text_path,'w') as text_file:\n",
        "  text_file.write(processed_text)"
      ],
      "metadata": {
        "id": "CZkD4SVias5q"
      },
      "execution_count": null,
      "outputs": []
    },
    {
      "cell_type": "code",
      "source": [
        "import json\n",
        "processed_vocab_path = '/content/processed_vocab.txt'\n",
        "\n",
        "vocab = json.dumps(vocab)\n",
        "\n",
        "with open(processed_vocab_path,'w') as text_file:\n",
        "  text_file.write(vocab)"
      ],
      "metadata": {
        "id": "VY5CxI3yas5r"
      },
      "execution_count": null,
      "outputs": []
    },
    {
      "cell_type": "markdown",
      "source": [
        "# Лабораторная работа №3. Генерация текста"
      ],
      "metadata": {
        "id": "jpupvAMN0SrW"
      }
    },
    {
      "cell_type": "code",
      "source": [
        "import torch\n",
        "import torch.nn as nn\n",
        "\n",
        "# подключение библиотеки\n",
        "import nltk\n",
        "nltk.download('punkt')"
      ],
      "metadata": {
        "id": "r9prvrO1QaRa",
        "colab": {
          "base_uri": "https://localhost:8080/"
        },
        "outputId": "663e1fd3-29d2-4f6f-c88f-3760c996ed71"
      },
      "execution_count": 163,
      "outputs": [
        {
          "output_type": "stream",
          "name": "stderr",
          "text": [
            "[nltk_data] Downloading package punkt to /root/nltk_data...\n",
            "[nltk_data]   Package punkt is already up-to-date!\n"
          ]
        },
        {
          "output_type": "execute_result",
          "data": {
            "text/plain": [
              "True"
            ]
          },
          "metadata": {},
          "execution_count": 163
        }
      ]
    },
    {
      "cell_type": "code",
      "source": [
        "# Добавляем индекс слова __ START__ в начало каждого предложения выборки\n",
        "for sentence in data_file_train:\n",
        "  sentence.insert(0, 4999)   # вставляем в начало каждого предложения индекс слова __START__ :4999"
      ],
      "metadata": {
        "id": "Oy4hhQYA66rr"
      },
      "execution_count": 212,
      "outputs": []
    },
    {
      "cell_type": "code",
      "source": [
        "data_file_train[:10]"
      ],
      "metadata": {
        "colab": {
          "base_uri": "https://localhost:8080/"
        },
        "id": "pc847Rcv9zJv",
        "outputId": "e6c83175-5bf7-4dd5-8ca1-0d809a200392"
      },
      "execution_count": 213,
      "outputs": [
        {
          "output_type": "execute_result",
          "data": {
            "text/plain": [
              "[[4999, 34, 4209, 48, 19, 520, 0, 1773, 4997, 4997, 4997],\n",
              " [4999, 3, 874, 62, 4, 3738, 0, 2076, 4997, 4997, 4997],\n",
              " [4999, 83, 1514, 61, 312, 548, 4997, 4997, 4997, 4997, 4997],\n",
              " [4999, 55, 2305, 41, 191, 3117, 4997, 4997, 4997, 4997, 4997],\n",
              " [4999, 326, 18, 422, 15, 115, 3297, 4997, 4997, 4997, 4997],\n",
              " [4999, 32, 1, 903, 44, 1, 4021, 1054, 1486, 4997, 4997],\n",
              " [4999, 19, 1800, 4, 4570, 2583, 4997, 4997, 4997, 4997, 4997],\n",
              " [4999, 468, 490, 36, 186, 1077, 263, 3370, 4997, 4997, 4997],\n",
              " [4999, 8, 2251, 0, 181, 635, 452, 4997, 4997, 4997, 4997],\n",
              " [4999, 46, 30, 4263, 19, 2911, 4997, 4997, 4997, 4997, 4997]]"
            ]
          },
          "metadata": {},
          "execution_count": 213
        }
      ]
    },
    {
      "cell_type": "code",
      "source": [
        "# data_file_train - numpy-массив из списков индексов (предложений), каждый список имеет длину 10 индексов\n",
        "data_file_train = np.array(data_file_train)[:, :MAX_SEQ_LEN+1]\n",
        "data_file_train[0]"
      ],
      "metadata": {
        "colab": {
          "base_uri": "https://localhost:8080/"
        },
        "id": "yLOx8EZRBjOL",
        "outputId": "e1bf0e5c-540f-4ef2-e71a-e83892b2e2e7"
      },
      "execution_count": 214,
      "outputs": [
        {
          "output_type": "execute_result",
          "data": {
            "text/plain": [
              "array([4999,   34, 4209,   48,   19,  520,    0, 1773, 4997, 4997, 4997])"
            ]
          },
          "metadata": {},
          "execution_count": 214
        }
      ]
    },
    {
      "cell_type": "code",
      "source": [
        "# ФОРМИРУЕМ ВХОДНУЮ ВЫБОРКУ ДАННЫХ\n",
        "input_data = data_file_train[:,:-1]\n",
        "input_data[0]"
      ],
      "metadata": {
        "colab": {
          "base_uri": "https://localhost:8080/"
        },
        "id": "EIrfmGqGBuX4",
        "outputId": "4981a24e-adeb-4af4-ddc1-2b76f8630fab"
      },
      "execution_count": 215,
      "outputs": [
        {
          "output_type": "execute_result",
          "data": {
            "text/plain": [
              "array([4999,   34, 4209,   48,   19,  520,    0, 1773, 4997, 4997])"
            ]
          },
          "metadata": {},
          "execution_count": 215
        }
      ]
    },
    {
      "cell_type": "code",
      "source": [
        "# ФОРМИРУЕМ ВЫХОДНУЮ ВЫБОРКУ ДАННЫХ\n",
        "target_data = data_file_train[:,1:]\n",
        "target_data[0]"
      ],
      "metadata": {
        "colab": {
          "base_uri": "https://localhost:8080/"
        },
        "id": "cCuPJuT3zrRK",
        "outputId": "1349184c-f58f-4499-9915-aa3712a644ad"
      },
      "execution_count": 216,
      "outputs": [
        {
          "output_type": "execute_result",
          "data": {
            "text/plain": [
              "array([  34, 4209,   48,   19,  520,    0, 1773, 4997, 4997, 4997])"
            ]
          },
          "metadata": {},
          "execution_count": 216
        }
      ]
    },
    {
      "cell_type": "code",
      "source": [
        "# ФОРМИРУЕМ ТЕНЗОРЫ\n",
        "input_data = torch.LongTensor(input_data)\n",
        "target_data = torch.LongTensor(target_data)"
      ],
      "metadata": {
        "id": "Sec7gEKU5FJh"
      },
      "execution_count": 217,
      "outputs": []
    },
    {
      "cell_type": "code",
      "source": [
        "input_data[0]"
      ],
      "metadata": {
        "colab": {
          "base_uri": "https://localhost:8080/"
        },
        "id": "g5lexQ125QFe",
        "outputId": "3e48cd48-ef0d-464f-98a5-d5b8a1254a8f"
      },
      "execution_count": 218,
      "outputs": [
        {
          "output_type": "execute_result",
          "data": {
            "text/plain": [
              "tensor([4999,   34, 4209,   48,   19,  520,    0, 1773, 4997, 4997])"
            ]
          },
          "metadata": {},
          "execution_count": 218
        }
      ]
    },
    {
      "cell_type": "code",
      "source": [
        "# Задать параметры для обучения\n",
        "input_size = 100  # размерность входных данных, количество весов для каждого индекса слова\n",
        "hidden_size = 100  # размер скрытого состояния LSTM\n",
        "num_layers = 1  # количество слоев LSTM\n",
        "# num_epochs = 10  # количество эпох обучения\n",
        "learning_rate = 0.01  # скорость обучения\n",
        "vocab_size = len(word) # 5000 слов в словаре\n",
        "\n",
        "# Определить рекуррентную нейронную сеть LSTM\n",
        "class LSTMModel(nn.Module):\n",
        "  def __init__(self,input_size,hidden_size, vocab_size, num_layers = 1):\n",
        "    super(LSTMModel, self).__init__()    # вызываем конструктор родительского класса nn.Module и инициализируем базовый функционал модуля\n",
        "\n",
        "    self.embedding = nn.Embedding(vocab_size, input_size)   # аргумент 1 - размер словаря, аргумент 2 - размер вектора эмбеддинга\n",
        "    self.lstm = nn.LSTM(input_size, hidden_size, num_layers)\n",
        "    self.fc = nn.Linear(hidden_size, vocab_size)\n",
        "    self.softmax = nn.LogSoftmax(dim = 1)\n",
        "\n",
        "  def h_c_init(self, batch_size = 1):\n",
        "    h0 = torch.zeros(batch_size,hidden_size).to(device)     # потом нужно учесть размер бачей (пока по умолчанию =1)\n",
        "    c0 = torch.zeros(batch_size,hidden_size).to(device)\n",
        "    return (h0,c0)\n",
        "\n",
        "\n",
        "  # функция прямого прохода для 1 слова\n",
        "  def forward(self,x, h,c):   # x - индекс слова; выбираем нужный эмбеддинг из таблицы\n",
        "    # выбираем нужный эмбеддинг из таблицы\n",
        "    embedded = self.embedding(x).unsqueeze(dim=0)  # метод .unsqueeze(dim = ) увеличивает размерность тензора на одно измерение в указанном измерении dim\n",
        "\n",
        "    # ВХОДЫ\n",
        "    # embedded - тензор, содержащий характеристики входной последовательности\n",
        "    # h0 - тензор, содержащий начальное скрытое состояние для каждого элемента во входной последовательности\n",
        "    # c0 - тензор, содержащий начальное состояние ячейки для каждого элемента во входной последовательности\n",
        "\n",
        "    # ВЫХОДЫ\n",
        "    # output - тензор, содержащий выходные объекты (h_t) из последнего слоя LSTM, для каждого t\n",
        "    # hn - тензор, содержащий конечное скрытое состояние для каждого элемента в последовательности\n",
        "    # cn - тензор, содержащий конечное состояние ячейки для каждого элемента в последовательности\n",
        "\n",
        "    output, (hn, cn) = self.lstm(embedded, (h,c))\n",
        "    output = self.fc(output)\n",
        "    output = self.softmax(output)   #  dim 5000\n",
        "    return output, hn, cn\n",
        "\n",
        "  # функция генерации одного предложения (сэмпла)\n",
        "  # start_index - индекс первого слова последовательности\n",
        "  # max_seq_len - длина последовательности\n",
        "  def sample(self, start_word = 4999, max_seq_len = 10):\n",
        "\n",
        "    start_word = torch.tensor(start_word).to(device)  # делаем из целого числа тензор\n",
        "\n",
        "    # Инициализируем тензор, в котором будут храниться последовательности\n",
        "    sample = torch.zeros(1, max_seq_len).type(torch.LongTensor).to(device)\n",
        "\n",
        "    h0 = self.h_c_init()[0]  # инициализируем скрытое состояние\n",
        "    c0 = self.h_c_init()[1]  # инициализируем память ячеек\n",
        "\n",
        "    h = h0\n",
        "    c = c0\n",
        "\n",
        "    for i in range(max_seq_len):\n",
        "      out = self.forward(start_word, h, c)   # тензор с вероятностями следующего слова, скрытым состоянием и памятью ячеек\n",
        "\n",
        "      h = out[1]\n",
        "      c = out[2]\n",
        "\n",
        "      # подаем на ВХОД тензор с вероятностью и количество индексов, которые нужно сгенерировать\n",
        "      # на ВЫХОДЕ получаем сгененированный индекс токена (слова)\n",
        "      out = torch.multinomial(torch.exp(out[0])**2, 1)         # **2\n",
        "\n",
        "      # вставляем индекс в нужное место последовательности\n",
        "      sample[:, i] = out.view(-1).data  # view(-1) преобразуем тензор в одномерную последовательность; data - свойство тензора, которое дает доступ к его данным\n",
        "      start_word = out.view(-1).data[0]  # меняем стартовое слово на только что сгенерированное\n",
        "    return sample\n",
        "\n",
        "  def generate(self, sentence = None, reverse_vocab = reverse_vocab, vocab = vocab):\n",
        "    if sentence == None:\n",
        "      sentence_int = self.sample()[0]\n",
        "      sentence_word = []\n",
        "      for number in sentence_int:\n",
        "        sentence_word.append(reverse_vocab[number.item()])\n",
        "\n",
        "      print('Генерирую предложение полностью:', ' '.join(sentence_word))\n",
        "\n",
        "    elif type(sentence) == str:      # проверяем, что введена строка\n",
        "      sentence = sentence.lower()    # переводим в нижний регистр\n",
        "\n",
        "      try:                         # пытаемся разбить входную последовательность на слова\n",
        "        words_in_sentence = nltk.word_tokenize(sentence) # получаем список слов\n",
        "      except Exception:            # если разбить не получается, то просто генерируем предложение с нуля\n",
        "        sentence_int = self.sample()[0]\n",
        "        sentence_word = []\n",
        "        for number in sentence_int:\n",
        "          sentence_word.append(reverse_vocab[number.item()])\n",
        "\n",
        "        print('Генерирую предложение полностью:', ' '.join(sentence_word))\n",
        "\n",
        "      else:                        # если получается разбить, то пытаемся сгенерировать оставшуюся часть предложения (чтобы длина была равна 10)\n",
        "        if len(words_in_sentence) > 0 and len(words_in_sentence) < 10: # проверяем чтобы количество слов было в промежутке от 0 до 10 не включая\n",
        "          num_words = 10 - len(words_in_sentence)   # вычисляем сколько слов надо сгенерировать\n",
        "          start_word = words_in_sentence[-1]   # стартовое слово последовательности - последнее введеное слово\n",
        "          try:\n",
        "            start_word_index = vocab[start_word]      # пытаемся найти индекс слова из словаря\n",
        "          except Exception:                           # если не находим - генерируем предложение с нуля полностью\n",
        "            sentence_int = self.sample()[0]\n",
        "            sentence_word = []\n",
        "            for number in sentence_int:\n",
        "              sentence_word.append(reverse_vocab[number.item()])\n",
        "\n",
        "            print('Генерирую предложение полностью:', ' '.join(sentence_word))\n",
        "\n",
        "          else:                  # если в словаре есть такое слово, то получаем его индекс и подаем его в функцию sample\n",
        "            sentence_int = self.sample(start_word= start_word_index, max_seq_len = num_words)[0]\n",
        "            sentence_word = []\n",
        "            for number in sentence_int:\n",
        "              sentence_word.append(reverse_vocab[number.item()])\n",
        "            print('Генерирую оставшуюся часть предложения:',sentence + ' ' + ' '.join(sentence_word))\n",
        "\n",
        "        else:\n",
        "          print('Ошибка! Длина предложения должна быть в интервале от 0 до 10')\n",
        "    else:\n",
        "      print('Ошибка! Введите строку str')"
      ],
      "metadata": {
        "id": "HLxXoUiYbH6M"
      },
      "execution_count": 219,
      "outputs": []
    },
    {
      "cell_type": "code",
      "source": [
        "def train(input_text,output_text, model, num_epochs = 1):\n",
        "\n",
        "  # Определяем функцию потерь и оптимизатор\n",
        "  criterion = nn.NLLLoss()\n",
        "  optimizer = torch.optim.Adam(model.parameters(), lr=learning_rate)\n",
        "\n",
        "  # Обучаем модель\n",
        "  for epoch in range(num_epochs):   # эпоха обучения\n",
        "\n",
        "    for i, sentence in enumerate(input_text):   # перебираем предложения из выборки\n",
        "      h = model.h_c_init()[0]         # инициализируем скрытое состояние\n",
        "      c = model.h_c_init()[1]         # инициализируем память ячеек\n",
        "\n",
        "      pred_sentence = []    # список, в котором будет содержаться 10 векторов размерностью 5000 (вероятности след. слова)\n",
        "\n",
        "      for word in sentence:    # перебираем слова в предожении\n",
        "        word = torch.tensor(word)  # переводим индекс слова в тензор\n",
        "\n",
        "        # Проход вперед\n",
        "        preds = model.forward(word, h, c)  # получаем тензор с вероятностями следующего слова, скрытым состоянием и памятью ячеек\n",
        "        pred_word = preds[0]    # вектор с вероятностями\n",
        "        h = preds[1]  # вектор скрытого состояния\n",
        "        c = preds[2]  # вектор памяти ячеек\n",
        "        pred_sentence.append(pred_word[0])   # добавляем вектор в список\n",
        "\n",
        "      optimizer.zero_grad()   # обнуляем градиенты\n",
        "\n",
        "      loss = 0\n",
        "      for j, preds in enumerate(pred_sentence):     # считаем ошибку для каждого предложения\n",
        "        loss += criterion(preds, output_text[i][j])   # суммируем ошибки каждого слова\n",
        "\n",
        "      # Обратное распространение и оптимизация\n",
        "      loss.backward()   # считаем веса\n",
        "      optimizer.step()  # обновляем веса\n",
        "\n",
        "      # # Вывести промежуточную информацию\n",
        "      if i % 1000 == 0:\n",
        "          print(i)\n",
        "          print(loss)\n",
        "          print(model.sample())"
      ],
      "metadata": {
        "id": "rXJrDUu20Wk9"
      },
      "execution_count": 220,
      "outputs": []
    },
    {
      "cell_type": "code",
      "source": [
        "# Создаем модель и перевести данные на устройство (например, GPU)\n",
        "device = torch.device(\"cuda\" if torch.cuda.is_available() else \"cpu\")\n",
        "input_data = input_data.to(device)\n",
        "target_data = target_data.to(device)\n",
        "model = LSTMModel(input_size, hidden_size, vocab_size).to(device)"
      ],
      "metadata": {
        "id": "WC3F7FGIpC1Q"
      },
      "execution_count": 221,
      "outputs": []
    },
    {
      "cell_type": "code",
      "source": [
        "model.generate('я пойду туда, где нас')"
      ],
      "metadata": {
        "colab": {
          "base_uri": "https://localhost:8080/"
        },
        "id": "BDGBcXyhXUxM",
        "outputId": "b8793a66-4161-402d-d878-b924fafac507"
      },
      "execution_count": 320,
      "outputs": [
        {
          "output_type": "stream",
          "name": "stdout",
          "text": [
            "Генерирую оставшуюся часть предложения: я пойду туда, где нас ты и и в\n"
          ]
        }
      ]
    },
    {
      "cell_type": "code",
      "source": [
        "model.generate()"
      ],
      "metadata": {
        "colab": {
          "base_uri": "https://localhost:8080/"
        },
        "id": "xXdPokS7bgBH",
        "outputId": "2051a27c-a3cb-46bb-a44b-eff5402f47c9"
      },
      "execution_count": 330,
      "outputs": [
        {
          "output_type": "stream",
          "name": "stdout",
          "text": [
            "Генерирую предложение полностью: ты как не меня не     \n"
          ]
        }
      ]
    },
    {
      "cell_type": "code",
      "source": [
        "train(input_data,target_data,model)"
      ],
      "metadata": {
        "colab": {
          "base_uri": "https://localhost:8080/"
        },
        "id": "hebwBUIEBELB",
        "outputId": "d94703a3-00d5-4fa1-cac3-17f87536e2b2"
      },
      "execution_count": 244,
      "outputs": [
        {
          "output_type": "stream",
          "name": "stderr",
          "text": [
            "<ipython-input-220-9ca5cb1f8609>:17: UserWarning: To copy construct from a tensor, it is recommended to use sourceTensor.clone().detach() or sourceTensor.clone().detach().requires_grad_(True), rather than torch.tensor(sourceTensor).\n",
            "  word = torch.tensor(word)  # переводим индекс слова в тензор\n"
          ]
        },
        {
          "output_type": "stream",
          "name": "stdout",
          "text": [
            "0\n",
            "tensor(41.8559, device='cuda:0', grad_fn=<AddBackward0>)\n",
            "tensor([[  10,   13,    3,   22,    2,    6,   73, 4997, 4997, 4997]],\n",
            "       device='cuda:0')\n",
            "1000\n",
            "tensor(32.7228, device='cuda:0', grad_fn=<AddBackward0>)\n",
            "tensor([[   0,    5,    3,    2,  715, 4997, 4997, 4997, 4997, 4997]],\n",
            "       device='cuda:0')\n",
            "2000\n",
            "tensor(66.5246, device='cuda:0', grad_fn=<AddBackward0>)\n",
            "tensor([[   0,   19,  520,    5, 4997, 4997, 4997, 4997, 4997, 4997]],\n",
            "       device='cuda:0')\n",
            "3000\n",
            "tensor(42.6769, device='cuda:0', grad_fn=<AddBackward0>)\n",
            "tensor([[   0,    2,   57,    1,   79, 4997, 4997, 4997, 4997, 4997]],\n",
            "       device='cuda:0')\n",
            "4000\n",
            "tensor(40.2931, device='cuda:0', grad_fn=<AddBackward0>)\n",
            "tensor([[   3,  169,    3,    3,   10,  103,  104,   15, 4997, 4997]],\n",
            "       device='cuda:0')\n",
            "5000\n",
            "tensor(54.6295, device='cuda:0', grad_fn=<AddBackward0>)\n",
            "tensor([[  20,    8,  315, 4997, 4997, 4997, 4997, 4997, 4997, 4997]],\n",
            "       device='cuda:0')\n",
            "6000\n",
            "tensor(36.8973, device='cuda:0', grad_fn=<AddBackward0>)\n",
            "tensor([[   9,    0,    5,    3, 4997, 4997, 4997, 4997, 4997, 4997]],\n",
            "       device='cuda:0')\n",
            "7000\n",
            "tensor(54.3906, device='cuda:0', grad_fn=<AddBackward0>)\n",
            "tensor([[   9,    1,   63, 4997, 4997, 4997, 4997, 4997, 4997, 4997]],\n",
            "       device='cuda:0')\n",
            "8000\n",
            "tensor(47.2689, device='cuda:0', grad_fn=<AddBackward0>)\n",
            "tensor([[   0,    2,    2,    6,   73, 4997, 4997, 4997, 4997, 4997]],\n",
            "       device='cuda:0')\n",
            "9000\n",
            "tensor(40.5424, device='cuda:0', grad_fn=<AddBackward0>)\n",
            "tensor([[   0,  380,    2,    2,    1,  795, 4997, 4997, 4997, 4997]],\n",
            "       device='cuda:0')\n",
            "10000\n",
            "tensor(37.7592, device='cuda:0', grad_fn=<AddBackward0>)\n",
            "tensor([[   0,    1,  188,    1,  188, 4997, 4997, 4997, 4997, 4997]],\n",
            "       device='cuda:0')\n",
            "11000\n",
            "tensor(31.6582, device='cuda:0', grad_fn=<AddBackward0>)\n",
            "tensor([[   0,   16,    7,    7,   57,    0, 4997, 4997, 4997, 4997]],\n",
            "       device='cuda:0')\n",
            "12000\n",
            "tensor(37.1841, device='cuda:0', grad_fn=<AddBackward0>)\n",
            "tensor([[   0,   22,    0,   16,    3,    5,    2, 4997, 4997, 4997]],\n",
            "       device='cuda:0')\n",
            "13000\n",
            "tensor(32.2789, device='cuda:0', grad_fn=<AddBackward0>)\n",
            "tensor([[  0,   0,   2, 814, 191, 108,   0, 908, 120,  55]], device='cuda:0')\n",
            "14000\n",
            "tensor(73.0587, device='cuda:0', grad_fn=<AddBackward0>)\n",
            "tensor([[  10,    2,    2,  125,    0, 4997, 4997, 4997, 4997, 4997]],\n",
            "       device='cuda:0')\n",
            "15000\n",
            "tensor(32.7178, device='cuda:0', grad_fn=<AddBackward0>)\n",
            "tensor([[   3,    3,  608,    5,   43, 4997, 4997, 4997, 4997, 4997]],\n",
            "       device='cuda:0')\n",
            "16000\n",
            "tensor(39.5009, device='cuda:0', grad_fn=<AddBackward0>)\n",
            "tensor([[   3,    3,    1,   63,    2,    2,   35,   22, 4997, 4997]],\n",
            "       device='cuda:0')\n",
            "17000\n",
            "tensor(53.8842, device='cuda:0', grad_fn=<AddBackward0>)\n",
            "tensor([[   0,   35,   23,   23,   76,  132,    3, 4997, 4997, 4997]],\n",
            "       device='cuda:0')\n",
            "18000\n",
            "tensor(36.6704, device='cuda:0', grad_fn=<AddBackward0>)\n",
            "tensor([[   0,   24,   31,   57,   16, 4997, 4997, 4997, 4997, 4997]],\n",
            "       device='cuda:0')\n",
            "19000\n",
            "tensor(52.0437, device='cuda:0', grad_fn=<AddBackward0>)\n",
            "tensor([[   0,   60,    2, 4997, 4997, 4997, 4997, 4997, 4997, 4997]],\n",
            "       device='cuda:0')\n",
            "20000\n",
            "tensor(38.7947, device='cuda:0', grad_fn=<AddBackward0>)\n",
            "tensor([[   3,  250,    3,   24,   13,    2, 4997, 4997, 4997, 4997]],\n",
            "       device='cuda:0')\n",
            "21000\n",
            "tensor(62.6558, device='cuda:0', grad_fn=<AddBackward0>)\n",
            "tensor([[   3,  108,    8,   44, 4997, 4997, 4997, 4997, 4997, 4997]],\n",
            "       device='cuda:0')\n",
            "22000\n",
            "tensor(44.4129, device='cuda:0', grad_fn=<AddBackward0>)\n",
            "tensor([[   3,  108,    2,    1,   47,    2, 4997, 4997, 4997, 4997]],\n",
            "       device='cuda:0')\n",
            "23000\n",
            "tensor(37.5663, device='cuda:0', grad_fn=<AddBackward0>)\n",
            "tensor([[   0,    5,    2,   28, 4997, 4997, 4997, 4997, 4997, 4997]],\n",
            "       device='cuda:0')\n",
            "24000\n",
            "tensor(44.2881, device='cuda:0', grad_fn=<AddBackward0>)\n",
            "tensor([[  0,   2, 689,   7,   2,   2,  30,   3,   2,   3]], device='cuda:0')\n",
            "25000\n",
            "tensor(21.0620, device='cuda:0', grad_fn=<AddBackward0>)\n",
            "tensor([[   0,  771,   23, 4997, 4997, 4997, 4997, 4997, 4997, 4997]],\n",
            "       device='cuda:0')\n",
            "26000\n",
            "tensor(39.7911, device='cuda:0', grad_fn=<AddBackward0>)\n",
            "tensor([[  10,   31, 4997, 4997, 4997, 4997, 4997, 4997, 4997, 4997]],\n",
            "       device='cuda:0')\n",
            "27000\n",
            "tensor(25.8487, device='cuda:0', grad_fn=<AddBackward0>)\n",
            "tensor([[   3,   16,    2,   36,    4,  188, 4997, 4997, 4997, 4997]],\n",
            "       device='cuda:0')\n",
            "28000\n",
            "tensor(59.5014, device='cuda:0', grad_fn=<AddBackward0>)\n",
            "tensor([[   8,   25,  204, 4997, 4997, 4997, 4997, 4997, 4997, 4997]],\n",
            "       device='cuda:0')\n",
            "29000\n",
            "tensor(40.1387, device='cuda:0', grad_fn=<AddBackward0>)\n",
            "tensor([[  57,    0,    2,    0,    5, 4997, 4997, 4997, 4997, 4997]],\n",
            "       device='cuda:0')\n",
            "30000\n",
            "tensor(55.2983, device='cuda:0', grad_fn=<AddBackward0>)\n",
            "tensor([[   0,    1,   65, 4997, 4997, 4997, 4997, 4997, 4997, 4997]],\n",
            "       device='cuda:0')\n",
            "31000\n",
            "tensor(26.1440, device='cuda:0', grad_fn=<AddBackward0>)\n",
            "tensor([[   0,    1,    2, 4997, 4997, 4997, 4997, 4997, 4997, 4997]],\n",
            "       device='cuda:0')\n",
            "32000\n",
            "tensor(66.2899, device='cuda:0', grad_fn=<AddBackward0>)\n",
            "tensor([[  53,    7,    6,  162,   52,    0, 4997, 4997, 4997, 4997]],\n",
            "       device='cuda:0')\n",
            "33000\n",
            "tensor(50.5368, device='cuda:0', grad_fn=<AddBackward0>)\n",
            "tensor([[   9,    6,   73,    2, 4997, 4997, 4997, 4997, 4997, 4997]],\n",
            "       device='cuda:0')\n",
            "34000\n",
            "tensor(63.3810, device='cuda:0', grad_fn=<AddBackward0>)\n",
            "tensor([[   0,    2,    2, 4997, 4997, 4997, 4997, 4997, 4997, 4997]],\n",
            "       device='cuda:0')\n",
            "35000\n",
            "tensor(58.5006, device='cuda:0', grad_fn=<AddBackward0>)\n",
            "tensor([[   2,    4,   62,   51, 4997, 4997, 4997, 4997, 4997, 4997]],\n",
            "       device='cuda:0')\n",
            "36000\n",
            "tensor(78.6808, device='cuda:0', grad_fn=<AddBackward0>)\n",
            "tensor([[   2,  134,    2,    5,    0,  345, 4997, 4997, 4997, 4997]],\n",
            "       device='cuda:0')\n",
            "37000\n",
            "tensor(59.5460, device='cuda:0', grad_fn=<AddBackward0>)\n",
            "tensor([[0, 3, 0, 1, 3, 2, 0, 2, 2, 2]], device='cuda:0')\n",
            "38000\n",
            "tensor(63.7368, device='cuda:0', grad_fn=<AddBackward0>)\n",
            "tensor([[   2,    0,    8,   25,   23, 4997, 4997, 4997, 4997, 4997]],\n",
            "       device='cuda:0')\n",
            "39000\n",
            "tensor(35.1716, device='cuda:0', grad_fn=<AddBackward0>)\n",
            "tensor([[   4,    5,    3,    1,   41, 4997, 4997, 4997, 4997, 4997]],\n",
            "       device='cuda:0')\n",
            "40000\n",
            "tensor(35.8310, device='cuda:0', grad_fn=<AddBackward0>)\n",
            "tensor([[   5,  212,    2,   12, 4997, 4997, 4997, 4997, 4997, 4997]],\n",
            "       device='cuda:0')\n",
            "41000\n",
            "tensor(46.1733, device='cuda:0', grad_fn=<AddBackward0>)\n",
            "tensor([[  10,    1,    0,   12, 4997, 4997, 4997, 4997, 4997, 4997]],\n",
            "       device='cuda:0')\n",
            "42000\n",
            "tensor(31.6578, device='cuda:0', grad_fn=<AddBackward0>)\n",
            "tensor([[ 0,  0,  7,  9,  2,  2,  0,  0,  8, 30]], device='cuda:0')\n",
            "43000\n",
            "tensor(34.6862, device='cuda:0', grad_fn=<AddBackward0>)\n",
            "tensor([[   0,   28,  105,    9,    3,  148, 4997, 4997, 4997, 4997]],\n",
            "       device='cuda:0')\n",
            "44000\n",
            "tensor(35.3932, device='cuda:0', grad_fn=<AddBackward0>)\n",
            "tensor([[   3,    0,    9,    1, 4997, 4997, 4997, 4997, 4997, 4997]],\n",
            "       device='cuda:0')\n",
            "45000\n",
            "tensor(37.7492, device='cuda:0', grad_fn=<AddBackward0>)\n",
            "tensor([[   3,    4, 4997, 4997, 4997, 4997, 4997, 4997, 4997, 4997]],\n",
            "       device='cuda:0')\n",
            "46000\n",
            "tensor(64.8126, device='cuda:0', grad_fn=<AddBackward0>)\n",
            "tensor([[  41,   72, 4997, 4997, 4997, 4997, 4997, 4997, 4997, 4997]],\n",
            "       device='cuda:0')\n",
            "47000\n",
            "tensor(33.2382, device='cuda:0', grad_fn=<AddBackward0>)\n",
            "tensor([[   9,    2,    0,   24,    8,   35,   23, 4997, 4997, 4997]],\n",
            "       device='cuda:0')\n",
            "48000\n",
            "tensor(32.8168, device='cuda:0', grad_fn=<AddBackward0>)\n",
            "tensor([[   3,    1, 1381, 4997, 4997, 4997, 4997, 4997, 4997, 4997]],\n",
            "       device='cuda:0')\n",
            "49000\n",
            "tensor(38.6162, device='cuda:0', grad_fn=<AddBackward0>)\n",
            "tensor([[   3,    3,    7,   16,    2,    0,    5,    0,    8, 4997]],\n",
            "       device='cuda:0')\n",
            "50000\n",
            "tensor(40.2460, device='cuda:0', grad_fn=<AddBackward0>)\n",
            "tensor([[ 9,  0,  5,  2, 60,  0,  3,  6,  0,  3]], device='cuda:0')\n",
            "51000\n",
            "tensor(34.5612, device='cuda:0', grad_fn=<AddBackward0>)\n",
            "tensor([[  60, 4997, 4997, 4997, 4997, 4997, 4997, 4997, 4997, 4997]],\n",
            "       device='cuda:0')\n",
            "52000\n",
            "tensor(67.2667, device='cuda:0', grad_fn=<AddBackward0>)\n",
            "tensor([[4997, 4997, 4997, 4997, 4997, 4997, 4997, 4997, 4997, 4997]],\n",
            "       device='cuda:0')\n",
            "53000\n",
            "tensor(41.2168, device='cuda:0', grad_fn=<AddBackward0>)\n",
            "tensor([[4997, 4997, 4997, 4997, 4997, 4997, 4997, 4997, 4997, 4997]],\n",
            "       device='cuda:0')\n",
            "54000\n",
            "tensor(27.1570, device='cuda:0', grad_fn=<AddBackward0>)\n",
            "tensor([[4997, 4997, 4997, 4997, 4997, 4997, 4997, 4997, 4997, 4997]],\n",
            "       device='cuda:0')\n",
            "55000\n",
            "tensor(37.0512, device='cuda:0', grad_fn=<AddBackward0>)\n",
            "tensor([[4997, 4997, 4997, 4997, 4997, 4997, 4997, 4997, 4997, 4997]],\n",
            "       device='cuda:0')\n",
            "56000\n",
            "tensor(30.0401, device='cuda:0', grad_fn=<AddBackward0>)\n",
            "tensor([[4997, 4997, 4997, 4997, 4997, 4997, 4997, 4997, 4997, 4997]],\n",
            "       device='cuda:0')\n",
            "57000\n",
            "tensor(41.6380, device='cuda:0', grad_fn=<AddBackward0>)\n",
            "tensor([[4997, 4997, 4997, 4997, 4997, 4997, 4997, 4997, 4997, 4997]],\n",
            "       device='cuda:0')\n",
            "58000\n",
            "tensor(59.0856, device='cuda:0', grad_fn=<AddBackward0>)\n",
            "tensor([[4997, 4997, 4997, 4997, 4997, 4997, 4997, 4997, 4997, 4997]],\n",
            "       device='cuda:0')\n",
            "59000\n",
            "tensor(54.8716, device='cuda:0', grad_fn=<AddBackward0>)\n",
            "tensor([[   1,   97,    8, 4997, 4997, 4997, 4997, 4997, 4997, 4997]],\n",
            "       device='cuda:0')\n",
            "60000\n",
            "tensor(35.1792, device='cuda:0', grad_fn=<AddBackward0>)\n",
            "tensor([[4997, 4997, 4997, 4997, 4997, 4997, 4997, 4997, 4997, 4997]],\n",
            "       device='cuda:0')\n",
            "61000\n",
            "tensor(55.5381, device='cuda:0', grad_fn=<AddBackward0>)\n",
            "tensor([[   5,    4, 4997, 4997, 4997, 4997, 4997, 4997, 4997, 4997]],\n",
            "       device='cuda:0')\n",
            "62000\n",
            "tensor(48.8918, device='cuda:0', grad_fn=<AddBackward0>)\n",
            "tensor([[4997, 4997, 4997, 4997, 4997, 4997, 4997, 4997, 4997, 4997]],\n",
            "       device='cuda:0')\n",
            "63000\n",
            "tensor(67.2063, device='cuda:0', grad_fn=<AddBackward0>)\n",
            "tensor([[4997, 4997, 4997, 4997, 4997, 4997, 4997, 4997, 4997, 4997]],\n",
            "       device='cuda:0')\n",
            "64000\n",
            "tensor(49.1173, device='cuda:0', grad_fn=<AddBackward0>)\n",
            "tensor([[   0,   13, 4997, 4997, 4997, 4997, 4997, 4997, 4997, 4997]],\n",
            "       device='cuda:0')\n",
            "65000\n",
            "tensor(42.4521, device='cuda:0', grad_fn=<AddBackward0>)\n",
            "tensor([[4997, 4997, 4997, 4997, 4997, 4997, 4997, 4997, 4997, 4997]],\n",
            "       device='cuda:0')\n",
            "66000\n",
            "tensor(41.6795, device='cuda:0', grad_fn=<AddBackward0>)\n",
            "tensor([[   0,  122, 4997, 4997, 4997, 4997, 4997, 4997, 4997, 4997]],\n",
            "       device='cuda:0')\n",
            "67000\n",
            "tensor(39.0954, device='cuda:0', grad_fn=<AddBackward0>)\n",
            "tensor([[4997, 4997, 4997, 4997, 4997, 4997, 4997, 4997, 4997, 4997]],\n",
            "       device='cuda:0')\n",
            "68000\n",
            "tensor(43.0125, device='cuda:0', grad_fn=<AddBackward0>)\n",
            "tensor([[4997, 4997, 4997, 4997, 4997, 4997, 4997, 4997, 4997, 4997]],\n",
            "       device='cuda:0')\n",
            "69000\n",
            "tensor(28.4274, device='cuda:0', grad_fn=<AddBackward0>)\n",
            "tensor([[4997, 4997, 4997, 4997, 4997, 4997, 4997, 4997, 4997, 4997]],\n",
            "       device='cuda:0')\n",
            "70000\n",
            "tensor(42.3143, device='cuda:0', grad_fn=<AddBackward0>)\n",
            "tensor([[   2,   27,    2,    2,    0,    2,    0,    3,   12, 4997]],\n",
            "       device='cuda:0')\n",
            "71000\n",
            "tensor(47.7068, device='cuda:0', grad_fn=<AddBackward0>)\n",
            "tensor([[   0,    2,    2,    2,    1, 4997, 4997, 4997, 4997, 4997]],\n",
            "       device='cuda:0')\n",
            "72000\n",
            "tensor(53.8370, device='cuda:0', grad_fn=<AddBackward0>)\n",
            "tensor([[  3,   2,   8, 276,  64,   7,   2,  14,  34,   4]], device='cuda:0')\n",
            "73000\n",
            "tensor(41.3702, device='cuda:0', grad_fn=<AddBackward0>)\n",
            "tensor([[   7,   29,   12,   36,   24,   34,   12,  108, 4997, 4997]],\n",
            "       device='cuda:0')\n",
            "74000\n",
            "tensor(68.1754, device='cuda:0', grad_fn=<AddBackward0>)\n",
            "tensor([[   0,    1,  106,    5,   62,    0,    1,  321, 4997, 4997]],\n",
            "       device='cuda:0')\n",
            "75000\n",
            "tensor(28.0092, device='cuda:0', grad_fn=<AddBackward0>)\n",
            "tensor([[   3,    2,  593,    0,   42,    2,   30,    2,  212, 4997]],\n",
            "       device='cuda:0')\n",
            "76000\n",
            "tensor(49.9182, device='cuda:0', grad_fn=<AddBackward0>)\n",
            "tensor([[   0,    1,    2,    1,    2,   65, 4997, 4997, 4997, 4997]],\n",
            "       device='cuda:0')\n",
            "77000\n",
            "tensor(40.7708, device='cuda:0', grad_fn=<AddBackward0>)\n",
            "tensor([[   3,    2,    4,   72, 4997, 4997, 4997, 4997, 4997, 4997]],\n",
            "       device='cuda:0')\n",
            "78000\n",
            "tensor(34.8661, device='cuda:0', grad_fn=<AddBackward0>)\n",
            "tensor([[   3, 4997, 4997, 4997, 4997, 4997, 4997, 4997, 4997, 4997]],\n",
            "       device='cuda:0')\n",
            "79000\n",
            "tensor(66.3615, device='cuda:0', grad_fn=<AddBackward0>)\n",
            "tensor([[  11,  195,   22, 4997, 4997, 4997, 4997, 4997, 4997, 4997]],\n",
            "       device='cuda:0')\n",
            "80000\n",
            "tensor(49.1296, device='cuda:0', grad_fn=<AddBackward0>)\n",
            "tensor([[   5,   71, 4997, 4997, 4997, 4997, 4997, 4997, 4997, 4997]],\n",
            "       device='cuda:0')\n",
            "81000\n",
            "tensor(53.2872, device='cuda:0', grad_fn=<AddBackward0>)\n",
            "tensor([[   0,   25,  527, 4997, 4997, 4997, 4997, 4997, 4997, 4997]],\n",
            "       device='cuda:0')\n",
            "82000\n",
            "tensor(52.7058, device='cuda:0', grad_fn=<AddBackward0>)\n",
            "tensor([[   7,    1,    2,    3,    2,  713,    1, 4997, 4997, 4997]],\n",
            "       device='cuda:0')\n",
            "83000\n",
            "tensor(36.4851, device='cuda:0', grad_fn=<AddBackward0>)\n",
            "tensor([[   0,   13,   30,    3,    8,    1, 4997, 4997, 4997, 4997]],\n",
            "       device='cuda:0')\n",
            "84000\n",
            "tensor(37.6819, device='cuda:0', grad_fn=<AddBackward0>)\n",
            "tensor([[   7,  679,  240, 4997, 4997, 4997, 4997, 4997, 4997, 4997]],\n",
            "       device='cuda:0')\n",
            "85000\n",
            "tensor(47.4578, device='cuda:0', grad_fn=<AddBackward0>)\n",
            "tensor([[   8,    2,  212, 4997, 4997, 4997, 4997, 4997, 4997, 4997]],\n",
            "       device='cuda:0')\n",
            "86000\n",
            "tensor(42.3660, device='cuda:0', grad_fn=<AddBackward0>)\n",
            "tensor([[   3,    2,   16,   16,    5,    6,   73,    3,    1, 4997]],\n",
            "       device='cuda:0')\n",
            "87000\n",
            "tensor(65.3002, device='cuda:0', grad_fn=<AddBackward0>)\n",
            "tensor([[   0,   27, 4997, 4997, 4997, 4997, 4997, 4997, 4997, 4997]],\n",
            "       device='cuda:0')\n",
            "88000\n",
            "tensor(44.3238, device='cuda:0', grad_fn=<AddBackward0>)\n",
            "tensor([[   0,    1,    3,    2,   92, 4997, 4997, 4997, 4997, 4997]],\n",
            "       device='cuda:0')\n",
            "89000\n",
            "tensor(63.9925, device='cuda:0', grad_fn=<AddBackward0>)\n",
            "tensor([[   3,   26, 4997, 4997, 4997, 4997, 4997, 4997, 4997, 4997]],\n",
            "       device='cuda:0')\n",
            "90000\n",
            "tensor(41.1822, device='cuda:0', grad_fn=<AddBackward0>)\n",
            "tensor([[  10,  283, 4997, 4997, 4997, 4997, 4997, 4997, 4997, 4997]],\n",
            "       device='cuda:0')\n",
            "91000\n",
            "tensor(54.0704, device='cuda:0', grad_fn=<AddBackward0>)\n",
            "tensor([[  3,   5, 246,   3,   2,   1,   1,   2,   0,   1]], device='cuda:0')\n",
            "92000\n",
            "tensor(39.1121, device='cuda:0', grad_fn=<AddBackward0>)\n",
            "tensor([[   0,  140, 4997, 4997, 4997, 4997, 4997, 4997, 4997, 4997]],\n",
            "       device='cuda:0')\n",
            "93000\n",
            "tensor(83.4821, device='cuda:0', grad_fn=<AddBackward0>)\n",
            "tensor([[  5,   3,   2,   2,  42, 123, 149,  12,  11,   4]], device='cuda:0')\n",
            "94000\n",
            "tensor(30.3435, device='cuda:0', grad_fn=<AddBackward0>)\n",
            "tensor([[   9,    2,    4,    8, 4997, 4997, 4997, 4997, 4997, 4997]],\n",
            "       device='cuda:0')\n",
            "95000\n",
            "tensor(55.8366, device='cuda:0', grad_fn=<AddBackward0>)\n",
            "tensor([[   3,   13,    2,    2,    2,  453, 4997, 4997, 4997, 4997]],\n",
            "       device='cuda:0')\n",
            "96000\n",
            "tensor(43.2970, device='cuda:0', grad_fn=<AddBackward0>)\n",
            "tensor([[   0,    6,  162,    6,   73,    3,    5,   54, 4997, 4997]],\n",
            "       device='cuda:0')\n",
            "97000\n",
            "tensor(45.9166, device='cuda:0', grad_fn=<AddBackward0>)\n",
            "tensor([[   5,  132, 4997, 4997, 4997, 4997, 4997, 4997, 4997, 4997]],\n",
            "       device='cuda:0')\n",
            "98000\n",
            "tensor(31.5415, device='cuda:0', grad_fn=<AddBackward0>)\n",
            "tensor([[ 45,   8,   0,  30,   2,   2,  16,   1, 346,   0]], device='cuda:0')\n",
            "99000\n",
            "tensor(47.5967, device='cuda:0', grad_fn=<AddBackward0>)\n",
            "tensor([[  2,   2,   7,   2,   2,  62,   3,   1,   3, 128]], device='cuda:0')\n",
            "100000\n",
            "tensor(43.7699, device='cuda:0', grad_fn=<AddBackward0>)\n",
            "tensor([[   9, 4997, 4997, 4997, 4997, 4997, 4997, 4997, 4997, 4997]],\n",
            "       device='cuda:0')\n",
            "101000\n",
            "tensor(33.7973, device='cuda:0', grad_fn=<AddBackward0>)\n",
            "tensor([[   3, 4997, 4997, 4997, 4997, 4997, 4997, 4997, 4997, 4997]],\n",
            "       device='cuda:0')\n",
            "102000\n",
            "tensor(45.9931, device='cuda:0', grad_fn=<AddBackward0>)\n",
            "tensor([[   0,   76,    2,  136, 4997, 4997, 4997, 4997, 4997, 4997]],\n",
            "       device='cuda:0')\n",
            "103000\n",
            "tensor(47.3244, device='cuda:0', grad_fn=<AddBackward0>)\n",
            "tensor([[   0,   92,    4, 4997, 4997, 4997, 4997, 4997, 4997, 4997]],\n",
            "       device='cuda:0')\n",
            "104000\n",
            "tensor(59.5282, device='cuda:0', grad_fn=<AddBackward0>)\n",
            "tensor([[   0,    2,  453, 4997, 4997, 4997, 4997, 4997, 4997, 4997]],\n",
            "       device='cuda:0')\n",
            "105000\n",
            "tensor(67.9067, device='cuda:0', grad_fn=<AddBackward0>)\n",
            "tensor([[   0,    2,    1,  210, 4997, 4997, 4997, 4997, 4997, 4997]],\n",
            "       device='cuda:0')\n",
            "106000\n",
            "tensor(38.1066, device='cuda:0', grad_fn=<AddBackward0>)\n",
            "tensor([[   0, 4997, 4997, 4997, 4997, 4997, 4997, 4997, 4997, 4997]],\n",
            "       device='cuda:0')\n",
            "107000\n",
            "tensor(73.3577, device='cuda:0', grad_fn=<AddBackward0>)\n",
            "tensor([[   0,    3,   13,    2,   13,  345, 4997, 4997, 4997, 4997]],\n",
            "       device='cuda:0')\n",
            "108000\n",
            "tensor(55.3732, device='cuda:0', grad_fn=<AddBackward0>)\n",
            "tensor([[   0,    2,    3,   47, 4997, 4997, 4997, 4997, 4997, 4997]],\n",
            "       device='cuda:0')\n",
            "109000\n",
            "tensor(47.9243, device='cuda:0', grad_fn=<AddBackward0>)\n",
            "tensor([[  10,  405, 4997, 4997, 4997, 4997, 4997, 4997, 4997, 4997]],\n",
            "       device='cuda:0')\n",
            "110000\n",
            "tensor(49.6216, device='cuda:0', grad_fn=<AddBackward0>)\n",
            "tensor([[   9, 4997, 4997, 4997, 4997, 4997, 4997, 4997, 4997, 4997]],\n",
            "       device='cuda:0')\n",
            "111000\n",
            "tensor(43.6421, device='cuda:0', grad_fn=<AddBackward0>)\n",
            "tensor([[   0,    8, 4997, 4997, 4997, 4997, 4997, 4997, 4997, 4997]],\n",
            "       device='cuda:0')\n",
            "112000\n",
            "tensor(37.7853, device='cuda:0', grad_fn=<AddBackward0>)\n",
            "tensor([[   3,    2,   57, 4997, 4997, 4997, 4997, 4997, 4997, 4997]],\n",
            "       device='cuda:0')\n",
            "113000\n",
            "tensor(30.2571, device='cuda:0', grad_fn=<AddBackward0>)\n",
            "tensor([[   0, 4997, 4997, 4997, 4997, 4997, 4997, 4997, 4997, 4997]],\n",
            "       device='cuda:0')\n",
            "114000\n",
            "tensor(42.0184, device='cuda:0', grad_fn=<AddBackward0>)\n",
            "tensor([[   3,    3,    2,    2,    2,   12,    2,   41, 4997, 4997]],\n",
            "       device='cuda:0')\n",
            "115000\n",
            "tensor(38.5964, device='cuda:0', grad_fn=<AddBackward0>)\n",
            "tensor([[   0,   91,    5,    3, 1091, 4997, 4997, 4997, 4997, 4997]],\n",
            "       device='cuda:0')\n",
            "116000\n",
            "tensor(40.8288, device='cuda:0', grad_fn=<AddBackward0>)\n",
            "tensor([[   0,    2,    2,    2, 4997, 4997, 4997, 4997, 4997, 4997]],\n",
            "       device='cuda:0')\n",
            "117000\n",
            "tensor(63.9806, device='cuda:0', grad_fn=<AddBackward0>)\n",
            "tensor([[   3, 4997, 4997, 4997, 4997, 4997, 4997, 4997, 4997, 4997]],\n",
            "       device='cuda:0')\n",
            "118000\n",
            "tensor(32.6988, device='cuda:0', grad_fn=<AddBackward0>)\n",
            "tensor([[   0,    2,  122, 4997, 4997, 4997, 4997, 4997, 4997, 4997]],\n",
            "       device='cuda:0')\n",
            "119000\n",
            "tensor(28.0033, device='cuda:0', grad_fn=<AddBackward0>)\n",
            "tensor([[   3,    2,    5,    2,   78,  159, 4997, 4997, 4997, 4997]],\n",
            "       device='cuda:0')\n",
            "120000\n",
            "tensor(49.7778, device='cuda:0', grad_fn=<AddBackward0>)\n",
            "tensor([[   8,   28, 4997, 4997, 4997, 4997, 4997, 4997, 4997, 4997]],\n",
            "       device='cuda:0')\n",
            "121000\n",
            "tensor(44.5168, device='cuda:0', grad_fn=<AddBackward0>)\n",
            "tensor([[   0,    2,   16,  126, 4997, 4997, 4997, 4997, 4997, 4997]],\n",
            "       device='cuda:0')\n",
            "122000\n",
            "tensor(30.7371, device='cuda:0', grad_fn=<AddBackward0>)\n",
            "tensor([[   0,    3,    0,    2,  227,    2,  212, 4997, 4997, 4997]],\n",
            "       device='cuda:0')\n",
            "123000\n",
            "tensor(35.9582, device='cuda:0', grad_fn=<AddBackward0>)\n",
            "tensor([[   3,    2,    1,    2,   19,    0, 4997, 4997, 4997, 4997]],\n",
            "       device='cuda:0')\n",
            "124000\n",
            "tensor(43.6022, device='cuda:0', grad_fn=<AddBackward0>)\n",
            "tensor([[   0, 4997, 4997, 4997, 4997, 4997, 4997, 4997, 4997, 4997]],\n",
            "       device='cuda:0')\n",
            "125000\n",
            "tensor(29.3467, device='cuda:0', grad_fn=<AddBackward0>)\n",
            "tensor([[   0,    2,   18, 4997, 4997, 4997, 4997, 4997, 4997, 4997]],\n",
            "       device='cuda:0')\n",
            "126000\n",
            "tensor(37.3443, device='cuda:0', grad_fn=<AddBackward0>)\n",
            "tensor([[   0,   22,    2,   16,  491, 4997, 4997, 4997, 4997, 4997]],\n",
            "       device='cuda:0')\n",
            "127000\n",
            "tensor(55.1814, device='cuda:0', grad_fn=<AddBackward0>)\n",
            "tensor([[   2,    5,    2,    3, 4997, 4997, 4997, 4997, 4997, 4997]],\n",
            "       device='cuda:0')\n",
            "128000\n",
            "tensor(31.4587, device='cuda:0', grad_fn=<AddBackward0>)\n",
            "tensor([[ 3,  8,  0,  1, 16,  8, 64, 23,  2, 11]], device='cuda:0')\n",
            "129000\n",
            "tensor(58.4997, device='cuda:0', grad_fn=<AddBackward0>)\n",
            "tensor([[0, 2, 1, 0, 5, 3, 0, 5, 1, 2]], device='cuda:0')\n",
            "130000\n",
            "tensor(60.4584, device='cuda:0', grad_fn=<AddBackward0>)\n",
            "tensor([[   0,    0, 4997, 4997, 4997, 4997, 4997, 4997, 4997, 4997]],\n",
            "       device='cuda:0')\n",
            "131000\n",
            "tensor(42.9499, device='cuda:0', grad_fn=<AddBackward0>)\n",
            "tensor([[ 465, 4997, 4997, 4997, 4997, 4997, 4997, 4997, 4997, 4997]],\n",
            "       device='cuda:0')\n",
            "132000\n",
            "tensor(47.1408, device='cuda:0', grad_fn=<AddBackward0>)\n",
            "tensor([[  1,   0,   2,   2,   3,   2, 384,   3,   2,   3]], device='cuda:0')\n",
            "133000\n",
            "tensor(23.4119, device='cuda:0', grad_fn=<AddBackward0>)\n",
            "tensor([[ 0,  5, 18, 22,  2, 16,  6, 73,  0,  2]], device='cuda:0')\n",
            "134000\n",
            "tensor(33.5050, device='cuda:0', grad_fn=<AddBackward0>)\n",
            "tensor([[   3,    2,    3,    8, 4997, 4997, 4997, 4997, 4997, 4997]],\n",
            "       device='cuda:0')\n",
            "135000\n",
            "tensor(35.2775, device='cuda:0', grad_fn=<AddBackward0>)\n",
            "tensor([[  11,    2,  212,    3,   10,   30, 4997, 4997, 4997, 4997]],\n",
            "       device='cuda:0')\n",
            "136000\n",
            "tensor(47.2873, device='cuda:0', grad_fn=<AddBackward0>)\n",
            "tensor([[ 5, 16,  0,  0,  2,  4,  1,  7,  0,  0]], device='cuda:0')\n",
            "137000\n",
            "tensor(60.2046, device='cuda:0', grad_fn=<AddBackward0>)\n",
            "tensor([[   0,    3,    0,    0,    2,  212, 4997, 4997, 4997, 4997]],\n",
            "       device='cuda:0')\n",
            "138000\n",
            "tensor(40.2114, device='cuda:0', grad_fn=<AddBackward0>)\n",
            "tensor([[   2,  108, 4997, 4997, 4997, 4997, 4997, 4997, 4997, 4997]],\n",
            "       device='cuda:0')\n",
            "139000\n",
            "tensor(47.4378, device='cuda:0', grad_fn=<AddBackward0>)\n",
            "tensor([[   2,  540, 4997, 4997, 4997, 4997, 4997, 4997, 4997, 4997]],\n",
            "       device='cuda:0')\n",
            "140000\n",
            "tensor(44.6238, device='cuda:0', grad_fn=<AddBackward0>)\n",
            "tensor([[   0, 4997, 4997, 4997, 4997, 4997, 4997, 4997, 4997, 4997]],\n",
            "       device='cuda:0')\n",
            "141000\n",
            "tensor(51.3799, device='cuda:0', grad_fn=<AddBackward0>)\n",
            "tensor([[   5,    2,    2,   15,    0,    1,    0, 4997, 4997, 4997]],\n",
            "       device='cuda:0')\n",
            "142000\n",
            "tensor(58.7353, device='cuda:0', grad_fn=<AddBackward0>)\n",
            "tensor([[  10,   30,    2,    0,    2,   91, 4997, 4997, 4997, 4997]],\n",
            "       device='cuda:0')\n",
            "143000\n",
            "tensor(56.1281, device='cuda:0', grad_fn=<AddBackward0>)\n",
            "tensor([[   9,    8,    2,   92, 4997, 4997, 4997, 4997, 4997, 4997]],\n",
            "       device='cuda:0')\n",
            "144000\n",
            "tensor(51.6198, device='cuda:0', grad_fn=<AddBackward0>)\n",
            "tensor([[   0, 4997, 4997, 4997, 4997, 4997, 4997, 4997, 4997, 4997]],\n",
            "       device='cuda:0')\n",
            "145000\n",
            "tensor(46.7423, device='cuda:0', grad_fn=<AddBackward0>)\n",
            "tensor([[   0,    2,  125, 4997, 4997, 4997, 4997, 4997, 4997, 4997]],\n",
            "       device='cuda:0')\n",
            "146000\n",
            "tensor(28.3434, device='cuda:0', grad_fn=<AddBackward0>)\n",
            "tensor([[  9,   3,   2, 496,   5,  21,   2, 108,   5,   2]], device='cuda:0')\n",
            "147000\n",
            "tensor(36.1982, device='cuda:0', grad_fn=<AddBackward0>)\n",
            "tensor([[   0, 4997, 4997, 4997, 4997, 4997, 4997, 4997, 4997, 4997]],\n",
            "       device='cuda:0')\n",
            "148000\n",
            "tensor(45.2814, device='cuda:0', grad_fn=<AddBackward0>)\n",
            "tensor([[   0,   12, 4997, 4997, 4997, 4997, 4997, 4997, 4997, 4997]],\n",
            "       device='cuda:0')\n",
            "149000\n",
            "tensor(56.9641, device='cuda:0', grad_fn=<AddBackward0>)\n",
            "tensor([[   8,  277,   28, 4997, 4997, 4997, 4997, 4997, 4997, 4997]],\n",
            "       device='cuda:0')\n",
            "150000\n",
            "tensor(40.1357, device='cuda:0', grad_fn=<AddBackward0>)\n",
            "tensor([[  0,   2,   3,   2,  80, 189,   2,  63,   2,   5]], device='cuda:0')\n",
            "151000\n",
            "tensor(30.2831, device='cuda:0', grad_fn=<AddBackward0>)\n",
            "tensor([[  15, 4997, 4997, 4997, 4997, 4997, 4997, 4997, 4997, 4997]],\n",
            "       device='cuda:0')\n",
            "152000\n",
            "tensor(48.5858, device='cuda:0', grad_fn=<AddBackward0>)\n",
            "tensor([[   0,   45,    2,    2, 4997, 4997, 4997, 4997, 4997, 4997]],\n",
            "       device='cuda:0')\n",
            "153000\n",
            "tensor(53.7099, device='cuda:0', grad_fn=<AddBackward0>)\n",
            "tensor([[   6,   73, 4997, 4997, 4997, 4997, 4997, 4997, 4997, 4997]],\n",
            "       device='cuda:0')\n",
            "154000\n",
            "tensor(29.4131, device='cuda:0', grad_fn=<AddBackward0>)\n",
            "tensor([[   0,    6,   73, 4997, 4997, 4997, 4997, 4997, 4997, 4997]],\n",
            "       device='cuda:0')\n",
            "155000\n",
            "tensor(35.3144, device='cuda:0', grad_fn=<AddBackward0>)\n",
            "tensor([[   5,  203,    0, 4997, 4997, 4997, 4997, 4997, 4997, 4997]],\n",
            "       device='cuda:0')\n",
            "156000\n",
            "tensor(48.1293, device='cuda:0', grad_fn=<AddBackward0>)\n",
            "tensor([[   0,    2,  114, 4997, 4997, 4997, 4997, 4997, 4997, 4997]],\n",
            "       device='cuda:0')\n",
            "157000\n",
            "tensor(47.6747, device='cuda:0', grad_fn=<AddBackward0>)\n",
            "tensor([[   0,  129,  141,    5,    2,    4, 4997, 4997, 4997, 4997]],\n",
            "       device='cuda:0')\n",
            "158000\n",
            "tensor(36.9001, device='cuda:0', grad_fn=<AddBackward0>)\n",
            "tensor([[   0,    0,   15,    5,    2,    2, 4997, 4997, 4997, 4997]],\n",
            "       device='cuda:0')\n",
            "159000\n",
            "tensor(45.9476, device='cuda:0', grad_fn=<AddBackward0>)\n",
            "tensor([[   0,  235, 4997, 4997, 4997, 4997, 4997, 4997, 4997, 4997]],\n",
            "       device='cuda:0')\n",
            "160000\n",
            "tensor(40.5506, device='cuda:0', grad_fn=<AddBackward0>)\n",
            "tensor([[ 10,   1,   1,   3, 121,   2,   2,   3,   1,   2]], device='cuda:0')\n",
            "161000\n",
            "tensor(34.8996, device='cuda:0', grad_fn=<AddBackward0>)\n",
            "tensor([[  10,   23,   12,    0,    1, 4997, 4997, 4997, 4997, 4997]],\n",
            "       device='cuda:0')\n",
            "162000\n",
            "tensor(60.3261, device='cuda:0', grad_fn=<AddBackward0>)\n",
            "tensor([[4997, 4997, 4997, 4997, 4997, 4997, 4997, 4997, 4997, 4997]],\n",
            "       device='cuda:0')\n",
            "163000\n",
            "tensor(47.6254, device='cuda:0', grad_fn=<AddBackward0>)\n",
            "tensor([[   3,    3,   22,    3, 4997, 4997, 4997, 4997, 4997, 4997]],\n",
            "       device='cuda:0')\n",
            "164000\n",
            "tensor(69.2979, device='cuda:0', grad_fn=<AddBackward0>)\n",
            "tensor([[   0,    3, 4997, 4997, 4997, 4997, 4997, 4997, 4997, 4997]],\n",
            "       device='cuda:0')\n",
            "165000\n",
            "tensor(51.5906, device='cuda:0', grad_fn=<AddBackward0>)\n",
            "tensor([[  11,    2,    3,   19,   21,    0,    5,    3, 4997, 4997]],\n",
            "       device='cuda:0')\n",
            "166000\n",
            "tensor(88.7698, device='cuda:0', grad_fn=<AddBackward0>)\n",
            "tensor([[ 4,  1, 28,  0, 22,  3,  3, 53,  8,  1]], device='cuda:0')\n",
            "167000\n",
            "tensor(35.8537, device='cuda:0', grad_fn=<AddBackward0>)\n",
            "tensor([[   3,    3,    4,   26,    3, 4997, 4997, 4997, 4997, 4997]],\n",
            "       device='cuda:0')\n",
            "168000\n",
            "tensor(38.7160, device='cuda:0', grad_fn=<AddBackward0>)\n",
            "tensor([[  2, 108,   1,   2,   0,   3,   2,   0,   0, 110]], device='cuda:0')\n",
            "169000\n",
            "tensor(39.1352, device='cuda:0', grad_fn=<AddBackward0>)\n",
            "tensor([[36,  1,  0,  0,  3,  1,  0, 25,  0,  6]], device='cuda:0')\n",
            "170000\n",
            "tensor(47.0069, device='cuda:0', grad_fn=<AddBackward0>)\n",
            "tensor([[ 2,  0,  2,  0,  5, 11,  1, 11,  0,  2]], device='cuda:0')\n",
            "171000\n",
            "tensor(52.6143, device='cuda:0', grad_fn=<AddBackward0>)\n",
            "tensor([[10,  2, 21,  0, 28,  0,  9,  3,  1,  7]], device='cuda:0')\n",
            "172000\n",
            "tensor(57.5417, device='cuda:0', grad_fn=<AddBackward0>)\n",
            "tensor([[   1,   20,   94,    0,   54,    0,    3, 4997, 4997, 4997]],\n",
            "       device='cuda:0')\n",
            "173000\n",
            "tensor(31.8230, device='cuda:0', grad_fn=<AddBackward0>)\n",
            "tensor([[   0,    0,   90,   34,    0,    1, 4997, 4997, 4997, 4997]],\n",
            "       device='cuda:0')\n",
            "174000\n",
            "tensor(44.2384, device='cuda:0', grad_fn=<AddBackward0>)\n",
            "tensor([[  33,    0,    5,    2,  212,   12, 4997, 4997, 4997, 4997]],\n",
            "       device='cuda:0')\n",
            "175000\n",
            "tensor(44.7247, device='cuda:0', grad_fn=<AddBackward0>)\n",
            "tensor([[   9,    0, 4997, 4997, 4997, 4997, 4997, 4997, 4997, 4997]],\n",
            "       device='cuda:0')\n",
            "176000\n",
            "tensor(46.3703, device='cuda:0', grad_fn=<AddBackward0>)\n",
            "tensor([[ 347,    0,    1,    0,    8,  186,    0,    2, 4997, 4997]],\n",
            "       device='cuda:0')\n",
            "177000\n",
            "tensor(46.0449, device='cuda:0', grad_fn=<AddBackward0>)\n",
            "tensor([[   5,    0, 1414, 4997, 4997, 4997, 4997, 4997, 4997, 4997]],\n",
            "       device='cuda:0')\n",
            "178000\n",
            "tensor(65.7942, device='cuda:0', grad_fn=<AddBackward0>)\n",
            "tensor([[  49, 4997, 4997, 4997, 4997, 4997, 4997, 4997, 4997, 4997]],\n",
            "       device='cuda:0')\n",
            "179000\n",
            "tensor(40.5908, device='cuda:0', grad_fn=<AddBackward0>)\n",
            "tensor([[  5,   2, 405,   7,  16,   3,   0,  37,   3,   0]], device='cuda:0')\n",
            "180000\n",
            "tensor(30.8204, device='cuda:0', grad_fn=<AddBackward0>)\n",
            "tensor([[   9,   47,    2,   91,    1,   10,    0,    0,   54, 4997]],\n",
            "       device='cuda:0')\n",
            "181000\n",
            "tensor(37.8817, device='cuda:0', grad_fn=<AddBackward0>)\n",
            "tensor([[  1,  13, 285,  11,  12,   5,   2, 380,  52,   1]], device='cuda:0')\n",
            "182000\n",
            "tensor(68.0524, device='cuda:0', grad_fn=<AddBackward0>)\n",
            "tensor([[   0,    0,   22,    2,  212,    3, 4997, 4997, 4997, 4997]],\n",
            "       device='cuda:0')\n",
            "183000\n",
            "tensor(46.5037, device='cuda:0', grad_fn=<AddBackward0>)\n",
            "tensor([[  8,   1,   1,  13,   8,   3,   0,   2, 347,   5]], device='cuda:0')\n",
            "184000\n",
            "tensor(47.8958, device='cuda:0', grad_fn=<AddBackward0>)\n",
            "tensor([[  3,   3,   1,   0,   3, 108,  87,   2,   0,   3]], device='cuda:0')\n",
            "185000\n",
            "tensor(32.9614, device='cuda:0', grad_fn=<AddBackward0>)\n",
            "tensor([[   1,    0,    8,    0,   30,   65, 4997, 4997, 4997, 4997]],\n",
            "       device='cuda:0')\n",
            "186000\n",
            "tensor(52.9471, device='cuda:0', grad_fn=<AddBackward0>)\n",
            "tensor([[   6, 4997, 4997, 4997, 4997, 4997, 4997, 4997, 4997, 4997]],\n",
            "       device='cuda:0')\n",
            "187000\n",
            "tensor(30.8751, device='cuda:0', grad_fn=<AddBackward0>)\n",
            "tensor([[  10,    2,    0,   34,    2,    0,   15,    6, 4997, 4997]],\n",
            "       device='cuda:0')\n",
            "188000\n",
            "tensor(47.3558, device='cuda:0', grad_fn=<AddBackward0>)\n",
            "tensor([[  74, 4997, 4997, 4997, 4997, 4997, 4997, 4997, 4997, 4997]],\n",
            "       device='cuda:0')\n",
            "189000\n",
            "tensor(43.2402, device='cuda:0', grad_fn=<AddBackward0>)\n",
            "tensor([[   2,    0,   91,    4,  232, 4997, 4997, 4997, 4997, 4997]],\n",
            "       device='cuda:0')\n",
            "190000\n",
            "tensor(49.9413, device='cuda:0', grad_fn=<AddBackward0>)\n",
            "tensor([[4997, 4997, 4997, 4997, 4997, 4997, 4997, 4997, 4997, 4997]],\n",
            "       device='cuda:0')\n",
            "191000\n",
            "tensor(36.5300, device='cuda:0', grad_fn=<AddBackward0>)\n",
            "tensor([[   9,    0,    8, 4997, 4997, 4997, 4997, 4997, 4997, 4997]],\n",
            "       device='cuda:0')\n",
            "192000\n",
            "tensor(45.3666, device='cuda:0', grad_fn=<AddBackward0>)\n",
            "tensor([[2, 0, 0, 2, 1, 0, 3, 2, 0, 5]], device='cuda:0')\n",
            "193000\n",
            "tensor(35.7001, device='cuda:0', grad_fn=<AddBackward0>)\n",
            "tensor([[   0,    4,   22,   14,  696,   54, 4997, 4997, 4997, 4997]],\n",
            "       device='cuda:0')\n",
            "194000\n",
            "tensor(49.0000, device='cuda:0', grad_fn=<AddBackward0>)\n",
            "tensor([[  14, 4997, 4997, 4997, 4997, 4997, 4997, 4997, 4997, 4997]],\n",
            "       device='cuda:0')\n",
            "195000\n",
            "tensor(35.9987, device='cuda:0', grad_fn=<AddBackward0>)\n",
            "tensor([[ 3,  2,  8,  0,  9,  8, 31, 24, 43,  9]], device='cuda:0')\n",
            "196000\n",
            "tensor(60.0556, device='cuda:0', grad_fn=<AddBackward0>)\n",
            "tensor([[ 0, 37,  2,  1,  0,  7, 16,  7, 97,  0]], device='cuda:0')\n",
            "197000\n",
            "tensor(44.1494, device='cuda:0', grad_fn=<AddBackward0>)\n",
            "tensor([[  10,    3,    1,   12,    5,    0, 4997, 4997, 4997, 4997]],\n",
            "       device='cuda:0')\n",
            "198000\n",
            "tensor(54.1653, device='cuda:0', grad_fn=<AddBackward0>)\n",
            "tensor([[ 3,  2,  9, 15, 10,  1,  2,  2,  1,  3]], device='cuda:0')\n",
            "199000\n",
            "tensor(34.5138, device='cuda:0', grad_fn=<AddBackward0>)\n",
            "tensor([[   9,    4, 1222, 4997, 4997, 4997, 4997, 4997, 4997, 4997]],\n",
            "       device='cuda:0')\n",
            "200000\n",
            "tensor(59.8100, device='cuda:0', grad_fn=<AddBackward0>)\n",
            "tensor([[  1,   8,   0,   3,   2,   2,   0,  58, 147,   5]], device='cuda:0')\n",
            "201000\n",
            "tensor(51.9541, device='cuda:0', grad_fn=<AddBackward0>)\n",
            "tensor([[   0,    2, 4997, 4997, 4997, 4997, 4997, 4997, 4997, 4997]],\n",
            "       device='cuda:0')\n",
            "202000\n",
            "tensor(49.1685, device='cuda:0', grad_fn=<AddBackward0>)\n",
            "tensor([[  16,    0,    2, 4997, 4997, 4997, 4997, 4997, 4997, 4997]],\n",
            "       device='cuda:0')\n",
            "203000\n",
            "tensor(40.1177, device='cuda:0', grad_fn=<AddBackward0>)\n",
            "tensor([[  30, 4997, 4997, 4997, 4997, 4997, 4997, 4997, 4997, 4997]],\n",
            "       device='cuda:0')\n",
            "204000\n",
            "tensor(65.5293, device='cuda:0', grad_fn=<AddBackward0>)\n",
            "tensor([[   3,    2, 2330, 4997, 4997, 4997, 4997, 4997, 4997, 4997]],\n",
            "       device='cuda:0')\n",
            "205000\n",
            "tensor(44.1272, device='cuda:0', grad_fn=<AddBackward0>)\n",
            "tensor([[   0,    3,   68,    0,    1,    5,   42, 4997, 4997, 4997]],\n",
            "       device='cuda:0')\n",
            "206000\n",
            "tensor(44.1765, device='cuda:0', grad_fn=<AddBackward0>)\n",
            "tensor([[  2,  34,   2,   1,  25, 103,   5,  29,   2, 127]], device='cuda:0')\n",
            "207000\n",
            "tensor(51.0761, device='cuda:0', grad_fn=<AddBackward0>)\n",
            "tensor([[   0,    0,    8,    2,    2,    5,    2,    0, 4997, 4997]],\n",
            "       device='cuda:0')\n",
            "208000\n",
            "tensor(67.2122, device='cuda:0', grad_fn=<AddBackward0>)\n",
            "tensor([[   9,    3,    2,    2,    1,   11,   72, 4997, 4997, 4997]],\n",
            "       device='cuda:0')\n",
            "209000\n",
            "tensor(48.8875, device='cuda:0', grad_fn=<AddBackward0>)\n",
            "tensor([[   2,    2,  128, 4997, 4997, 4997, 4997, 4997, 4997, 4997]],\n",
            "       device='cuda:0')\n",
            "210000\n",
            "tensor(41.0537, device='cuda:0', grad_fn=<AddBackward0>)\n",
            "tensor([[   5,   62,   54,    5,    1,    2,    0,   22, 4997, 4997]],\n",
            "       device='cuda:0')\n",
            "211000\n",
            "tensor(32.1156, device='cuda:0', grad_fn=<AddBackward0>)\n",
            "tensor([[   2, 4997, 4997, 4997, 4997, 4997, 4997, 4997, 4997, 4997]],\n",
            "       device='cuda:0')\n",
            "212000\n",
            "tensor(36.4998, device='cuda:0', grad_fn=<AddBackward0>)\n",
            "tensor([[  42, 4997, 4997, 4997, 4997, 4997, 4997, 4997, 4997, 4997]],\n",
            "       device='cuda:0')\n",
            "213000\n",
            "tensor(49.3241, device='cuda:0', grad_fn=<AddBackward0>)\n",
            "tensor([[37,  2,  5,  3, 14,  5, 12,  5, 12,  5]], device='cuda:0')\n",
            "214000\n",
            "tensor(39.6515, device='cuda:0', grad_fn=<AddBackward0>)\n",
            "tensor([[4997, 4997, 4997, 4997, 4997, 4997, 4997, 4997, 4997, 4997]],\n",
            "       device='cuda:0')\n",
            "215000\n",
            "tensor(34.6547, device='cuda:0', grad_fn=<AddBackward0>)\n",
            "tensor([[  48,  635, 4997, 4997, 4997, 4997, 4997, 4997, 4997, 4997]],\n",
            "       device='cuda:0')\n",
            "216000\n",
            "tensor(44.0826, device='cuda:0', grad_fn=<AddBackward0>)\n",
            "tensor([[  1, 126,   2,  92,   0,   3,   1,   3,   2,  64]], device='cuda:0')\n",
            "217000\n",
            "tensor(71.3755, device='cuda:0', grad_fn=<AddBackward0>)\n",
            "tensor([[   3,    0,    0,    0,    3,    1,    3, 4997, 4997, 4997]],\n",
            "       device='cuda:0')\n",
            "218000\n",
            "tensor(47.3065, device='cuda:0', grad_fn=<AddBackward0>)\n",
            "tensor([[4997, 4997, 4997, 4997, 4997, 4997, 4997, 4997, 4997, 4997]],\n",
            "       device='cuda:0')\n",
            "219000\n",
            "tensor(38.6783, device='cuda:0', grad_fn=<AddBackward0>)\n",
            "tensor([[   0,  105,    0, 4997, 4997, 4997, 4997, 4997, 4997, 4997]],\n",
            "       device='cuda:0')\n",
            "220000\n",
            "tensor(87.5612, device='cuda:0', grad_fn=<AddBackward0>)\n",
            "tensor([[ 331,    0,    2,   11,    8, 4997, 4997, 4997, 4997, 4997]],\n",
            "       device='cuda:0')\n",
            "221000\n",
            "tensor(71.5711, device='cuda:0', grad_fn=<AddBackward0>)\n",
            "tensor([[  10,    0,    0,    2,   65, 4997, 4997, 4997, 4997, 4997]],\n",
            "       device='cuda:0')\n",
            "222000\n",
            "tensor(41.7695, device='cuda:0', grad_fn=<AddBackward0>)\n",
            "tensor([[   6, 4997, 4997, 4997, 4997, 4997, 4997, 4997, 4997, 4997]],\n",
            "       device='cuda:0')\n",
            "223000\n",
            "tensor(38.3677, device='cuda:0', grad_fn=<AddBackward0>)\n",
            "tensor([[   7,   12,    5,   57,   71, 4997, 4997, 4997, 4997, 4997]],\n",
            "       device='cuda:0')\n",
            "224000\n",
            "tensor(43.6570, device='cuda:0', grad_fn=<AddBackward0>)\n",
            "tensor([[  0,   2, 108,  12,   2,   1,   9,   8,   2, 212]], device='cuda:0')\n",
            "225000\n",
            "tensor(61.6049, device='cuda:0', grad_fn=<AddBackward0>)\n",
            "tensor([[   0,    2,  501,    0,    3, 4997, 4997, 4997, 4997, 4997]],\n",
            "       device='cuda:0')\n",
            "226000\n",
            "tensor(49.8561, device='cuda:0', grad_fn=<AddBackward0>)\n",
            "tensor([[  34,   65, 4997, 4997, 4997, 4997, 4997, 4997, 4997, 4997]],\n",
            "       device='cuda:0')\n",
            "227000\n",
            "tensor(46.8170, device='cuda:0', grad_fn=<AddBackward0>)\n",
            "tensor([[   2,  235,    5,    5,    3,   16,  204, 4997, 4997, 4997]],\n",
            "       device='cuda:0')\n",
            "228000\n",
            "tensor(47.2419, device='cuda:0', grad_fn=<AddBackward0>)\n",
            "tensor([[   0,    6,   73, 4997, 4997, 4997, 4997, 4997, 4997, 4997]],\n",
            "       device='cuda:0')\n",
            "229000\n",
            "tensor(49.0423, device='cuda:0', grad_fn=<AddBackward0>)\n",
            "tensor([[   0,    2,  593, 4997, 4997, 4997, 4997, 4997, 4997, 4997]],\n",
            "       device='cuda:0')\n",
            "230000\n",
            "tensor(32.1752, device='cuda:0', grad_fn=<AddBackward0>)\n",
            "tensor([[   7,   55,    8,    1, 4997, 4997, 4997, 4997, 4997, 4997]],\n",
            "       device='cuda:0')\n",
            "231000\n",
            "tensor(54.6923, device='cuda:0', grad_fn=<AddBackward0>)\n",
            "tensor([[   9, 4997, 4997, 4997, 4997, 4997, 4997, 4997, 4997, 4997]],\n",
            "       device='cuda:0')\n",
            "232000\n",
            "tensor(51.1735, device='cuda:0', grad_fn=<AddBackward0>)\n",
            "tensor([[   3,    2,  212,  104, 4997, 4997, 4997, 4997, 4997, 4997]],\n",
            "       device='cuda:0')\n",
            "233000\n",
            "tensor(39.4059, device='cuda:0', grad_fn=<AddBackward0>)\n",
            "tensor([[  10,    3,   22,    2,   92, 4997, 4997, 4997, 4997, 4997]],\n",
            "       device='cuda:0')\n",
            "234000\n",
            "tensor(36.2385, device='cuda:0', grad_fn=<AddBackward0>)\n",
            "tensor([[   0,   54,    0,    1, 4997, 4997, 4997, 4997, 4997, 4997]],\n",
            "       device='cuda:0')\n",
            "235000\n",
            "tensor(45.8180, device='cuda:0', grad_fn=<AddBackward0>)\n",
            "tensor([[  64,    0,   82,    3,    2,   65, 4997, 4997, 4997, 4997]],\n",
            "       device='cuda:0')\n",
            "236000\n",
            "tensor(47.2632, device='cuda:0', grad_fn=<AddBackward0>)\n",
            "tensor([[   8,   10,    0,    2,   92, 4997, 4997, 4997, 4997, 4997]],\n",
            "       device='cuda:0')\n",
            "237000\n",
            "tensor(42.9652, device='cuda:0', grad_fn=<AddBackward0>)\n",
            "tensor([[  0,   1,   0,   3,   0,   2, 108,   3,   0,   0]], device='cuda:0')\n",
            "238000\n",
            "tensor(49.9988, device='cuda:0', grad_fn=<AddBackward0>)\n",
            "tensor([[   2,  108,   10, 4997, 4997, 4997, 4997, 4997, 4997, 4997]],\n",
            "       device='cuda:0')\n",
            "239000\n",
            "tensor(45.1255, device='cuda:0', grad_fn=<AddBackward0>)\n",
            "tensor([[  8,   2, 108,   1,   8,   2,   8,   7,  24,   0]], device='cuda:0')\n",
            "240000\n",
            "tensor(30.1207, device='cuda:0', grad_fn=<AddBackward0>)\n",
            "tensor([[   8,    0,    6,   73, 4997, 4997, 4997, 4997, 4997, 4997]],\n",
            "       device='cuda:0')\n",
            "241000\n",
            "tensor(45.3779, device='cuda:0', grad_fn=<AddBackward0>)\n",
            "tensor([[  16, 4997, 4997, 4997, 4997, 4997, 4997, 4997, 4997, 4997]],\n",
            "       device='cuda:0')\n",
            "242000\n",
            "tensor(36.5145, device='cuda:0', grad_fn=<AddBackward0>)\n",
            "tensor([[   3,   16,   28,   34,   13,    2,  243,   48,  110, 4997]],\n",
            "       device='cuda:0')\n",
            "243000\n",
            "tensor(37.7476, device='cuda:0', grad_fn=<AddBackward0>)\n",
            "tensor([[   9,  399,    4, 4997, 4997, 4997, 4997, 4997, 4997, 4997]],\n",
            "       device='cuda:0')\n",
            "244000\n",
            "tensor(38.6122, device='cuda:0', grad_fn=<AddBackward0>)\n",
            "tensor([[   0,   71,    2,   92, 4997, 4997, 4997, 4997, 4997, 4997]],\n",
            "       device='cuda:0')\n",
            "245000\n",
            "tensor(44.3383, device='cuda:0', grad_fn=<AddBackward0>)\n",
            "tensor([[  10,    2,  541,    0,    2,  212, 4997, 4997, 4997, 4997]],\n",
            "       device='cuda:0')\n",
            "246000\n",
            "tensor(35.7690, device='cuda:0', grad_fn=<AddBackward0>)\n",
            "tensor([[   9,    3,  767,    7, 4997, 4997, 4997, 4997, 4997, 4997]],\n",
            "       device='cuda:0')\n",
            "247000\n",
            "tensor(41.2516, device='cuda:0', grad_fn=<AddBackward0>)\n",
            "tensor([[   0,    2,   92, 4997, 4997, 4997, 4997, 4997, 4997, 4997]],\n",
            "       device='cuda:0')\n",
            "248000\n",
            "tensor(33.2834, device='cuda:0', grad_fn=<AddBackward0>)\n",
            "tensor([[   0,    3,   11,    7,    2,   16, 4997, 4997, 4997, 4997]],\n",
            "       device='cuda:0')\n",
            "249000\n",
            "tensor(26.4422, device='cuda:0', grad_fn=<AddBackward0>)\n",
            "tensor([[   0,    3,   11,    2,  687,    3,    2,  108,   99, 4997]],\n",
            "       device='cuda:0')\n",
            "250000\n",
            "tensor(28.3124, device='cuda:0', grad_fn=<AddBackward0>)\n",
            "tensor([[   3,   62,    1,   63,  125, 4997, 4997, 4997, 4997, 4997]],\n",
            "       device='cuda:0')\n",
            "251000\n",
            "tensor(46.7600, device='cuda:0', grad_fn=<AddBackward0>)\n",
            "tensor([[   8,   14,   16,   28,  268, 4997, 4997, 4997, 4997, 4997]],\n",
            "       device='cuda:0')\n",
            "252000\n",
            "tensor(66.5816, device='cuda:0', grad_fn=<AddBackward0>)\n",
            "tensor([[   0,    2,  274, 4997, 4997, 4997, 4997, 4997, 4997, 4997]],\n",
            "       device='cuda:0')\n",
            "253000\n",
            "tensor(45.8197, device='cuda:0', grad_fn=<AddBackward0>)\n",
            "tensor([[   0,   50,    5,  681, 4997, 4997, 4997, 4997, 4997, 4997]],\n",
            "       device='cuda:0')\n",
            "254000\n",
            "tensor(41.4279, device='cuda:0', grad_fn=<AddBackward0>)\n",
            "tensor([[ 0,  3,  2, 47, 12,  5,  8, 23, 23,  2]], device='cuda:0')\n",
            "255000\n",
            "tensor(47.1676, device='cuda:0', grad_fn=<AddBackward0>)\n",
            "tensor([[   0,    0,    2, 4997, 4997, 4997, 4997, 4997, 4997, 4997]],\n",
            "       device='cuda:0')\n",
            "256000\n",
            "tensor(42.6530, device='cuda:0', grad_fn=<AddBackward0>)\n",
            "tensor([[   3,  563, 4997, 4997, 4997, 4997, 4997, 4997, 4997, 4997]],\n",
            "       device='cuda:0')\n",
            "257000\n",
            "tensor(33.0916, device='cuda:0', grad_fn=<AddBackward0>)\n",
            "tensor([[  12, 4997, 4997, 4997, 4997, 4997, 4997, 4997, 4997, 4997]],\n",
            "       device='cuda:0')\n",
            "258000\n",
            "tensor(35.5800, device='cuda:0', grad_fn=<AddBackward0>)\n",
            "tensor([[  14,    2,   95, 4997, 4997, 4997, 4997, 4997, 4997, 4997]],\n",
            "       device='cuda:0')\n",
            "259000\n",
            "tensor(62.6086, device='cuda:0', grad_fn=<AddBackward0>)\n",
            "tensor([[   0,   28,    4,    2, 4997, 4997, 4997, 4997, 4997, 4997]],\n",
            "       device='cuda:0')\n",
            "260000\n",
            "tensor(43.2996, device='cuda:0', grad_fn=<AddBackward0>)\n",
            "tensor([[   0, 4997, 4997, 4997, 4997, 4997, 4997, 4997, 4997, 4997]],\n",
            "       device='cuda:0')\n",
            "261000\n",
            "tensor(49.4747, device='cuda:0', grad_fn=<AddBackward0>)\n",
            "tensor([[  11,    1,   62,   63,  368,    5, 4997, 4997, 4997, 4997]],\n",
            "       device='cuda:0')\n",
            "262000\n",
            "tensor(42.6073, device='cuda:0', grad_fn=<AddBackward0>)\n",
            "tensor([[   2,    0,    0, 4997, 4997, 4997, 4997, 4997, 4997, 4997]],\n",
            "       device='cuda:0')\n",
            "263000\n",
            "tensor(51.9830, device='cuda:0', grad_fn=<AddBackward0>)\n",
            "tensor([[   0,   16,    2,    1,   16, 4997, 4997, 4997, 4997, 4997]],\n",
            "       device='cuda:0')\n",
            "264000\n",
            "tensor(46.1385, device='cuda:0', grad_fn=<AddBackward0>)\n",
            "tensor([[   2,  511,  759,    2,   26,   10,    3,    2, 4997, 4997]],\n",
            "       device='cuda:0')\n",
            "265000\n",
            "tensor(33.6027, device='cuda:0', grad_fn=<AddBackward0>)\n",
            "tensor([[   5, 4997, 4997, 4997, 4997, 4997, 4997, 4997, 4997, 4997]],\n",
            "       device='cuda:0')\n",
            "266000\n",
            "tensor(58.9784, device='cuda:0', grad_fn=<AddBackward0>)\n",
            "tensor([[597,   3,   0,  28,   3,   3,   2,   3,   3,   5]], device='cuda:0')\n",
            "267000\n",
            "tensor(50.8282, device='cuda:0', grad_fn=<AddBackward0>)\n",
            "tensor([[   5,    2,   31,    0,   22, 4997, 4997, 4997, 4997, 4997]],\n",
            "       device='cuda:0')\n",
            "268000\n",
            "tensor(48.5596, device='cuda:0', grad_fn=<AddBackward0>)\n",
            "tensor([[   2,    2,    3,    3, 4997, 4997, 4997, 4997, 4997, 4997]],\n",
            "       device='cuda:0')\n",
            "269000\n",
            "tensor(51.3198, device='cuda:0', grad_fn=<AddBackward0>)\n",
            "tensor([[   0,    3,    0,    0,    3,    0, 4997, 4997, 4997, 4997]],\n",
            "       device='cuda:0')\n",
            "270000\n",
            "tensor(37.9327, device='cuda:0', grad_fn=<AddBackward0>)\n",
            "tensor([[4997, 4997, 4997, 4997, 4997, 4997, 4997, 4997, 4997, 4997]],\n",
            "       device='cuda:0')\n",
            "271000\n",
            "tensor(38.5367, device='cuda:0', grad_fn=<AddBackward0>)\n",
            "tensor([[   5, 4997, 4997, 4997, 4997, 4997, 4997, 4997, 4997, 4997]],\n",
            "       device='cuda:0')\n",
            "272000\n",
            "tensor(47.7004, device='cuda:0', grad_fn=<AddBackward0>)\n",
            "tensor([[   0,  848,    2,    3, 4997, 4997, 4997, 4997, 4997, 4997]],\n",
            "       device='cuda:0')\n",
            "273000\n",
            "tensor(36.7938, device='cuda:0', grad_fn=<AddBackward0>)\n",
            "tensor([[   0,    2,    0,    2,   12, 4997, 4997, 4997, 4997, 4997]],\n",
            "       device='cuda:0')\n",
            "274000\n",
            "tensor(34.6877, device='cuda:0', grad_fn=<AddBackward0>)\n",
            "tensor([[   3, 4997, 4997, 4997, 4997, 4997, 4997, 4997, 4997, 4997]],\n",
            "       device='cuda:0')\n",
            "275000\n",
            "tensor(35.4871, device='cuda:0', grad_fn=<AddBackward0>)\n",
            "tensor([[  0,  29,   0,   8,   3,   0,   3,   3,   0, 132]], device='cuda:0')\n",
            "276000\n",
            "tensor(45.2368, device='cuda:0', grad_fn=<AddBackward0>)\n",
            "tensor([[4997, 4997, 4997, 4997, 4997, 4997, 4997, 4997, 4997, 4997]],\n",
            "       device='cuda:0')\n",
            "277000\n",
            "tensor(34.3372, device='cuda:0', grad_fn=<AddBackward0>)\n",
            "tensor([[4997, 4997, 4997, 4997, 4997, 4997, 4997, 4997, 4997, 4997]],\n",
            "       device='cuda:0')\n",
            "278000\n",
            "tensor(40.7988, device='cuda:0', grad_fn=<AddBackward0>)\n",
            "tensor([[   2,    2,    1,    1,    9,    5, 4997, 4997, 4997, 4997]],\n",
            "       device='cuda:0')\n",
            "279000\n",
            "tensor(48.9266, device='cuda:0', grad_fn=<AddBackward0>)\n",
            "tensor([[4997, 4997, 4997, 4997, 4997, 4997, 4997, 4997, 4997, 4997]],\n",
            "       device='cuda:0')\n",
            "280000\n",
            "tensor(44.7865, device='cuda:0', grad_fn=<AddBackward0>)\n",
            "tensor([[   2, 4997, 4997, 4997, 4997, 4997, 4997, 4997, 4997, 4997]],\n",
            "       device='cuda:0')\n",
            "281000\n",
            "tensor(38.1570, device='cuda:0', grad_fn=<AddBackward0>)\n",
            "tensor([[ 9,  0, 11, 11, 15,  3,  7,  8, 10,  0]], device='cuda:0')\n",
            "282000\n",
            "tensor(49.9342, device='cuda:0', grad_fn=<AddBackward0>)\n",
            "tensor([[   0,    1, 4997, 4997, 4997, 4997, 4997, 4997, 4997, 4997]],\n",
            "       device='cuda:0')\n",
            "283000\n",
            "tensor(64.8338, device='cuda:0', grad_fn=<AddBackward0>)\n",
            "tensor([[   2,    5,   65, 4997, 4997, 4997, 4997, 4997, 4997, 4997]],\n",
            "       device='cuda:0')\n",
            "284000\n",
            "tensor(39.7524, device='cuda:0', grad_fn=<AddBackward0>)\n",
            "tensor([[ 1, 11,  0,  2,  0,  1,  3,  2, 34,  3]], device='cuda:0')\n",
            "285000\n",
            "tensor(50.2933, device='cuda:0', grad_fn=<AddBackward0>)\n",
            "tensor([[   2,    0,   52,    0,    3,   47,   28, 4997, 4997, 4997]],\n",
            "       device='cuda:0')\n",
            "286000\n",
            "tensor(63.5624, device='cuda:0', grad_fn=<AddBackward0>)\n",
            "tensor([[   3,    1,    6,  162, 4997, 4997, 4997, 4997, 4997, 4997]],\n",
            "       device='cuda:0')\n",
            "287000\n",
            "tensor(29.8099, device='cuda:0', grad_fn=<AddBackward0>)\n",
            "tensor([[   1,  881, 4997, 4997, 4997, 4997, 4997, 4997, 4997, 4997]],\n",
            "       device='cuda:0')\n",
            "288000\n",
            "tensor(64.1500, device='cuda:0', grad_fn=<AddBackward0>)\n",
            "tensor([[   4,    2,  227, 4997, 4997, 4997, 4997, 4997, 4997, 4997]],\n",
            "       device='cuda:0')\n",
            "289000\n",
            "tensor(37.8526, device='cuda:0', grad_fn=<AddBackward0>)\n",
            "tensor([[   8,    0,    2, 4997, 4997, 4997, 4997, 4997, 4997, 4997]],\n",
            "       device='cuda:0')\n",
            "290000\n",
            "tensor(36.3493, device='cuda:0', grad_fn=<AddBackward0>)\n",
            "tensor([[   0,    2,    0,    3,   39,    2,    2,  135, 4997, 4997]],\n",
            "       device='cuda:0')\n",
            "291000\n",
            "tensor(30.8210, device='cuda:0', grad_fn=<AddBackward0>)\n",
            "tensor([[  10,    2, 4997, 4997, 4997, 4997, 4997, 4997, 4997, 4997]],\n",
            "       device='cuda:0')\n",
            "292000\n",
            "tensor(42.9845, device='cuda:0', grad_fn=<AddBackward0>)\n",
            "tensor([[  10,  302, 4997, 4997, 4997, 4997, 4997, 4997, 4997, 4997]],\n",
            "       device='cuda:0')\n",
            "293000\n",
            "tensor(47.4894, device='cuda:0', grad_fn=<AddBackward0>)\n",
            "tensor([[ 125,   22, 4997, 4997, 4997, 4997, 4997, 4997, 4997, 4997]],\n",
            "       device='cuda:0')\n",
            "294000\n",
            "tensor(49.2384, device='cuda:0', grad_fn=<AddBackward0>)\n",
            "tensor([[   0,   34,    2, 4997, 4997, 4997, 4997, 4997, 4997, 4997]],\n",
            "       device='cuda:0')\n",
            "295000\n",
            "tensor(37.3811, device='cuda:0', grad_fn=<AddBackward0>)\n",
            "tensor([[   0,    2,    2,    8,   10,    5, 4997, 4997, 4997, 4997]],\n",
            "       device='cuda:0')\n",
            "296000\n",
            "tensor(58.4988, device='cuda:0', grad_fn=<AddBackward0>)\n",
            "tensor([[   0,   33,   12,   22,    3,    1, 4997, 4997, 4997, 4997]],\n",
            "       device='cuda:0')\n",
            "297000\n",
            "tensor(49.1424, device='cuda:0', grad_fn=<AddBackward0>)\n",
            "tensor([[   7,    3, 4997, 4997, 4997, 4997, 4997, 4997, 4997, 4997]],\n",
            "       device='cuda:0')\n",
            "298000\n",
            "tensor(45.5238, device='cuda:0', grad_fn=<AddBackward0>)\n",
            "tensor([[   2,    2,    0,    2,    5,   13,  569, 4997, 4997, 4997]],\n",
            "       device='cuda:0')\n",
            "299000\n",
            "tensor(44.7075, device='cuda:0', grad_fn=<AddBackward0>)\n",
            "tensor([[   2,   45, 4997, 4997, 4997, 4997, 4997, 4997, 4997, 4997]],\n",
            "       device='cuda:0')\n",
            "300000\n",
            "tensor(42.3198, device='cuda:0', grad_fn=<AddBackward0>)\n",
            "tensor([[0, 2, 2, 8, 3, 0, 2, 3, 2, 5]], device='cuda:0')\n",
            "301000\n",
            "tensor(59.1951, device='cuda:0', grad_fn=<AddBackward0>)\n",
            "tensor([[   1,  220, 4997, 4997, 4997, 4997, 4997, 4997, 4997, 4997]],\n",
            "       device='cuda:0')\n",
            "302000\n",
            "tensor(44.5853, device='cuda:0', grad_fn=<AddBackward0>)\n",
            "tensor([[ 2,  1, 21, 13, 20, 11, 11,  0,  1, 71]], device='cuda:0')\n",
            "303000\n",
            "tensor(58.1010, device='cuda:0', grad_fn=<AddBackward0>)\n",
            "tensor([[   0,   92,   10, 4997, 4997, 4997, 4997, 4997, 4997, 4997]],\n",
            "       device='cuda:0')\n",
            "304000\n",
            "tensor(45.8146, device='cuda:0', grad_fn=<AddBackward0>)\n",
            "tensor([[   1,  265, 4997, 4997, 4997, 4997, 4997, 4997, 4997, 4997]],\n",
            "       device='cuda:0')\n",
            "305000\n",
            "tensor(54.4215, device='cuda:0', grad_fn=<AddBackward0>)\n",
            "tensor([[   6,   73,    0,  207,    3, 4997, 4997, 4997, 4997, 4997]],\n",
            "       device='cuda:0')\n",
            "306000\n",
            "tensor(35.7426, device='cuda:0', grad_fn=<AddBackward0>)\n",
            "tensor([[   2,    0,    2, 4997, 4997, 4997, 4997, 4997, 4997, 4997]],\n",
            "       device='cuda:0')\n",
            "307000\n",
            "tensor(60.4835, device='cuda:0', grad_fn=<AddBackward0>)\n",
            "tensor([[  10, 4997, 4997, 4997, 4997, 4997, 4997, 4997, 4997, 4997]],\n",
            "       device='cuda:0')\n",
            "308000\n",
            "tensor(31.9094, device='cuda:0', grad_fn=<AddBackward0>)\n",
            "tensor([[   7,    0,    2,    3,    3, 4997, 4997, 4997, 4997, 4997]],\n",
            "       device='cuda:0')\n",
            "309000\n",
            "tensor(36.2281, device='cuda:0', grad_fn=<AddBackward0>)\n",
            "tensor([[   3,   53,    2,    7, 4997, 4997, 4997, 4997, 4997, 4997]],\n",
            "       device='cuda:0')\n",
            "310000\n",
            "tensor(41.2846, device='cuda:0', grad_fn=<AddBackward0>)\n",
            "tensor([[   0,  197,    0,   35,   23, 4997, 4997, 4997, 4997, 4997]],\n",
            "       device='cuda:0')\n",
            "311000\n",
            "tensor(35.2278, device='cuda:0', grad_fn=<AddBackward0>)\n",
            "tensor([[   2, 4997, 4997, 4997, 4997, 4997, 4997, 4997, 4997, 4997]],\n",
            "       device='cuda:0')\n",
            "312000\n",
            "tensor(55.4164, device='cuda:0', grad_fn=<AddBackward0>)\n",
            "tensor([[   3,   95, 4997, 4997, 4997, 4997, 4997, 4997, 4997, 4997]],\n",
            "       device='cuda:0')\n",
            "313000\n",
            "tensor(27.8823, device='cuda:0', grad_fn=<AddBackward0>)\n",
            "tensor([[   0,    3,    0,    2,   46,    3,    0,    3, 4997, 4997]],\n",
            "       device='cuda:0')\n",
            "314000\n",
            "tensor(42.0378, device='cuda:0', grad_fn=<AddBackward0>)\n",
            "tensor([[ 0,  5,  3, 36,  9, 52,  0, 54,  0,  1]], device='cuda:0')\n",
            "315000\n",
            "tensor(86.0542, device='cuda:0', grad_fn=<AddBackward0>)\n",
            "tensor([[ 541, 4997, 4997, 4997, 4997, 4997, 4997, 4997, 4997, 4997]],\n",
            "       device='cuda:0')\n",
            "316000\n",
            "tensor(33.7544, device='cuda:0', grad_fn=<AddBackward0>)\n",
            "tensor([[   0,    8,    1,  126,    0,    3, 4997, 4997, 4997, 4997]],\n",
            "       device='cuda:0')\n",
            "317000\n",
            "tensor(34.3870, device='cuda:0', grad_fn=<AddBackward0>)\n",
            "tensor([[   2,    0,    6,  333,    8, 4997, 4997, 4997, 4997, 4997]],\n",
            "       device='cuda:0')\n",
            "318000\n",
            "tensor(36.8880, device='cuda:0', grad_fn=<AddBackward0>)\n",
            "tensor([[4997, 4997, 4997, 4997, 4997, 4997, 4997, 4997, 4997, 4997]],\n",
            "       device='cuda:0')\n",
            "319000\n",
            "tensor(58.5389, device='cuda:0', grad_fn=<AddBackward0>)\n",
            "tensor([[   7,    0,    2,    5,    2,   65, 4997, 4997, 4997, 4997]],\n",
            "       device='cuda:0')\n",
            "320000\n",
            "tensor(40.5410, device='cuda:0', grad_fn=<AddBackward0>)\n",
            "tensor([[   1,    0,   16, 4997, 4997, 4997, 4997, 4997, 4997, 4997]],\n",
            "       device='cuda:0')\n",
            "321000\n",
            "tensor(55.3950, device='cuda:0', grad_fn=<AddBackward0>)\n",
            "tensor([[   7,    0,    6,   73,    0,    2,    3,    6,  333, 4997]],\n",
            "       device='cuda:0')\n",
            "322000\n",
            "tensor(55.3440, device='cuda:0', grad_fn=<AddBackward0>)\n",
            "tensor([[   0,   55,    2,   71,    0,  105,    1,    8, 4997, 4997]],\n",
            "       device='cuda:0')\n",
            "323000\n",
            "tensor(33.0110, device='cuda:0', grad_fn=<AddBackward0>)\n",
            "tensor([[   0,   69,  111, 4997, 4997, 4997, 4997, 4997, 4997, 4997]],\n",
            "       device='cuda:0')\n",
            "324000\n",
            "tensor(44.2901, device='cuda:0', grad_fn=<AddBackward0>)\n",
            "tensor([[   2,    3,    0,   46, 4997, 4997, 4997, 4997, 4997, 4997]],\n",
            "       device='cuda:0')\n",
            "325000\n",
            "tensor(54.1476, device='cuda:0', grad_fn=<AddBackward0>)\n",
            "tensor([[  3,   0,   3,   2,  22,   2,   0,   3, 108,   2]], device='cuda:0')\n",
            "326000\n",
            "tensor(37.2233, device='cuda:0', grad_fn=<AddBackward0>)\n",
            "tensor([[   2,    0,    2, 4997, 4997, 4997, 4997, 4997, 4997, 4997]],\n",
            "       device='cuda:0')\n",
            "327000\n",
            "tensor(69.0010, device='cuda:0', grad_fn=<AddBackward0>)\n",
            "tensor([[  45,    2,   22, 4997, 4997, 4997, 4997, 4997, 4997, 4997]],\n",
            "       device='cuda:0')\n",
            "328000\n",
            "tensor(33.0614, device='cuda:0', grad_fn=<AddBackward0>)\n",
            "tensor([[   2, 4997, 4997, 4997, 4997, 4997, 4997, 4997, 4997, 4997]],\n",
            "       device='cuda:0')\n",
            "329000\n",
            "tensor(37.8881, device='cuda:0', grad_fn=<AddBackward0>)\n",
            "tensor([[  16, 4997, 4997, 4997, 4997, 4997, 4997, 4997, 4997, 4997]],\n",
            "       device='cuda:0')\n",
            "330000\n",
            "tensor(39.9675, device='cuda:0', grad_fn=<AddBackward0>)\n",
            "tensor([[4997, 4997, 4997, 4997, 4997, 4997, 4997, 4997, 4997, 4997]],\n",
            "       device='cuda:0')\n",
            "331000\n",
            "tensor(39.0318, device='cuda:0', grad_fn=<AddBackward0>)\n",
            "tensor([[  3,   3, 132,   2,  13,   0,  16,   0,  32,   0]], device='cuda:0')\n",
            "332000\n",
            "tensor(37.7661, device='cuda:0', grad_fn=<AddBackward0>)\n",
            "tensor([[  17, 1314,    2,    7,   65, 4997, 4997, 4997, 4997, 4997]],\n",
            "       device='cuda:0')\n",
            "333000\n",
            "tensor(43.2080, device='cuda:0', grad_fn=<AddBackward0>)\n",
            "tensor([[4997, 4997, 4997, 4997, 4997, 4997, 4997, 4997, 4997, 4997]],\n",
            "       device='cuda:0')\n",
            "334000\n",
            "tensor(39.5428, device='cuda:0', grad_fn=<AddBackward0>)\n",
            "tensor([[   0,    2, 4997, 4997, 4997, 4997, 4997, 4997, 4997, 4997]],\n",
            "       device='cuda:0')\n",
            "335000\n",
            "tensor(50.3389, device='cuda:0', grad_fn=<AddBackward0>)\n",
            "tensor([[ 20,   0,  52,   4,  63, 200,   2,   2,   0,   2]], device='cuda:0')\n",
            "336000\n",
            "tensor(39.1444, device='cuda:0', grad_fn=<AddBackward0>)\n",
            "tensor([[4997, 4997, 4997, 4997, 4997, 4997, 4997, 4997, 4997, 4997]],\n",
            "       device='cuda:0')\n",
            "337000\n",
            "tensor(37.5501, device='cuda:0', grad_fn=<AddBackward0>)\n",
            "tensor([[   3, 4997, 4997, 4997, 4997, 4997, 4997, 4997, 4997, 4997]],\n",
            "       device='cuda:0')\n",
            "338000\n",
            "tensor(35.1092, device='cuda:0', grad_fn=<AddBackward0>)\n",
            "tensor([[  29,    0,  143,    2,    7, 4997, 4997, 4997, 4997, 4997]],\n",
            "       device='cuda:0')\n",
            "339000\n",
            "tensor(34.7781, device='cuda:0', grad_fn=<AddBackward0>)\n",
            "tensor([[   1,    2,    4,  552,    2, 4997, 4997, 4997, 4997, 4997]],\n",
            "       device='cuda:0')\n",
            "340000\n",
            "tensor(45.9608, device='cuda:0', grad_fn=<AddBackward0>)\n",
            "tensor([[   3,    0,   14,    9,    1,    3,    2,    2,    2, 4997]],\n",
            "       device='cuda:0')\n",
            "341000\n",
            "tensor(36.1312, device='cuda:0', grad_fn=<AddBackward0>)\n",
            "tensor([[4997, 4997, 4997, 4997, 4997, 4997, 4997, 4997, 4997, 4997]],\n",
            "       device='cuda:0')\n",
            "342000\n",
            "tensor(38.8164, device='cuda:0', grad_fn=<AddBackward0>)\n",
            "tensor([[ 0,  2, 84,  1,  8,  0,  2,  0,  2,  3]], device='cuda:0')\n",
            "343000\n",
            "tensor(51.8956, device='cuda:0', grad_fn=<AddBackward0>)\n",
            "tensor([[   3,    3,   12,    0,   25, 4997, 4997, 4997, 4997, 4997]],\n",
            "       device='cuda:0')\n",
            "344000\n",
            "tensor(38.4740, device='cuda:0', grad_fn=<AddBackward0>)\n",
            "tensor([[4997, 4997, 4997, 4997, 4997, 4997, 4997, 4997, 4997, 4997]],\n",
            "       device='cuda:0')\n",
            "345000\n",
            "tensor(64.8318, device='cuda:0', grad_fn=<AddBackward0>)\n",
            "tensor([[   2,   21, 4997, 4997, 4997, 4997, 4997, 4997, 4997, 4997]],\n",
            "       device='cuda:0')\n",
            "346000\n",
            "tensor(47.1958, device='cuda:0', grad_fn=<AddBackward0>)\n",
            "tensor([[   2,    2,    3,    0,    1, 4997, 4997, 4997, 4997, 4997]],\n",
            "       device='cuda:0')\n",
            "347000\n",
            "tensor(47.4440, device='cuda:0', grad_fn=<AddBackward0>)\n",
            "tensor([[4997, 4997, 4997, 4997, 4997, 4997, 4997, 4997, 4997, 4997]],\n",
            "       device='cuda:0')\n",
            "348000\n",
            "tensor(44.3325, device='cuda:0', grad_fn=<AddBackward0>)\n",
            "tensor([[  65,    2,   71, 4997, 4997, 4997, 4997, 4997, 4997, 4997]],\n",
            "       device='cuda:0')\n",
            "349000\n",
            "tensor(32.1715, device='cuda:0', grad_fn=<AddBackward0>)\n",
            "tensor([[   1,    5,    1,    7,   28, 4997, 4997, 4997, 4997, 4997]],\n",
            "       device='cuda:0')\n",
            "350000\n",
            "tensor(73.4640, device='cuda:0', grad_fn=<AddBackward0>)\n",
            "tensor([[ 0,  7,  0, 16,  2,  0,  3,  0,  2, 13]], device='cuda:0')\n",
            "351000\n",
            "tensor(40.7695, device='cuda:0', grad_fn=<AddBackward0>)\n",
            "tensor([[4997, 4997, 4997, 4997, 4997, 4997, 4997, 4997, 4997, 4997]],\n",
            "       device='cuda:0')\n",
            "352000\n",
            "tensor(42.5207, device='cuda:0', grad_fn=<AddBackward0>)\n",
            "tensor([[  0,   3,   3, 188,   8,   5,   0,  46,   6, 208]], device='cuda:0')\n",
            "353000\n",
            "tensor(29.7109, device='cuda:0', grad_fn=<AddBackward0>)\n",
            "tensor([[   0,    2,    2, 4997, 4997, 4997, 4997, 4997, 4997, 4997]],\n",
            "       device='cuda:0')\n",
            "354000\n",
            "tensor(43.8565, device='cuda:0', grad_fn=<AddBackward0>)\n",
            "tensor([[4997, 4997, 4997, 4997, 4997, 4997, 4997, 4997, 4997, 4997]],\n",
            "       device='cuda:0')\n",
            "355000\n",
            "tensor(50.0038, device='cuda:0', grad_fn=<AddBackward0>)\n",
            "tensor([[  0,   2,   2,   3,   0,   2,  15, 276,  95,   1]], device='cuda:0')\n",
            "356000\n",
            "tensor(58.8126, device='cuda:0', grad_fn=<AddBackward0>)\n",
            "tensor([[4997, 4997, 4997, 4997, 4997, 4997, 4997, 4997, 4997, 4997]],\n",
            "       device='cuda:0')\n",
            "357000\n",
            "tensor(50.1302, device='cuda:0', grad_fn=<AddBackward0>)\n",
            "tensor([[   0,   20,    2,    2, 4997, 4997, 4997, 4997, 4997, 4997]],\n",
            "       device='cuda:0')\n",
            "358000\n",
            "tensor(40.1507, device='cuda:0', grad_fn=<AddBackward0>)\n",
            "tensor([[4997, 4997, 4997, 4997, 4997, 4997, 4997, 4997, 4997, 4997]],\n",
            "       device='cuda:0')\n",
            "359000\n",
            "tensor(50.0302, device='cuda:0', grad_fn=<AddBackward0>)\n",
            "tensor([[   0,    2,    5,    0,  135,   25,    2,    6,  514, 4997]],\n",
            "       device='cuda:0')\n",
            "360000\n",
            "tensor(73.6838, device='cuda:0', grad_fn=<AddBackward0>)\n",
            "tensor([[4997, 4997, 4997, 4997, 4997, 4997, 4997, 4997, 4997, 4997]],\n",
            "       device='cuda:0')\n",
            "361000\n",
            "tensor(47.6695, device='cuda:0', grad_fn=<AddBackward0>)\n",
            "tensor([[   2,    5, 4997, 4997, 4997, 4997, 4997, 4997, 4997, 4997]],\n",
            "       device='cuda:0')\n",
            "362000\n",
            "tensor(36.3127, device='cuda:0', grad_fn=<AddBackward0>)\n",
            "tensor([[   0,    8,    0,   14,    0,   21,    0,    2,   20, 4997]],\n",
            "       device='cuda:0')\n",
            "363000\n",
            "tensor(45.8719, device='cuda:0', grad_fn=<AddBackward0>)\n",
            "tensor([[4997, 4997, 4997, 4997, 4997, 4997, 4997, 4997, 4997, 4997]],\n",
            "       device='cuda:0')\n",
            "364000\n",
            "tensor(38.2958, device='cuda:0', grad_fn=<AddBackward0>)\n",
            "tensor([[   0,    2,    2,    1, 4997, 4997, 4997, 4997, 4997, 4997]],\n",
            "       device='cuda:0')\n",
            "365000\n",
            "tensor(51.6530, device='cuda:0', grad_fn=<AddBackward0>)\n",
            "tensor([[4997, 4997, 4997, 4997, 4997, 4997, 4997, 4997, 4997, 4997]],\n",
            "       device='cuda:0')\n",
            "366000\n",
            "tensor(30.4618, device='cuda:0', grad_fn=<AddBackward0>)\n",
            "tensor([[  10,    0,    1,    5,    1,    8, 4997, 4997, 4997, 4997]],\n",
            "       device='cuda:0')\n",
            "367000\n",
            "tensor(41.6899, device='cuda:0', grad_fn=<AddBackward0>)\n",
            "tensor([[  10,    1,    9,   38,   22,  125,    0,   57,    2, 4997]],\n",
            "       device='cuda:0')\n",
            "368000\n",
            "tensor(34.2710, device='cuda:0', grad_fn=<AddBackward0>)\n",
            "tensor([[   2,    3,    5, 4997, 4997, 4997, 4997, 4997, 4997, 4997]],\n",
            "       device='cuda:0')\n",
            "369000\n",
            "tensor(56.0886, device='cuda:0', grad_fn=<AddBackward0>)\n",
            "tensor([[   2,    0,    2, 4997, 4997, 4997, 4997, 4997, 4997, 4997]],\n",
            "       device='cuda:0')\n",
            "370000\n",
            "tensor(35.8613, device='cuda:0', grad_fn=<AddBackward0>)\n",
            "tensor([[   8,  108, 4997, 4997, 4997, 4997, 4997, 4997, 4997, 4997]],\n",
            "       device='cuda:0')\n",
            "371000\n",
            "tensor(36.7431, device='cuda:0', grad_fn=<AddBackward0>)\n",
            "tensor([[ 155, 4997, 4997, 4997, 4997, 4997, 4997, 4997, 4997, 4997]],\n",
            "       device='cuda:0')\n",
            "372000\n",
            "tensor(31.5196, device='cuda:0', grad_fn=<AddBackward0>)\n",
            "tensor([[   0,    2,    2,    0,    2, 4997, 4997, 4997, 4997, 4997]],\n",
            "       device='cuda:0')\n",
            "373000\n",
            "tensor(40.9691, device='cuda:0', grad_fn=<AddBackward0>)\n",
            "tensor([[   0,  207,    2,   10,   11,    2,   71, 4997, 4997, 4997]],\n",
            "       device='cuda:0')\n",
            "374000\n",
            "tensor(49.3407, device='cuda:0', grad_fn=<AddBackward0>)\n",
            "tensor([[229,   1,   0,   1,   2,  14, 438,  50,   1,   0]], device='cuda:0')\n",
            "375000\n",
            "tensor(38.5709, device='cuda:0', grad_fn=<AddBackward0>)\n",
            "tensor([[4997, 4997, 4997, 4997, 4997, 4997, 4997, 4997, 4997, 4997]],\n",
            "       device='cuda:0')\n",
            "376000\n",
            "tensor(43.1951, device='cuda:0', grad_fn=<AddBackward0>)\n",
            "tensor([[   3,    2, 4997, 4997, 4997, 4997, 4997, 4997, 4997, 4997]],\n",
            "       device='cuda:0')\n",
            "377000\n",
            "tensor(70.6554, device='cuda:0', grad_fn=<AddBackward0>)\n",
            "tensor([[4997, 4997, 4997, 4997, 4997, 4997, 4997, 4997, 4997, 4997]],\n",
            "       device='cuda:0')\n",
            "378000\n",
            "tensor(75.4486, device='cuda:0', grad_fn=<AddBackward0>)\n",
            "tensor([[   0,  105,    0,  435,    9,    2,   42, 4997, 4997, 4997]],\n",
            "       device='cuda:0')\n",
            "379000\n",
            "tensor(33.5050, device='cuda:0', grad_fn=<AddBackward0>)\n",
            "tensor([[  24,  439,   22, 4997, 4997, 4997, 4997, 4997, 4997, 4997]],\n",
            "       device='cuda:0')\n",
            "380000\n",
            "tensor(28.4753, device='cuda:0', grad_fn=<AddBackward0>)\n",
            "tensor([[   2,  319, 4997, 4997, 4997, 4997, 4997, 4997, 4997, 4997]],\n",
            "       device='cuda:0')\n",
            "381000\n",
            "tensor(40.0839, device='cuda:0', grad_fn=<AddBackward0>)\n",
            "tensor([[   8, 4997, 4997, 4997, 4997, 4997, 4997, 4997, 4997, 4997]],\n",
            "       device='cuda:0')\n",
            "382000\n",
            "tensor(51.3653, device='cuda:0', grad_fn=<AddBackward0>)\n",
            "tensor([[  14,   15,    2,  589, 4997, 4997, 4997, 4997, 4997, 4997]],\n",
            "       device='cuda:0')\n",
            "383000\n",
            "tensor(31.1477, device='cuda:0', grad_fn=<AddBackward0>)\n",
            "tensor([[   0,    0,    2, 4997, 4997, 4997, 4997, 4997, 4997, 4997]],\n",
            "       device='cuda:0')\n",
            "384000\n",
            "tensor(40.1349, device='cuda:0', grad_fn=<AddBackward0>)\n",
            "tensor([[   0,   21,   10,    2, 4997, 4997, 4997, 4997, 4997, 4997]],\n",
            "       device='cuda:0')\n",
            "385000\n",
            "tensor(59.6984, device='cuda:0', grad_fn=<AddBackward0>)\n",
            "tensor([[   5,    0, 4997, 4997, 4997, 4997, 4997, 4997, 4997, 4997]],\n",
            "       device='cuda:0')\n",
            "386000\n",
            "tensor(62.9674, device='cuda:0', grad_fn=<AddBackward0>)\n",
            "tensor([[   0,    2,    0,    0,    0,    2,   18, 4997, 4997, 4997]],\n",
            "       device='cuda:0')\n",
            "387000\n",
            "tensor(41.1230, device='cuda:0', grad_fn=<AddBackward0>)\n",
            "tensor([[  15,   31, 4997, 4997, 4997, 4997, 4997, 4997, 4997, 4997]],\n",
            "       device='cuda:0')\n",
            "388000\n",
            "tensor(39.5236, device='cuda:0', grad_fn=<AddBackward0>)\n",
            "tensor([[   5,    2,    9,   60,    5,   28,    1, 4997, 4997, 4997]],\n",
            "       device='cuda:0')\n",
            "389000\n",
            "tensor(59.5746, device='cuda:0', grad_fn=<AddBackward0>)\n",
            "tensor([[   2, 4997, 4997, 4997, 4997, 4997, 4997, 4997, 4997, 4997]],\n",
            "       device='cuda:0')\n",
            "390000\n",
            "tensor(50.0974, device='cuda:0', grad_fn=<AddBackward0>)\n",
            "tensor([[   3,    3,    2,    9,   60,    7, 4997, 4997, 4997, 4997]],\n",
            "       device='cuda:0')\n",
            "391000\n",
            "tensor(51.2705, device='cuda:0', grad_fn=<AddBackward0>)\n",
            "tensor([[ 708,    0,    0,    2,    2,    5,    0,    5, 4997, 4997]],\n",
            "       device='cuda:0')\n",
            "392000\n",
            "tensor(37.2303, device='cuda:0', grad_fn=<AddBackward0>)\n",
            "tensor([[  20,   21,    0, 4997, 4997, 4997, 4997, 4997, 4997, 4997]],\n",
            "       device='cuda:0')\n",
            "393000\n",
            "tensor(38.1690, device='cuda:0', grad_fn=<AddBackward0>)\n",
            "tensor([[   2,    0,    0,    3, 4997, 4997, 4997, 4997, 4997, 4997]],\n",
            "       device='cuda:0')\n",
            "394000\n",
            "tensor(101.3470, device='cuda:0', grad_fn=<AddBackward0>)\n",
            "tensor([[   2,    1, 4997, 4997, 4997, 4997, 4997, 4997, 4997, 4997]],\n",
            "       device='cuda:0')\n",
            "395000\n",
            "tensor(63.7253, device='cuda:0', grad_fn=<AddBackward0>)\n",
            "tensor([[   2,    3, 4997, 4997, 4997, 4997, 4997, 4997, 4997, 4997]],\n",
            "       device='cuda:0')\n",
            "396000\n",
            "tensor(40.9910, device='cuda:0', grad_fn=<AddBackward0>)\n",
            "tensor([[4997, 4997, 4997, 4997, 4997, 4997, 4997, 4997, 4997, 4997]],\n",
            "       device='cuda:0')\n",
            "397000\n",
            "tensor(45.5688, device='cuda:0', grad_fn=<AddBackward0>)\n",
            "tensor([[   6,  162, 4997, 4997, 4997, 4997, 4997, 4997, 4997, 4997]],\n",
            "       device='cuda:0')\n",
            "398000\n",
            "tensor(36.6985, device='cuda:0', grad_fn=<AddBackward0>)\n",
            "tensor([[   2,    0,    0,    0, 4997, 4997, 4997, 4997, 4997, 4997]],\n",
            "       device='cuda:0')\n",
            "399000\n",
            "tensor(39.7761, device='cuda:0', grad_fn=<AddBackward0>)\n",
            "tensor([[   4,    3,    0,   71,    0,   22,    2,    2, 4997, 4997]],\n",
            "       device='cuda:0')\n"
          ]
        }
      ]
    },
    {
      "cell_type": "code",
      "source": [
        "model.sample()"
      ],
      "metadata": {
        "colab": {
          "base_uri": "https://localhost:8080/"
        },
        "id": "bl58vJ4milMi",
        "outputId": "137edc44-644e-49e4-982e-f205bc2804a6"
      },
      "execution_count": 119,
      "outputs": [
        {
          "output_type": "execute_result",
          "data": {
            "text/plain": [
              "tensor([[ 766, 1389,  770, 4717, 3540,    5, 4717,  556, 4703,  798]],\n",
              "       device='cuda:0')"
            ]
          },
          "metadata": {},
          "execution_count": 119
        }
      ]
    }
  ]
}